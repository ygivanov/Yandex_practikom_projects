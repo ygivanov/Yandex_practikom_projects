{
 "cells": [
  {
   "cell_type": "markdown",
   "metadata": {},
   "source": [
    "# Исследование надёжности заёмщиков\n",
    "\n",
    "Заказчик — кредитный отдел банка. Нужно разобраться, влияет ли семейное положение и количество детей клиента на факт погашения кредита в срок. Входные данные от банка — статистика о платёжеспособности клиентов.\n",
    "\n",
    "Результаты исследования будут учтены при построении модели **кредитного скоринга** — специальной системы, которая оценивает способность потенциального заёмщика вернуть кредит банку."
   ]
  },
  {
   "cell_type": "markdown",
   "metadata": {},
   "source": [
    "## Шаг 1. Откройте файл с данными и изучите общую информацию"
   ]
  },
  {
   "cell_type": "code",
   "execution_count": 7,
   "metadata": {
    "scrolled": false
   },
   "outputs": [],
   "source": [
    "import pandas as pd\n",
    "from pymystem3 import Mystem\n",
    "from collections import Counter\n",
    "m = Mystem()"
   ]
  },
  {
   "cell_type": "code",
   "execution_count": 8,
   "metadata": {},
   "outputs": [
    {
     "name": "stdout",
     "output_type": "stream",
     "text": [
      "<class 'pandas.core.frame.DataFrame'>\n",
      "RangeIndex: 21525 entries, 0 to 21524\n",
      "Data columns (total 12 columns):\n",
      " #   Column            Non-Null Count  Dtype  \n",
      "---  ------            --------------  -----  \n",
      " 0   children          21525 non-null  int64  \n",
      " 1   days_employed     19351 non-null  float64\n",
      " 2   dob_years         21525 non-null  int64  \n",
      " 3   education         21525 non-null  object \n",
      " 4   education_id      21525 non-null  int64  \n",
      " 5   family_status     21525 non-null  object \n",
      " 6   family_status_id  21525 non-null  int64  \n",
      " 7   gender            21525 non-null  object \n",
      " 8   income_type       21525 non-null  object \n",
      " 9   debt              21525 non-null  int64  \n",
      " 10  total_income      19351 non-null  float64\n",
      " 11  purpose           21525 non-null  object \n",
      "dtypes: float64(2), int64(5), object(5)\n",
      "memory usage: 2.0+ MB\n"
     ]
    },
    {
     "data": {
      "text/html": [
       "<div>\n",
       "<style scoped>\n",
       "    .dataframe tbody tr th:only-of-type {\n",
       "        vertical-align: middle;\n",
       "    }\n",
       "\n",
       "    .dataframe tbody tr th {\n",
       "        vertical-align: top;\n",
       "    }\n",
       "\n",
       "    .dataframe thead th {\n",
       "        text-align: right;\n",
       "    }\n",
       "</style>\n",
       "<table border=\"1\" class=\"dataframe\">\n",
       "  <thead>\n",
       "    <tr style=\"text-align: right;\">\n",
       "      <th></th>\n",
       "      <th>children</th>\n",
       "      <th>days_employed</th>\n",
       "      <th>dob_years</th>\n",
       "      <th>education</th>\n",
       "      <th>education_id</th>\n",
       "      <th>family_status</th>\n",
       "      <th>family_status_id</th>\n",
       "      <th>gender</th>\n",
       "      <th>income_type</th>\n",
       "      <th>debt</th>\n",
       "      <th>total_income</th>\n",
       "      <th>purpose</th>\n",
       "    </tr>\n",
       "  </thead>\n",
       "  <tbody>\n",
       "    <tr>\n",
       "      <th>0</th>\n",
       "      <td>1</td>\n",
       "      <td>-8437.673028</td>\n",
       "      <td>42</td>\n",
       "      <td>высшее</td>\n",
       "      <td>0</td>\n",
       "      <td>женат / замужем</td>\n",
       "      <td>0</td>\n",
       "      <td>F</td>\n",
       "      <td>сотрудник</td>\n",
       "      <td>0</td>\n",
       "      <td>253875.639453</td>\n",
       "      <td>покупка жилья</td>\n",
       "    </tr>\n",
       "    <tr>\n",
       "      <th>1</th>\n",
       "      <td>1</td>\n",
       "      <td>-4024.803754</td>\n",
       "      <td>36</td>\n",
       "      <td>среднее</td>\n",
       "      <td>1</td>\n",
       "      <td>женат / замужем</td>\n",
       "      <td>0</td>\n",
       "      <td>F</td>\n",
       "      <td>сотрудник</td>\n",
       "      <td>0</td>\n",
       "      <td>112080.014102</td>\n",
       "      <td>приобретение автомобиля</td>\n",
       "    </tr>\n",
       "    <tr>\n",
       "      <th>2</th>\n",
       "      <td>0</td>\n",
       "      <td>-5623.422610</td>\n",
       "      <td>33</td>\n",
       "      <td>Среднее</td>\n",
       "      <td>1</td>\n",
       "      <td>женат / замужем</td>\n",
       "      <td>0</td>\n",
       "      <td>M</td>\n",
       "      <td>сотрудник</td>\n",
       "      <td>0</td>\n",
       "      <td>145885.952297</td>\n",
       "      <td>покупка жилья</td>\n",
       "    </tr>\n",
       "    <tr>\n",
       "      <th>3</th>\n",
       "      <td>3</td>\n",
       "      <td>-4124.747207</td>\n",
       "      <td>32</td>\n",
       "      <td>среднее</td>\n",
       "      <td>1</td>\n",
       "      <td>женат / замужем</td>\n",
       "      <td>0</td>\n",
       "      <td>M</td>\n",
       "      <td>сотрудник</td>\n",
       "      <td>0</td>\n",
       "      <td>267628.550329</td>\n",
       "      <td>дополнительное образование</td>\n",
       "    </tr>\n",
       "    <tr>\n",
       "      <th>4</th>\n",
       "      <td>0</td>\n",
       "      <td>340266.072047</td>\n",
       "      <td>53</td>\n",
       "      <td>среднее</td>\n",
       "      <td>1</td>\n",
       "      <td>гражданский брак</td>\n",
       "      <td>1</td>\n",
       "      <td>F</td>\n",
       "      <td>пенсионер</td>\n",
       "      <td>0</td>\n",
       "      <td>158616.077870</td>\n",
       "      <td>сыграть свадьбу</td>\n",
       "    </tr>\n",
       "  </tbody>\n",
       "</table>\n",
       "</div>"
      ],
      "text/plain": [
       "   children  days_employed  dob_years education  education_id  \\\n",
       "0         1   -8437.673028         42    высшее             0   \n",
       "1         1   -4024.803754         36   среднее             1   \n",
       "2         0   -5623.422610         33   Среднее             1   \n",
       "3         3   -4124.747207         32   среднее             1   \n",
       "4         0  340266.072047         53   среднее             1   \n",
       "\n",
       "      family_status  family_status_id gender income_type  debt   total_income  \\\n",
       "0   женат / замужем                 0      F   сотрудник     0  253875.639453   \n",
       "1   женат / замужем                 0      F   сотрудник     0  112080.014102   \n",
       "2   женат / замужем                 0      M   сотрудник     0  145885.952297   \n",
       "3   женат / замужем                 0      M   сотрудник     0  267628.550329   \n",
       "4  гражданский брак                 1      F   пенсионер     0  158616.077870   \n",
       "\n",
       "                      purpose  \n",
       "0               покупка жилья  \n",
       "1     приобретение автомобиля  \n",
       "2               покупка жилья  \n",
       "3  дополнительное образование  \n",
       "4             сыграть свадьбу  "
      ]
     },
     "execution_count": 8,
     "metadata": {},
     "output_type": "execute_result"
    }
   ],
   "source": [
    "df = pd.read_csv('data.csv')\n",
    "df.info()\n",
    "df.head(5)\n"
   ]
  },
  {
   "cell_type": "markdown",
   "metadata": {},
   "source": [
    "**Вывод**\n",
    "Рассмотрим полученные данные подробее:\n",
    "В таблице имеется 12 столбцов, тип данных у каждого:\n",
    "\n",
    "* children - int64\n",
    "* days_employed - float64\n",
    "* dob_years - int64\n",
    "* education - object\n",
    "* education_id - int64\n",
    "* family_status - object\n",
    "* family_status_id - int64\n",
    "* gender - object\n",
    "* income_type - object\n",
    "* debt - int64\n",
    "* total_income - float64\n",
    "* purpose - object\n",
    "\n",
    "Подробнее разберем какие в *df* столбцы и какую информацию они несут:\n",
    "* children — количество детей в семье\n",
    "* days_employed — общий трудовой стаж в днях\n",
    "* dob_years — возраст клиента в годах\n",
    "* education — уровень образования клиента\n",
    "* education_id — идентификатор уровня образования\n",
    "* family_status — семейное положение\n",
    "* family_status_id — идентификатор семейного положения\n",
    "* gender — пол клиента\n",
    "* income_type — тип занятости\n",
    "* debt — имел ли задолженность по возврату кредитов\n",
    "* total_income — ежемесячный доход\n",
    "* purpose — цель получения кредита\n",
    "\n",
    "Количество значений в столбцах отличается, это означает, что есть пропущенные значения в стоблцах:\n",
    "*days_employed*,*total_income*.\n",
    "В столбце *childred* мы обнаружели несколько артефактов: отрицательное кол-во детей и кол-во детей 20. Вероятнее всего данные артефакты образовались в следствии того, что респонденты не указали данные и для явного выбивания из списка их пометили таким образом. ПОэтому мы присвоили им значения нуль, так как их немного и их значениями для исследования можно пренебречь.\n",
    "В столбце *days_emploed* также есть артефакты, такие как отрицательный стаж и невожножный стаж работы. С этими артефактами мы разберемся во втором шаге. Есть еще один артефакт в столбце *gender* - **XNA**. Так как для нашего исследования пол респондентов не несет информативности им мы можем пренебречь"
   ]
  },
  {
   "cell_type": "markdown",
   "metadata": {},
   "source": [
    "## Шаг 2. Предобработка данных"
   ]
  },
  {
   "cell_type": "markdown",
   "metadata": {},
   "source": [
    "### Обработка пропусков"
   ]
  },
  {
   "cell_type": "code",
   "execution_count": 9,
   "metadata": {},
   "outputs": [
    {
     "name": "stdout",
     "output_type": "stream",
     "text": [
      "{'безработный': 131339.75, 'в декрете': 53829.13, 'госслужащий': 150447.93, 'компаньон': 172357.95, 'пенсионер': 118514.48, 'предприниматель': 499163.14, 'сотрудник': 142594.39, 'студент': 98201.62}\n"
     ]
    }
   ],
   "source": [
    "days_employed_median = df.loc[:15905, 'days_employed'].median()\n",
    "total_income_median = df.sort_values(by = 'total_income') \\\n",
    "    .reset_index(drop = True) \\\n",
    "    .loc[:19351, 'total_income'].median()\n",
    "\n",
    "df['days_employed'] = df['days_employed'].fillna(days_employed_median)\n",
    "\n",
    "for row in range(len(df)):\n",
    "    if df.loc[row, 'days_employed'] > 0:\n",
    "        if df.loc[row, 'gender'] == 'M':\n",
    "            df.loc[row, 'days_employed'] = 15147\n",
    "        if df.loc[row, 'gender'] == 'F':\n",
    "            df.loc[row, 'days_employed'] = 13322\n",
    "        if abs(df.loc[row, 'days_employed']/365) > df.loc[row, 'dob_years']:\n",
    "            df.loc[row, 'days_employed'] = days_employed_median\n",
    "df['days_employed'] = abs(df['days_employed'])\n",
    "total_income_group = df.groupby('income_type')['total_income'].median()\n",
    "\n",
    "maps = {'безработный': 131339.75,'в декрете': 53829.13, 'госслужащий': 150447.93, 'компаньон': 172357.95, \n",
    "        'пенсионер': 118514.48, 'предприниматель': 499163.14, 'сотрудник': 142594.39, 'студент': 98201.62}\n",
    "df['total_income'] = df['total_income'].fillna(-1)\n",
    "\n",
    "for row in range(len(df)):\n",
    "    if df.loc[row, 'total_income'] == -1:\n",
    "        df.loc[row, 'total_income'] = maps[df.loc[row, 'income_type']]\n",
    "\n",
    "print(maps)"
   ]
  },
  {
   "cell_type": "markdown",
   "metadata": {},
   "source": [
    "Значение, которым будем заполнять пропуски если потенциальный заёмщик пенсионер, то такое медианное значение стажа ему не подойдет. Как и значения стажа остальных пенсионеров - для корректного анализа их необходимо заменить. Будем опираться на среднее время работы мужчин и женщин - 41,5 и 36,5 лет соответственно, или 15147 и 13322 дней. Чтобы избавитьс от пропущенных значений в столбце *total_income*, мы нашли медианное значение для каждого значения в столбце *income_type*. После чего для каждого респоднета заменили пропущенное значение на медианное его типа, тоесть: студент - медианное значение по струднтам, пенсионер - медианное значение по пенсионерам, сотрудник - медианное значение сотрудника и т.д.\n",
    "P.S. С прошедним 8 марта"
   ]
  },
  {
   "cell_type": "markdown",
   "metadata": {},
   "source": [
    "### Замена типа данных"
   ]
  },
  {
   "cell_type": "code",
   "execution_count": 10,
   "metadata": {},
   "outputs": [],
   "source": [
    "df['days_employed'] = df['days_employed'].astype('int')\n",
    "df['total_income'] = df['total_income'].astype('int')"
   ]
  },
  {
   "cell_type": "markdown",
   "metadata": {},
   "source": [
    "**Вывод**"
   ]
  },
  {
   "cell_type": "markdown",
   "metadata": {},
   "source": [
    "Столбцы: *days_employed* и *total_income* имели тип *float*. Для изменения типа данных мы использовали метод **astype()** для перевода значений в целочисленные"
   ]
  },
  {
   "cell_type": "markdown",
   "metadata": {},
   "source": [
    "### Обработка дубликатов"
   ]
  },
  {
   "cell_type": "code",
   "execution_count": 11,
   "metadata": {},
   "outputs": [
    {
     "name": "stdout",
     "output_type": "stream",
     "text": [
      "<class 'pandas.core.frame.DataFrame'>\n",
      "Int64Index: 21454 entries, 0 to 21524\n",
      "Data columns (total 12 columns):\n",
      " #   Column            Non-Null Count  Dtype \n",
      "---  ------            --------------  ----- \n",
      " 0   children          21454 non-null  int64 \n",
      " 1   days_employed     21454 non-null  int64 \n",
      " 2   dob_years         21454 non-null  int64 \n",
      " 3   education         21454 non-null  object\n",
      " 4   education_id      21454 non-null  int64 \n",
      " 5   family_status     21454 non-null  object\n",
      " 6   family_status_id  21454 non-null  int64 \n",
      " 7   gender            21454 non-null  object\n",
      " 8   income_type       21454 non-null  object\n",
      " 9   debt              21454 non-null  int64 \n",
      " 10  total_income      21454 non-null  int64 \n",
      " 11  purpose           21454 non-null  object\n",
      "dtypes: int64(7), object(5)\n",
      "memory usage: 2.1+ MB\n"
     ]
    }
   ],
   "source": [
    "df['education'] = df['education'].str.lower()\n",
    "df['family_status'] = df['family_status'].str.lower()\n",
    "df.duplicated().sum()\n",
    "df = df.drop_duplicates()\n",
    "df.duplicated().sum()\n",
    "df.info()"
   ]
  },
  {
   "cell_type": "markdown",
   "metadata": {},
   "source": [
    "**Вывод**"
   ]
  },
  {
   "cell_type": "markdown",
   "metadata": {},
   "source": [
    "Изначально мы нашли 71 дубликата, их количество весьма мало, поэтому можем их просто удалить с помощью функции *drop_duplicates()*"
   ]
  },
  {
   "cell_type": "markdown",
   "metadata": {},
   "source": [
    "### Лемматизация"
   ]
  },
  {
   "cell_type": "code",
   "execution_count": 12,
   "metadata": {
    "scrolled": false
   },
   "outputs": [
    {
     "data": {
      "text/plain": [
       "Counter({'покупка': 5897,\n",
       "         '': 67140,\n",
       "         'жилье': 4460,\n",
       "         '\\n': 21454,\n",
       "         'приобретение': 461,\n",
       "         'автомобиль': 4306,\n",
       "         'дополнительный': 906,\n",
       "         'образование': 4013,\n",
       "         'сыграть': 765,\n",
       "         'свадьба': 2324,\n",
       "         'операция': 2604,\n",
       "         'с': 2918,\n",
       "         'на': 2222,\n",
       "         'проведение': 768,\n",
       "         'для': 1289,\n",
       "         'семья': 638,\n",
       "         'недвижимость': 6351,\n",
       "         'коммерческий': 1311,\n",
       "         'жилой': 1230,\n",
       "         'строительство': 1878,\n",
       "         'собственный': 635,\n",
       "         'подержать': 478,\n",
       "         'свой': 2230,\n",
       "         'со': 627,\n",
       "         'заниматься': 904,\n",
       "         'сделка': 941,\n",
       "         'подержанный': 486,\n",
       "         'получение': 1314,\n",
       "         'высокий': 1374,\n",
       "         'профильный': 436,\n",
       "         'сдача': 651,\n",
       "         'ремонт': 607})"
      ]
     },
     "execution_count": 12,
     "metadata": {},
     "output_type": "execute_result"
    }
   ],
   "source": [
    "def lemm_purpose(text):\n",
    "    lemmas = m.lemmatize(text)\n",
    "    text = ' '.join(lemmas)\n",
    "    return text\n",
    "df['purpose_lemmas'] = df['purpose'].apply(lemm_purpose)\n",
    "list_for_count = [string.split(' ') for string in df['purpose_lemmas'].values]\n",
    "def lemmas_counter(list_for_lemmas):\n",
    "    purpose_lemmas = []\n",
    "    for row in list_for_lemmas:\n",
    "        for col in row:\n",
    "            purpose_lemmas.append(col)\n",
    "    return purpose_lemmas\n",
    "lemmatised_list = lemmas_counter(list_for_count)\n",
    "Counter(lemmatised_list)"
   ]
  },
  {
   "cell_type": "markdown",
   "metadata": {},
   "source": [
    "**Вывод**"
   ]
  },
  {
   "cell_type": "markdown",
   "metadata": {},
   "source": [
    "В результате леммации мы можем выделить основные категории целей кредитов: *жилье*, *автомобиль*, *образование*, *свадьба*, *недвижимость*,. Так как, следующий наш шаг это категоризация, мы принимаем решение объединить несколько лемм в одну, так как по смыслу они похожи, а именно: *жилье*, *недвижимость*. Объединим это все в одну лемму *недвижимость*"
   ]
  },
  {
   "cell_type": "markdown",
   "metadata": {},
   "source": [
    "### Категоризация данных"
   ]
  },
  {
   "cell_type": "code",
   "execution_count": 13,
   "metadata": {
    "scrolled": false
   },
   "outputs": [
    {
     "data": {
      "text/html": [
       "<div>\n",
       "<style scoped>\n",
       "    .dataframe tbody tr th:only-of-type {\n",
       "        vertical-align: middle;\n",
       "    }\n",
       "\n",
       "    .dataframe tbody tr th {\n",
       "        vertical-align: top;\n",
       "    }\n",
       "\n",
       "    .dataframe thead th {\n",
       "        text-align: right;\n",
       "    }\n",
       "</style>\n",
       "<table border=\"1\" class=\"dataframe\">\n",
       "  <thead>\n",
       "    <tr style=\"text-align: right;\">\n",
       "      <th></th>\n",
       "      <th>children</th>\n",
       "      <th>days_employed</th>\n",
       "      <th>dob_years</th>\n",
       "      <th>education</th>\n",
       "      <th>education_id</th>\n",
       "      <th>family_status</th>\n",
       "      <th>family_status_id</th>\n",
       "      <th>gender</th>\n",
       "      <th>income_type</th>\n",
       "      <th>debt</th>\n",
       "      <th>total_income</th>\n",
       "      <th>purpose</th>\n",
       "      <th>purpose_lemmas</th>\n",
       "      <th>class_lemmas</th>\n",
       "      <th>class_income</th>\n",
       "    </tr>\n",
       "  </thead>\n",
       "  <tbody>\n",
       "    <tr>\n",
       "      <th>0</th>\n",
       "      <td>1.0</td>\n",
       "      <td>8437.0</td>\n",
       "      <td>42.0</td>\n",
       "      <td>высшее</td>\n",
       "      <td>0.0</td>\n",
       "      <td>женат / замужем</td>\n",
       "      <td>0.0</td>\n",
       "      <td>F</td>\n",
       "      <td>сотрудник</td>\n",
       "      <td>0.0</td>\n",
       "      <td>253875.0</td>\n",
       "      <td>покупка жилья</td>\n",
       "      <td>покупка   жилье \\n</td>\n",
       "      <td>недвижимость</td>\n",
       "      <td>высокий</td>\n",
       "    </tr>\n",
       "    <tr>\n",
       "      <th>1</th>\n",
       "      <td>1.0</td>\n",
       "      <td>4024.0</td>\n",
       "      <td>36.0</td>\n",
       "      <td>среднее</td>\n",
       "      <td>1.0</td>\n",
       "      <td>женат / замужем</td>\n",
       "      <td>0.0</td>\n",
       "      <td>F</td>\n",
       "      <td>сотрудник</td>\n",
       "      <td>0.0</td>\n",
       "      <td>112080.0</td>\n",
       "      <td>приобретение автомобиля</td>\n",
       "      <td>приобретение   автомобиль \\n</td>\n",
       "      <td>автомобиль</td>\n",
       "      <td>высокий</td>\n",
       "    </tr>\n",
       "    <tr>\n",
       "      <th>2</th>\n",
       "      <td>0.0</td>\n",
       "      <td>5623.0</td>\n",
       "      <td>33.0</td>\n",
       "      <td>среднее</td>\n",
       "      <td>1.0</td>\n",
       "      <td>женат / замужем</td>\n",
       "      <td>0.0</td>\n",
       "      <td>M</td>\n",
       "      <td>сотрудник</td>\n",
       "      <td>0.0</td>\n",
       "      <td>145885.0</td>\n",
       "      <td>покупка жилья</td>\n",
       "      <td>покупка   жилье \\n</td>\n",
       "      <td>недвижимость</td>\n",
       "      <td>высокий</td>\n",
       "    </tr>\n",
       "    <tr>\n",
       "      <th>3</th>\n",
       "      <td>3.0</td>\n",
       "      <td>4124.0</td>\n",
       "      <td>32.0</td>\n",
       "      <td>среднее</td>\n",
       "      <td>1.0</td>\n",
       "      <td>женат / замужем</td>\n",
       "      <td>0.0</td>\n",
       "      <td>M</td>\n",
       "      <td>сотрудник</td>\n",
       "      <td>0.0</td>\n",
       "      <td>267628.0</td>\n",
       "      <td>дополнительное образование</td>\n",
       "      <td>дополнительный   образование \\n</td>\n",
       "      <td>образование</td>\n",
       "      <td>высокий</td>\n",
       "    </tr>\n",
       "    <tr>\n",
       "      <th>4</th>\n",
       "      <td>0.0</td>\n",
       "      <td>13322.0</td>\n",
       "      <td>53.0</td>\n",
       "      <td>среднее</td>\n",
       "      <td>1.0</td>\n",
       "      <td>гражданский брак</td>\n",
       "      <td>1.0</td>\n",
       "      <td>F</td>\n",
       "      <td>пенсионер</td>\n",
       "      <td>0.0</td>\n",
       "      <td>158616.0</td>\n",
       "      <td>сыграть свадьбу</td>\n",
       "      <td>сыграть   свадьба \\n</td>\n",
       "      <td>свадьба</td>\n",
       "      <td>высокий</td>\n",
       "    </tr>\n",
       "  </tbody>\n",
       "</table>\n",
       "</div>"
      ],
      "text/plain": [
       "   children  days_employed  dob_years education  education_id  \\\n",
       "0       1.0         8437.0       42.0    высшее           0.0   \n",
       "1       1.0         4024.0       36.0   среднее           1.0   \n",
       "2       0.0         5623.0       33.0   среднее           1.0   \n",
       "3       3.0         4124.0       32.0   среднее           1.0   \n",
       "4       0.0        13322.0       53.0   среднее           1.0   \n",
       "\n",
       "      family_status  family_status_id gender income_type  debt  total_income  \\\n",
       "0   женат / замужем               0.0      F   сотрудник   0.0      253875.0   \n",
       "1   женат / замужем               0.0      F   сотрудник   0.0      112080.0   \n",
       "2   женат / замужем               0.0      M   сотрудник   0.0      145885.0   \n",
       "3   женат / замужем               0.0      M   сотрудник   0.0      267628.0   \n",
       "4  гражданский брак               1.0      F   пенсионер   0.0      158616.0   \n",
       "\n",
       "                      purpose                   purpose_lemmas  class_lemmas  \\\n",
       "0               покупка жилья               покупка   жилье \\n  недвижимость   \n",
       "1     приобретение автомобиля     приобретение   автомобиль \\n    автомобиль   \n",
       "2               покупка жилья               покупка   жилье \\n  недвижимость   \n",
       "3  дополнительное образование  дополнительный   образование \\n   образование   \n",
       "4             сыграть свадьбу             сыграть   свадьба \\n       свадьба   \n",
       "\n",
       "  class_income  \n",
       "0      высокий  \n",
       "1      высокий  \n",
       "2      высокий  \n",
       "3      высокий  \n",
       "4      высокий  "
      ]
     },
     "execution_count": 13,
     "metadata": {},
     "output_type": "execute_result"
    }
   ],
   "source": [
    "\n",
    "for row in range(len(df)):\n",
    "    if \"недвижимость\" or \"жилье\" in str(df.loc[row, 'purpose_lemmas']):\n",
    "        df.loc[row, 'class_lemmas'] = 'недвижимость'\n",
    "    if \"автомобиль\" in str(df.loc[row, 'purpose_lemmas']):\n",
    "        df.loc[row, 'class_lemmas'] = 'автомобиль'\n",
    "    if \"образование\" in str(df.loc[row, 'purpose_lemmas']):\n",
    "        df.loc[row, 'class_lemmas'] = 'образование'\n",
    "    if \"свадьба\" in str(df.loc[row, 'purpose_lemmas']):\n",
    "        df.loc[row, 'class_lemmas'] = 'свадьба'\n",
    "\n",
    "def income_group(total_income):\n",
    "    if total_income <= 40000:\n",
    "        return 'низкий'\n",
    "    if 40001 <= total_income <= 80000:\n",
    "        return 'средний'\n",
    "    if total_income >= 80001:\n",
    "        return 'высокий'\n",
    "df['class_income'] = df['total_income'].apply(income_group)\n",
    "df.head(5)"
   ]
  },
  {
   "cell_type": "markdown",
   "metadata": {},
   "source": [
    "'**Вывод**"
   ]
  },
  {
   "cell_type": "markdown",
   "metadata": {},
   "source": [
    "Для удобста ответов на вопросы нашего исселования мы выделили ряд категоризацей нашей таблицы: \n",
    "    \n",
    "* 1) категоризация по цели кредита \n",
    "* 2) категоризация по уровню дохода\n",
    "    \n",
    "Разделение респондентов по уровню дохода мы сделали следующим образом по данным Росстата средня заработная плата по стране составляет более 40 000 рублей в месяц, следовательно любой доход до это цифры мы принимаем как низких доход. Средний доход мы будем принимать как 2 низких дохода. Все что будет выше это высокий доход."
   ]
  },
  {
   "cell_type": "markdown",
   "metadata": {},
   "source": [
    "## Шаг 3. Ответьте на вопросы"
   ]
  },
  {
   "cell_type": "markdown",
   "metadata": {},
   "source": [
    "- Есть ли зависимость между наличием детей и возвратом кредита в срок?"
   ]
  },
  {
   "cell_type": "code",
   "execution_count": 14,
   "metadata": {
    "scrolled": false
   },
   "outputs": [
    {
     "data": {
      "text/html": [
       "<div>\n",
       "<style scoped>\n",
       "    .dataframe tbody tr th:only-of-type {\n",
       "        vertical-align: middle;\n",
       "    }\n",
       "\n",
       "    .dataframe tbody tr th {\n",
       "        vertical-align: top;\n",
       "    }\n",
       "\n",
       "    .dataframe thead th {\n",
       "        text-align: right;\n",
       "    }\n",
       "</style>\n",
       "<table border=\"1\" class=\"dataframe\">\n",
       "  <thead>\n",
       "    <tr style=\"text-align: right;\">\n",
       "      <th></th>\n",
       "      <th>children</th>\n",
       "      <th>debt_0</th>\n",
       "      <th>debt_1</th>\n",
       "      <th>debt_sum</th>\n",
       "      <th>percent</th>\n",
       "    </tr>\n",
       "  </thead>\n",
       "  <tbody>\n",
       "    <tr>\n",
       "      <th>0</th>\n",
       "      <td>-1.0</td>\n",
       "      <td>46.0</td>\n",
       "      <td>1.0</td>\n",
       "      <td>47.0</td>\n",
       "      <td>2.127660</td>\n",
       "    </tr>\n",
       "    <tr>\n",
       "      <th>1</th>\n",
       "      <td>0.0</td>\n",
       "      <td>13028.0</td>\n",
       "      <td>1063.0</td>\n",
       "      <td>14091.0</td>\n",
       "      <td>7.543822</td>\n",
       "    </tr>\n",
       "    <tr>\n",
       "      <th>2</th>\n",
       "      <td>1.0</td>\n",
       "      <td>4364.0</td>\n",
       "      <td>444.0</td>\n",
       "      <td>4808.0</td>\n",
       "      <td>9.234609</td>\n",
       "    </tr>\n",
       "    <tr>\n",
       "      <th>3</th>\n",
       "      <td>2.0</td>\n",
       "      <td>1858.0</td>\n",
       "      <td>194.0</td>\n",
       "      <td>2052.0</td>\n",
       "      <td>9.454191</td>\n",
       "    </tr>\n",
       "    <tr>\n",
       "      <th>4</th>\n",
       "      <td>3.0</td>\n",
       "      <td>303.0</td>\n",
       "      <td>27.0</td>\n",
       "      <td>330.0</td>\n",
       "      <td>8.181818</td>\n",
       "    </tr>\n",
       "    <tr>\n",
       "      <th>5</th>\n",
       "      <td>4.0</td>\n",
       "      <td>37.0</td>\n",
       "      <td>4.0</td>\n",
       "      <td>41.0</td>\n",
       "      <td>9.756098</td>\n",
       "    </tr>\n",
       "    <tr>\n",
       "      <th>6</th>\n",
       "      <td>5.0</td>\n",
       "      <td>9.0</td>\n",
       "      <td>NaN</td>\n",
       "      <td>NaN</td>\n",
       "      <td>NaN</td>\n",
       "    </tr>\n",
       "    <tr>\n",
       "      <th>7</th>\n",
       "      <td>20.0</td>\n",
       "      <td>68.0</td>\n",
       "      <td>8.0</td>\n",
       "      <td>76.0</td>\n",
       "      <td>10.526316</td>\n",
       "    </tr>\n",
       "  </tbody>\n",
       "</table>\n",
       "</div>"
      ],
      "text/plain": [
       "   children   debt_0  debt_1  debt_sum    percent\n",
       "0      -1.0     46.0     1.0      47.0   2.127660\n",
       "1       0.0  13028.0  1063.0   14091.0   7.543822\n",
       "2       1.0   4364.0   444.0    4808.0   9.234609\n",
       "3       2.0   1858.0   194.0    2052.0   9.454191\n",
       "4       3.0    303.0    27.0     330.0   8.181818\n",
       "5       4.0     37.0     4.0      41.0   9.756098\n",
       "6       5.0      9.0     NaN       NaN        NaN\n",
       "7      20.0     68.0     8.0      76.0  10.526316"
      ]
     },
     "execution_count": 14,
     "metadata": {},
     "output_type": "execute_result"
    }
   ],
   "source": [
    "pt_children = df.pivot_table(index = 'children', columns = 'debt', values = 'purpose', aggfunc = ['count'])\n",
    "df_children = pd.DataFrame(pt_children.to_records())\n",
    "df_children.columns = ['children', 'debt_0', 'debt_1']\n",
    "df_children['debt_sum'] = df_children['debt_0'] + df_children['debt_1']\n",
    "df_children['percent'] = (df_children['debt_1'] / df_children['debt_sum']) * 100\n",
    "df_children\n",
    "\n"
   ]
  },
  {
   "cell_type": "markdown",
   "metadata": {},
   "source": [
    "**Вывод**"
   ]
  },
  {
   "cell_type": "markdown",
   "metadata": {},
   "source": [
    "Чтобы ответить на поставленный вопрос нам нужно посчитать вероятность клиента стать должником, для этого поделим кол-во должников на общее кол-во. Из полученной нами таблицы мы можем следать следующий вывод: респонденты с детьми имеют больший шанс стать должниками в отличии от респондентов без детей."
   ]
  },
  {
   "cell_type": "markdown",
   "metadata": {},
   "source": [
    "- Есть ли зависимость между семейным положением и возвратом кредита в срок?"
   ]
  },
  {
   "cell_type": "code",
   "execution_count": 15,
   "metadata": {
    "scrolled": true
   },
   "outputs": [
    {
     "data": {
      "text/html": [
       "<div>\n",
       "<style scoped>\n",
       "    .dataframe tbody tr th:only-of-type {\n",
       "        vertical-align: middle;\n",
       "    }\n",
       "\n",
       "    .dataframe tbody tr th {\n",
       "        vertical-align: top;\n",
       "    }\n",
       "\n",
       "    .dataframe thead th {\n",
       "        text-align: right;\n",
       "    }\n",
       "</style>\n",
       "<table border=\"1\" class=\"dataframe\">\n",
       "  <thead>\n",
       "    <tr style=\"text-align: right;\">\n",
       "      <th></th>\n",
       "      <th>family_status</th>\n",
       "      <th>debt_0</th>\n",
       "      <th>debt_1</th>\n",
       "      <th>debt_sum</th>\n",
       "      <th>percent</th>\n",
       "    </tr>\n",
       "  </thead>\n",
       "  <tbody>\n",
       "    <tr>\n",
       "      <th>0</th>\n",
       "      <td>в разводе</td>\n",
       "      <td>1110</td>\n",
       "      <td>85</td>\n",
       "      <td>1195</td>\n",
       "      <td>7.112971</td>\n",
       "    </tr>\n",
       "    <tr>\n",
       "      <th>1</th>\n",
       "      <td>вдовец / вдова</td>\n",
       "      <td>896</td>\n",
       "      <td>63</td>\n",
       "      <td>959</td>\n",
       "      <td>6.569343</td>\n",
       "    </tr>\n",
       "    <tr>\n",
       "      <th>2</th>\n",
       "      <td>гражданский брак</td>\n",
       "      <td>3763</td>\n",
       "      <td>388</td>\n",
       "      <td>4151</td>\n",
       "      <td>9.347145</td>\n",
       "    </tr>\n",
       "    <tr>\n",
       "      <th>3</th>\n",
       "      <td>женат / замужем</td>\n",
       "      <td>11408</td>\n",
       "      <td>931</td>\n",
       "      <td>12339</td>\n",
       "      <td>7.545182</td>\n",
       "    </tr>\n",
       "    <tr>\n",
       "      <th>4</th>\n",
       "      <td>не женат / не замужем</td>\n",
       "      <td>2536</td>\n",
       "      <td>274</td>\n",
       "      <td>2810</td>\n",
       "      <td>9.750890</td>\n",
       "    </tr>\n",
       "  </tbody>\n",
       "</table>\n",
       "</div>"
      ],
      "text/plain": [
       "           family_status  debt_0  debt_1  debt_sum   percent\n",
       "0              в разводе    1110      85      1195  7.112971\n",
       "1         вдовец / вдова     896      63       959  6.569343\n",
       "2       гражданский брак    3763     388      4151  9.347145\n",
       "3        женат / замужем   11408     931     12339  7.545182\n",
       "4  не женат / не замужем    2536     274      2810  9.750890"
      ]
     },
     "execution_count": 15,
     "metadata": {},
     "output_type": "execute_result"
    }
   ],
   "source": [
    "pt_family = df.pivot_table(index = 'family_status', columns = 'debt', values = 'family_status_id', aggfunc = ['count'])\n",
    "df_family = pd.DataFrame(pt_family.to_records())\n",
    "df_family.columns = ['family_status', 'debt_0', 'debt_1']\n",
    "df_family['debt_sum'] = df_family['debt_0'] + df_family['debt_1']\n",
    "df_family['percent'] = (df_family['debt_1'] / df_family['debt_sum']) * 100\n",
    "df_family"
   ]
  },
  {
   "cell_type": "markdown",
   "metadata": {},
   "source": [
    "**Вывод**"
   ]
  },
  {
   "cell_type": "markdown",
   "metadata": {},
   "source": [
    "Чтобы ответить на поставленный вопрос нам нужно посчитать вероятность клиента стать должником, для этого поделим кол-во должников на общее кол-во. Из полученной нами таблицы мы можем сделать следующий вывод: респонденты с семейным положением \"гражданский брак\" и \"не женат / не замужем\" имеют самую высокую вероятность стать должниками. Респонденты с семейным положением \"в разводе\" и \"женат / замужем\" имеют примерно равную вероятность стать должниками"
   ]
  },
  {
   "cell_type": "markdown",
   "metadata": {},
   "source": [
    "- Есть ли зависимость между уровнем дохода и возвратом кредита в срок?"
   ]
  },
  {
   "cell_type": "code",
   "execution_count": 16,
   "metadata": {},
   "outputs": [
    {
     "data": {
      "text/html": [
       "<div>\n",
       "<style scoped>\n",
       "    .dataframe tbody tr th:only-of-type {\n",
       "        vertical-align: middle;\n",
       "    }\n",
       "\n",
       "    .dataframe tbody tr th {\n",
       "        vertical-align: top;\n",
       "    }\n",
       "\n",
       "    .dataframe thead th {\n",
       "        text-align: right;\n",
       "    }\n",
       "</style>\n",
       "<table border=\"1\" class=\"dataframe\">\n",
       "  <thead>\n",
       "    <tr style=\"text-align: right;\">\n",
       "      <th></th>\n",
       "      <th>class_income</th>\n",
       "      <th>debt_0</th>\n",
       "      <th>debt_1</th>\n",
       "      <th>debt_sum</th>\n",
       "      <th>percent</th>\n",
       "    </tr>\n",
       "  </thead>\n",
       "  <tbody>\n",
       "    <tr>\n",
       "      <th>0</th>\n",
       "      <td>высокий</td>\n",
       "      <td>17611</td>\n",
       "      <td>1567</td>\n",
       "      <td>19178</td>\n",
       "      <td>8.170821</td>\n",
       "    </tr>\n",
       "    <tr>\n",
       "      <th>1</th>\n",
       "      <td>низкий</td>\n",
       "      <td>115</td>\n",
       "      <td>10</td>\n",
       "      <td>125</td>\n",
       "      <td>8.000000</td>\n",
       "    </tr>\n",
       "    <tr>\n",
       "      <th>2</th>\n",
       "      <td>средний</td>\n",
       "      <td>1987</td>\n",
       "      <td>164</td>\n",
       "      <td>2151</td>\n",
       "      <td>7.624361</td>\n",
       "    </tr>\n",
       "  </tbody>\n",
       "</table>\n",
       "</div>"
      ],
      "text/plain": [
       "  class_income  debt_0  debt_1  debt_sum   percent\n",
       "0      высокий   17611    1567     19178  8.170821\n",
       "1       низкий     115      10       125  8.000000\n",
       "2      средний    1987     164      2151  7.624361"
      ]
     },
     "execution_count": 16,
     "metadata": {},
     "output_type": "execute_result"
    }
   ],
   "source": [
    "pt_class_income = df.pivot_table(index = 'class_income', columns = 'debt', values = 'purpose', aggfunc = ['count'])\n",
    "df_class_income = pd.DataFrame(pt_class_income.to_records())\n",
    "df_class_income.columns = ['class_income', 'debt_0', 'debt_1']\n",
    "df_class_income['debt_sum'] = df_class_income['debt_0'] + df_class_income['debt_1']\n",
    "df_class_income['percent'] = (df_class_income['debt_1'] / df_class_income['debt_sum']) * 100\n",
    "df_class_income"
   ]
  },
  {
   "cell_type": "markdown",
   "metadata": {},
   "source": [
    "**Вывод**"
   ]
  },
  {
   "cell_type": "markdown",
   "metadata": {},
   "source": [
    "Чтобы ответить на поставленный вопрос нам нужно посчитать вероятность клиента стать должником, для этого поделим кол-во должников на общее кол-во.\n",
    "    \n",
    "* Вероятность появления задолженности у клиентов с низким уровнем дохода - **8,0%**\n",
    "* Вероятность появления задолженности у клиентов с средним уровнем дохода - **7,6%**\n",
    "* Вероятность появления задолженности у клиентов с высоким уровнем дохода - **8,2%**"
   ]
  },
  {
   "cell_type": "markdown",
   "metadata": {},
   "source": [
    "- Как разные цели кредита влияют на его возврат в срок?"
   ]
  },
  {
   "cell_type": "code",
   "execution_count": 10,
   "metadata": {},
   "outputs": [
    {
     "data": {
      "text/html": [
       "<div>\n",
       "<style scoped>\n",
       "    .dataframe tbody tr th:only-of-type {\n",
       "        vertical-align: middle;\n",
       "    }\n",
       "\n",
       "    .dataframe tbody tr th {\n",
       "        vertical-align: top;\n",
       "    }\n",
       "\n",
       "    .dataframe thead th {\n",
       "        text-align: right;\n",
       "    }\n",
       "</style>\n",
       "<table border=\"1\" class=\"dataframe\">\n",
       "  <thead>\n",
       "    <tr style=\"text-align: right;\">\n",
       "      <th></th>\n",
       "      <th>class_lemmas</th>\n",
       "      <th>debt_0</th>\n",
       "      <th>debt_1</th>\n",
       "      <th>debt_sum</th>\n",
       "      <th>percent</th>\n",
       "    </tr>\n",
       "  </thead>\n",
       "  <tbody>\n",
       "    <tr>\n",
       "      <td>0</td>\n",
       "      <td>автомобиль</td>\n",
       "      <td>3886</td>\n",
       "      <td>400</td>\n",
       "      <td>4286</td>\n",
       "      <td>9.332711</td>\n",
       "    </tr>\n",
       "    <tr>\n",
       "      <td>1</td>\n",
       "      <td>недвижимость</td>\n",
       "      <td>10002</td>\n",
       "      <td>777</td>\n",
       "      <td>10779</td>\n",
       "      <td>7.208461</td>\n",
       "    </tr>\n",
       "    <tr>\n",
       "      <td>2</td>\n",
       "      <td>образование</td>\n",
       "      <td>3635</td>\n",
       "      <td>367</td>\n",
       "      <td>4002</td>\n",
       "      <td>9.170415</td>\n",
       "    </tr>\n",
       "    <tr>\n",
       "      <td>3</td>\n",
       "      <td>свадьба</td>\n",
       "      <td>2130</td>\n",
       "      <td>186</td>\n",
       "      <td>2316</td>\n",
       "      <td>8.031088</td>\n",
       "    </tr>\n",
       "  </tbody>\n",
       "</table>\n",
       "</div>"
      ],
      "text/plain": [
       "   class_lemmas  debt_0  debt_1  debt_sum   percent\n",
       "0    автомобиль    3886     400      4286  9.332711\n",
       "1  недвижимость   10002     777     10779  7.208461\n",
       "2   образование    3635     367      4002  9.170415\n",
       "3       свадьба    2130     186      2316  8.031088"
      ]
     },
     "execution_count": 10,
     "metadata": {},
     "output_type": "execute_result"
    }
   ],
   "source": [
    "df.groupby('class_lemmas')['debt'].agg(['count','mean'])\n",
    "pt_class_lemmas = df.pivot_table(index = 'class_lemmas', columns = 'debt', values = 'purpose', aggfunc = ['count'])\n",
    "df_class_lemmas = pd.DataFrame(pt_class_lemmas.to_records())\n",
    "df_class_lemmas.columns = ['class_lemmas', 'debt_0', 'debt_1']\n",
    "df_class_lemmas['debt_sum'] = df_class_lemmas['debt_0'] + df_class_lemmas['debt_1']\n",
    "df_class_lemmas['percent'] = (df_class_lemmas['debt_1'] / df_class_lemmas['debt_sum']) * 100\n",
    "df_class_lemmas"
   ]
  },
  {
   "cell_type": "markdown",
   "metadata": {},
   "source": [
    "**Вывод**"
   ]
  },
  {
   "cell_type": "markdown",
   "metadata": {},
   "source": [
    "Чтобы ответить на поставленный вопрос нам нужно посчитать вероятность клиента стать должником, для этого поделим кол-во должников на общее кол-во.\n",
    "    \n",
    "* Вероятность появления задолженности у клиентов с целью кредита \"автомобиль\" - **9,4%**\n",
    "* Ветоятность появления задолженности у клиентов с целью кредита \"недвижимость\" - **7,2%**\n",
    "* Ветоятность появления задолженности у клиентов с целью кредита \"образование\" - **9,2%**\n",
    "* Вероятность появления задолженности у клиентов с целью кредита \" свадьба\" - **8,0%**\n",
    "    </div>"
   ]
  },
  {
   "cell_type": "markdown",
   "metadata": {},
   "source": [
    "## Шаг 4. Общий вывод"
   ]
  },
  {
   "cell_type": "markdown",
   "metadata": {},
   "source": [
    "Мы провели анализ зависимости возврата кредита в срок в разных категориях. Клиенты с детьми чаще возвращают кредиты в срок. Клиенты в браке возвращают кредиты в срок почти также как и клиенты без брака. Клиенты с высоким уровнем дохода оказались самой рискогой группой среди категории доход. Цель кредита \"недвижимость\" увеличивает вероятность невозврата в двое по отношению к остальным целям"
   ]
  }
 ],
 "metadata": {
  "ExecuteTimeLog": [
   {
    "duration": 1063,
    "start_time": "2022-01-30T20:47:58.866Z"
   },
   {
    "duration": 2957,
    "start_time": "2022-01-30T20:47:59.931Z"
   },
   {
    "duration": 10,
    "start_time": "2022-01-30T20:48:02.890Z"
   },
   {
    "duration": 83,
    "start_time": "2022-01-30T20:48:02.902Z"
   },
   {
    "duration": 3761,
    "start_time": "2022-01-30T20:48:02.987Z"
   },
   {
    "duration": 36569,
    "start_time": "2022-01-30T20:48:06.750Z"
   },
   {
    "duration": 38,
    "start_time": "2022-01-30T20:48:43.321Z"
   },
   {
    "duration": 40,
    "start_time": "2022-01-30T20:48:43.361Z"
   },
   {
    "duration": 25,
    "start_time": "2022-01-30T20:48:43.403Z"
   },
   {
    "duration": 30,
    "start_time": "2022-01-30T20:48:43.430Z"
   }
  ],
  "kernelspec": {
   "display_name": "Python 3",
   "language": "python",
   "name": "python3"
  },
  "language_info": {
   "codemirror_mode": {
    "name": "ipython",
    "version": 3
   },
   "file_extension": ".py",
   "mimetype": "text/x-python",
   "name": "python",
   "nbconvert_exporter": "python",
   "pygments_lexer": "ipython3",
   "version": "3.8.8"
  },
  "toc": {
   "base_numbering": 1,
   "nav_menu": {},
   "number_sections": true,
   "sideBar": true,
   "skip_h1_title": true,
   "title_cell": "Table of Contents",
   "title_sidebar": "Contents",
   "toc_cell": false,
   "toc_position": {
    "height": "calc(100% - 180px)",
    "left": "10px",
    "top": "150px",
    "width": "165px"
   },
   "toc_section_display": true,
   "toc_window_display": false
  }
 },
 "nbformat": 4,
 "nbformat_minor": 2
}
