{
 "cells": [
  {
   "cell_type": "markdown",
   "metadata": {
    "id": "kZgRFSNUw9ME"
   },
   "source": [
    "# Определение стоимости автомобилей"
   ]
  },
  {
   "cell_type": "markdown",
   "metadata": {
    "id": "FX8NmtOAw9MF"
   },
   "source": [
    "Сервис по продаже автомобилей с пробегом «Не бит, не крашен» разрабатывает приложение для привлечения новых клиентов. В нём можно быстро узнать рыночную стоимость своего автомобиля. В вашем распоряжении исторические данные: технические характеристики, комплектации и цены автомобилей. Вам нужно построить модель для определения стоимости. \n",
    "\n",
    "Заказчику важны:\n",
    "\n",
    "- качество предсказания;\n",
    "- скорость предсказания;\n",
    "- время обучения."
   ]
  },
  {
   "cell_type": "markdown",
   "metadata": {
    "id": "pS-7XSCCw9MF"
   },
   "source": [
    "## Подготовка данных"
   ]
  },
  {
   "cell_type": "code",
   "execution_count": 6,
   "metadata": {
    "id": "YthXSTwOw9MG"
   },
   "outputs": [],
   "source": [
    "import pandas as pd\n",
    "import numpy as np\n",
    "import matplotlib.pyplot as plt\n",
    "from sklearn.model_selection import train_test_split\n",
    "from sklearn.preprocessing import StandardScaler\n",
    "from sklearn.metrics import mean_squared_error\n",
    "from sklearn.metrics import make_scorer\n",
    "from sklearn.model_selection import GridSearchCV\n",
    "from sklearn.model_selection import ShuffleSplit\n",
    "from sklearn.linear_model import LinearRegression\n",
    "from sklearn.linear_model import SGDRegressor\n",
    "from catboost import CatBoostRegressor\n",
    "from lightgbm import LGBMRegressor\n",
    "from IPython.display import display\n",
    "import warnings\n",
    "warnings.filterwarnings('ignore')"
   ]
  },
  {
   "cell_type": "code",
   "execution_count": 8,
   "metadata": {
    "colab": {
     "base_uri": "https://localhost:8080/",
     "height": 1000
    },
    "id": "8zGHGPoQw9MH",
    "outputId": "164144a4-150c-499c-8b07-f4a88248fd64"
   },
   "outputs": [
    {
     "name": "stdout",
     "output_type": "stream",
     "text": [
      "<class 'pandas.core.frame.DataFrame'>\n",
      "RangeIndex: 354369 entries, 0 to 354368\n",
      "Data columns (total 16 columns):\n",
      " #   Column             Non-Null Count   Dtype \n",
      "---  ------             --------------   ----- \n",
      " 0   DateCrawled        354369 non-null  object\n",
      " 1   Price              354369 non-null  int64 \n",
      " 2   VehicleType        316879 non-null  object\n",
      " 3   RegistrationYear   354369 non-null  int64 \n",
      " 4   Gearbox            334536 non-null  object\n",
      " 5   Power              354369 non-null  int64 \n",
      " 6   Model              334664 non-null  object\n",
      " 7   Kilometer          354369 non-null  int64 \n",
      " 8   RegistrationMonth  354369 non-null  int64 \n",
      " 9   FuelType           321474 non-null  object\n",
      " 10  Brand              354369 non-null  object\n",
      " 11  NotRepaired        283215 non-null  object\n",
      " 12  DateCreated        354369 non-null  object\n",
      " 13  NumberOfPictures   354369 non-null  int64 \n",
      " 14  PostalCode         354369 non-null  int64 \n",
      " 15  LastSeen           354369 non-null  object\n",
      "dtypes: int64(7), object(9)\n",
      "memory usage: 43.3+ MB\n"
     ]
    },
    {
     "data": {
      "text/plain": [
       "None"
      ]
     },
     "metadata": {},
     "output_type": "display_data"
    },
    {
     "data": {
      "text/html": [
       "\n",
       "  <div id=\"df-c0303078-a5cb-45d6-99a2-402e0638ca73\">\n",
       "    <div class=\"colab-df-container\">\n",
       "      <div>\n",
       "<style scoped>\n",
       "    .dataframe tbody tr th:only-of-type {\n",
       "        vertical-align: middle;\n",
       "    }\n",
       "\n",
       "    .dataframe tbody tr th {\n",
       "        vertical-align: top;\n",
       "    }\n",
       "\n",
       "    .dataframe thead th {\n",
       "        text-align: right;\n",
       "    }\n",
       "</style>\n",
       "<table border=\"1\" class=\"dataframe\">\n",
       "  <thead>\n",
       "    <tr style=\"text-align: right;\">\n",
       "      <th></th>\n",
       "      <th>DateCrawled</th>\n",
       "      <th>Price</th>\n",
       "      <th>VehicleType</th>\n",
       "      <th>RegistrationYear</th>\n",
       "      <th>Gearbox</th>\n",
       "      <th>Power</th>\n",
       "      <th>Model</th>\n",
       "      <th>Kilometer</th>\n",
       "      <th>RegistrationMonth</th>\n",
       "      <th>FuelType</th>\n",
       "      <th>Brand</th>\n",
       "      <th>NotRepaired</th>\n",
       "      <th>DateCreated</th>\n",
       "      <th>NumberOfPictures</th>\n",
       "      <th>PostalCode</th>\n",
       "      <th>LastSeen</th>\n",
       "    </tr>\n",
       "  </thead>\n",
       "  <tbody>\n",
       "    <tr>\n",
       "      <th>141781</th>\n",
       "      <td>2016-03-27 16:57:14</td>\n",
       "      <td>6750</td>\n",
       "      <td>bus</td>\n",
       "      <td>2009</td>\n",
       "      <td>manual</td>\n",
       "      <td>120</td>\n",
       "      <td>zafira</td>\n",
       "      <td>150000</td>\n",
       "      <td>5</td>\n",
       "      <td>gasoline</td>\n",
       "      <td>opel</td>\n",
       "      <td>no</td>\n",
       "      <td>2016-03-27 00:00:00</td>\n",
       "      <td>0</td>\n",
       "      <td>83301</td>\n",
       "      <td>2016-03-27 17:40:30</td>\n",
       "    </tr>\n",
       "    <tr>\n",
       "      <th>301490</th>\n",
       "      <td>2016-03-11 14:52:58</td>\n",
       "      <td>300</td>\n",
       "      <td>small</td>\n",
       "      <td>1996</td>\n",
       "      <td>manual</td>\n",
       "      <td>0</td>\n",
       "      <td>NaN</td>\n",
       "      <td>150000</td>\n",
       "      <td>4</td>\n",
       "      <td>petrol</td>\n",
       "      <td>citroen</td>\n",
       "      <td>yes</td>\n",
       "      <td>2016-03-11 00:00:00</td>\n",
       "      <td>0</td>\n",
       "      <td>59067</td>\n",
       "      <td>2016-04-05 11:48:43</td>\n",
       "    </tr>\n",
       "    <tr>\n",
       "      <th>214547</th>\n",
       "      <td>2016-03-16 18:36:45</td>\n",
       "      <td>1399</td>\n",
       "      <td>sedan</td>\n",
       "      <td>1996</td>\n",
       "      <td>auto</td>\n",
       "      <td>116</td>\n",
       "      <td>3er</td>\n",
       "      <td>150000</td>\n",
       "      <td>10</td>\n",
       "      <td>petrol</td>\n",
       "      <td>bmw</td>\n",
       "      <td>no</td>\n",
       "      <td>2016-03-16 00:00:00</td>\n",
       "      <td>0</td>\n",
       "      <td>51580</td>\n",
       "      <td>2016-04-07 02:16:03</td>\n",
       "    </tr>\n",
       "    <tr>\n",
       "      <th>216929</th>\n",
       "      <td>2016-03-09 21:58:38</td>\n",
       "      <td>7950</td>\n",
       "      <td>wagon</td>\n",
       "      <td>2004</td>\n",
       "      <td>auto</td>\n",
       "      <td>150</td>\n",
       "      <td>c_klasse</td>\n",
       "      <td>150000</td>\n",
       "      <td>10</td>\n",
       "      <td>gasoline</td>\n",
       "      <td>mercedes_benz</td>\n",
       "      <td>no</td>\n",
       "      <td>2016-03-09 00:00:00</td>\n",
       "      <td>0</td>\n",
       "      <td>24784</td>\n",
       "      <td>2016-03-29 16:47:02</td>\n",
       "    </tr>\n",
       "    <tr>\n",
       "      <th>345707</th>\n",
       "      <td>2016-03-15 18:51:59</td>\n",
       "      <td>8800</td>\n",
       "      <td>suv</td>\n",
       "      <td>2009</td>\n",
       "      <td>manual</td>\n",
       "      <td>177</td>\n",
       "      <td>x_reihe</td>\n",
       "      <td>150000</td>\n",
       "      <td>7</td>\n",
       "      <td>gasoline</td>\n",
       "      <td>bmw</td>\n",
       "      <td>yes</td>\n",
       "      <td>2016-03-15 00:00:00</td>\n",
       "      <td>0</td>\n",
       "      <td>89537</td>\n",
       "      <td>2016-03-15 18:51:59</td>\n",
       "    </tr>\n",
       "    <tr>\n",
       "      <th>196414</th>\n",
       "      <td>2016-03-16 20:25:23</td>\n",
       "      <td>8900</td>\n",
       "      <td>convertible</td>\n",
       "      <td>2013</td>\n",
       "      <td>auto</td>\n",
       "      <td>71</td>\n",
       "      <td>fortwo</td>\n",
       "      <td>30000</td>\n",
       "      <td>4</td>\n",
       "      <td>petrol</td>\n",
       "      <td>smart</td>\n",
       "      <td>no</td>\n",
       "      <td>2016-03-16 00:00:00</td>\n",
       "      <td>0</td>\n",
       "      <td>65187</td>\n",
       "      <td>2016-04-02 00:16:25</td>\n",
       "    </tr>\n",
       "    <tr>\n",
       "      <th>66965</th>\n",
       "      <td>2016-03-12 23:54:07</td>\n",
       "      <td>5800</td>\n",
       "      <td>small</td>\n",
       "      <td>2009</td>\n",
       "      <td>manual</td>\n",
       "      <td>90</td>\n",
       "      <td>fiesta</td>\n",
       "      <td>150000</td>\n",
       "      <td>4</td>\n",
       "      <td>gasoline</td>\n",
       "      <td>ford</td>\n",
       "      <td>no</td>\n",
       "      <td>2016-03-12 00:00:00</td>\n",
       "      <td>0</td>\n",
       "      <td>37539</td>\n",
       "      <td>2016-04-06 13:45:46</td>\n",
       "    </tr>\n",
       "    <tr>\n",
       "      <th>159482</th>\n",
       "      <td>2016-03-15 15:53:23</td>\n",
       "      <td>17500</td>\n",
       "      <td>convertible</td>\n",
       "      <td>2011</td>\n",
       "      <td>auto</td>\n",
       "      <td>184</td>\n",
       "      <td>cooper</td>\n",
       "      <td>30000</td>\n",
       "      <td>2</td>\n",
       "      <td>petrol</td>\n",
       "      <td>mini</td>\n",
       "      <td>no</td>\n",
       "      <td>2016-03-15 00:00:00</td>\n",
       "      <td>0</td>\n",
       "      <td>1326</td>\n",
       "      <td>2016-04-06 08:16:10</td>\n",
       "    </tr>\n",
       "    <tr>\n",
       "      <th>25982</th>\n",
       "      <td>2016-03-25 23:58:27</td>\n",
       "      <td>3790</td>\n",
       "      <td>wagon</td>\n",
       "      <td>2004</td>\n",
       "      <td>manual</td>\n",
       "      <td>150</td>\n",
       "      <td>3er</td>\n",
       "      <td>150000</td>\n",
       "      <td>10</td>\n",
       "      <td>gasoline</td>\n",
       "      <td>bmw</td>\n",
       "      <td>no</td>\n",
       "      <td>2016-03-25 00:00:00</td>\n",
       "      <td>0</td>\n",
       "      <td>76131</td>\n",
       "      <td>2016-03-31 02:15:34</td>\n",
       "    </tr>\n",
       "    <tr>\n",
       "      <th>350316</th>\n",
       "      <td>2016-03-25 12:48:16</td>\n",
       "      <td>10500</td>\n",
       "      <td>bus</td>\n",
       "      <td>2008</td>\n",
       "      <td>manual</td>\n",
       "      <td>150</td>\n",
       "      <td>vito</td>\n",
       "      <td>150000</td>\n",
       "      <td>3</td>\n",
       "      <td>gasoline</td>\n",
       "      <td>mercedes_benz</td>\n",
       "      <td>no</td>\n",
       "      <td>2016-03-25 00:00:00</td>\n",
       "      <td>0</td>\n",
       "      <td>88079</td>\n",
       "      <td>2016-03-25 12:48:16</td>\n",
       "    </tr>\n",
       "  </tbody>\n",
       "</table>\n",
       "</div>\n",
       "      <button class=\"colab-df-convert\" onclick=\"convertToInteractive('df-c0303078-a5cb-45d6-99a2-402e0638ca73')\"\n",
       "              title=\"Convert this dataframe to an interactive table.\"\n",
       "              style=\"display:none;\">\n",
       "        \n",
       "  <svg xmlns=\"http://www.w3.org/2000/svg\" height=\"24px\"viewBox=\"0 0 24 24\"\n",
       "       width=\"24px\">\n",
       "    <path d=\"M0 0h24v24H0V0z\" fill=\"none\"/>\n",
       "    <path d=\"M18.56 5.44l.94 2.06.94-2.06 2.06-.94-2.06-.94-.94-2.06-.94 2.06-2.06.94zm-11 1L8.5 8.5l.94-2.06 2.06-.94-2.06-.94L8.5 2.5l-.94 2.06-2.06.94zm10 10l.94 2.06.94-2.06 2.06-.94-2.06-.94-.94-2.06-.94 2.06-2.06.94z\"/><path d=\"M17.41 7.96l-1.37-1.37c-.4-.4-.92-.59-1.43-.59-.52 0-1.04.2-1.43.59L10.3 9.45l-7.72 7.72c-.78.78-.78 2.05 0 2.83L4 21.41c.39.39.9.59 1.41.59.51 0 1.02-.2 1.41-.59l7.78-7.78 2.81-2.81c.8-.78.8-2.07 0-2.86zM5.41 20L4 18.59l7.72-7.72 1.47 1.35L5.41 20z\"/>\n",
       "  </svg>\n",
       "      </button>\n",
       "      \n",
       "  <style>\n",
       "    .colab-df-container {\n",
       "      display:flex;\n",
       "      flex-wrap:wrap;\n",
       "      gap: 12px;\n",
       "    }\n",
       "\n",
       "    .colab-df-convert {\n",
       "      background-color: #E8F0FE;\n",
       "      border: none;\n",
       "      border-radius: 50%;\n",
       "      cursor: pointer;\n",
       "      display: none;\n",
       "      fill: #1967D2;\n",
       "      height: 32px;\n",
       "      padding: 0 0 0 0;\n",
       "      width: 32px;\n",
       "    }\n",
       "\n",
       "    .colab-df-convert:hover {\n",
       "      background-color: #E2EBFA;\n",
       "      box-shadow: 0px 1px 2px rgba(60, 64, 67, 0.3), 0px 1px 3px 1px rgba(60, 64, 67, 0.15);\n",
       "      fill: #174EA6;\n",
       "    }\n",
       "\n",
       "    [theme=dark] .colab-df-convert {\n",
       "      background-color: #3B4455;\n",
       "      fill: #D2E3FC;\n",
       "    }\n",
       "\n",
       "    [theme=dark] .colab-df-convert:hover {\n",
       "      background-color: #434B5C;\n",
       "      box-shadow: 0px 1px 3px 1px rgba(0, 0, 0, 0.15);\n",
       "      filter: drop-shadow(0px 1px 2px rgba(0, 0, 0, 0.3));\n",
       "      fill: #FFFFFF;\n",
       "    }\n",
       "  </style>\n",
       "\n",
       "      <script>\n",
       "        const buttonEl =\n",
       "          document.querySelector('#df-c0303078-a5cb-45d6-99a2-402e0638ca73 button.colab-df-convert');\n",
       "        buttonEl.style.display =\n",
       "          google.colab.kernel.accessAllowed ? 'block' : 'none';\n",
       "\n",
       "        async function convertToInteractive(key) {\n",
       "          const element = document.querySelector('#df-c0303078-a5cb-45d6-99a2-402e0638ca73');\n",
       "          const dataTable =\n",
       "            await google.colab.kernel.invokeFunction('convertToInteractive',\n",
       "                                                     [key], {});\n",
       "          if (!dataTable) return;\n",
       "\n",
       "          const docLinkHtml = 'Like what you see? Visit the ' +\n",
       "            '<a target=\"_blank\" href=https://colab.research.google.com/notebooks/data_table.ipynb>data table notebook</a>'\n",
       "            + ' to learn more about interactive tables.';\n",
       "          element.innerHTML = '';\n",
       "          dataTable['output_type'] = 'display_data';\n",
       "          await google.colab.output.renderOutput(dataTable, element);\n",
       "          const docLink = document.createElement('div');\n",
       "          docLink.innerHTML = docLinkHtml;\n",
       "          element.appendChild(docLink);\n",
       "        }\n",
       "      </script>\n",
       "    </div>\n",
       "  </div>\n",
       "  "
      ],
      "text/plain": [
       "                DateCrawled  Price  ... PostalCode             LastSeen\n",
       "141781  2016-03-27 16:57:14   6750  ...      83301  2016-03-27 17:40:30\n",
       "301490  2016-03-11 14:52:58    300  ...      59067  2016-04-05 11:48:43\n",
       "214547  2016-03-16 18:36:45   1399  ...      51580  2016-04-07 02:16:03\n",
       "216929  2016-03-09 21:58:38   7950  ...      24784  2016-03-29 16:47:02\n",
       "345707  2016-03-15 18:51:59   8800  ...      89537  2016-03-15 18:51:59\n",
       "196414  2016-03-16 20:25:23   8900  ...      65187  2016-04-02 00:16:25\n",
       "66965   2016-03-12 23:54:07   5800  ...      37539  2016-04-06 13:45:46\n",
       "159482  2016-03-15 15:53:23  17500  ...       1326  2016-04-06 08:16:10\n",
       "25982   2016-03-25 23:58:27   3790  ...      76131  2016-03-31 02:15:34\n",
       "350316  2016-03-25 12:48:16  10500  ...      88079  2016-03-25 12:48:16\n",
       "\n",
       "[10 rows x 16 columns]"
      ]
     },
     "metadata": {},
     "output_type": "display_data"
    }
   ],
   "source": [
    "df = pd.read_csv('/content/autos.csv')\n",
    "display(df.info())\n",
    "display(df.sample(10))"
   ]
  },
  {
   "cell_type": "code",
   "execution_count": 9,
   "metadata": {
    "id": "vbkaDspCw9MI"
   },
   "outputs": [],
   "source": [
    "df.columns.str.lower()\n",
    "df.columns = ['date_crawled', 'price', 'vehicle_type', 'registration_year', 'gearbox',\n",
    "       'power', 'model', 'kilometer', 'registration_month', 'fuel_type', 'brand',\n",
    "       'not_repaired', 'date_created', 'number_of_pictures', 'postal_code',\n",
    "       'last_seen']\n"
   ]
  },
  {
   "cell_type": "markdown",
   "metadata": {
    "id": "2DO5aZRzw9MJ"
   },
   "source": [
    "В нашем датасете есть небольшое кол-во пропусков, далее посмотрим какой процент они составляют и определимся, что с ними делать. Описание столбцов:\n",
    "* date_crawled — дата скачивания анкеты из базы\n",
    "* vehicle_type — тип автомобильного кузова\n",
    "* registration_year — год регистрации автомобиля\n",
    "* gearbox — тип коробки передач\n",
    "* power — мощность (л. с.)\n",
    "* model — модель автомобиля\n",
    "* kilometer — пробег (км)\n",
    "* registration_month — месяц регистрации автомобиля\n",
    "* fuel_type — тип топлива\n",
    "* brand — марка автомобиля\n",
    "* not_repaired — была машина в ремонте или нет\n",
    "* date_created — дата создания анкеты\n",
    "* number_of_pictures — количество фотографий автомобиля\n",
    "* postal_code — почтовый индекс владельца анкеты (пользователя)\n",
    "* last_seen — дата последней активности пользователя"
   ]
  },
  {
   "cell_type": "markdown",
   "metadata": {
    "id": "EAkgixYjw9MJ"
   },
   "source": [
    "Проверим сколько в наших данным пропусков и есть ли дубликаты"
   ]
  },
  {
   "cell_type": "code",
   "execution_count": 10,
   "metadata": {
    "colab": {
     "base_uri": "https://localhost:8080/",
     "height": 348
    },
    "id": "tHp5yzCxw9MK",
    "outputId": "f07124e5-5742-49d7-b355-2a7ba023cd10"
   },
   "outputs": [
    {
     "data": {
      "text/plain": [
       "date_crawled          0.000000\n",
       "price                 0.000000\n",
       "vehicle_type          0.105794\n",
       "registration_year     0.000000\n",
       "gearbox               0.055967\n",
       "power                 0.000000\n",
       "model                 0.055606\n",
       "kilometer             0.000000\n",
       "registration_month    0.000000\n",
       "fuel_type             0.092827\n",
       "brand                 0.000000\n",
       "not_repaired          0.200791\n",
       "date_created          0.000000\n",
       "number_of_pictures    0.000000\n",
       "postal_code           0.000000\n",
       "last_seen             0.000000\n",
       "dtype: float64"
      ]
     },
     "metadata": {},
     "output_type": "display_data"
    },
    {
     "data": {
      "application/vnd.google.colaboratory.intrinsic+json": {
       "type": "string"
      },
      "text/plain": [
       "'Кол-во дубликатов'"
      ]
     },
     "metadata": {},
     "output_type": "display_data"
    },
    {
     "data": {
      "text/plain": [
       "4"
      ]
     },
     "metadata": {},
     "output_type": "display_data"
    }
   ],
   "source": [
    "display(df.isna().mean())\n",
    "display('Кол-во дубликатов', df.duplicated().sum())"
   ]
  },
  {
   "cell_type": "code",
   "execution_count": 11,
   "metadata": {
    "colab": {
     "base_uri": "https://localhost:8080/",
     "height": 53
    },
    "id": "gLD7wyHSw9MK",
    "outputId": "a666e4a1-bb84-498d-addc-637f87b44710"
   },
   "outputs": [
    {
     "data": {
      "application/vnd.google.colaboratory.intrinsic+json": {
       "type": "string"
      },
      "text/plain": [
       "'Кол-во дубликатов'"
      ]
     },
     "metadata": {},
     "output_type": "display_data"
    },
    {
     "data": {
      "text/plain": [
       "0"
      ]
     },
     "metadata": {},
     "output_type": "display_data"
    }
   ],
   "source": [
    "df = df.drop_duplicates()\n",
    "display('Кол-во дубликатов', df.duplicated().sum())"
   ]
  },
  {
   "cell_type": "code",
   "execution_count": 12,
   "metadata": {
    "id": "6PNgFDbAw9MK"
   },
   "outputs": [],
   "source": [
    "df = df.drop(['number_of_pictures', 'last_seen','postal_code', 'date_crawled', 'registration_month','date_created'], axis=1)"
   ]
  },
  {
   "cell_type": "markdown",
   "metadata": {
    "id": "_-Mhc-HYw9ML"
   },
   "source": [
    "Мы удалили лишние столбцы, так как они были не информативны и могли помешать обучению нашей модели"
   ]
  },
  {
   "cell_type": "code",
   "execution_count": 13,
   "metadata": {
    "colab": {
     "base_uri": "https://localhost:8080/",
     "height": 363
    },
    "id": "LqW74Wrmw9MM",
    "outputId": "785aee80-3230-4d67-b14f-515eb04c9de9"
   },
   "outputs": [
    {
     "data": {
      "text/html": [
       "\n",
       "  <div id=\"df-ec07ba8b-00bf-4612-afaa-52b07efb9355\">\n",
       "    <div class=\"colab-df-container\">\n",
       "      <div>\n",
       "<style scoped>\n",
       "    .dataframe tbody tr th:only-of-type {\n",
       "        vertical-align: middle;\n",
       "    }\n",
       "\n",
       "    .dataframe tbody tr th {\n",
       "        vertical-align: top;\n",
       "    }\n",
       "\n",
       "    .dataframe thead th {\n",
       "        text-align: right;\n",
       "    }\n",
       "</style>\n",
       "<table border=\"1\" class=\"dataframe\">\n",
       "  <thead>\n",
       "    <tr style=\"text-align: right;\">\n",
       "      <th></th>\n",
       "      <th>price</th>\n",
       "      <th>vehicle_type</th>\n",
       "      <th>registration_year</th>\n",
       "      <th>gearbox</th>\n",
       "      <th>power</th>\n",
       "      <th>model</th>\n",
       "      <th>kilometer</th>\n",
       "      <th>fuel_type</th>\n",
       "      <th>brand</th>\n",
       "      <th>not_repaired</th>\n",
       "    </tr>\n",
       "  </thead>\n",
       "  <tbody>\n",
       "    <tr>\n",
       "      <th>0</th>\n",
       "      <td>480</td>\n",
       "      <td>NaN</td>\n",
       "      <td>1993</td>\n",
       "      <td>manual</td>\n",
       "      <td>0</td>\n",
       "      <td>golf</td>\n",
       "      <td>150000</td>\n",
       "      <td>petrol</td>\n",
       "      <td>volkswagen</td>\n",
       "      <td>NaN</td>\n",
       "    </tr>\n",
       "    <tr>\n",
       "      <th>1</th>\n",
       "      <td>18300</td>\n",
       "      <td>coupe</td>\n",
       "      <td>2011</td>\n",
       "      <td>manual</td>\n",
       "      <td>190</td>\n",
       "      <td>NaN</td>\n",
       "      <td>125000</td>\n",
       "      <td>gasoline</td>\n",
       "      <td>audi</td>\n",
       "      <td>yes</td>\n",
       "    </tr>\n",
       "    <tr>\n",
       "      <th>2</th>\n",
       "      <td>9800</td>\n",
       "      <td>suv</td>\n",
       "      <td>2004</td>\n",
       "      <td>auto</td>\n",
       "      <td>163</td>\n",
       "      <td>grand</td>\n",
       "      <td>125000</td>\n",
       "      <td>gasoline</td>\n",
       "      <td>jeep</td>\n",
       "      <td>NaN</td>\n",
       "    </tr>\n",
       "    <tr>\n",
       "      <th>3</th>\n",
       "      <td>1500</td>\n",
       "      <td>small</td>\n",
       "      <td>2001</td>\n",
       "      <td>manual</td>\n",
       "      <td>75</td>\n",
       "      <td>golf</td>\n",
       "      <td>150000</td>\n",
       "      <td>petrol</td>\n",
       "      <td>volkswagen</td>\n",
       "      <td>no</td>\n",
       "    </tr>\n",
       "    <tr>\n",
       "      <th>4</th>\n",
       "      <td>3600</td>\n",
       "      <td>small</td>\n",
       "      <td>2008</td>\n",
       "      <td>manual</td>\n",
       "      <td>69</td>\n",
       "      <td>fabia</td>\n",
       "      <td>90000</td>\n",
       "      <td>gasoline</td>\n",
       "      <td>skoda</td>\n",
       "      <td>no</td>\n",
       "    </tr>\n",
       "    <tr>\n",
       "      <th>5</th>\n",
       "      <td>650</td>\n",
       "      <td>sedan</td>\n",
       "      <td>1995</td>\n",
       "      <td>manual</td>\n",
       "      <td>102</td>\n",
       "      <td>3er</td>\n",
       "      <td>150000</td>\n",
       "      <td>petrol</td>\n",
       "      <td>bmw</td>\n",
       "      <td>yes</td>\n",
       "    </tr>\n",
       "    <tr>\n",
       "      <th>6</th>\n",
       "      <td>2200</td>\n",
       "      <td>convertible</td>\n",
       "      <td>2004</td>\n",
       "      <td>manual</td>\n",
       "      <td>109</td>\n",
       "      <td>2_reihe</td>\n",
       "      <td>150000</td>\n",
       "      <td>petrol</td>\n",
       "      <td>peugeot</td>\n",
       "      <td>no</td>\n",
       "    </tr>\n",
       "    <tr>\n",
       "      <th>7</th>\n",
       "      <td>0</td>\n",
       "      <td>sedan</td>\n",
       "      <td>1980</td>\n",
       "      <td>manual</td>\n",
       "      <td>50</td>\n",
       "      <td>other</td>\n",
       "      <td>40000</td>\n",
       "      <td>petrol</td>\n",
       "      <td>volkswagen</td>\n",
       "      <td>no</td>\n",
       "    </tr>\n",
       "    <tr>\n",
       "      <th>8</th>\n",
       "      <td>14500</td>\n",
       "      <td>bus</td>\n",
       "      <td>2014</td>\n",
       "      <td>manual</td>\n",
       "      <td>125</td>\n",
       "      <td>c_max</td>\n",
       "      <td>30000</td>\n",
       "      <td>petrol</td>\n",
       "      <td>ford</td>\n",
       "      <td>NaN</td>\n",
       "    </tr>\n",
       "    <tr>\n",
       "      <th>9</th>\n",
       "      <td>999</td>\n",
       "      <td>small</td>\n",
       "      <td>1998</td>\n",
       "      <td>manual</td>\n",
       "      <td>101</td>\n",
       "      <td>golf</td>\n",
       "      <td>150000</td>\n",
       "      <td>NaN</td>\n",
       "      <td>volkswagen</td>\n",
       "      <td>NaN</td>\n",
       "    </tr>\n",
       "  </tbody>\n",
       "</table>\n",
       "</div>\n",
       "      <button class=\"colab-df-convert\" onclick=\"convertToInteractive('df-ec07ba8b-00bf-4612-afaa-52b07efb9355')\"\n",
       "              title=\"Convert this dataframe to an interactive table.\"\n",
       "              style=\"display:none;\">\n",
       "        \n",
       "  <svg xmlns=\"http://www.w3.org/2000/svg\" height=\"24px\"viewBox=\"0 0 24 24\"\n",
       "       width=\"24px\">\n",
       "    <path d=\"M0 0h24v24H0V0z\" fill=\"none\"/>\n",
       "    <path d=\"M18.56 5.44l.94 2.06.94-2.06 2.06-.94-2.06-.94-.94-2.06-.94 2.06-2.06.94zm-11 1L8.5 8.5l.94-2.06 2.06-.94-2.06-.94L8.5 2.5l-.94 2.06-2.06.94zm10 10l.94 2.06.94-2.06 2.06-.94-2.06-.94-.94-2.06-.94 2.06-2.06.94z\"/><path d=\"M17.41 7.96l-1.37-1.37c-.4-.4-.92-.59-1.43-.59-.52 0-1.04.2-1.43.59L10.3 9.45l-7.72 7.72c-.78.78-.78 2.05 0 2.83L4 21.41c.39.39.9.59 1.41.59.51 0 1.02-.2 1.41-.59l7.78-7.78 2.81-2.81c.8-.78.8-2.07 0-2.86zM5.41 20L4 18.59l7.72-7.72 1.47 1.35L5.41 20z\"/>\n",
       "  </svg>\n",
       "      </button>\n",
       "      \n",
       "  <style>\n",
       "    .colab-df-container {\n",
       "      display:flex;\n",
       "      flex-wrap:wrap;\n",
       "      gap: 12px;\n",
       "    }\n",
       "\n",
       "    .colab-df-convert {\n",
       "      background-color: #E8F0FE;\n",
       "      border: none;\n",
       "      border-radius: 50%;\n",
       "      cursor: pointer;\n",
       "      display: none;\n",
       "      fill: #1967D2;\n",
       "      height: 32px;\n",
       "      padding: 0 0 0 0;\n",
       "      width: 32px;\n",
       "    }\n",
       "\n",
       "    .colab-df-convert:hover {\n",
       "      background-color: #E2EBFA;\n",
       "      box-shadow: 0px 1px 2px rgba(60, 64, 67, 0.3), 0px 1px 3px 1px rgba(60, 64, 67, 0.15);\n",
       "      fill: #174EA6;\n",
       "    }\n",
       "\n",
       "    [theme=dark] .colab-df-convert {\n",
       "      background-color: #3B4455;\n",
       "      fill: #D2E3FC;\n",
       "    }\n",
       "\n",
       "    [theme=dark] .colab-df-convert:hover {\n",
       "      background-color: #434B5C;\n",
       "      box-shadow: 0px 1px 3px 1px rgba(0, 0, 0, 0.15);\n",
       "      filter: drop-shadow(0px 1px 2px rgba(0, 0, 0, 0.3));\n",
       "      fill: #FFFFFF;\n",
       "    }\n",
       "  </style>\n",
       "\n",
       "      <script>\n",
       "        const buttonEl =\n",
       "          document.querySelector('#df-ec07ba8b-00bf-4612-afaa-52b07efb9355 button.colab-df-convert');\n",
       "        buttonEl.style.display =\n",
       "          google.colab.kernel.accessAllowed ? 'block' : 'none';\n",
       "\n",
       "        async function convertToInteractive(key) {\n",
       "          const element = document.querySelector('#df-ec07ba8b-00bf-4612-afaa-52b07efb9355');\n",
       "          const dataTable =\n",
       "            await google.colab.kernel.invokeFunction('convertToInteractive',\n",
       "                                                     [key], {});\n",
       "          if (!dataTable) return;\n",
       "\n",
       "          const docLinkHtml = 'Like what you see? Visit the ' +\n",
       "            '<a target=\"_blank\" href=https://colab.research.google.com/notebooks/data_table.ipynb>data table notebook</a>'\n",
       "            + ' to learn more about interactive tables.';\n",
       "          element.innerHTML = '';\n",
       "          dataTable['output_type'] = 'display_data';\n",
       "          await google.colab.output.renderOutput(dataTable, element);\n",
       "          const docLink = document.createElement('div');\n",
       "          docLink.innerHTML = docLinkHtml;\n",
       "          element.appendChild(docLink);\n",
       "        }\n",
       "      </script>\n",
       "    </div>\n",
       "  </div>\n",
       "  "
      ],
      "text/plain": [
       "   price vehicle_type  registration_year  ... fuel_type       brand not_repaired\n",
       "0    480          NaN               1993  ...    petrol  volkswagen          NaN\n",
       "1  18300        coupe               2011  ...  gasoline        audi          yes\n",
       "2   9800          suv               2004  ...  gasoline        jeep          NaN\n",
       "3   1500        small               2001  ...    petrol  volkswagen           no\n",
       "4   3600        small               2008  ...  gasoline       skoda           no\n",
       "5    650        sedan               1995  ...    petrol         bmw          yes\n",
       "6   2200  convertible               2004  ...    petrol     peugeot           no\n",
       "7      0        sedan               1980  ...    petrol  volkswagen           no\n",
       "8  14500          bus               2014  ...    petrol        ford          NaN\n",
       "9    999        small               1998  ...       NaN  volkswagen          NaN\n",
       "\n",
       "[10 rows x 10 columns]"
      ]
     },
     "execution_count": 13,
     "metadata": {},
     "output_type": "execute_result"
    }
   ],
   "source": [
    "df.head(10)"
   ]
  },
  {
   "cell_type": "markdown",
   "metadata": {
    "id": "pLuo55oEw9MM"
   },
   "source": [
    "Предварительную предобработку мы сделали, посмотрим есть ли у нас аномальные данные. Есть вероятность, что мы что-то найдем, так как в 7 строке мы уже видим стоимость автомобиля 0, обычно автомобили даром не отдают. Аномальные данные мы удалим, так как заполнить их верно мы не можем"
   ]
  },
  {
   "cell_type": "code",
   "execution_count": 14,
   "metadata": {
    "colab": {
     "base_uri": "https://localhost:8080/"
    },
    "id": "ZE5lSTg6w9MN",
    "outputId": "5425a366-8085-4f44-8936-0897c1ee8c6b"
   },
   "outputs": [
    {
     "data": {
      "text/plain": [
       "count    354365.000000\n",
       "mean       2004.234481\n",
       "std          90.228466\n",
       "min        1000.000000\n",
       "0%         1000.000000\n",
       "5%         1992.000000\n",
       "10%        1995.000000\n",
       "15%        1997.000000\n",
       "20%        1998.000000\n",
       "25%        1999.000000\n",
       "50%        2003.000000\n",
       "75%        2008.000000\n",
       "80%        2009.000000\n",
       "85%        2010.000000\n",
       "90%        2012.000000\n",
       "95%        2016.000000\n",
       "max        9999.000000\n",
       "Name: registration_year, dtype: float64"
      ]
     },
     "execution_count": 14,
     "metadata": {},
     "output_type": "execute_result"
    }
   ],
   "source": [
    "df['registration_year'].describe(percentiles = [0, .05, .10, .15, .20, .25, .50, .75, .80, .85, .90, .95])"
   ]
  },
  {
   "cell_type": "code",
   "execution_count": 15,
   "metadata": {
    "colab": {
     "base_uri": "https://localhost:8080/",
     "height": 718
    },
    "id": "-b-47I73w9MN",
    "outputId": "629bd4c3-8a7b-4996-ff50-b0681c5aec94"
   },
   "outputs": [
    {
     "data": {
      "text/plain": [
       "<matplotlib.axes._subplots.AxesSubplot at 0x7fe170a87390>"
      ]
     },
     "execution_count": 15,
     "metadata": {},
     "output_type": "execute_result"
    },
    {
     "data": {
      "image/png": "[encoded data removed]",
      "text/plain": [
       "<Figure size 864x864 with 1 Axes>"
      ]
     },
     "metadata": {
      "needs_background": "light"
     },
     "output_type": "display_data"
    }
   ],
   "source": [
    "df.boxplot(column=['registration_year'], figsize=(12,12), showfliers=False)"
   ]
  },
  {
   "cell_type": "markdown",
   "metadata": {
    "id": "KAynasLVw9MN"
   },
   "source": [
    "Очевидно, что автомобили зарегистрированные в 1000 году это аномалия, поэтому отсечем наш датасет по 0,5 и 0,95 квартилям."
   ]
  },
  {
   "cell_type": "code",
   "execution_count": 16,
   "metadata": {
    "id": "6vMgKOx8w9MN"
   },
   "outputs": [],
   "source": [
    "df = df.query('1992 <= registration_year <= 2016')"
   ]
  },
  {
   "cell_type": "code",
   "execution_count": 17,
   "metadata": {
    "colab": {
     "base_uri": "https://localhost:8080/"
    },
    "id": "8A7wPpd1w9MN",
    "outputId": "a1fee171-9dc2-4270-8732-fff5363d1e0d"
   },
   "outputs": [
    {
     "data": {
      "text/plain": [
       "324598"
      ]
     },
     "execution_count": 17,
     "metadata": {},
     "output_type": "execute_result"
    }
   ],
   "source": [
    "len(df)"
   ]
  },
  {
   "cell_type": "code",
   "execution_count": 18,
   "metadata": {
    "colab": {
     "base_uri": "https://localhost:8080/"
    },
    "id": "TY1eidcew9MN",
    "outputId": "e5799233-ef67-46f8-a35c-7bc8d5e72faf"
   },
   "outputs": [
    {
     "data": {
      "text/plain": [
       "count    324598.000000\n",
       "mean        112.156754\n",
       "std         183.674678\n",
       "min           0.000000\n",
       "0%            0.000000\n",
       "5%            0.000000\n",
       "10%           0.000000\n",
       "15%          55.000000\n",
       "20%          60.000000\n",
       "25%          71.000000\n",
       "50%         105.000000\n",
       "75%         143.000000\n",
       "80%         150.000000\n",
       "85%         170.000000\n",
       "90%         184.000000\n",
       "95%         218.000000\n",
       "max       20000.000000\n",
       "Name: power, dtype: float64"
      ]
     },
     "execution_count": 18,
     "metadata": {},
     "output_type": "execute_result"
    }
   ],
   "source": [
    "df['power'].describe(percentiles = [0, .05, .10, .15, .20, .25, .50, .75, .80, .85, .90, .95])"
   ]
  },
  {
   "cell_type": "code",
   "execution_count": 19,
   "metadata": {
    "colab": {
     "base_uri": "https://localhost:8080/",
     "height": 935
    },
    "id": "-dB9Ah_iw9MN",
    "outputId": "ee5a5a88-2728-443e-ed94-2368d5215173"
   },
   "outputs": [
    {
     "data": {
      "text/plain": [
       "<matplotlib.axes._subplots.AxesSubplot at 0x7fe172ba1210>"
      ]
     },
     "execution_count": 19,
     "metadata": {},
     "output_type": "execute_result"
    },
    {
     "data": {
      "image/png": "[encoded data removed]",
      "text/plain": [
       "<Figure size 1152x1152 with 1 Axes>"
      ]
     },
     "metadata": {
      "needs_background": "light"
     },
     "output_type": "display_data"
    }
   ],
   "source": [
    "df.boxplot(column=['power'], figsize=(16,16))"
   ]
  },
  {
   "cell_type": "code",
   "execution_count": 20,
   "metadata": {
    "colab": {
     "base_uri": "https://localhost:8080/",
     "height": 206
    },
    "id": "ChEFRaPZw9MO",
    "outputId": "9b23c8de-fcec-4b0f-c0d2-252b2902022e"
   },
   "outputs": [
    {
     "data": {
      "text/html": [
       "\n",
       "  <div id=\"df-5a206d98-8216-45da-8be2-5caf8a6b2efc\">\n",
       "    <div class=\"colab-df-container\">\n",
       "      <div>\n",
       "<style scoped>\n",
       "    .dataframe tbody tr th:only-of-type {\n",
       "        vertical-align: middle;\n",
       "    }\n",
       "\n",
       "    .dataframe tbody tr th {\n",
       "        vertical-align: top;\n",
       "    }\n",
       "\n",
       "    .dataframe thead th {\n",
       "        text-align: right;\n",
       "    }\n",
       "</style>\n",
       "<table border=\"1\" class=\"dataframe\">\n",
       "  <thead>\n",
       "    <tr style=\"text-align: right;\">\n",
       "      <th></th>\n",
       "      <th>price</th>\n",
       "      <th>vehicle_type</th>\n",
       "      <th>registration_year</th>\n",
       "      <th>gearbox</th>\n",
       "      <th>power</th>\n",
       "      <th>model</th>\n",
       "      <th>kilometer</th>\n",
       "      <th>fuel_type</th>\n",
       "      <th>brand</th>\n",
       "      <th>not_repaired</th>\n",
       "    </tr>\n",
       "  </thead>\n",
       "  <tbody>\n",
       "    <tr>\n",
       "      <th>2516</th>\n",
       "      <td>350</td>\n",
       "      <td>small</td>\n",
       "      <td>1993</td>\n",
       "      <td>manual</td>\n",
       "      <td>44</td>\n",
       "      <td>corsa</td>\n",
       "      <td>150000</td>\n",
       "      <td>petrol</td>\n",
       "      <td>opel</td>\n",
       "      <td>no</td>\n",
       "    </tr>\n",
       "    <tr>\n",
       "      <th>3017</th>\n",
       "      <td>250</td>\n",
       "      <td>small</td>\n",
       "      <td>2001</td>\n",
       "      <td>manual</td>\n",
       "      <td>44</td>\n",
       "      <td>fiesta</td>\n",
       "      <td>150000</td>\n",
       "      <td>petrol</td>\n",
       "      <td>ford</td>\n",
       "      <td>yes</td>\n",
       "    </tr>\n",
       "    <tr>\n",
       "      <th>3398</th>\n",
       "      <td>650</td>\n",
       "      <td>NaN</td>\n",
       "      <td>2016</td>\n",
       "      <td>manual</td>\n",
       "      <td>44</td>\n",
       "      <td>NaN</td>\n",
       "      <td>150000</td>\n",
       "      <td>NaN</td>\n",
       "      <td>peugeot</td>\n",
       "      <td>yes</td>\n",
       "    </tr>\n",
       "    <tr>\n",
       "      <th>4454</th>\n",
       "      <td>500</td>\n",
       "      <td>small</td>\n",
       "      <td>2000</td>\n",
       "      <td>manual</td>\n",
       "      <td>44</td>\n",
       "      <td>fiesta</td>\n",
       "      <td>150000</td>\n",
       "      <td>petrol</td>\n",
       "      <td>ford</td>\n",
       "      <td>yes</td>\n",
       "    </tr>\n",
       "    <tr>\n",
       "      <th>4970</th>\n",
       "      <td>700</td>\n",
       "      <td>small</td>\n",
       "      <td>1999</td>\n",
       "      <td>manual</td>\n",
       "      <td>44</td>\n",
       "      <td>lupo</td>\n",
       "      <td>150000</td>\n",
       "      <td>petrol</td>\n",
       "      <td>volkswagen</td>\n",
       "      <td>no</td>\n",
       "    </tr>\n",
       "  </tbody>\n",
       "</table>\n",
       "</div>\n",
       "      <button class=\"colab-df-convert\" onclick=\"convertToInteractive('df-5a206d98-8216-45da-8be2-5caf8a6b2efc')\"\n",
       "              title=\"Convert this dataframe to an interactive table.\"\n",
       "              style=\"display:none;\">\n",
       "        \n",
       "  <svg xmlns=\"http://www.w3.org/2000/svg\" height=\"24px\"viewBox=\"0 0 24 24\"\n",
       "       width=\"24px\">\n",
       "    <path d=\"M0 0h24v24H0V0z\" fill=\"none\"/>\n",
       "    <path d=\"M18.56 5.44l.94 2.06.94-2.06 2.06-.94-2.06-.94-.94-2.06-.94 2.06-2.06.94zm-11 1L8.5 8.5l.94-2.06 2.06-.94-2.06-.94L8.5 2.5l-.94 2.06-2.06.94zm10 10l.94 2.06.94-2.06 2.06-.94-2.06-.94-.94-2.06-.94 2.06-2.06.94z\"/><path d=\"M17.41 7.96l-1.37-1.37c-.4-.4-.92-.59-1.43-.59-.52 0-1.04.2-1.43.59L10.3 9.45l-7.72 7.72c-.78.78-.78 2.05 0 2.83L4 21.41c.39.39.9.59 1.41.59.51 0 1.02-.2 1.41-.59l7.78-7.78 2.81-2.81c.8-.78.8-2.07 0-2.86zM5.41 20L4 18.59l7.72-7.72 1.47 1.35L5.41 20z\"/>\n",
       "  </svg>\n",
       "      </button>\n",
       "      \n",
       "  <style>\n",
       "    .colab-df-container {\n",
       "      display:flex;\n",
       "      flex-wrap:wrap;\n",
       "      gap: 12px;\n",
       "    }\n",
       "\n",
       "    .colab-df-convert {\n",
       "      background-color: #E8F0FE;\n",
       "      border: none;\n",
       "      border-radius: 50%;\n",
       "      cursor: pointer;\n",
       "      display: none;\n",
       "      fill: #1967D2;\n",
       "      height: 32px;\n",
       "      padding: 0 0 0 0;\n",
       "      width: 32px;\n",
       "    }\n",
       "\n",
       "    .colab-df-convert:hover {\n",
       "      background-color: #E2EBFA;\n",
       "      box-shadow: 0px 1px 2px rgba(60, 64, 67, 0.3), 0px 1px 3px 1px rgba(60, 64, 67, 0.15);\n",
       "      fill: #174EA6;\n",
       "    }\n",
       "\n",
       "    [theme=dark] .colab-df-convert {\n",
       "      background-color: #3B4455;\n",
       "      fill: #D2E3FC;\n",
       "    }\n",
       "\n",
       "    [theme=dark] .colab-df-convert:hover {\n",
       "      background-color: #434B5C;\n",
       "      box-shadow: 0px 1px 3px 1px rgba(0, 0, 0, 0.15);\n",
       "      filter: drop-shadow(0px 1px 2px rgba(0, 0, 0, 0.3));\n",
       "      fill: #FFFFFF;\n",
       "    }\n",
       "  </style>\n",
       "\n",
       "      <script>\n",
       "        const buttonEl =\n",
       "          document.querySelector('#df-5a206d98-8216-45da-8be2-5caf8a6b2efc button.colab-df-convert');\n",
       "        buttonEl.style.display =\n",
       "          google.colab.kernel.accessAllowed ? 'block' : 'none';\n",
       "\n",
       "        async function convertToInteractive(key) {\n",
       "          const element = document.querySelector('#df-5a206d98-8216-45da-8be2-5caf8a6b2efc');\n",
       "          const dataTable =\n",
       "            await google.colab.kernel.invokeFunction('convertToInteractive',\n",
       "                                                     [key], {});\n",
       "          if (!dataTable) return;\n",
       "\n",
       "          const docLinkHtml = 'Like what you see? Visit the ' +\n",
       "            '<a target=\"_blank\" href=https://colab.research.google.com/notebooks/data_table.ipynb>data table notebook</a>'\n",
       "            + ' to learn more about interactive tables.';\n",
       "          element.innerHTML = '';\n",
       "          dataTable['output_type'] = 'display_data';\n",
       "          await google.colab.output.renderOutput(dataTable, element);\n",
       "          const docLink = document.createElement('div');\n",
       "          docLink.innerHTML = docLinkHtml;\n",
       "          element.appendChild(docLink);\n",
       "        }\n",
       "      </script>\n",
       "    </div>\n",
       "  </div>\n",
       "  "
      ],
      "text/plain": [
       "      price vehicle_type  registration_year  ... fuel_type       brand not_repaired\n",
       "2516    350        small               1993  ...    petrol        opel           no\n",
       "3017    250        small               2001  ...    petrol        ford          yes\n",
       "3398    650          NaN               2016  ...       NaN     peugeot          yes\n",
       "4454    500        small               2000  ...    petrol        ford          yes\n",
       "4970    700        small               1999  ...    petrol  volkswagen           no\n",
       "\n",
       "[5 rows x 10 columns]"
      ]
     },
     "execution_count": 20,
     "metadata": {},
     "output_type": "execute_result"
    }
   ],
   "source": [
    "df.query('power == 44').head()"
   ]
  },
  {
   "cell_type": "markdown",
   "metadata": {
    "id": "L2ITqrw9w9MO"
   },
   "source": [
    "Исходя из графика мы откинем выбросы до 44 л.с и все, что больше 2500 л.с. Как гласит википедия автомобили с маленькими двигателями выпускались с 1982 года, например, opel corca. Именно такие автомобили и попадались в наших данных.\n",
    "https://ru.wikipedia.org/wiki/Opel_Corsa"
   ]
  },
  {
   "cell_type": "code",
   "execution_count": 21,
   "metadata": {
    "id": "2mPdibMaw9MO"
   },
   "outputs": [],
   "source": [
    "df = df.query('44 <= power <= 2500')"
   ]
  },
  {
   "cell_type": "code",
   "execution_count": 22,
   "metadata": {
    "colab": {
     "base_uri": "https://localhost:8080/"
    },
    "id": "R9ZuuHWXw9MO",
    "outputId": "3f3251fc-83be-49ce-bc4b-b3157dccfe0b"
   },
   "outputs": [
    {
     "data": {
      "text/plain": [
       "290137"
      ]
     },
     "execution_count": 22,
     "metadata": {},
     "output_type": "execute_result"
    }
   ],
   "source": [
    "len(df)"
   ]
  },
  {
   "cell_type": "code",
   "execution_count": 23,
   "metadata": {
    "colab": {
     "base_uri": "https://localhost:8080/"
    },
    "id": "ll7gYMK0w9MO",
    "outputId": "b9311c93-55ed-4a60-f96c-cffb5fb9d292",
    "scrolled": false
   },
   "outputs": [
    {
     "data": {
      "text/plain": [
       "count    290137.000000\n",
       "mean       4789.674016\n",
       "std        4623.940243\n",
       "min           0.000000\n",
       "0%            0.000000\n",
       "5%          300.000000\n",
       "10%         599.000000\n",
       "15%         800.000000\n",
       "20%        1000.000000\n",
       "25%        1270.000000\n",
       "50%        3049.000000\n",
       "75%        6989.000000\n",
       "80%        8200.000000\n",
       "85%        9850.000000\n",
       "90%       11999.000000\n",
       "95%       14999.000000\n",
       "max       20000.000000\n",
       "Name: price, dtype: float64"
      ]
     },
     "execution_count": 23,
     "metadata": {},
     "output_type": "execute_result"
    }
   ],
   "source": [
    "df['price'].describe(percentiles = [0, .05, .10, .15, .20, .25, .50, .75, .80, .85, .90, .95])"
   ]
  },
  {
   "cell_type": "code",
   "execution_count": 24,
   "metadata": {
    "colab": {
     "base_uri": "https://localhost:8080/",
     "height": 717
    },
    "id": "-EQX1mZYw9MP",
    "outputId": "987e7bc6-d4ab-4302-9625-6fb7afe92ede"
   },
   "outputs": [
    {
     "data": {
      "text/plain": [
       "<matplotlib.axes._subplots.AxesSubplot at 0x7fe1705e5a10>"
      ]
     },
     "execution_count": 24,
     "metadata": {},
     "output_type": "execute_result"
    },
    {
     "data": {
      "image/png": "[encoded data removed]",
      "text/plain": [
       "<Figure size 864x864 with 1 Axes>"
      ]
     },
     "metadata": {
      "needs_background": "light"
     },
     "output_type": "display_data"
    }
   ],
   "source": [
    "df.boxplot(column=['price'], figsize=(12,12))"
   ]
  },
  {
   "cell_type": "markdown",
   "metadata": {
    "id": "sypXtNSqw9MP"
   },
   "source": [
    "Автомобили с нулевой стоимостью это не порядок, стоит их убрать. Также у нас есть выбросы по стоимости, их лучше убрать."
   ]
  },
  {
   "cell_type": "code",
   "execution_count": 25,
   "metadata": {
    "id": "4LQfJjzxw9MP"
   },
   "outputs": [],
   "source": [
    "df = df.query('300 <= price <= 15500')"
   ]
  },
  {
   "cell_type": "code",
   "execution_count": 26,
   "metadata": {
    "colab": {
     "base_uri": "https://localhost:8080/"
    },
    "id": "iUK0lhvSw9MP",
    "outputId": "258e551c-ba43-4443-d64a-8cac700f4716"
   },
   "outputs": [
    {
     "data": {
      "text/plain": [
       "264630"
      ]
     },
     "execution_count": 26,
     "metadata": {},
     "output_type": "execute_result"
    }
   ],
   "source": [
    "len(df)"
   ]
  },
  {
   "cell_type": "markdown",
   "metadata": {
    "id": "G0ToF3FSw9MP"
   },
   "source": [
    "Итог, после отсечения аномалий мы получили датасет почти из 25 тыс. строк. Так как у нас много категорийных признаков, которые имееют строковые значения, применим метод кодирование OHE"
   ]
  },
  {
   "cell_type": "code",
   "execution_count": 27,
   "metadata": {
    "colab": {
     "base_uri": "https://localhost:8080/",
     "height": 488
    },
    "id": "V1IH-74Ow9MQ",
    "outputId": "2c464b6a-8355-48de-a48a-c5842e5b88a3"
   },
   "outputs": [
    {
     "data": {
      "text/html": [
       "\n",
       "  <div id=\"df-b2a18ef5-3a48-43ac-b2ed-28c6376eec08\">\n",
       "    <div class=\"colab-df-container\">\n",
       "      <div>\n",
       "<style scoped>\n",
       "    .dataframe tbody tr th:only-of-type {\n",
       "        vertical-align: middle;\n",
       "    }\n",
       "\n",
       "    .dataframe tbody tr th {\n",
       "        vertical-align: top;\n",
       "    }\n",
       "\n",
       "    .dataframe thead th {\n",
       "        text-align: right;\n",
       "    }\n",
       "</style>\n",
       "<table border=\"1\" class=\"dataframe\">\n",
       "  <thead>\n",
       "    <tr style=\"text-align: right;\">\n",
       "      <th></th>\n",
       "      <th>price</th>\n",
       "      <th>registration_year</th>\n",
       "      <th>power</th>\n",
       "      <th>kilometer</th>\n",
       "      <th>vehicle_type_convertible</th>\n",
       "      <th>vehicle_type_coupe</th>\n",
       "      <th>vehicle_type_other</th>\n",
       "      <th>vehicle_type_sedan</th>\n",
       "      <th>vehicle_type_small</th>\n",
       "      <th>vehicle_type_suv</th>\n",
       "      <th>vehicle_type_wagon</th>\n",
       "      <th>gearbox_manual</th>\n",
       "      <th>model_145</th>\n",
       "      <th>model_147</th>\n",
       "      <th>model_156</th>\n",
       "      <th>model_159</th>\n",
       "      <th>model_1_reihe</th>\n",
       "      <th>model_1er</th>\n",
       "      <th>model_200</th>\n",
       "      <th>model_2_reihe</th>\n",
       "      <th>model_300c</th>\n",
       "      <th>model_3_reihe</th>\n",
       "      <th>model_3er</th>\n",
       "      <th>model_4_reihe</th>\n",
       "      <th>model_500</th>\n",
       "      <th>model_5_reihe</th>\n",
       "      <th>model_5er</th>\n",
       "      <th>model_6_reihe</th>\n",
       "      <th>model_6er</th>\n",
       "      <th>model_7er</th>\n",
       "      <th>model_80</th>\n",
       "      <th>model_850</th>\n",
       "      <th>model_90</th>\n",
       "      <th>model_900</th>\n",
       "      <th>model_9000</th>\n",
       "      <th>model_911</th>\n",
       "      <th>model_a1</th>\n",
       "      <th>model_a2</th>\n",
       "      <th>model_a3</th>\n",
       "      <th>model_a4</th>\n",
       "      <th>...</th>\n",
       "      <th>brand_audi</th>\n",
       "      <th>brand_bmw</th>\n",
       "      <th>brand_chevrolet</th>\n",
       "      <th>brand_chrysler</th>\n",
       "      <th>brand_citroen</th>\n",
       "      <th>brand_dacia</th>\n",
       "      <th>brand_daewoo</th>\n",
       "      <th>brand_daihatsu</th>\n",
       "      <th>brand_fiat</th>\n",
       "      <th>brand_ford</th>\n",
       "      <th>brand_honda</th>\n",
       "      <th>brand_hyundai</th>\n",
       "      <th>brand_jaguar</th>\n",
       "      <th>brand_jeep</th>\n",
       "      <th>brand_kia</th>\n",
       "      <th>brand_lada</th>\n",
       "      <th>brand_lancia</th>\n",
       "      <th>brand_land_rover</th>\n",
       "      <th>brand_mazda</th>\n",
       "      <th>brand_mercedes_benz</th>\n",
       "      <th>brand_mini</th>\n",
       "      <th>brand_mitsubishi</th>\n",
       "      <th>brand_nissan</th>\n",
       "      <th>brand_opel</th>\n",
       "      <th>brand_peugeot</th>\n",
       "      <th>brand_porsche</th>\n",
       "      <th>brand_renault</th>\n",
       "      <th>brand_rover</th>\n",
       "      <th>brand_saab</th>\n",
       "      <th>brand_seat</th>\n",
       "      <th>brand_skoda</th>\n",
       "      <th>brand_smart</th>\n",
       "      <th>brand_sonstige_autos</th>\n",
       "      <th>brand_subaru</th>\n",
       "      <th>brand_suzuki</th>\n",
       "      <th>brand_toyota</th>\n",
       "      <th>brand_trabant</th>\n",
       "      <th>brand_volkswagen</th>\n",
       "      <th>brand_volvo</th>\n",
       "      <th>not_repaired_yes</th>\n",
       "    </tr>\n",
       "  </thead>\n",
       "  <tbody>\n",
       "    <tr>\n",
       "      <th>2</th>\n",
       "      <td>9800</td>\n",
       "      <td>2004</td>\n",
       "      <td>163</td>\n",
       "      <td>125000</td>\n",
       "      <td>0</td>\n",
       "      <td>0</td>\n",
       "      <td>0</td>\n",
       "      <td>0</td>\n",
       "      <td>0</td>\n",
       "      <td>1</td>\n",
       "      <td>0</td>\n",
       "      <td>0</td>\n",
       "      <td>0</td>\n",
       "      <td>0</td>\n",
       "      <td>0</td>\n",
       "      <td>0</td>\n",
       "      <td>0</td>\n",
       "      <td>0</td>\n",
       "      <td>0</td>\n",
       "      <td>0</td>\n",
       "      <td>0</td>\n",
       "      <td>0</td>\n",
       "      <td>0</td>\n",
       "      <td>0</td>\n",
       "      <td>0</td>\n",
       "      <td>0</td>\n",
       "      <td>0</td>\n",
       "      <td>0</td>\n",
       "      <td>0</td>\n",
       "      <td>0</td>\n",
       "      <td>0</td>\n",
       "      <td>0</td>\n",
       "      <td>0</td>\n",
       "      <td>0</td>\n",
       "      <td>0</td>\n",
       "      <td>0</td>\n",
       "      <td>0</td>\n",
       "      <td>0</td>\n",
       "      <td>0</td>\n",
       "      <td>0</td>\n",
       "      <td>...</td>\n",
       "      <td>0</td>\n",
       "      <td>0</td>\n",
       "      <td>0</td>\n",
       "      <td>0</td>\n",
       "      <td>0</td>\n",
       "      <td>0</td>\n",
       "      <td>0</td>\n",
       "      <td>0</td>\n",
       "      <td>0</td>\n",
       "      <td>0</td>\n",
       "      <td>0</td>\n",
       "      <td>0</td>\n",
       "      <td>0</td>\n",
       "      <td>1</td>\n",
       "      <td>0</td>\n",
       "      <td>0</td>\n",
       "      <td>0</td>\n",
       "      <td>0</td>\n",
       "      <td>0</td>\n",
       "      <td>0</td>\n",
       "      <td>0</td>\n",
       "      <td>0</td>\n",
       "      <td>0</td>\n",
       "      <td>0</td>\n",
       "      <td>0</td>\n",
       "      <td>0</td>\n",
       "      <td>0</td>\n",
       "      <td>0</td>\n",
       "      <td>0</td>\n",
       "      <td>0</td>\n",
       "      <td>0</td>\n",
       "      <td>0</td>\n",
       "      <td>0</td>\n",
       "      <td>0</td>\n",
       "      <td>0</td>\n",
       "      <td>0</td>\n",
       "      <td>0</td>\n",
       "      <td>0</td>\n",
       "      <td>0</td>\n",
       "      <td>0</td>\n",
       "    </tr>\n",
       "    <tr>\n",
       "      <th>3</th>\n",
       "      <td>1500</td>\n",
       "      <td>2001</td>\n",
       "      <td>75</td>\n",
       "      <td>150000</td>\n",
       "      <td>0</td>\n",
       "      <td>0</td>\n",
       "      <td>0</td>\n",
       "      <td>0</td>\n",
       "      <td>1</td>\n",
       "      <td>0</td>\n",
       "      <td>0</td>\n",
       "      <td>1</td>\n",
       "      <td>0</td>\n",
       "      <td>0</td>\n",
       "      <td>0</td>\n",
       "      <td>0</td>\n",
       "      <td>0</td>\n",
       "      <td>0</td>\n",
       "      <td>0</td>\n",
       "      <td>0</td>\n",
       "      <td>0</td>\n",
       "      <td>0</td>\n",
       "      <td>0</td>\n",
       "      <td>0</td>\n",
       "      <td>0</td>\n",
       "      <td>0</td>\n",
       "      <td>0</td>\n",
       "      <td>0</td>\n",
       "      <td>0</td>\n",
       "      <td>0</td>\n",
       "      <td>0</td>\n",
       "      <td>0</td>\n",
       "      <td>0</td>\n",
       "      <td>0</td>\n",
       "      <td>0</td>\n",
       "      <td>0</td>\n",
       "      <td>0</td>\n",
       "      <td>0</td>\n",
       "      <td>0</td>\n",
       "      <td>0</td>\n",
       "      <td>...</td>\n",
       "      <td>0</td>\n",
       "      <td>0</td>\n",
       "      <td>0</td>\n",
       "      <td>0</td>\n",
       "      <td>0</td>\n",
       "      <td>0</td>\n",
       "      <td>0</td>\n",
       "      <td>0</td>\n",
       "      <td>0</td>\n",
       "      <td>0</td>\n",
       "      <td>0</td>\n",
       "      <td>0</td>\n",
       "      <td>0</td>\n",
       "      <td>0</td>\n",
       "      <td>0</td>\n",
       "      <td>0</td>\n",
       "      <td>0</td>\n",
       "      <td>0</td>\n",
       "      <td>0</td>\n",
       "      <td>0</td>\n",
       "      <td>0</td>\n",
       "      <td>0</td>\n",
       "      <td>0</td>\n",
       "      <td>0</td>\n",
       "      <td>0</td>\n",
       "      <td>0</td>\n",
       "      <td>0</td>\n",
       "      <td>0</td>\n",
       "      <td>0</td>\n",
       "      <td>0</td>\n",
       "      <td>0</td>\n",
       "      <td>0</td>\n",
       "      <td>0</td>\n",
       "      <td>0</td>\n",
       "      <td>0</td>\n",
       "      <td>0</td>\n",
       "      <td>0</td>\n",
       "      <td>1</td>\n",
       "      <td>0</td>\n",
       "      <td>0</td>\n",
       "    </tr>\n",
       "    <tr>\n",
       "      <th>4</th>\n",
       "      <td>3600</td>\n",
       "      <td>2008</td>\n",
       "      <td>69</td>\n",
       "      <td>90000</td>\n",
       "      <td>0</td>\n",
       "      <td>0</td>\n",
       "      <td>0</td>\n",
       "      <td>0</td>\n",
       "      <td>1</td>\n",
       "      <td>0</td>\n",
       "      <td>0</td>\n",
       "      <td>1</td>\n",
       "      <td>0</td>\n",
       "      <td>0</td>\n",
       "      <td>0</td>\n",
       "      <td>0</td>\n",
       "      <td>0</td>\n",
       "      <td>0</td>\n",
       "      <td>0</td>\n",
       "      <td>0</td>\n",
       "      <td>0</td>\n",
       "      <td>0</td>\n",
       "      <td>0</td>\n",
       "      <td>0</td>\n",
       "      <td>0</td>\n",
       "      <td>0</td>\n",
       "      <td>0</td>\n",
       "      <td>0</td>\n",
       "      <td>0</td>\n",
       "      <td>0</td>\n",
       "      <td>0</td>\n",
       "      <td>0</td>\n",
       "      <td>0</td>\n",
       "      <td>0</td>\n",
       "      <td>0</td>\n",
       "      <td>0</td>\n",
       "      <td>0</td>\n",
       "      <td>0</td>\n",
       "      <td>0</td>\n",
       "      <td>0</td>\n",
       "      <td>...</td>\n",
       "      <td>0</td>\n",
       "      <td>0</td>\n",
       "      <td>0</td>\n",
       "      <td>0</td>\n",
       "      <td>0</td>\n",
       "      <td>0</td>\n",
       "      <td>0</td>\n",
       "      <td>0</td>\n",
       "      <td>0</td>\n",
       "      <td>0</td>\n",
       "      <td>0</td>\n",
       "      <td>0</td>\n",
       "      <td>0</td>\n",
       "      <td>0</td>\n",
       "      <td>0</td>\n",
       "      <td>0</td>\n",
       "      <td>0</td>\n",
       "      <td>0</td>\n",
       "      <td>0</td>\n",
       "      <td>0</td>\n",
       "      <td>0</td>\n",
       "      <td>0</td>\n",
       "      <td>0</td>\n",
       "      <td>0</td>\n",
       "      <td>0</td>\n",
       "      <td>0</td>\n",
       "      <td>0</td>\n",
       "      <td>0</td>\n",
       "      <td>0</td>\n",
       "      <td>0</td>\n",
       "      <td>1</td>\n",
       "      <td>0</td>\n",
       "      <td>0</td>\n",
       "      <td>0</td>\n",
       "      <td>0</td>\n",
       "      <td>0</td>\n",
       "      <td>0</td>\n",
       "      <td>0</td>\n",
       "      <td>0</td>\n",
       "      <td>0</td>\n",
       "    </tr>\n",
       "    <tr>\n",
       "      <th>5</th>\n",
       "      <td>650</td>\n",
       "      <td>1995</td>\n",
       "      <td>102</td>\n",
       "      <td>150000</td>\n",
       "      <td>0</td>\n",
       "      <td>0</td>\n",
       "      <td>0</td>\n",
       "      <td>1</td>\n",
       "      <td>0</td>\n",
       "      <td>0</td>\n",
       "      <td>0</td>\n",
       "      <td>1</td>\n",
       "      <td>0</td>\n",
       "      <td>0</td>\n",
       "      <td>0</td>\n",
       "      <td>0</td>\n",
       "      <td>0</td>\n",
       "      <td>0</td>\n",
       "      <td>0</td>\n",
       "      <td>0</td>\n",
       "      <td>0</td>\n",
       "      <td>0</td>\n",
       "      <td>1</td>\n",
       "      <td>0</td>\n",
       "      <td>0</td>\n",
       "      <td>0</td>\n",
       "      <td>0</td>\n",
       "      <td>0</td>\n",
       "      <td>0</td>\n",
       "      <td>0</td>\n",
       "      <td>0</td>\n",
       "      <td>0</td>\n",
       "      <td>0</td>\n",
       "      <td>0</td>\n",
       "      <td>0</td>\n",
       "      <td>0</td>\n",
       "      <td>0</td>\n",
       "      <td>0</td>\n",
       "      <td>0</td>\n",
       "      <td>0</td>\n",
       "      <td>...</td>\n",
       "      <td>0</td>\n",
       "      <td>1</td>\n",
       "      <td>0</td>\n",
       "      <td>0</td>\n",
       "      <td>0</td>\n",
       "      <td>0</td>\n",
       "      <td>0</td>\n",
       "      <td>0</td>\n",
       "      <td>0</td>\n",
       "      <td>0</td>\n",
       "      <td>0</td>\n",
       "      <td>0</td>\n",
       "      <td>0</td>\n",
       "      <td>0</td>\n",
       "      <td>0</td>\n",
       "      <td>0</td>\n",
       "      <td>0</td>\n",
       "      <td>0</td>\n",
       "      <td>0</td>\n",
       "      <td>0</td>\n",
       "      <td>0</td>\n",
       "      <td>0</td>\n",
       "      <td>0</td>\n",
       "      <td>0</td>\n",
       "      <td>0</td>\n",
       "      <td>0</td>\n",
       "      <td>0</td>\n",
       "      <td>0</td>\n",
       "      <td>0</td>\n",
       "      <td>0</td>\n",
       "      <td>0</td>\n",
       "      <td>0</td>\n",
       "      <td>0</td>\n",
       "      <td>0</td>\n",
       "      <td>0</td>\n",
       "      <td>0</td>\n",
       "      <td>0</td>\n",
       "      <td>0</td>\n",
       "      <td>0</td>\n",
       "      <td>1</td>\n",
       "    </tr>\n",
       "    <tr>\n",
       "      <th>6</th>\n",
       "      <td>2200</td>\n",
       "      <td>2004</td>\n",
       "      <td>109</td>\n",
       "      <td>150000</td>\n",
       "      <td>1</td>\n",
       "      <td>0</td>\n",
       "      <td>0</td>\n",
       "      <td>0</td>\n",
       "      <td>0</td>\n",
       "      <td>0</td>\n",
       "      <td>0</td>\n",
       "      <td>1</td>\n",
       "      <td>0</td>\n",
       "      <td>0</td>\n",
       "      <td>0</td>\n",
       "      <td>0</td>\n",
       "      <td>0</td>\n",
       "      <td>0</td>\n",
       "      <td>0</td>\n",
       "      <td>1</td>\n",
       "      <td>0</td>\n",
       "      <td>0</td>\n",
       "      <td>0</td>\n",
       "      <td>0</td>\n",
       "      <td>0</td>\n",
       "      <td>0</td>\n",
       "      <td>0</td>\n",
       "      <td>0</td>\n",
       "      <td>0</td>\n",
       "      <td>0</td>\n",
       "      <td>0</td>\n",
       "      <td>0</td>\n",
       "      <td>0</td>\n",
       "      <td>0</td>\n",
       "      <td>0</td>\n",
       "      <td>0</td>\n",
       "      <td>0</td>\n",
       "      <td>0</td>\n",
       "      <td>0</td>\n",
       "      <td>0</td>\n",
       "      <td>...</td>\n",
       "      <td>0</td>\n",
       "      <td>0</td>\n",
       "      <td>0</td>\n",
       "      <td>0</td>\n",
       "      <td>0</td>\n",
       "      <td>0</td>\n",
       "      <td>0</td>\n",
       "      <td>0</td>\n",
       "      <td>0</td>\n",
       "      <td>0</td>\n",
       "      <td>0</td>\n",
       "      <td>0</td>\n",
       "      <td>0</td>\n",
       "      <td>0</td>\n",
       "      <td>0</td>\n",
       "      <td>0</td>\n",
       "      <td>0</td>\n",
       "      <td>0</td>\n",
       "      <td>0</td>\n",
       "      <td>0</td>\n",
       "      <td>0</td>\n",
       "      <td>0</td>\n",
       "      <td>0</td>\n",
       "      <td>0</td>\n",
       "      <td>1</td>\n",
       "      <td>0</td>\n",
       "      <td>0</td>\n",
       "      <td>0</td>\n",
       "      <td>0</td>\n",
       "      <td>0</td>\n",
       "      <td>0</td>\n",
       "      <td>0</td>\n",
       "      <td>0</td>\n",
       "      <td>0</td>\n",
       "      <td>0</td>\n",
       "      <td>0</td>\n",
       "      <td>0</td>\n",
       "      <td>0</td>\n",
       "      <td>0</td>\n",
       "      <td>0</td>\n",
       "    </tr>\n",
       "    <tr>\n",
       "      <th>...</th>\n",
       "      <td>...</td>\n",
       "      <td>...</td>\n",
       "      <td>...</td>\n",
       "      <td>...</td>\n",
       "      <td>...</td>\n",
       "      <td>...</td>\n",
       "      <td>...</td>\n",
       "      <td>...</td>\n",
       "      <td>...</td>\n",
       "      <td>...</td>\n",
       "      <td>...</td>\n",
       "      <td>...</td>\n",
       "      <td>...</td>\n",
       "      <td>...</td>\n",
       "      <td>...</td>\n",
       "      <td>...</td>\n",
       "      <td>...</td>\n",
       "      <td>...</td>\n",
       "      <td>...</td>\n",
       "      <td>...</td>\n",
       "      <td>...</td>\n",
       "      <td>...</td>\n",
       "      <td>...</td>\n",
       "      <td>...</td>\n",
       "      <td>...</td>\n",
       "      <td>...</td>\n",
       "      <td>...</td>\n",
       "      <td>...</td>\n",
       "      <td>...</td>\n",
       "      <td>...</td>\n",
       "      <td>...</td>\n",
       "      <td>...</td>\n",
       "      <td>...</td>\n",
       "      <td>...</td>\n",
       "      <td>...</td>\n",
       "      <td>...</td>\n",
       "      <td>...</td>\n",
       "      <td>...</td>\n",
       "      <td>...</td>\n",
       "      <td>...</td>\n",
       "      <td>...</td>\n",
       "      <td>...</td>\n",
       "      <td>...</td>\n",
       "      <td>...</td>\n",
       "      <td>...</td>\n",
       "      <td>...</td>\n",
       "      <td>...</td>\n",
       "      <td>...</td>\n",
       "      <td>...</td>\n",
       "      <td>...</td>\n",
       "      <td>...</td>\n",
       "      <td>...</td>\n",
       "      <td>...</td>\n",
       "      <td>...</td>\n",
       "      <td>...</td>\n",
       "      <td>...</td>\n",
       "      <td>...</td>\n",
       "      <td>...</td>\n",
       "      <td>...</td>\n",
       "      <td>...</td>\n",
       "      <td>...</td>\n",
       "      <td>...</td>\n",
       "      <td>...</td>\n",
       "      <td>...</td>\n",
       "      <td>...</td>\n",
       "      <td>...</td>\n",
       "      <td>...</td>\n",
       "      <td>...</td>\n",
       "      <td>...</td>\n",
       "      <td>...</td>\n",
       "      <td>...</td>\n",
       "      <td>...</td>\n",
       "      <td>...</td>\n",
       "      <td>...</td>\n",
       "      <td>...</td>\n",
       "      <td>...</td>\n",
       "      <td>...</td>\n",
       "      <td>...</td>\n",
       "      <td>...</td>\n",
       "      <td>...</td>\n",
       "      <td>...</td>\n",
       "    </tr>\n",
       "    <tr>\n",
       "      <th>354361</th>\n",
       "      <td>5250</td>\n",
       "      <td>2016</td>\n",
       "      <td>150</td>\n",
       "      <td>150000</td>\n",
       "      <td>0</td>\n",
       "      <td>0</td>\n",
       "      <td>0</td>\n",
       "      <td>0</td>\n",
       "      <td>0</td>\n",
       "      <td>0</td>\n",
       "      <td>0</td>\n",
       "      <td>0</td>\n",
       "      <td>0</td>\n",
       "      <td>0</td>\n",
       "      <td>0</td>\n",
       "      <td>1</td>\n",
       "      <td>0</td>\n",
       "      <td>0</td>\n",
       "      <td>0</td>\n",
       "      <td>0</td>\n",
       "      <td>0</td>\n",
       "      <td>0</td>\n",
       "      <td>0</td>\n",
       "      <td>0</td>\n",
       "      <td>0</td>\n",
       "      <td>0</td>\n",
       "      <td>0</td>\n",
       "      <td>0</td>\n",
       "      <td>0</td>\n",
       "      <td>0</td>\n",
       "      <td>0</td>\n",
       "      <td>0</td>\n",
       "      <td>0</td>\n",
       "      <td>0</td>\n",
       "      <td>0</td>\n",
       "      <td>0</td>\n",
       "      <td>0</td>\n",
       "      <td>0</td>\n",
       "      <td>0</td>\n",
       "      <td>0</td>\n",
       "      <td>...</td>\n",
       "      <td>0</td>\n",
       "      <td>0</td>\n",
       "      <td>0</td>\n",
       "      <td>0</td>\n",
       "      <td>0</td>\n",
       "      <td>0</td>\n",
       "      <td>0</td>\n",
       "      <td>0</td>\n",
       "      <td>0</td>\n",
       "      <td>0</td>\n",
       "      <td>0</td>\n",
       "      <td>0</td>\n",
       "      <td>0</td>\n",
       "      <td>0</td>\n",
       "      <td>0</td>\n",
       "      <td>0</td>\n",
       "      <td>0</td>\n",
       "      <td>0</td>\n",
       "      <td>0</td>\n",
       "      <td>0</td>\n",
       "      <td>0</td>\n",
       "      <td>0</td>\n",
       "      <td>0</td>\n",
       "      <td>0</td>\n",
       "      <td>0</td>\n",
       "      <td>0</td>\n",
       "      <td>0</td>\n",
       "      <td>0</td>\n",
       "      <td>0</td>\n",
       "      <td>0</td>\n",
       "      <td>0</td>\n",
       "      <td>0</td>\n",
       "      <td>0</td>\n",
       "      <td>0</td>\n",
       "      <td>0</td>\n",
       "      <td>0</td>\n",
       "      <td>0</td>\n",
       "      <td>0</td>\n",
       "      <td>0</td>\n",
       "      <td>0</td>\n",
       "    </tr>\n",
       "    <tr>\n",
       "      <th>354362</th>\n",
       "      <td>3200</td>\n",
       "      <td>2004</td>\n",
       "      <td>225</td>\n",
       "      <td>150000</td>\n",
       "      <td>0</td>\n",
       "      <td>0</td>\n",
       "      <td>0</td>\n",
       "      <td>1</td>\n",
       "      <td>0</td>\n",
       "      <td>0</td>\n",
       "      <td>0</td>\n",
       "      <td>1</td>\n",
       "      <td>0</td>\n",
       "      <td>0</td>\n",
       "      <td>0</td>\n",
       "      <td>0</td>\n",
       "      <td>0</td>\n",
       "      <td>0</td>\n",
       "      <td>0</td>\n",
       "      <td>0</td>\n",
       "      <td>0</td>\n",
       "      <td>0</td>\n",
       "      <td>0</td>\n",
       "      <td>0</td>\n",
       "      <td>0</td>\n",
       "      <td>0</td>\n",
       "      <td>0</td>\n",
       "      <td>0</td>\n",
       "      <td>0</td>\n",
       "      <td>0</td>\n",
       "      <td>0</td>\n",
       "      <td>0</td>\n",
       "      <td>0</td>\n",
       "      <td>0</td>\n",
       "      <td>0</td>\n",
       "      <td>0</td>\n",
       "      <td>0</td>\n",
       "      <td>0</td>\n",
       "      <td>0</td>\n",
       "      <td>0</td>\n",
       "      <td>...</td>\n",
       "      <td>0</td>\n",
       "      <td>0</td>\n",
       "      <td>0</td>\n",
       "      <td>0</td>\n",
       "      <td>0</td>\n",
       "      <td>0</td>\n",
       "      <td>0</td>\n",
       "      <td>0</td>\n",
       "      <td>0</td>\n",
       "      <td>0</td>\n",
       "      <td>0</td>\n",
       "      <td>0</td>\n",
       "      <td>0</td>\n",
       "      <td>0</td>\n",
       "      <td>0</td>\n",
       "      <td>0</td>\n",
       "      <td>0</td>\n",
       "      <td>0</td>\n",
       "      <td>0</td>\n",
       "      <td>0</td>\n",
       "      <td>0</td>\n",
       "      <td>0</td>\n",
       "      <td>0</td>\n",
       "      <td>0</td>\n",
       "      <td>0</td>\n",
       "      <td>0</td>\n",
       "      <td>0</td>\n",
       "      <td>0</td>\n",
       "      <td>0</td>\n",
       "      <td>1</td>\n",
       "      <td>0</td>\n",
       "      <td>0</td>\n",
       "      <td>0</td>\n",
       "      <td>0</td>\n",
       "      <td>0</td>\n",
       "      <td>0</td>\n",
       "      <td>0</td>\n",
       "      <td>0</td>\n",
       "      <td>0</td>\n",
       "      <td>1</td>\n",
       "    </tr>\n",
       "    <tr>\n",
       "      <th>354366</th>\n",
       "      <td>1199</td>\n",
       "      <td>2000</td>\n",
       "      <td>101</td>\n",
       "      <td>125000</td>\n",
       "      <td>1</td>\n",
       "      <td>0</td>\n",
       "      <td>0</td>\n",
       "      <td>0</td>\n",
       "      <td>0</td>\n",
       "      <td>0</td>\n",
       "      <td>0</td>\n",
       "      <td>0</td>\n",
       "      <td>0</td>\n",
       "      <td>0</td>\n",
       "      <td>0</td>\n",
       "      <td>0</td>\n",
       "      <td>0</td>\n",
       "      <td>0</td>\n",
       "      <td>0</td>\n",
       "      <td>0</td>\n",
       "      <td>0</td>\n",
       "      <td>0</td>\n",
       "      <td>0</td>\n",
       "      <td>0</td>\n",
       "      <td>0</td>\n",
       "      <td>0</td>\n",
       "      <td>0</td>\n",
       "      <td>0</td>\n",
       "      <td>0</td>\n",
       "      <td>0</td>\n",
       "      <td>0</td>\n",
       "      <td>0</td>\n",
       "      <td>0</td>\n",
       "      <td>0</td>\n",
       "      <td>0</td>\n",
       "      <td>0</td>\n",
       "      <td>0</td>\n",
       "      <td>0</td>\n",
       "      <td>0</td>\n",
       "      <td>0</td>\n",
       "      <td>...</td>\n",
       "      <td>0</td>\n",
       "      <td>0</td>\n",
       "      <td>0</td>\n",
       "      <td>0</td>\n",
       "      <td>0</td>\n",
       "      <td>0</td>\n",
       "      <td>0</td>\n",
       "      <td>0</td>\n",
       "      <td>0</td>\n",
       "      <td>0</td>\n",
       "      <td>0</td>\n",
       "      <td>0</td>\n",
       "      <td>0</td>\n",
       "      <td>0</td>\n",
       "      <td>0</td>\n",
       "      <td>0</td>\n",
       "      <td>0</td>\n",
       "      <td>0</td>\n",
       "      <td>0</td>\n",
       "      <td>0</td>\n",
       "      <td>0</td>\n",
       "      <td>0</td>\n",
       "      <td>0</td>\n",
       "      <td>0</td>\n",
       "      <td>0</td>\n",
       "      <td>0</td>\n",
       "      <td>0</td>\n",
       "      <td>0</td>\n",
       "      <td>0</td>\n",
       "      <td>0</td>\n",
       "      <td>0</td>\n",
       "      <td>1</td>\n",
       "      <td>0</td>\n",
       "      <td>0</td>\n",
       "      <td>0</td>\n",
       "      <td>0</td>\n",
       "      <td>0</td>\n",
       "      <td>0</td>\n",
       "      <td>0</td>\n",
       "      <td>0</td>\n",
       "    </tr>\n",
       "    <tr>\n",
       "      <th>354367</th>\n",
       "      <td>9200</td>\n",
       "      <td>1996</td>\n",
       "      <td>102</td>\n",
       "      <td>150000</td>\n",
       "      <td>0</td>\n",
       "      <td>0</td>\n",
       "      <td>0</td>\n",
       "      <td>0</td>\n",
       "      <td>0</td>\n",
       "      <td>0</td>\n",
       "      <td>0</td>\n",
       "      <td>1</td>\n",
       "      <td>0</td>\n",
       "      <td>0</td>\n",
       "      <td>0</td>\n",
       "      <td>0</td>\n",
       "      <td>0</td>\n",
       "      <td>0</td>\n",
       "      <td>0</td>\n",
       "      <td>0</td>\n",
       "      <td>0</td>\n",
       "      <td>0</td>\n",
       "      <td>0</td>\n",
       "      <td>0</td>\n",
       "      <td>0</td>\n",
       "      <td>0</td>\n",
       "      <td>0</td>\n",
       "      <td>0</td>\n",
       "      <td>0</td>\n",
       "      <td>0</td>\n",
       "      <td>0</td>\n",
       "      <td>0</td>\n",
       "      <td>0</td>\n",
       "      <td>0</td>\n",
       "      <td>0</td>\n",
       "      <td>0</td>\n",
       "      <td>0</td>\n",
       "      <td>0</td>\n",
       "      <td>0</td>\n",
       "      <td>0</td>\n",
       "      <td>...</td>\n",
       "      <td>0</td>\n",
       "      <td>0</td>\n",
       "      <td>0</td>\n",
       "      <td>0</td>\n",
       "      <td>0</td>\n",
       "      <td>0</td>\n",
       "      <td>0</td>\n",
       "      <td>0</td>\n",
       "      <td>0</td>\n",
       "      <td>0</td>\n",
       "      <td>0</td>\n",
       "      <td>0</td>\n",
       "      <td>0</td>\n",
       "      <td>0</td>\n",
       "      <td>0</td>\n",
       "      <td>0</td>\n",
       "      <td>0</td>\n",
       "      <td>0</td>\n",
       "      <td>0</td>\n",
       "      <td>0</td>\n",
       "      <td>0</td>\n",
       "      <td>0</td>\n",
       "      <td>0</td>\n",
       "      <td>0</td>\n",
       "      <td>0</td>\n",
       "      <td>0</td>\n",
       "      <td>0</td>\n",
       "      <td>0</td>\n",
       "      <td>0</td>\n",
       "      <td>0</td>\n",
       "      <td>0</td>\n",
       "      <td>0</td>\n",
       "      <td>0</td>\n",
       "      <td>0</td>\n",
       "      <td>0</td>\n",
       "      <td>0</td>\n",
       "      <td>0</td>\n",
       "      <td>1</td>\n",
       "      <td>0</td>\n",
       "      <td>0</td>\n",
       "    </tr>\n",
       "    <tr>\n",
       "      <th>354368</th>\n",
       "      <td>3400</td>\n",
       "      <td>2002</td>\n",
       "      <td>100</td>\n",
       "      <td>150000</td>\n",
       "      <td>0</td>\n",
       "      <td>0</td>\n",
       "      <td>0</td>\n",
       "      <td>0</td>\n",
       "      <td>0</td>\n",
       "      <td>0</td>\n",
       "      <td>1</td>\n",
       "      <td>1</td>\n",
       "      <td>0</td>\n",
       "      <td>0</td>\n",
       "      <td>0</td>\n",
       "      <td>0</td>\n",
       "      <td>0</td>\n",
       "      <td>0</td>\n",
       "      <td>0</td>\n",
       "      <td>0</td>\n",
       "      <td>0</td>\n",
       "      <td>0</td>\n",
       "      <td>0</td>\n",
       "      <td>0</td>\n",
       "      <td>0</td>\n",
       "      <td>0</td>\n",
       "      <td>0</td>\n",
       "      <td>0</td>\n",
       "      <td>0</td>\n",
       "      <td>0</td>\n",
       "      <td>0</td>\n",
       "      <td>0</td>\n",
       "      <td>0</td>\n",
       "      <td>0</td>\n",
       "      <td>0</td>\n",
       "      <td>0</td>\n",
       "      <td>0</td>\n",
       "      <td>0</td>\n",
       "      <td>0</td>\n",
       "      <td>0</td>\n",
       "      <td>...</td>\n",
       "      <td>0</td>\n",
       "      <td>0</td>\n",
       "      <td>0</td>\n",
       "      <td>0</td>\n",
       "      <td>0</td>\n",
       "      <td>0</td>\n",
       "      <td>0</td>\n",
       "      <td>0</td>\n",
       "      <td>0</td>\n",
       "      <td>0</td>\n",
       "      <td>0</td>\n",
       "      <td>0</td>\n",
       "      <td>0</td>\n",
       "      <td>0</td>\n",
       "      <td>0</td>\n",
       "      <td>0</td>\n",
       "      <td>0</td>\n",
       "      <td>0</td>\n",
       "      <td>0</td>\n",
       "      <td>0</td>\n",
       "      <td>0</td>\n",
       "      <td>0</td>\n",
       "      <td>0</td>\n",
       "      <td>0</td>\n",
       "      <td>0</td>\n",
       "      <td>0</td>\n",
       "      <td>0</td>\n",
       "      <td>0</td>\n",
       "      <td>0</td>\n",
       "      <td>0</td>\n",
       "      <td>0</td>\n",
       "      <td>0</td>\n",
       "      <td>0</td>\n",
       "      <td>0</td>\n",
       "      <td>0</td>\n",
       "      <td>0</td>\n",
       "      <td>0</td>\n",
       "      <td>1</td>\n",
       "      <td>0</td>\n",
       "      <td>0</td>\n",
       "    </tr>\n",
       "  </tbody>\n",
       "</table>\n",
       "<p>264630 rows × 303 columns</p>\n",
       "</div>\n",
       "      <button class=\"colab-df-convert\" onclick=\"convertToInteractive('df-b2a18ef5-3a48-43ac-b2ed-28c6376eec08')\"\n",
       "              title=\"Convert this dataframe to an interactive table.\"\n",
       "              style=\"display:none;\">\n",
       "        \n",
       "  <svg xmlns=\"http://www.w3.org/2000/svg\" height=\"24px\"viewBox=\"0 0 24 24\"\n",
       "       width=\"24px\">\n",
       "    <path d=\"M0 0h24v24H0V0z\" fill=\"none\"/>\n",
       "    <path d=\"M18.56 5.44l.94 2.06.94-2.06 2.06-.94-2.06-.94-.94-2.06-.94 2.06-2.06.94zm-11 1L8.5 8.5l.94-2.06 2.06-.94-2.06-.94L8.5 2.5l-.94 2.06-2.06.94zm10 10l.94 2.06.94-2.06 2.06-.94-2.06-.94-.94-2.06-.94 2.06-2.06.94z\"/><path d=\"M17.41 7.96l-1.37-1.37c-.4-.4-.92-.59-1.43-.59-.52 0-1.04.2-1.43.59L10.3 9.45l-7.72 7.72c-.78.78-.78 2.05 0 2.83L4 21.41c.39.39.9.59 1.41.59.51 0 1.02-.2 1.41-.59l7.78-7.78 2.81-2.81c.8-.78.8-2.07 0-2.86zM5.41 20L4 18.59l7.72-7.72 1.47 1.35L5.41 20z\"/>\n",
       "  </svg>\n",
       "      </button>\n",
       "      \n",
       "  <style>\n",
       "    .colab-df-container {\n",
       "      display:flex;\n",
       "      flex-wrap:wrap;\n",
       "      gap: 12px;\n",
       "    }\n",
       "\n",
       "    .colab-df-convert {\n",
       "      background-color: #E8F0FE;\n",
       "      border: none;\n",
       "      border-radius: 50%;\n",
       "      cursor: pointer;\n",
       "      display: none;\n",
       "      fill: #1967D2;\n",
       "      height: 32px;\n",
       "      padding: 0 0 0 0;\n",
       "      width: 32px;\n",
       "    }\n",
       "\n",
       "    .colab-df-convert:hover {\n",
       "      background-color: #E2EBFA;\n",
       "      box-shadow: 0px 1px 2px rgba(60, 64, 67, 0.3), 0px 1px 3px 1px rgba(60, 64, 67, 0.15);\n",
       "      fill: #174EA6;\n",
       "    }\n",
       "\n",
       "    [theme=dark] .colab-df-convert {\n",
       "      background-color: #3B4455;\n",
       "      fill: #D2E3FC;\n",
       "    }\n",
       "\n",
       "    [theme=dark] .colab-df-convert:hover {\n",
       "      background-color: #434B5C;\n",
       "      box-shadow: 0px 1px 3px 1px rgba(0, 0, 0, 0.15);\n",
       "      filter: drop-shadow(0px 1px 2px rgba(0, 0, 0, 0.3));\n",
       "      fill: #FFFFFF;\n",
       "    }\n",
       "  </style>\n",
       "\n",
       "      <script>\n",
       "        const buttonEl =\n",
       "          document.querySelector('#df-b2a18ef5-3a48-43ac-b2ed-28c6376eec08 button.colab-df-convert');\n",
       "        buttonEl.style.display =\n",
       "          google.colab.kernel.accessAllowed ? 'block' : 'none';\n",
       "\n",
       "        async function convertToInteractive(key) {\n",
       "          const element = document.querySelector('#df-b2a18ef5-3a48-43ac-b2ed-28c6376eec08');\n",
       "          const dataTable =\n",
       "            await google.colab.kernel.invokeFunction('convertToInteractive',\n",
       "                                                     [key], {});\n",
       "          if (!dataTable) return;\n",
       "\n",
       "          const docLinkHtml = 'Like what you see? Visit the ' +\n",
       "            '<a target=\"_blank\" href=https://colab.research.google.com/notebooks/data_table.ipynb>data table notebook</a>'\n",
       "            + ' to learn more about interactive tables.';\n",
       "          element.innerHTML = '';\n",
       "          dataTable['output_type'] = 'display_data';\n",
       "          await google.colab.output.renderOutput(dataTable, element);\n",
       "          const docLink = document.createElement('div');\n",
       "          docLink.innerHTML = docLinkHtml;\n",
       "          element.appendChild(docLink);\n",
       "        }\n",
       "      </script>\n",
       "    </div>\n",
       "  </div>\n",
       "  "
      ],
      "text/plain": [
       "        price  registration_year  ...  brand_volvo  not_repaired_yes\n",
       "2        9800               2004  ...            0                 0\n",
       "3        1500               2001  ...            0                 0\n",
       "4        3600               2008  ...            0                 0\n",
       "5         650               1995  ...            0                 1\n",
       "6        2200               2004  ...            0                 0\n",
       "...       ...                ...  ...          ...               ...\n",
       "354361   5250               2016  ...            0                 0\n",
       "354362   3200               2004  ...            0                 1\n",
       "354366   1199               2000  ...            0                 0\n",
       "354367   9200               1996  ...            0                 0\n",
       "354368   3400               2002  ...            0                 0\n",
       "\n",
       "[264630 rows x 303 columns]"
      ]
     },
     "execution_count": 27,
     "metadata": {},
     "output_type": "execute_result"
    }
   ],
   "source": [
    "df_ohe = pd.get_dummies(df, drop_first=True)\n",
    "df_ohe"
   ]
  },
  {
   "cell_type": "code",
   "execution_count": 28,
   "metadata": {
    "id": "zRGwC1irw9MQ"
   },
   "outputs": [],
   "source": [
    "features = df_ohe.drop('price', axis = 1)\n",
    "target = df_ohe['price']\n",
    "features_train, features_test, target_train, target_test = train_test_split(features, target, test_size=0.25, random_state=29)"
   ]
  },
  {
   "cell_type": "code",
   "execution_count": 29,
   "metadata": {
    "colab": {
     "base_uri": "https://localhost:8080/"
    },
    "id": "wg5_0XQjw9MQ",
    "outputId": "dac4e916-870d-473c-fad8-5df965dbeba7"
   },
   "outputs": [
    {
     "name": "stdout",
     "output_type": "stream",
     "text": [
      "(198472, 302) (66158, 302) (198472,) (66158,)\n"
     ]
    }
   ],
   "source": [
    "print(features_train.shape, features_test.shape, target_train.shape, target_test.shape)"
   ]
  },
  {
   "cell_type": "markdown",
   "metadata": {
    "id": "4qLjGXnew9MQ"
   },
   "source": [
    "Во избежание влияния дисбаланса классов уравновесим их с помощью метода StandardScaler"
   ]
  },
  {
   "cell_type": "code",
   "execution_count": 30,
   "metadata": {
    "id": "Ak0OQBh0w9MQ"
   },
   "outputs": [],
   "source": [
    "scaler = StandardScaler()\n",
    "scaler.fit(features_train[['power', 'kilometer']])\n",
    "features_train[['power', 'kilometer']] = scaler.transform(features_train[['power', 'kilometer']])\n",
    "features_test[['power', 'kilometer']] = scaler.transform(features_test[['power', 'kilometer']])"
   ]
  },
  {
   "cell_type": "markdown",
   "metadata": {
    "id": "AM5Wj-T7w9MQ"
   },
   "source": [
    "## Обучение моделей"
   ]
  },
  {
   "cell_type": "markdown",
   "metadata": {
    "id": "dFke8i-Hw9MR"
   },
   "source": [
    "Для оценки наших моделей будем использовать метрику RMSE(среднеквадратичное отклонение)."
   ]
  },
  {
   "cell_type": "code",
   "execution_count": 31,
   "metadata": {
    "id": "GqEh3Vj0w9MR"
   },
   "outputs": [],
   "source": [
    "def RMSE(target, predict):\n",
    "    return mean_squared_error(target,predict)**0.5"
   ]
  },
  {
   "cell_type": "code",
   "execution_count": 32,
   "metadata": {
    "id": "GrR0937Pw9MR"
   },
   "outputs": [],
   "source": [
    "score = make_scorer(RMSE, greater_is_better=False)"
   ]
  },
  {
   "cell_type": "markdown",
   "metadata": {
    "id": "0Yp4NRfew9MR"
   },
   "source": [
    "Чтобы улучшить работу моделей, применик кросс-валидацию, а именно воспользуемся методом ShuffleSplit. Будем делить данные на 5 подвыборок."
   ]
  },
  {
   "cell_type": "code",
   "execution_count": 33,
   "metadata": {
    "id": "11Em7-SAw9MR"
   },
   "outputs": [],
   "source": [
    "cross_val = ShuffleSplit(n_splits=5, test_size=0.25, random_state=29)"
   ]
  },
  {
   "cell_type": "markdown",
   "metadata": {
    "id": "Wce3nSJCw9MR"
   },
   "source": [
    "### Линейная регрессия"
   ]
  },
  {
   "cell_type": "markdown",
   "metadata": {
    "id": "DisfhydYw9MR"
   },
   "source": [
    "Для начала используем простую модель линейной регресси и посмотрим на ее результаты"
   ]
  },
  {
   "cell_type": "code",
   "execution_count": 34,
   "metadata": {
    "id": "LZUP3oqew9MR"
   },
   "outputs": [],
   "source": [
    "LinearReg_model = LinearRegression()"
   ]
  },
  {
   "cell_type": "code",
   "execution_count": 35,
   "metadata": {
    "colab": {
     "base_uri": "https://localhost:8080/"
    },
    "id": "0c755Lefw9MR",
    "outputId": "2dc26f03-21df-4e6f-cb6c-80b5c00073b9"
   },
   "outputs": [
    {
     "name": "stdout",
     "output_type": "stream",
     "text": [
      "CPU times: user 11.6 s, sys: 910 ms, total: 12.5 s\n",
      "Wall time: 6.93 s\n"
     ]
    },
    {
     "data": {
      "text/plain": [
       "LinearRegression()"
      ]
     },
     "execution_count": 35,
     "metadata": {},
     "output_type": "execute_result"
    }
   ],
   "source": [
    "%%time\n",
    "LinearReg_model.fit(features_train, target_train)"
   ]
  },
  {
   "cell_type": "code",
   "execution_count": 36,
   "metadata": {
    "colab": {
     "base_uri": "https://localhost:8080/"
    },
    "id": "OUyPBS5sw9MS",
    "outputId": "71ea5875-a517-4b68-e460-ad2d2893e93a"
   },
   "outputs": [
    {
     "name": "stdout",
     "output_type": "stream",
     "text": [
      "CPU times: user 107 ms, sys: 48.8 ms, total: 155 ms\n",
      "Wall time: 99.7 ms\n"
     ]
    }
   ],
   "source": [
    "%%time\n",
    "LinReg_predictions = LinearReg_model.predict(features_test)"
   ]
  },
  {
   "cell_type": "code",
   "execution_count": 37,
   "metadata": {
    "colab": {
     "base_uri": "https://localhost:8080/"
    },
    "id": "-cFpjYv4w9MS",
    "outputId": "111aa071-4d18-44d1-c582-d45783648c2f"
   },
   "outputs": [
    {
     "name": "stdout",
     "output_type": "stream",
     "text": [
      "RMSE:  2077.52\n"
     ]
    }
   ],
   "source": [
    "print('RMSE: ', RMSE(target_test, LinReg_predictions).round(2))"
   ]
  },
  {
   "cell_type": "markdown",
   "metadata": {
    "id": "AP-YEnAmw9MS"
   },
   "source": [
    "Модель линейной регресси работает очень быстро, качество предсказания неплохое, проверим насколько можно уменьшить метрику используя градиентный бустинг"
   ]
  },
  {
   "cell_type": "markdown",
   "metadata": {
    "id": "hftCkEPjw9MS"
   },
   "source": [
    "### Catboost"
   ]
  },
  {
   "cell_type": "code",
   "execution_count": 38,
   "metadata": {
    "id": "vk7JhFlGw9MS"
   },
   "outputs": [],
   "source": [
    "CBRegressor_model = CatBoostRegressor(verbose = 10, random_seed = 29)"
   ]
  },
  {
   "cell_type": "code",
   "execution_count": 39,
   "metadata": {
    "id": "ezWnICiuw9MS"
   },
   "outputs": [],
   "source": [
    "param_grid = {'iterations': [10, 50], 'max_depth': [5, 15]}"
   ]
  },
  {
   "cell_type": "code",
   "execution_count": 40,
   "metadata": {
    "id": "7xTvDEzpw9MT"
   },
   "outputs": [],
   "source": [
    "grid_cv = GridSearchCV(CBRegressor_model, param_grid, scoring=score, cv=cross_val)"
   ]
  },
  {
   "cell_type": "code",
   "execution_count": 41,
   "metadata": {
    "colab": {
     "base_uri": "https://localhost:8080/"
    },
    "id": "P6jnct3Fw9MU",
    "outputId": "59614f35-a0dc-4a64-e8f7-9c377415c2a3"
   },
   "outputs": [
    {
     "name": "stdout",
     "output_type": "stream",
     "text": [
      "CPU times: user 4min 52s, sys: 1min 23s, total: 6min 16s\n",
      "Wall time: 3min 29s\n"
     ]
    },
    {
     "data": {
      "text/plain": [
       "GridSearchCV(cv=ShuffleSplit(n_splits=5, random_state=29, test_size=0.25, train_size=None),\n",
       "             estimator=<catboost.core.CatBoostRegressor object at 0x7fe1727248d0>,\n",
       "             param_grid={'iterations': [10, 50], 'max_depth': [5, 15]},\n",
       "             scoring=make_scorer(RMSE, greater_is_better=False))"
      ]
     },
     "execution_count": 41,
     "metadata": {},
     "output_type": "execute_result"
    }
   ],
   "source": [
    "%%time\n",
    "grid_cv.fit(features_train, target_train, verbose=False)"
   ]
  },
  {
   "cell_type": "code",
   "execution_count": 42,
   "metadata": {
    "colab": {
     "base_uri": "https://localhost:8080/"
    },
    "id": "v8k5ihFow9MV",
    "outputId": "ec4a586d-7472-41f8-aa71-dd5917b6fd15"
   },
   "outputs": [
    {
     "name": "stdout",
     "output_type": "stream",
     "text": [
      "-1330.7729336821687\n",
      "{'iterations': 50, 'max_depth': 15}\n"
     ]
    }
   ],
   "source": [
    "print(grid_cv.best_score_)\n",
    "print(grid_cv.best_params_)"
   ]
  },
  {
   "cell_type": "code",
   "execution_count": 43,
   "metadata": {
    "id": "LVl5S7eZw9MV",
    "scrolled": true
   },
   "outputs": [],
   "source": [
    "CBRegressor_model = CatBoostRegressor(verbose = 10, iterations = 50, max_depth = 15)"
   ]
  },
  {
   "cell_type": "code",
   "execution_count": 44,
   "metadata": {
    "colab": {
     "base_uri": "https://localhost:8080/"
    },
    "id": "lx0D9Ra3w9MV",
    "outputId": "603a9013-79a8-4a92-ffcf-677e84e44e09"
   },
   "outputs": [
    {
     "name": "stdout",
     "output_type": "stream",
     "text": [
      "Learning rate set to 0.5\n",
      "0:\tlearn: 2477.0228839\ttotal: 549ms\tremaining: 26.9s\n",
      "10:\tlearn: 1374.2860249\ttotal: 5.66s\tremaining: 20.1s\n",
      "20:\tlearn: 1309.3882678\ttotal: 10.8s\tremaining: 14.8s\n",
      "30:\tlearn: 1267.4912261\ttotal: 15.9s\tremaining: 9.73s\n",
      "40:\tlearn: 1238.3949457\ttotal: 20.9s\tremaining: 4.6s\n",
      "49:\tlearn: 1219.5468795\ttotal: 25.5s\tremaining: 0us\n",
      "CPU times: user 37.6 s, sys: 11.8 s, total: 49.4 s\n",
      "Wall time: 26.7 s\n"
     ]
    },
    {
     "data": {
      "text/plain": [
       "<catboost.core.CatBoostRegressor at 0x7fe172776110>"
      ]
     },
     "execution_count": 44,
     "metadata": {},
     "output_type": "execute_result"
    }
   ],
   "source": [
    "%%time\n",
    "CBRegressor_model.fit(features_train, target_train)"
   ]
  },
  {
   "cell_type": "code",
   "execution_count": 45,
   "metadata": {
    "colab": {
     "base_uri": "https://localhost:8080/"
    },
    "id": "OCJ4pBuZw9MV",
    "outputId": "f038e9c9-133d-453b-c27a-cbb6d3cb8a7c"
   },
   "outputs": [
    {
     "name": "stdout",
     "output_type": "stream",
     "text": [
      "CPU times: user 122 ms, sys: 12.1 ms, total: 134 ms\n",
      "Wall time: 86.2 ms\n"
     ]
    }
   ],
   "source": [
    "%%time\n",
    "CB_predictions = CBRegressor_model.predict(features_test)"
   ]
  },
  {
   "cell_type": "code",
   "execution_count": 46,
   "metadata": {
    "colab": {
     "base_uri": "https://localhost:8080/"
    },
    "id": "96fswRc4w9MV",
    "outputId": "5fd81f96-0b4e-46e1-c4c1-dbeb52690eec"
   },
   "outputs": [
    {
     "name": "stdout",
     "output_type": "stream",
     "text": [
      "RMSE:  1313.89\n"
     ]
    }
   ],
   "source": [
    "print('RMSE: ', RMSE(target_test, CB_predictions).round(2))"
   ]
  },
  {
   "cell_type": "markdown",
   "metadata": {
    "id": "cqEtdccIw9MV"
   },
   "source": [
    "Catboost справился гораздо дольше чем линейная регресси, но и качество предсказаний гораздо выше. Посмотрим как себя проявит LGBMRegresso"
   ]
  },
  {
   "cell_type": "markdown",
   "metadata": {
    "id": "4ow3xSI4w9MV"
   },
   "source": [
    "### LGBMRegressor"
   ]
  },
  {
   "cell_type": "code",
   "execution_count": 47,
   "metadata": {
    "id": "mmOpBgz9w9MV"
   },
   "outputs": [],
   "source": [
    "LGBMRegressor_model = LGBMRegressor(random_state = 29, n_job=-1)"
   ]
  },
  {
   "cell_type": "code",
   "execution_count": 48,
   "metadata": {
    "colab": {
     "base_uri": "https://localhost:8080/"
    },
    "id": "eani_507w9MW",
    "outputId": "c6314e44-32c9-4044-fc45-f42761ce7333"
   },
   "outputs": [
    {
     "data": {
      "text/plain": [
       "LGBMRegressor(n_job=-1, random_state=29)"
      ]
     },
     "execution_count": 48,
     "metadata": {},
     "output_type": "execute_result"
    }
   ],
   "source": [
    "LGBMRegressor_model"
   ]
  },
  {
   "cell_type": "code",
   "execution_count": 49,
   "metadata": {
    "id": "Pd8a4i6uw9MW"
   },
   "outputs": [],
   "source": [
    "param_grid = {'n_estimators': [100, 1000], 'max_depth': [5, 15]}"
   ]
  },
  {
   "cell_type": "code",
   "execution_count": 50,
   "metadata": {
    "id": "GMFSksUSw9MW"
   },
   "outputs": [],
   "source": [
    "grid_cv = GridSearchCV(LGBMRegressor_model, param_grid, scoring=score, cv=cross_val)"
   ]
  },
  {
   "cell_type": "code",
   "execution_count": 51,
   "metadata": {
    "colab": {
     "base_uri": "https://localhost:8080/"
    },
    "id": "Ji0_QZ1Xw9MW",
    "outputId": "caccb956-bf40-4b61-917b-e6712bb629c4"
   },
   "outputs": [
    {
     "name": "stdout",
     "output_type": "stream",
     "text": [
      "CPU times: user 4min 9s, sys: 2.38 s, total: 4min 12s\n",
      "Wall time: 2min 18s\n"
     ]
    },
    {
     "data": {
      "text/plain": [
       "GridSearchCV(cv=ShuffleSplit(n_splits=5, random_state=29, test_size=0.25, train_size=None),\n",
       "             estimator=LGBMRegressor(n_job=-1, random_state=29),\n",
       "             param_grid={'max_depth': [5, 15], 'n_estimators': [100, 1000]},\n",
       "             scoring=make_scorer(RMSE, greater_is_better=False))"
      ]
     },
     "execution_count": 51,
     "metadata": {},
     "output_type": "execute_result"
    }
   ],
   "source": [
    "%%time\n",
    "grid_cv.fit(features_train, target_train, verbose=True)"
   ]
  },
  {
   "cell_type": "code",
   "execution_count": 52,
   "metadata": {
    "colab": {
     "base_uri": "https://localhost:8080/"
    },
    "id": "4JHKwSpVw9MW",
    "outputId": "4f96357a-58b8-4229-d615-e8b819b6596d"
   },
   "outputs": [
    {
     "name": "stdout",
     "output_type": "stream",
     "text": [
      "-1299.2691829333917\n",
      "{'max_depth': 15, 'n_estimators': 1000}\n"
     ]
    }
   ],
   "source": [
    "print(grid_cv.best_score_)\n",
    "print(grid_cv.best_params_)"
   ]
  },
  {
   "cell_type": "code",
   "execution_count": 53,
   "metadata": {
    "id": "kp1PvNNtw9MW"
   },
   "outputs": [],
   "source": [
    "LGBMRegressor_model = LGBMRegressor(random_state = 29, max_depth= 15, n_estimators= 1000, n_job=-1)"
   ]
  },
  {
   "cell_type": "code",
   "execution_count": 54,
   "metadata": {
    "colab": {
     "base_uri": "https://localhost:8080/"
    },
    "id": "m5QIWDUSw9MW",
    "outputId": "ab800ad1-2e17-49bc-caaa-f06fad1dae6e"
   },
   "outputs": [
    {
     "name": "stdout",
     "output_type": "stream",
     "text": [
      "CPU times: user 19 s, sys: 199 ms, total: 19.2 s\n",
      "Wall time: 10.1 s\n"
     ]
    },
    {
     "data": {
      "text/plain": [
       "LGBMRegressor(max_depth=15, n_estimators=1000, n_job=-1, random_state=29)"
      ]
     },
     "execution_count": 54,
     "metadata": {},
     "output_type": "execute_result"
    }
   ],
   "source": [
    "%%time\n",
    "LGBMRegressor_model.fit(features_train, target_train)"
   ]
  },
  {
   "cell_type": "code",
   "execution_count": 55,
   "metadata": {
    "colab": {
     "base_uri": "https://localhost:8080/"
    },
    "id": "ZI-206-Fw9MW",
    "outputId": "0d125087-6330-44ec-da2e-a2adf86c4b7b"
   },
   "outputs": [
    {
     "name": "stdout",
     "output_type": "stream",
     "text": [
      "CPU times: user 5.92 s, sys: 9.62 ms, total: 5.93 s\n",
      "Wall time: 3.13 s\n"
     ]
    }
   ],
   "source": [
    "%%time\n",
    "LGBM_predictions = LGBMRegressor_model.predict(features_test)"
   ]
  },
  {
   "cell_type": "code",
   "execution_count": 56,
   "metadata": {
    "colab": {
     "base_uri": "https://localhost:8080/"
    },
    "id": "z7kvU-qsw9MW",
    "outputId": "27b9167b-bcbc-4948-8833-9befb6b815d7"
   },
   "outputs": [
    {
     "name": "stdout",
     "output_type": "stream",
     "text": [
      "RMSE:  1289.67\n"
     ]
    }
   ],
   "source": [
    "print('RMSE: ', RMSE(target_test, LGBM_predictions).round(2))"
   ]
  },
  {
   "cell_type": "markdown",
   "metadata": {
    "id": "thoARcC5w9MW"
   },
   "source": [
    "## Анализ моделей"
   ]
  },
  {
   "cell_type": "markdown",
   "metadata": {
    "id": "c59gmLe6w9MX"
   },
   "source": [
    "Мы обучили 3 разные модели, сделаем выводы по полученным данным:"
   ]
  },
  {
   "cell_type": "code",
   "execution_count": 3,
   "metadata": {
    "colab": {
     "base_uri": "https://localhost:8080/",
     "height": 143
    },
    "id": "u0XrrLBww9MX",
    "outputId": "aa524394-9170-4320-b20e-0e2a9f1f7171"
   },
   "outputs": [
    {
     "data": {
      "text/html": [
       "<div>\n",
       "<style scoped>\n",
       "    .dataframe tbody tr th:only-of-type {\n",
       "        vertical-align: middle;\n",
       "    }\n",
       "\n",
       "    .dataframe tbody tr th {\n",
       "        vertical-align: top;\n",
       "    }\n",
       "\n",
       "    .dataframe thead th {\n",
       "        text-align: right;\n",
       "    }\n",
       "</style>\n",
       "<table border=\"1\" class=\"dataframe\">\n",
       "  <thead>\n",
       "    <tr style=\"text-align: right;\">\n",
       "      <th></th>\n",
       "      <th>Модель</th>\n",
       "      <th>Скорость подбора гиперпараметров</th>\n",
       "      <th>Скорость обучения</th>\n",
       "      <th>Скорость предсказания</th>\n",
       "      <th>Качество предсказания(RMSE)</th>\n",
       "    </tr>\n",
       "  </thead>\n",
       "  <tbody>\n",
       "    <tr>\n",
       "      <th>0</th>\n",
       "      <td>LinearRegression</td>\n",
       "      <td>Гиперпараметров нет</td>\n",
       "      <td>6,93 сек</td>\n",
       "      <td>99,7 мсек</td>\n",
       "      <td>2077,52</td>\n",
       "    </tr>\n",
       "    <tr>\n",
       "      <th>1</th>\n",
       "      <td>CatBoost</td>\n",
       "      <td>3 мин 29 сек</td>\n",
       "      <td>26,7 сек</td>\n",
       "      <td>86,2 мсек</td>\n",
       "      <td>1313,89</td>\n",
       "    </tr>\n",
       "    <tr>\n",
       "      <th>2</th>\n",
       "      <td>LGBMRegressor</td>\n",
       "      <td>2 мин 18 сек</td>\n",
       "      <td>10,1 сек</td>\n",
       "      <td>3,13 сек</td>\n",
       "      <td>1289,67</td>\n",
       "    </tr>\n",
       "  </tbody>\n",
       "</table>\n",
       "</div>"
      ],
      "text/plain": [
       "             Модель Скорость подбора гиперпараметров Скорость обучения  \\\n",
       "0  LinearRegression              Гиперпараметров нет          6,93 сек   \n",
       "1          CatBoost                     3 мин 29 сек          26,7 сек   \n",
       "2     LGBMRegressor                     2 мин 18 сек          10,1 сек   \n",
       "\n",
       "  Скорость предсказания Качество предсказания(RMSE)  \n",
       "0             99,7 мсек                     2077,52  \n",
       "1             86,2 мсек                     1313,89  \n",
       "2              3,13 сек                     1289,67  "
      ]
     },
     "execution_count": 3,
     "metadata": {},
     "output_type": "execute_result"
    }
   ],
   "source": [
    "result=pd.DataFrame({'Модель':['LinearRegression', 'CatBoost', 'LGBMRegressor'],\n",
    " 'Скорость подбора гиперпараметров':['Гиперпараметров нет', '3 мин 29 сек', '2 мин 18 сек'],\n",
    " 'Скорость обучения':['6,93 сек', '26,7 сек', '10,1 сек'],\n",
    " 'Скорость предсказания': ['99,7 мсек', '86,2 мсек', '3,13 сек'],\n",
    " 'Качество предсказания(RMSE)': ['2077,52', '1313,89', '1289,67']})\n",
    "result"
   ]
  },
  {
   "cell_type": "markdown",
   "metadata": {
    "id": "Vx6Y7OKuw9MX"
   },
   "source": [
    "## Вывод"
   ]
  },
  {
   "cell_type": "markdown",
   "metadata": {
    "id": "ZH5RkA2kw9MX"
   },
   "source": [
    "Мы провели сравнение трех моделей для магазина по продаже автомобилей с пробегом «Не бит, не крашен». Так как наш заказчит будет использовать модель для предсказания стоимости в своем мобильном приложении наша рекомендация использовать модель Catboost, не смотря на то, что модель LGBM точнее именно в мобильном приложении нам важна скорость предсказания. "
   ]
  }
 ],
 "metadata": {
  "ExecuteTimeLog": [
   {
    "duration": 757,
    "start_time": "2021-06-29T14:50:41.157Z"
   },
   {
    "duration": 1227,
    "start_time": "2021-06-29T14:51:16.725Z"
   },
   {
    "duration": 41,
    "start_time": "2021-06-29T14:51:40.626Z"
   },
   {
    "duration": 154,
    "start_time": "2021-06-29T14:52:22.438Z"
   },
   {
    "duration": 789,
    "start_time": "2021-06-30T13:14:58.158Z"
   },
   {
    "duration": 1381,
    "start_time": "2021-06-30T13:15:19.015Z"
   },
   {
    "duration": 561,
    "start_time": "2021-06-30T13:18:50.924Z"
   },
   {
    "duration": 522,
    "start_time": "2021-06-30T13:19:03.797Z"
   },
   {
    "duration": 842,
    "start_time": "2021-06-30T13:19:13.931Z"
   },
   {
    "duration": 807,
    "start_time": "2021-06-30T13:19:23.407Z"
   },
   {
    "duration": 862,
    "start_time": "2021-06-30T13:19:33.651Z"
   },
   {
    "duration": 320,
    "start_time": "2021-06-30T13:21:44.520Z"
   },
   {
    "duration": 167,
    "start_time": "2021-06-30T13:23:02.208Z"
   },
   {
    "duration": 814,
    "start_time": "2021-06-30T13:23:11.054Z"
   },
   {
    "duration": 1576,
    "start_time": "2021-06-30T13:23:39.217Z"
   },
   {
    "duration": 1499,
    "start_time": "2021-06-30T13:23:55.494Z"
   },
   {
    "duration": 1293,
    "start_time": "2021-06-30T13:24:09.638Z"
   },
   {
    "duration": 632,
    "start_time": "2021-06-30T13:24:26.699Z"
   },
   {
    "duration": 758,
    "start_time": "2021-06-30T13:25:12.883Z"
   },
   {
    "duration": 700,
    "start_time": "2021-06-30T13:25:16.749Z"
   },
   {
    "duration": 801,
    "start_time": "2021-06-30T13:27:14.797Z"
   },
   {
    "duration": 694,
    "start_time": "2021-06-30T13:27:16.860Z"
   },
   {
    "duration": 839,
    "start_time": "2021-06-30T13:27:52.466Z"
   },
   {
    "duration": 1401,
    "start_time": "2021-06-30T13:27:54.880Z"
   },
   {
    "duration": 313,
    "start_time": "2021-06-30T13:28:11.781Z"
   },
   {
    "duration": 6,
    "start_time": "2021-06-30T13:28:15.463Z"
   },
   {
    "duration": 378,
    "start_time": "2021-06-30T13:29:51.808Z"
   },
   {
    "duration": 293,
    "start_time": "2021-06-30T13:30:09.866Z"
   },
   {
    "duration": 338,
    "start_time": "2021-06-30T13:30:30.997Z"
   },
   {
    "duration": 292,
    "start_time": "2021-06-30T13:31:11.231Z"
   },
   {
    "duration": 325,
    "start_time": "2021-06-30T13:33:02.885Z"
   },
   {
    "duration": 357,
    "start_time": "2021-06-30T13:33:07.482Z"
   },
   {
    "duration": 4,
    "start_time": "2021-06-30T13:33:27.526Z"
   },
   {
    "duration": 391,
    "start_time": "2021-06-30T13:35:29.098Z"
   },
   {
    "duration": 774,
    "start_time": "2021-06-30T13:35:32.528Z"
   },
   {
    "duration": 1301,
    "start_time": "2021-06-30T13:35:33.304Z"
   },
   {
    "duration": 784,
    "start_time": "2021-06-30T13:35:35.854Z"
   },
   {
    "duration": 1340,
    "start_time": "2021-06-30T13:35:38.109Z"
   },
   {
    "duration": 7,
    "start_time": "2021-06-30T13:35:40.818Z"
   },
   {
    "duration": 7,
    "start_time": "2021-06-30T13:36:06.015Z"
   },
   {
    "duration": 5,
    "start_time": "2021-06-30T13:37:37.131Z"
   },
   {
    "duration": 593,
    "start_time": "2021-06-30T19:00:23.810Z"
   },
   {
    "duration": 1427,
    "start_time": "2021-06-30T19:00:28.627Z"
   },
   {
    "duration": 5,
    "start_time": "2021-06-30T19:00:32.954Z"
   },
   {
    "duration": 887,
    "start_time": "2021-06-30T19:00:35.820Z"
   },
   {
    "duration": 1410,
    "start_time": "2021-06-30T19:00:38.024Z"
   },
   {
    "duration": 47,
    "start_time": "2021-06-30T19:00:55.170Z"
   },
   {
    "duration": 436,
    "start_time": "2021-06-30T19:01:22.992Z"
   },
   {
    "duration": 27,
    "start_time": "2021-06-30T19:01:31.205Z"
   },
   {
    "duration": 42,
    "start_time": "2021-06-30T19:02:56.632Z"
   },
   {
    "duration": 47,
    "start_time": "2021-06-30T19:03:24.102Z"
   },
   {
    "duration": 31,
    "start_time": "2021-06-30T19:03:38.192Z"
   },
   {
    "duration": 82,
    "start_time": "2021-06-30T19:05:21.835Z"
   },
   {
    "duration": 366,
    "start_time": "2021-06-30T19:05:55.473Z"
   },
   {
    "duration": 79,
    "start_time": "2021-06-30T19:06:01.269Z"
   },
   {
    "duration": 92,
    "start_time": "2021-06-30T19:06:42.137Z"
   },
   {
    "duration": 93,
    "start_time": "2021-06-30T19:07:40.535Z"
   },
   {
    "duration": 83,
    "start_time": "2021-06-30T19:08:37.827Z"
   },
   {
    "duration": 9,
    "start_time": "2021-06-30T19:11:40.228Z"
   },
   {
    "duration": 7853,
    "start_time": "2021-06-30T19:12:17.900Z"
   },
   {
    "duration": 1421,
    "start_time": "2021-06-30T19:12:27.686Z"
   },
   {
    "duration": 1416,
    "start_time": "2021-06-30T19:12:29.110Z"
   },
   {
    "duration": 6,
    "start_time": "2021-06-30T19:12:30.530Z"
   },
   {
    "duration": 905,
    "start_time": "2021-06-30T19:12:30.539Z"
   },
   {
    "duration": 1545,
    "start_time": "2021-06-30T19:12:31.446Z"
   },
   {
    "duration": 29,
    "start_time": "2021-06-30T19:12:32.994Z"
   },
   {
    "duration": 72,
    "start_time": "2021-06-30T19:12:33.026Z"
   },
   {
    "duration": 30,
    "start_time": "2021-06-30T19:12:33.101Z"
   },
   {
    "duration": 89,
    "start_time": "2021-06-30T19:12:33.134Z"
   },
   {
    "duration": 8,
    "start_time": "2021-06-30T19:12:33.226Z"
   },
   {
    "duration": 76,
    "start_time": "2021-06-30T19:18:58.196Z"
   },
   {
    "duration": 52,
    "start_time": "2021-06-30T19:19:34.326Z"
   },
   {
    "duration": 95,
    "start_time": "2021-06-30T19:20:13.844Z"
   },
   {
    "duration": 247,
    "start_time": "2021-06-30T19:21:04.071Z"
   },
   {
    "duration": 188,
    "start_time": "2021-06-30T19:21:41.505Z"
   },
   {
    "duration": 4,
    "start_time": "2021-06-30T19:23:37.307Z"
   },
   {
    "duration": 655,
    "start_time": "2021-06-30T19:35:01.083Z"
   },
   {
    "duration": 459,
    "start_time": "2021-06-30T19:35:18.678Z"
   },
   {
    "duration": 1457,
    "start_time": "2021-06-30T19:36:17.285Z"
   },
   {
    "duration": 1364,
    "start_time": "2021-06-30T19:36:18.744Z"
   },
   {
    "duration": 4,
    "start_time": "2021-06-30T19:36:20.112Z"
   },
   {
    "duration": 860,
    "start_time": "2021-06-30T19:36:20.119Z"
   },
   {
    "duration": 1503,
    "start_time": "2021-06-30T19:36:20.982Z"
   },
   {
    "duration": 30,
    "start_time": "2021-06-30T19:36:22.487Z"
   },
   {
    "duration": 72,
    "start_time": "2021-06-30T19:36:22.520Z"
   },
   {
    "duration": 30,
    "start_time": "2021-06-30T19:36:22.594Z"
   },
   {
    "duration": 88,
    "start_time": "2021-06-30T19:36:22.627Z"
   },
   {
    "duration": 9,
    "start_time": "2021-06-30T19:36:22.717Z"
   },
   {
    "duration": 49,
    "start_time": "2021-06-30T19:36:22.728Z"
   },
   {
    "duration": 174,
    "start_time": "2021-06-30T19:36:22.780Z"
   },
   {
    "duration": 148,
    "start_time": "2021-06-30T19:36:22.956Z"
   },
   {
    "duration": 595,
    "start_time": "2021-06-30T19:36:23.107Z"
   },
   {
    "duration": 42,
    "start_time": "2021-06-30T19:37:37.242Z"
   },
   {
    "duration": 170,
    "start_time": "2021-06-30T19:37:39.524Z"
   },
   {
    "duration": 130,
    "start_time": "2021-06-30T19:37:40.910Z"
   },
   {
    "duration": 370,
    "start_time": "2021-06-30T19:37:48.663Z"
   },
   {
    "duration": 422,
    "start_time": "2021-06-30T19:38:35.333Z"
   },
   {
    "duration": 17,
    "start_time": "2021-06-30T19:39:03.474Z"
   },
   {
    "duration": 17,
    "start_time": "2021-06-30T19:43:12.688Z"
   },
   {
    "duration": 306,
    "start_time": "2021-06-30T19:44:47.666Z"
   },
   {
    "duration": 5,
    "start_time": "2021-06-30T19:44:54.706Z"
   },
   {
    "duration": 8250,
    "start_time": "2021-06-30T19:45:46.166Z"
   },
   {
    "duration": 48,
    "start_time": "2021-06-30T19:46:48.428Z"
   },
   {
    "duration": 70,
    "start_time": "2021-06-30T19:47:05.883Z"
   },
   {
    "duration": 371,
    "start_time": "2021-06-30T19:48:41.557Z"
   },
   {
    "duration": 161,
    "start_time": "2021-06-30T19:48:50.719Z"
   },
   {
    "duration": 293,
    "start_time": "2021-06-30T19:48:59.136Z"
   },
   {
    "duration": 311,
    "start_time": "2021-06-30T19:49:11.582Z"
   },
   {
    "duration": 3,
    "start_time": "2021-06-30T19:49:32.672Z"
   },
   {
    "duration": 1358,
    "start_time": "2021-06-30T19:49:38.519Z"
   },
   {
    "duration": 1350,
    "start_time": "2021-06-30T19:49:39.880Z"
   },
   {
    "duration": 4,
    "start_time": "2021-06-30T19:49:41.233Z"
   },
   {
    "duration": 807,
    "start_time": "2021-06-30T19:49:41.240Z"
   },
   {
    "duration": 1375,
    "start_time": "2021-06-30T19:49:42.049Z"
   },
   {
    "duration": 44,
    "start_time": "2021-06-30T19:49:43.426Z"
   },
   {
    "duration": 45,
    "start_time": "2021-06-30T19:49:43.472Z"
   },
   {
    "duration": 50,
    "start_time": "2021-06-30T19:49:43.519Z"
   },
   {
    "duration": 62,
    "start_time": "2021-06-30T19:49:43.573Z"
   },
   {
    "duration": 34,
    "start_time": "2021-06-30T19:49:43.637Z"
   },
   {
    "duration": 36,
    "start_time": "2021-06-30T19:49:43.674Z"
   },
   {
    "duration": 187,
    "start_time": "2021-06-30T19:49:43.712Z"
   },
   {
    "duration": 155,
    "start_time": "2021-06-30T19:49:43.902Z"
   },
   {
    "duration": 16,
    "start_time": "2021-06-30T19:49:44.059Z"
   },
   {
    "duration": 4,
    "start_time": "2021-06-30T19:49:44.078Z"
   },
   {
    "duration": 570,
    "start_time": "2021-06-30T19:49:44.085Z"
   },
   {
    "duration": 540,
    "start_time": "2021-06-30T19:49:44.117Z"
   },
   {
    "duration": 368,
    "start_time": "2021-06-30T19:50:00.629Z"
   },
   {
    "duration": 345,
    "start_time": "2021-06-30T19:51:03.742Z"
   },
   {
    "duration": 1342,
    "start_time": "2021-06-30T19:51:31.319Z"
   },
   {
    "duration": 1326,
    "start_time": "2021-06-30T19:51:32.664Z"
   },
   {
    "duration": 5,
    "start_time": "2021-06-30T19:51:34.072Z"
   },
   {
    "duration": 813,
    "start_time": "2021-06-30T19:51:37.148Z"
   },
   {
    "duration": 1338,
    "start_time": "2021-06-30T19:52:02.890Z"
   },
   {
    "duration": 32,
    "start_time": "2021-06-30T19:52:05.417Z"
   },
   {
    "duration": 44,
    "start_time": "2021-06-30T19:52:07.994Z"
   },
   {
    "duration": 30,
    "start_time": "2021-06-30T19:52:09.996Z"
   },
   {
    "duration": 64,
    "start_time": "2021-06-30T19:52:12.264Z"
   },
   {
    "duration": 9,
    "start_time": "2021-06-30T19:52:13.839Z"
   },
   {
    "duration": 224,
    "start_time": "2021-06-30T19:52:38.247Z"
   },
   {
    "duration": 113,
    "start_time": "2021-06-30T19:52:49.569Z"
   },
   {
    "duration": 22,
    "start_time": "2021-06-30T19:52:52.970Z"
   },
   {
    "duration": 118,
    "start_time": "2021-06-30T19:52:55.132Z"
   },
   {
    "duration": 99,
    "start_time": "2021-06-30T19:52:56.985Z"
   },
   {
    "duration": 17,
    "start_time": "2021-06-30T19:52:59.108Z"
   },
   {
    "duration": 4457,
    "start_time": "2021-06-30T19:53:03.291Z"
   },
   {
    "duration": 3243,
    "start_time": "2021-06-30T19:58:33.682Z"
   },
   {
    "duration": 3231,
    "start_time": "2021-06-30T19:58:38.656Z"
   },
   {
    "duration": 22,
    "start_time": "2021-06-30T20:00:39.480Z"
   },
   {
    "duration": 220,
    "start_time": "2021-06-30T20:04:10.853Z"
   },
   {
    "duration": 23,
    "start_time": "2021-06-30T20:04:13.736Z"
   },
   {
    "duration": 28,
    "start_time": "2021-06-30T20:04:19.313Z"
   },
   {
    "duration": 123,
    "start_time": "2021-06-30T20:04:21.521Z"
   },
   {
    "duration": 91,
    "start_time": "2021-06-30T20:04:23.139Z"
   },
   {
    "duration": 17,
    "start_time": "2021-06-30T20:04:25.097Z"
   },
   {
    "duration": 3653,
    "start_time": "2021-06-30T20:04:31.420Z"
   },
   {
    "duration": 14,
    "start_time": "2021-06-30T20:16:05.855Z"
   },
   {
    "duration": 48,
    "start_time": "2021-06-30T20:16:08.066Z"
   },
   {
    "duration": 43,
    "start_time": "2021-06-30T20:16:10.110Z"
   },
   {
    "duration": 410,
    "start_time": "2021-06-30T20:16:15.974Z"
   },
   {
    "duration": 396,
    "start_time": "2021-06-30T20:16:22.696Z"
   },
   {
    "duration": 5,
    "start_time": "2021-06-30T20:17:49.459Z"
   },
   {
    "duration": 6,
    "start_time": "2021-06-30T20:18:03.035Z"
   },
   {
    "duration": 82,
    "start_time": "2021-06-30T20:19:54.244Z"
   },
   {
    "duration": 84,
    "start_time": "2021-06-30T20:20:11.336Z"
   },
   {
    "duration": 9,
    "start_time": "2021-06-30T20:22:09.982Z"
   },
   {
    "duration": 88,
    "start_time": "2021-06-30T20:23:18.519Z"
   },
   {
    "duration": 98,
    "start_time": "2021-06-30T20:23:29.573Z"
   },
   {
    "duration": 7,
    "start_time": "2021-06-30T20:23:34.320Z"
   },
   {
    "duration": 7,
    "start_time": "2021-06-30T20:23:51.448Z"
   },
   {
    "duration": 82,
    "start_time": "2021-06-30T20:29:04.987Z"
   },
   {
    "duration": 117,
    "start_time": "2021-06-30T20:29:20.553Z"
   },
   {
    "duration": 5,
    "start_time": "2021-06-30T20:29:45.320Z"
   },
   {
    "duration": 3275,
    "start_time": "2021-06-30T20:30:01.084Z"
   },
   {
    "duration": 1323,
    "start_time": "2021-07-08T18:05:25.604Z"
   },
   {
    "duration": 1347,
    "start_time": "2021-07-08T18:05:27.669Z"
   },
   {
    "duration": 7,
    "start_time": "2021-07-08T18:05:33.051Z"
   },
   {
    "duration": 747,
    "start_time": "2021-07-08T18:05:35.896Z"
   },
   {
    "duration": 1286,
    "start_time": "2021-07-08T18:05:39.107Z"
   },
   {
    "duration": 31,
    "start_time": "2021-07-08T18:05:42.187Z"
   },
   {
    "duration": 69,
    "start_time": "2021-07-08T18:06:00.923Z"
   },
   {
    "duration": 7192,
    "start_time": "2021-07-08T18:06:41.906Z"
   },
   {
    "duration": 121,
    "start_time": "2021-07-08T18:07:57.192Z"
   },
   {
    "duration": 24,
    "start_time": "2021-07-08T18:07:59.850Z"
   },
   {
    "duration": 343,
    "start_time": "2021-07-08T18:08:52.067Z"
   },
   {
    "duration": 213,
    "start_time": "2021-07-08T18:13:40.728Z"
   },
   {
    "duration": 1337,
    "start_time": "2021-07-08T18:17:40.026Z"
   },
   {
    "duration": 5,
    "start_time": "2021-07-08T18:18:27.082Z"
   },
   {
    "duration": 269,
    "start_time": "2021-07-08T18:18:34.256Z"
   },
   {
    "duration": 1332,
    "start_time": "2021-07-08T18:18:44.047Z"
   },
   {
    "duration": 5,
    "start_time": "2021-07-08T18:19:05.343Z"
   },
   {
    "duration": 253,
    "start_time": "2021-07-08T18:19:48.725Z"
   },
   {
    "duration": 116,
    "start_time": "2021-07-08T18:20:04.378Z"
   },
   {
    "duration": 51,
    "start_time": "2021-07-08T18:20:17.829Z"
   },
   {
    "duration": 56,
    "start_time": "2021-07-08T18:20:37.807Z"
   },
   {
    "duration": 50,
    "start_time": "2021-07-08T18:20:48.753Z"
   },
   {
    "duration": 4,
    "start_time": "2021-07-08T18:25:51.873Z"
   },
   {
    "duration": 3,
    "start_time": "2021-07-08T18:26:21.898Z"
   },
   {
    "duration": 3,
    "start_time": "2021-07-08T18:28:47.612Z"
   },
   {
    "duration": 4,
    "start_time": "2021-07-08T18:29:15.666Z"
   },
   {
    "duration": 3,
    "start_time": "2021-07-08T18:30:58.323Z"
   },
   {
    "duration": 35402,
    "start_time": "2021-07-08T18:31:12.459Z"
   },
   {
    "duration": 267,
    "start_time": "2021-07-08T18:34:05.889Z"
   },
   {
    "duration": 6,
    "start_time": "2021-07-08T18:34:22.014Z"
   },
   {
    "duration": 4,
    "start_time": "2021-07-08T18:38:07.426Z"
   },
   {
    "duration": 4,
    "start_time": "2021-07-08T18:38:17.412Z"
   },
   {
    "duration": 4,
    "start_time": "2021-07-08T18:38:27.550Z"
   },
   {
    "duration": 1434051,
    "start_time": "2021-07-08T18:38:37.702Z"
   },
   {
    "duration": 8,
    "start_time": "2021-07-08T19:03:12.752Z"
   },
   {
    "duration": 4,
    "start_time": "2021-07-08T19:03:45.750Z"
   },
   {
    "duration": 92779,
    "start_time": "2021-07-08T19:04:04.644Z"
   },
   {
    "duration": 280,
    "start_time": "2021-07-08T19:06:42.440Z"
   },
   {
    "duration": 97,
    "start_time": "2021-07-08T19:07:35.679Z"
   },
   {
    "duration": 6,
    "start_time": "2021-07-08T19:07:51.450Z"
   },
   {
    "duration": 4,
    "start_time": "2021-07-08T19:09:31.484Z"
   },
   {
    "duration": 3,
    "start_time": "2021-07-08T19:09:47.920Z"
   },
   {
    "duration": 6,
    "start_time": "2021-07-08T19:09:48.913Z"
   },
   {
    "duration": 5,
    "start_time": "2021-07-08T19:10:14.616Z"
   },
   {
    "duration": 4,
    "start_time": "2021-07-08T19:10:30.888Z"
   },
   {
    "duration": 232,
    "start_time": "2021-07-08T19:10:55.306Z"
   },
   {
    "duration": 262,
    "start_time": "2021-07-08T19:11:04.292Z"
   },
   {
    "duration": 1579,
    "start_time": "2021-07-08T19:11:23.352Z"
   },
   {
    "duration": 412,
    "start_time": "2021-07-08T19:11:51.108Z"
   },
   {
    "duration": 4,
    "start_time": "2021-07-08T19:11:57.601Z"
   },
   {
    "duration": 10,
    "start_time": "2021-07-08T19:11:58.284Z"
   },
   {
    "duration": 3,
    "start_time": "2021-07-08T19:11:59.019Z"
   },
   {
    "duration": 263,
    "start_time": "2021-07-08T19:11:59.847Z"
   },
   {
    "duration": 6,
    "start_time": "2021-07-08T19:12:18.046Z"
   },
   {
    "duration": 1355,
    "start_time": "2021-07-08T19:12:18.883Z"
   },
   {
    "duration": 6,
    "start_time": "2021-07-08T19:12:24.271Z"
   },
   {
    "duration": 831,
    "start_time": "2021-07-08T19:12:27.139Z"
   },
   {
    "duration": 1410,
    "start_time": "2021-07-08T19:12:27.975Z"
   },
   {
    "duration": 41,
    "start_time": "2021-07-08T19:12:29.389Z"
   },
   {
    "duration": 106,
    "start_time": "2021-07-08T19:12:31.415Z"
   },
   {
    "duration": 155,
    "start_time": "2021-07-08T19:12:32.338Z"
   },
   {
    "duration": 19,
    "start_time": "2021-07-08T19:12:33.030Z"
   },
   {
    "duration": 262,
    "start_time": "2021-07-08T19:12:34.732Z"
   },
   {
    "duration": 1568,
    "start_time": "2021-07-08T19:12:41.467Z"
   },
   {
    "duration": 1776,
    "start_time": "2021-07-08T19:12:45.510Z"
   },
   {
    "duration": 5,
    "start_time": "2021-07-08T19:12:49.519Z"
   },
   {
    "duration": 181,
    "start_time": "2021-07-08T19:12:51.437Z"
   },
   {
    "duration": 4,
    "start_time": "2021-07-08T19:12:54.127Z"
   },
   {
    "duration": 5,
    "start_time": "2021-07-08T19:12:55.099Z"
   },
   {
    "duration": 3,
    "start_time": "2021-07-08T19:12:57.804Z"
   },
   {
    "duration": 7,
    "start_time": "2021-07-08T19:13:04.389Z"
   },
   {
    "duration": 8,
    "start_time": "2021-07-08T19:13:04.796Z"
   },
   {
    "duration": 13,
    "start_time": "2021-07-08T19:13:05.475Z"
   },
   {
    "duration": 5,
    "start_time": "2021-07-08T19:13:06.321Z"
   },
   {
    "duration": 5029516,
    "start_time": "2021-07-08T19:13:07.787Z"
   },
   {
    "duration": 1575,
    "start_time": "2021-07-08T20:49:38.025Z"
   },
   {
    "duration": 1330,
    "start_time": "2021-07-08T20:49:39.603Z"
   },
   {
    "duration": 4,
    "start_time": "2021-07-08T20:49:40.937Z"
   },
   {
    "duration": 802,
    "start_time": "2021-07-08T20:49:40.957Z"
   },
   {
    "duration": 1319,
    "start_time": "2021-07-08T20:49:41.762Z"
   },
   {
    "duration": 31,
    "start_time": "2021-07-08T20:49:43.084Z"
   },
   {
    "duration": 95,
    "start_time": "2021-07-08T20:49:43.117Z"
   },
   {
    "duration": 92,
    "start_time": "2021-07-08T20:49:43.217Z"
   },
   {
    "duration": 19,
    "start_time": "2021-07-08T20:49:43.312Z"
   },
   {
    "duration": 1292,
    "start_time": "2021-07-08T20:49:43.334Z"
   },
   {
    "duration": 1430,
    "start_time": "2021-07-08T20:49:44.629Z"
   },
   {
    "duration": 4,
    "start_time": "2021-07-08T20:49:46.062Z"
   },
   {
    "duration": 140,
    "start_time": "2021-07-08T20:49:46.069Z"
   },
   {
    "duration": 4,
    "start_time": "2021-07-08T20:49:46.212Z"
   },
   {
    "duration": 10,
    "start_time": "2021-07-08T20:49:46.218Z"
   },
   {
    "duration": 8,
    "start_time": "2021-07-08T20:49:46.230Z"
   },
   {
    "duration": 15,
    "start_time": "2021-07-08T20:49:46.241Z"
   },
   {
    "duration": 39125,
    "start_time": "2021-07-08T20:49:46.259Z"
   },
   {
    "duration": 376,
    "start_time": "2021-07-08T20:50:25.387Z"
   },
   {
    "duration": 91,
    "start_time": "2021-07-08T20:50:25.773Z"
   },
   {
    "duration": 6,
    "start_time": "2021-07-08T20:50:25.872Z"
   },
   {
    "duration": 5,
    "start_time": "2021-07-08T20:50:25.881Z"
   },
   {
    "duration": 4,
    "start_time": "2021-07-08T20:50:25.892Z"
   },
   {
    "duration": 1447638,
    "start_time": "2021-07-08T20:50:25.899Z"
   },
   {
    "duration": 4,
    "start_time": "2021-07-08T21:14:33.539Z"
   },
   {
    "duration": 4,
    "start_time": "2021-07-08T21:14:33.556Z"
   },
   {
    "duration": 93749,
    "start_time": "2021-07-08T21:14:33.563Z"
   },
   {
    "duration": 162,
    "start_time": "2021-07-08T21:16:07.316Z"
   },
   {
    "duration": 7,
    "start_time": "2021-07-08T21:16:07.482Z"
   },
   {
    "duration": 5,
    "start_time": "2021-07-08T21:16:07.496Z"
   },
   {
    "duration": 14,
    "start_time": "2021-07-08T21:16:07.505Z"
   },
   {
    "duration": 5,
    "start_time": "2021-07-08T21:16:07.523Z"
   },
   {
    "duration": 7,
    "start_time": "2021-07-08T21:16:07.566Z"
   },
   {
    "duration": 1595,
    "start_time": "2021-07-12T19:01:07.149Z"
   },
   {
    "duration": 1300,
    "start_time": "2021-07-12T19:01:09.524Z"
   },
   {
    "duration": 5,
    "start_time": "2021-07-12T19:01:20.718Z"
   },
   {
    "duration": 814,
    "start_time": "2021-07-12T19:01:23.086Z"
   },
   {
    "duration": 1547,
    "start_time": "2021-07-12T19:01:25.127Z"
   },
   {
    "duration": 65,
    "start_time": "2021-07-12T19:01:37.246Z"
   },
   {
    "duration": 133,
    "start_time": "2021-07-12T19:02:17.960Z"
   },
   {
    "duration": 19,
    "start_time": "2021-07-12T19:02:19.663Z"
   },
   {
    "duration": 1596,
    "start_time": "2021-07-12T19:04:21.455Z"
   },
   {
    "duration": 1414,
    "start_time": "2021-07-12T19:04:23.949Z"
   },
   {
    "duration": 5,
    "start_time": "2021-07-12T19:04:25.719Z"
   },
   {
    "duration": 5,
    "start_time": "2021-07-12T19:04:31.619Z"
   },
   {
    "duration": 797,
    "start_time": "2021-07-12T19:04:33.451Z"
   },
   {
    "duration": 1295,
    "start_time": "2021-07-12T19:04:35.315Z"
   },
   {
    "duration": 59,
    "start_time": "2021-07-12T19:04:37.084Z"
   },
   {
    "duration": 67,
    "start_time": "2021-07-12T19:04:39.235Z"
   },
   {
    "duration": 18,
    "start_time": "2021-07-12T19:04:41.771Z"
   },
   {
    "duration": 470,
    "start_time": "2021-07-12T19:04:57.076Z"
   },
   {
    "duration": 1560,
    "start_time": "2021-07-12T19:05:31.488Z"
   },
   {
    "duration": 1287,
    "start_time": "2021-07-12T19:05:33.263Z"
   },
   {
    "duration": 4,
    "start_time": "2021-07-12T19:05:38.714Z"
   },
   {
    "duration": 786,
    "start_time": "2021-07-12T19:05:40.940Z"
   },
   {
    "duration": 1274,
    "start_time": "2021-07-12T19:05:43.495Z"
   },
   {
    "duration": 63,
    "start_time": "2021-07-12T19:05:45.285Z"
   },
   {
    "duration": 60,
    "start_time": "2021-07-12T19:05:47.180Z"
   },
   {
    "duration": 18,
    "start_time": "2021-07-12T19:05:49.037Z"
   },
   {
    "duration": 5,
    "start_time": "2021-07-12T19:18:40.836Z"
   },
   {
    "duration": 1384,
    "start_time": "2021-07-12T19:18:42.364Z"
   },
   {
    "duration": 5,
    "start_time": "2021-07-12T19:18:55.206Z"
   },
   {
    "duration": 774,
    "start_time": "2021-07-12T19:19:07.852Z"
   },
   {
    "duration": 1289,
    "start_time": "2021-07-12T19:19:10.354Z"
   },
   {
    "duration": 61,
    "start_time": "2021-07-12T19:19:15.311Z"
   },
   {
    "duration": 69,
    "start_time": "2021-07-12T19:19:23.795Z"
   },
   {
    "duration": 57,
    "start_time": "2021-07-12T19:19:31.526Z"
   },
   {
    "duration": 18,
    "start_time": "2021-07-12T19:19:32.845Z"
   },
   {
    "duration": 325,
    "start_time": "2021-07-12T19:22:43.150Z"
   },
   {
    "duration": 2765,
    "start_time": "2021-07-12T19:35:03.674Z"
   },
   {
    "duration": 8,
    "start_time": "2021-07-12T19:36:10.348Z"
   },
   {
    "duration": 6,
    "start_time": "2021-07-12T19:36:37.167Z"
   },
   {
    "duration": 437,
    "start_time": "2021-07-12T19:36:52.305Z"
   },
   {
    "duration": 6,
    "start_time": "2021-07-12T19:37:30.414Z"
   },
   {
    "duration": 6,
    "start_time": "2021-07-12T19:37:43.645Z"
   },
   {
    "duration": 5,
    "start_time": "2021-07-12T19:37:44.661Z"
   },
   {
    "duration": 5,
    "start_time": "2021-07-12T19:37:49.614Z"
   },
   {
    "duration": 6,
    "start_time": "2021-07-12T19:37:54.406Z"
   },
   {
    "duration": 4,
    "start_time": "2021-07-12T19:38:57.221Z"
   },
   {
    "duration": 8,
    "start_time": "2021-07-12T19:39:10.039Z"
   },
   {
    "duration": 7,
    "start_time": "2021-07-12T19:39:58.221Z"
   },
   {
    "duration": 12,
    "start_time": "2021-07-12T19:40:10.063Z"
   },
   {
    "duration": 5,
    "start_time": "2021-07-12T19:40:39.484Z"
   },
   {
    "duration": 95,
    "start_time": "2021-07-12T19:40:51.746Z"
   },
   {
    "duration": 9,
    "start_time": "2021-07-12T19:41:03.442Z"
   },
   {
    "duration": 7,
    "start_time": "2021-07-12T19:41:18.041Z"
   },
   {
    "duration": 6,
    "start_time": "2021-07-12T19:41:22.190Z"
   },
   {
    "duration": 1539,
    "start_time": "2021-07-12T19:41:36.384Z"
   },
   {
    "duration": 1260,
    "start_time": "2021-07-12T19:41:40.250Z"
   },
   {
    "duration": 7,
    "start_time": "2021-07-12T19:41:44.003Z"
   },
   {
    "duration": 776,
    "start_time": "2021-07-12T19:41:46.712Z"
   },
   {
    "duration": 1275,
    "start_time": "2021-07-12T19:41:47.650Z"
   },
   {
    "duration": 64,
    "start_time": "2021-07-12T19:41:50.689Z"
   },
   {
    "duration": 57,
    "start_time": "2021-07-12T19:41:52.688Z"
   },
   {
    "duration": 17,
    "start_time": "2021-07-12T19:41:55.846Z"
   },
   {
    "duration": 8,
    "start_time": "2021-07-12T19:42:00.449Z"
   },
   {
    "duration": 6,
    "start_time": "2021-07-12T19:42:05.498Z"
   },
   {
    "duration": 6,
    "start_time": "2021-07-12T19:42:07.795Z"
   },
   {
    "duration": 6,
    "start_time": "2021-07-12T19:42:21.322Z"
   },
   {
    "duration": 6,
    "start_time": "2021-07-12T19:43:32.443Z"
   },
   {
    "duration": 6,
    "start_time": "2021-07-12T19:43:39.394Z"
   },
   {
    "duration": 6,
    "start_time": "2021-07-12T19:43:40.642Z"
   },
   {
    "duration": 4,
    "start_time": "2021-07-12T19:43:46.512Z"
   },
   {
    "duration": 4,
    "start_time": "2021-07-12T19:43:53.826Z"
   },
   {
    "duration": 7,
    "start_time": "2021-07-12T19:44:15.570Z"
   },
   {
    "duration": 97,
    "start_time": "2021-07-12T19:52:10.905Z"
   },
   {
    "duration": 441,
    "start_time": "2021-07-12T19:52:22.734Z"
   },
   {
    "duration": 358,
    "start_time": "2021-07-12T19:53:03.517Z"
   },
   {
    "duration": 321,
    "start_time": "2021-07-12T19:53:52.488Z"
   },
   {
    "duration": 324,
    "start_time": "2021-07-12T19:53:59.274Z"
   },
   {
    "duration": 59,
    "start_time": "2021-07-12T19:55:03.809Z"
   },
   {
    "duration": 13,
    "start_time": "2021-07-12T19:55:22.557Z"
   },
   {
    "duration": 42,
    "start_time": "2021-07-12T19:55:59.694Z"
   },
   {
    "duration": 39,
    "start_time": "2021-07-12T19:57:48.197Z"
   },
   {
    "duration": 51,
    "start_time": "2021-07-12T19:57:56.857Z"
   },
   {
    "duration": 42,
    "start_time": "2021-07-12T19:58:16.020Z"
   },
   {
    "duration": 46,
    "start_time": "2021-07-12T19:59:20.021Z"
   },
   {
    "duration": 55,
    "start_time": "2021-07-12T19:59:41.918Z"
   },
   {
    "duration": 47,
    "start_time": "2021-07-12T20:00:06.003Z"
   },
   {
    "duration": 39,
    "start_time": "2021-07-12T20:01:31.606Z"
   },
   {
    "duration": 52,
    "start_time": "2021-07-12T20:01:37.679Z"
   },
   {
    "duration": 8,
    "start_time": "2021-07-12T20:02:56.837Z"
   },
   {
    "duration": 39,
    "start_time": "2021-07-12T20:05:19.464Z"
   },
   {
    "duration": 10,
    "start_time": "2021-07-12T20:08:30.233Z"
   },
   {
    "duration": 18,
    "start_time": "2021-07-12T20:08:53.922Z"
   },
   {
    "duration": 16,
    "start_time": "2021-07-12T20:09:02.838Z"
   },
   {
    "duration": 46,
    "start_time": "2021-07-12T20:09:20.658Z"
   },
   {
    "duration": 33,
    "start_time": "2021-07-12T20:09:25.853Z"
   },
   {
    "duration": 44,
    "start_time": "2021-07-12T20:11:38.206Z"
   },
   {
    "duration": 42,
    "start_time": "2021-07-12T20:11:46.323Z"
   },
   {
    "duration": 6,
    "start_time": "2021-07-12T20:13:32.501Z"
   },
   {
    "duration": 5,
    "start_time": "2021-07-12T20:13:38.298Z"
   },
   {
    "duration": 6,
    "start_time": "2021-07-12T20:14:26.677Z"
   },
   {
    "duration": 5,
    "start_time": "2021-07-12T20:14:48.782Z"
   },
   {
    "duration": 298,
    "start_time": "2021-07-12T20:15:10.141Z"
   },
   {
    "duration": 35,
    "start_time": "2021-07-12T20:15:20.277Z"
   },
   {
    "duration": 24,
    "start_time": "2021-07-12T20:16:51.356Z"
   },
   {
    "duration": 406,
    "start_time": "2021-07-12T20:19:07.225Z"
   },
   {
    "duration": 4,
    "start_time": "2021-07-12T20:19:41.219Z"
   },
   {
    "duration": 7,
    "start_time": "2021-07-12T20:19:49.058Z"
   },
   {
    "duration": 19,
    "start_time": "2021-07-12T20:19:56.486Z"
   },
   {
    "duration": 18,
    "start_time": "2021-07-12T20:21:08.342Z"
   },
   {
    "duration": 189,
    "start_time": "2021-07-12T20:25:41.999Z"
   },
   {
    "duration": 7,
    "start_time": "2021-07-12T20:25:52.292Z"
   },
   {
    "duration": 26,
    "start_time": "2021-07-12T20:27:23.847Z"
   },
   {
    "duration": 1914,
    "start_time": "2021-07-12T20:27:36.873Z"
   },
   {
    "duration": 1571,
    "start_time": "2021-07-12T20:27:39.484Z"
   },
   {
    "duration": 5,
    "start_time": "2021-07-12T20:27:41.058Z"
   },
   {
    "duration": 771,
    "start_time": "2021-07-12T20:27:46.877Z"
   },
   {
    "duration": 1328,
    "start_time": "2021-07-12T20:27:47.650Z"
   },
   {
    "duration": 70,
    "start_time": "2021-07-12T20:27:49.774Z"
   },
   {
    "duration": 61,
    "start_time": "2021-07-12T20:27:50.184Z"
   },
   {
    "duration": 18,
    "start_time": "2021-07-12T20:27:52.297Z"
   },
   {
    "duration": 7,
    "start_time": "2021-07-12T20:27:54.425Z"
   },
   {
    "duration": 6,
    "start_time": "2021-07-12T20:27:54.817Z"
   },
   {
    "duration": 60,
    "start_time": "2021-07-12T20:27:57.066Z"
   },
   {
    "duration": 40,
    "start_time": "2021-07-12T20:27:59.001Z"
   },
   {
    "duration": 10,
    "start_time": "2021-07-12T20:27:59.994Z"
   },
   {
    "duration": 4,
    "start_time": "2021-07-12T20:28:02.650Z"
   },
   {
    "duration": 20,
    "start_time": "2021-07-12T20:28:03.452Z"
   },
   {
    "duration": 42,
    "start_time": "2021-07-12T20:28:07.197Z"
   },
   {
    "duration": 6,
    "start_time": "2021-07-12T20:28:47.754Z"
   },
   {
    "duration": 6,
    "start_time": "2021-07-12T20:28:57.451Z"
   },
   {
    "duration": 6,
    "start_time": "2021-07-12T20:29:10.011Z"
   },
   {
    "duration": 29,
    "start_time": "2021-07-12T20:31:40.067Z"
   },
   {
    "duration": 18,
    "start_time": "2021-07-12T20:33:48.454Z"
   },
   {
    "duration": 19,
    "start_time": "2021-07-12T20:34:11.717Z"
   },
   {
    "duration": 18,
    "start_time": "2021-07-12T20:34:17.824Z"
   },
   {
    "duration": 94,
    "start_time": "2021-07-12T20:34:20.792Z"
   },
   {
    "duration": 5,
    "start_time": "2021-07-12T20:34:35.478Z"
   },
   {
    "duration": 423,
    "start_time": "2021-07-12T20:35:43.094Z"
   },
   {
    "duration": 19,
    "start_time": "2021-07-12T20:36:35.433Z"
   },
   {
    "duration": 1594,
    "start_time": "2021-07-12T20:36:57.266Z"
   },
   {
    "duration": 1266,
    "start_time": "2021-07-12T20:36:58.863Z"
   },
   {
    "duration": 6,
    "start_time": "2021-07-12T20:37:00.132Z"
   },
   {
    "duration": 5,
    "start_time": "2021-07-12T20:37:02.635Z"
   },
   {
    "duration": 766,
    "start_time": "2021-07-12T20:37:04.835Z"
   },
   {
    "duration": 1293,
    "start_time": "2021-07-12T20:37:05.603Z"
   },
   {
    "duration": 62,
    "start_time": "2021-07-12T20:37:17.417Z"
   },
   {
    "duration": 18,
    "start_time": "2021-07-12T20:37:19.879Z"
   },
   {
    "duration": 20,
    "start_time": "2021-07-12T20:37:24.088Z"
   },
   {
    "duration": 31,
    "start_time": "2021-07-12T20:39:55.662Z"
   },
   {
    "duration": 215,
    "start_time": "2021-07-12T20:43:31.390Z"
   },
   {
    "duration": 7,
    "start_time": "2021-07-12T20:43:40.156Z"
   },
   {
    "duration": 26,
    "start_time": "2021-07-12T20:44:08.395Z"
   },
   {
    "duration": 421,
    "start_time": "2021-07-12T20:46:03.217Z"
   },
   {
    "duration": 97,
    "start_time": "2021-07-12T20:46:19.831Z"
   },
   {
    "duration": 6,
    "start_time": "2021-07-12T20:46:27.336Z"
   },
   {
    "duration": 22,
    "start_time": "2021-07-12T20:46:39.677Z"
   },
   {
    "duration": 466,
    "start_time": "2021-07-12T20:47:58.353Z"
   },
   {
    "duration": 82,
    "start_time": "2021-07-12T20:48:06.384Z"
   },
   {
    "duration": 5,
    "start_time": "2021-07-12T20:48:14.250Z"
   },
   {
    "duration": 973,
    "start_time": "2021-07-12T20:50:03.842Z"
   },
   {
    "duration": 876,
    "start_time": "2021-07-12T20:50:08.176Z"
   },
   {
    "duration": 6,
    "start_time": "2021-07-12T20:50:10.496Z"
   },
   {
    "duration": 75,
    "start_time": "2021-07-12T20:50:13.195Z"
   },
   {
    "duration": 4,
    "start_time": "2021-07-12T20:50:30.661Z"
   },
   {
    "duration": 4,
    "start_time": "2021-07-12T20:50:31.892Z"
   },
   {
    "duration": 4,
    "start_time": "2021-07-12T20:50:33.923Z"
   },
   {
    "duration": 3,
    "start_time": "2021-07-12T20:50:37.432Z"
   },
   {
    "duration": 19052,
    "start_time": "2021-07-12T20:50:39.443Z"
   },
   {
    "duration": 7,
    "start_time": "2021-07-12T20:52:41.233Z"
   },
   {
    "duration": 1264,
    "start_time": "2021-07-12T20:52:42.209Z"
   },
   {
    "duration": 6,
    "start_time": "2021-07-12T20:52:43.485Z"
   },
   {
    "duration": 1865,
    "start_time": "2021-07-12T20:52:53.599Z"
   },
   {
    "duration": 1475,
    "start_time": "2021-07-12T20:53:06.023Z"
   },
   {
    "duration": 5,
    "start_time": "2021-07-12T20:53:14.556Z"
   },
   {
    "duration": 800,
    "start_time": "2021-07-12T20:53:16.606Z"
   },
   {
    "duration": 1406,
    "start_time": "2021-07-12T20:53:17.409Z"
   },
   {
    "duration": 72,
    "start_time": "2021-07-12T20:53:18.818Z"
   },
   {
    "duration": 24,
    "start_time": "2021-07-12T20:53:21.507Z"
   },
   {
    "duration": 26,
    "start_time": "2021-07-12T20:53:23.413Z"
   },
   {
    "duration": 182,
    "start_time": "2021-07-12T20:53:25.729Z"
   },
   {
    "duration": 6,
    "start_time": "2021-07-12T20:53:27.236Z"
   },
   {
    "duration": 26,
    "start_time": "2021-07-12T20:53:27.907Z"
   },
   {
    "duration": 108,
    "start_time": "2021-07-12T20:53:30.140Z"
   },
   {
    "duration": 5,
    "start_time": "2021-07-12T20:53:30.755Z"
   },
   {
    "duration": 23,
    "start_time": "2021-07-12T20:53:31.291Z"
   },
   {
    "duration": 82,
    "start_time": "2021-07-12T20:53:33.425Z"
   },
   {
    "duration": 5,
    "start_time": "2021-07-12T20:53:33.777Z"
   },
   {
    "duration": 922,
    "start_time": "2021-07-12T20:53:35.842Z"
   },
   {
    "duration": 1034,
    "start_time": "2021-07-12T20:53:39.243Z"
   },
   {
    "duration": 5,
    "start_time": "2021-07-12T20:53:41.812Z"
   },
   {
    "duration": 84,
    "start_time": "2021-07-12T20:53:43.773Z"
   },
   {
    "duration": 4,
    "start_time": "2021-07-12T20:53:47.001Z"
   },
   {
    "duration": 5,
    "start_time": "2021-07-12T20:53:48.115Z"
   },
   {
    "duration": 4,
    "start_time": "2021-07-12T20:53:49.900Z"
   },
   {
    "duration": 4,
    "start_time": "2021-07-12T20:53:52.010Z"
   },
   {
    "duration": 27910,
    "start_time": "2021-07-12T20:53:53.094Z"
   },
   {
    "duration": 237,
    "start_time": "2021-07-12T20:54:25.859Z"
   },
   {
    "duration": 6,
    "start_time": "2021-07-12T20:54:27.694Z"
   },
   {
    "duration": 4,
    "start_time": "2021-07-12T20:54:57.930Z"
   },
   {
    "duration": 4,
    "start_time": "2021-07-12T20:54:59.448Z"
   },
   {
    "duration": 4,
    "start_time": "2021-07-12T20:55:01.794Z"
   },
   {
    "duration": 972443,
    "start_time": "2021-07-12T20:55:03.666Z"
   },
   {
    "duration": 6,
    "start_time": "2021-07-12T21:11:36.005Z"
   },
   {
    "duration": 4,
    "start_time": "2021-07-12T21:11:38.918Z"
   },
   {
    "duration": 60383,
    "start_time": "2021-07-12T21:11:40.853Z"
   },
   {
    "duration": 59,
    "start_time": "2021-07-12T21:12:41.239Z"
   },
   {
    "duration": 6,
    "start_time": "2021-07-12T21:13:04.740Z"
   },
   {
    "duration": 3,
    "start_time": "2021-07-12T21:13:23.687Z"
   },
   {
    "duration": 5,
    "start_time": "2021-07-12T21:13:24.741Z"
   },
   {
    "duration": 4,
    "start_time": "2021-07-12T21:13:25.653Z"
   },
   {
    "duration": 3,
    "start_time": "2021-07-12T21:13:26.460Z"
   },
   {
    "duration": 1486397,
    "start_time": "2021-07-12T21:13:28.301Z"
   },
   {
    "duration": 5,
    "start_time": "2021-07-12T21:45:59.137Z"
   },
   {
    "duration": 4,
    "start_time": "2021-07-12T21:46:10.480Z"
   },
   {
    "duration": 72056,
    "start_time": "2021-07-12T21:46:33.239Z"
   },
   {
    "duration": 8070,
    "start_time": "2021-07-12T21:47:52.573Z"
   },
   {
    "duration": 5,
    "start_time": "2021-07-12T21:48:45.345Z"
   },
   {
    "duration": 444,
    "start_time": "2021-07-12T22:07:08.332Z"
   },
   {
    "duration": 16,
    "start_time": "2021-07-12T22:07:18.008Z"
   },
   {
    "duration": 101,
    "start_time": "2021-07-12T22:11:39.795Z"
   },
   {
    "duration": 17,
    "start_time": "2021-07-12T22:12:17.605Z"
   },
   {
    "duration": 15,
    "start_time": "2021-07-12T22:13:50.374Z"
   },
   {
    "duration": 1475,
    "start_time": "2021-07-13T18:51:04.825Z"
   },
   {
    "duration": 1271,
    "start_time": "2021-07-13T18:51:06.303Z"
   },
   {
    "duration": 6,
    "start_time": "2021-07-13T18:51:10.110Z"
   },
   {
    "duration": 719,
    "start_time": "2021-07-13T18:51:13.798Z"
   },
   {
    "duration": 1297,
    "start_time": "2021-07-13T18:51:16.343Z"
   },
   {
    "duration": 60,
    "start_time": "2021-07-13T18:52:35.520Z"
   },
   {
    "duration": 19,
    "start_time": "2021-07-13T18:52:37.321Z"
   },
   {
    "duration": 109,
    "start_time": "2021-07-13T19:01:25.802Z"
   },
   {
    "duration": 128,
    "start_time": "2021-07-13T19:01:55.693Z"
   },
   {
    "duration": 167,
    "start_time": "2021-07-13T19:05:04.761Z"
   },
   {
    "duration": 39,
    "start_time": "2021-07-13T19:05:28.966Z"
   },
   {
    "duration": 8,
    "start_time": "2021-07-13T19:06:13.847Z"
   },
   {
    "duration": 406,
    "start_time": "2021-07-13T19:08:34.250Z"
   },
   {
    "duration": 1333,
    "start_time": "2021-07-13T19:08:58.827Z"
   },
   {
    "duration": 1284,
    "start_time": "2021-07-13T19:09:00.163Z"
   },
   {
    "duration": 5,
    "start_time": "2021-07-13T19:09:01.449Z"
   },
   {
    "duration": 785,
    "start_time": "2021-07-13T19:09:02.225Z"
   },
   {
    "duration": 1346,
    "start_time": "2021-07-13T19:09:03.013Z"
   },
   {
    "duration": 77,
    "start_time": "2021-07-13T19:09:04.362Z"
   },
   {
    "duration": 269,
    "start_time": "2021-07-13T19:09:07.676Z"
   },
   {
    "duration": 38,
    "start_time": "2021-07-13T19:11:42.949Z"
   },
   {
    "duration": 21,
    "start_time": "2021-07-13T19:12:15.198Z"
   },
   {
    "duration": 23,
    "start_time": "2021-07-13T19:12:22.176Z"
   },
   {
    "duration": 37,
    "start_time": "2021-07-13T19:12:42.494Z"
   },
   {
    "duration": 25,
    "start_time": "2021-07-13T19:33:50.289Z"
   },
   {
    "duration": 221,
    "start_time": "2021-07-13T19:33:52.738Z"
   },
   {
    "duration": 6,
    "start_time": "2021-07-13T19:33:59.208Z"
   },
   {
    "duration": 22,
    "start_time": "2021-07-13T19:34:03.544Z"
   },
   {
    "duration": 26,
    "start_time": "2021-07-13T19:34:36.356Z"
   },
   {
    "duration": 138,
    "start_time": "2021-07-13T19:35:42.962Z"
   },
   {
    "duration": 215,
    "start_time": "2021-07-13T19:36:15.275Z"
   },
   {
    "duration": 1497,
    "start_time": "2021-07-13T19:36:37.278Z"
   },
   {
    "duration": 1296,
    "start_time": "2021-07-13T19:36:38.778Z"
   },
   {
    "duration": 5,
    "start_time": "2021-07-13T19:36:40.077Z"
   },
   {
    "duration": 778,
    "start_time": "2021-07-13T19:36:41.135Z"
   },
   {
    "duration": 1272,
    "start_time": "2021-07-13T19:36:41.916Z"
   },
   {
    "duration": 71,
    "start_time": "2021-07-13T19:36:43.191Z"
   },
   {
    "duration": 259,
    "start_time": "2021-07-13T19:36:45.148Z"
   },
   {
    "duration": 42,
    "start_time": "2021-07-13T19:36:45.609Z"
   },
   {
    "duration": 27,
    "start_time": "2021-07-13T19:36:48.680Z"
   },
   {
    "duration": 242,
    "start_time": "2021-07-13T19:36:49.503Z"
   },
   {
    "duration": 406,
    "start_time": "2021-07-13T19:37:23.935Z"
   },
   {
    "duration": 433,
    "start_time": "2021-07-13T19:37:49.935Z"
   },
   {
    "duration": 25,
    "start_time": "2021-07-13T19:38:12.087Z"
   },
   {
    "duration": 420,
    "start_time": "2021-07-13T19:38:16.551Z"
   },
   {
    "duration": 416,
    "start_time": "2021-07-13T19:38:24.294Z"
   },
   {
    "duration": 439,
    "start_time": "2021-07-13T19:38:39.352Z"
   },
   {
    "duration": 109,
    "start_time": "2021-07-13T19:38:50.871Z"
   },
   {
    "duration": 478,
    "start_time": "2021-07-13T19:38:58.067Z"
   },
   {
    "duration": 25,
    "start_time": "2021-07-13T19:39:23.479Z"
   },
   {
    "duration": 437,
    "start_time": "2021-07-13T19:39:31.832Z"
   },
   {
    "duration": 457,
    "start_time": "2021-07-13T19:39:49.535Z"
   },
   {
    "duration": 432,
    "start_time": "2021-07-13T20:25:30.796Z"
   },
   {
    "duration": 415,
    "start_time": "2021-07-13T20:45:17.888Z"
   },
   {
    "duration": 425,
    "start_time": "2021-07-13T20:45:28.486Z"
   },
   {
    "duration": 1475,
    "start_time": "2021-07-14T18:25:35.711Z"
   },
   {
    "duration": 1889,
    "start_time": "2021-07-14T18:25:37.189Z"
   },
   {
    "duration": 6,
    "start_time": "2021-07-14T18:25:39.082Z"
   },
   {
    "duration": 871,
    "start_time": "2021-07-14T18:25:41.767Z"
   },
   {
    "duration": 1345,
    "start_time": "2021-07-14T18:25:44.535Z"
   },
   {
    "duration": 83,
    "start_time": "2021-07-14T18:25:45.883Z"
   },
   {
    "duration": 26,
    "start_time": "2021-07-14T18:26:06.952Z"
   },
   {
    "duration": 449,
    "start_time": "2021-07-14T18:26:09.775Z"
   },
   {
    "duration": 448,
    "start_time": "2021-07-14T18:31:14.940Z"
   },
   {
    "duration": 7811,
    "start_time": "2021-07-14T18:31:30.547Z"
   },
   {
    "duration": 66,
    "start_time": "2021-07-14T18:32:05.800Z"
   },
   {
    "duration": 5,
    "start_time": "2021-07-14T18:32:08.713Z"
   },
   {
    "duration": 24,
    "start_time": "2021-07-14T18:32:12.330Z"
   },
   {
    "duration": 102,
    "start_time": "2021-07-14T18:32:16.737Z"
   },
   {
    "duration": 432,
    "start_time": "2021-07-14T18:32:26.945Z"
   },
   {
    "duration": 32,
    "start_time": "2021-07-14T18:33:14.548Z"
   },
   {
    "duration": 280,
    "start_time": "2021-07-14T18:35:42.675Z"
   },
   {
    "duration": 9,
    "start_time": "2021-07-14T18:35:45.586Z"
   },
   {
    "duration": 5,
    "start_time": "2021-07-14T18:35:47.579Z"
   },
   {
    "duration": 23,
    "start_time": "2021-07-14T18:35:54.499Z"
   },
   {
    "duration": 472,
    "start_time": "2021-07-14T18:36:18.532Z"
   },
   {
    "duration": 670,
    "start_time": "2021-07-14T18:36:35.868Z"
   },
   {
    "duration": 24,
    "start_time": "2021-07-14T18:40:54.029Z"
   },
   {
    "duration": 49,
    "start_time": "2021-07-14T18:42:21.358Z"
   },
   {
    "duration": 2045,
    "start_time": "2021-07-14T18:42:40.853Z"
   },
   {
    "duration": 1649,
    "start_time": "2021-07-14T18:42:42.902Z"
   },
   {
    "duration": 5,
    "start_time": "2021-07-14T18:42:44.562Z"
   },
   {
    "duration": 816,
    "start_time": "2021-07-14T18:42:44.745Z"
   },
   {
    "duration": 1422,
    "start_time": "2021-07-14T18:42:45.564Z"
   },
   {
    "duration": 83,
    "start_time": "2021-07-14T18:42:46.989Z"
   },
   {
    "duration": 284,
    "start_time": "2021-07-14T18:42:53.264Z"
   },
   {
    "duration": 26,
    "start_time": "2021-07-14T18:42:56.769Z"
   },
   {
    "duration": 468,
    "start_time": "2021-07-14T18:42:57.959Z"
   },
   {
    "duration": 67,
    "start_time": "2021-07-14T18:43:01.173Z"
   },
   {
    "duration": 5,
    "start_time": "2021-07-14T18:43:01.728Z"
   },
   {
    "duration": 25,
    "start_time": "2021-07-14T18:43:02.345Z"
   },
   {
    "duration": 646,
    "start_time": "2021-07-14T18:43:03.370Z"
   },
   {
    "duration": 24,
    "start_time": "2021-07-14T18:43:08.699Z"
   },
   {
    "duration": 67,
    "start_time": "2021-07-14T18:43:34.964Z"
   },
   {
    "duration": 5,
    "start_time": "2021-07-14T18:43:35.462Z"
   },
   {
    "duration": 25,
    "start_time": "2021-07-14T18:43:37.808Z"
   },
   {
    "duration": 429,
    "start_time": "2021-07-14T18:43:40.306Z"
   },
   {
    "duration": 468,
    "start_time": "2021-07-14T18:43:47.729Z"
   },
   {
    "duration": 34,
    "start_time": "2021-07-14T18:45:50.268Z"
   },
   {
    "duration": 20,
    "start_time": "2021-07-14T18:46:18.491Z"
   },
   {
    "duration": 20,
    "start_time": "2021-07-14T18:46:43.460Z"
   },
   {
    "duration": 32,
    "start_time": "2021-07-14T18:47:17.863Z"
   },
   {
    "duration": 36,
    "start_time": "2021-07-14T18:47:22.851Z"
   },
   {
    "duration": 36,
    "start_time": "2021-07-14T18:58:23.678Z"
   },
   {
    "duration": 18,
    "start_time": "2021-07-14T18:58:51.430Z"
   },
   {
    "duration": 10,
    "start_time": "2021-07-14T19:05:51.582Z"
   },
   {
    "duration": 23,
    "start_time": "2021-07-14T19:06:02.717Z"
   },
   {
    "duration": 31,
    "start_time": "2021-07-14T19:08:44.698Z"
   },
   {
    "duration": 22,
    "start_time": "2021-07-14T19:14:09.100Z"
   },
   {
    "duration": 5,
    "start_time": "2021-07-14T19:14:10.083Z"
   },
   {
    "duration": 9,
    "start_time": "2021-07-14T19:15:30.788Z"
   },
   {
    "duration": 5,
    "start_time": "2021-07-14T19:15:33.004Z"
   },
   {
    "duration": 1509,
    "start_time": "2021-07-14T19:15:45.970Z"
   },
   {
    "duration": 1307,
    "start_time": "2021-07-14T19:15:47.482Z"
   },
   {
    "duration": 5,
    "start_time": "2021-07-14T19:15:48.791Z"
   },
   {
    "duration": 819,
    "start_time": "2021-07-14T19:15:49.429Z"
   },
   {
    "duration": 1438,
    "start_time": "2021-07-14T19:15:50.250Z"
   },
   {
    "duration": 81,
    "start_time": "2021-07-14T19:15:51.690Z"
   },
   {
    "duration": 274,
    "start_time": "2021-07-14T19:15:53.175Z"
   },
   {
    "duration": 26,
    "start_time": "2021-07-14T19:15:56.701Z"
   },
   {
    "duration": 457,
    "start_time": "2021-07-14T19:15:57.069Z"
   },
   {
    "duration": 65,
    "start_time": "2021-07-14T19:16:01.375Z"
   },
   {
    "duration": 6,
    "start_time": "2021-07-14T19:16:01.847Z"
   },
   {
    "duration": 26,
    "start_time": "2021-07-14T19:16:02.263Z"
   },
   {
    "duration": 643,
    "start_time": "2021-07-14T19:16:04.723Z"
   },
   {
    "duration": 25,
    "start_time": "2021-07-14T19:16:05.647Z"
   },
   {
    "duration": 65,
    "start_time": "2021-07-14T19:16:14.589Z"
   },
   {
    "duration": 6,
    "start_time": "2021-07-14T19:16:15.294Z"
   },
   {
    "duration": 23,
    "start_time": "2021-07-14T19:16:17.089Z"
   },
   {
    "duration": 490,
    "start_time": "2021-07-14T19:16:19.862Z"
   },
   {
    "duration": 53,
    "start_time": "2021-07-14T19:16:29.117Z"
   },
   {
    "duration": 5,
    "start_time": "2021-07-14T19:16:29.646Z"
   },
   {
    "duration": 927,
    "start_time": "2021-07-14T19:17:25.907Z"
   },
   {
    "duration": 779,
    "start_time": "2021-07-14T19:19:22.937Z"
   },
   {
    "duration": 1502,
    "start_time": "2021-07-14T19:19:27.000Z"
   },
   {
    "duration": 4,
    "start_time": "2021-07-14T19:19:29.587Z"
   },
   {
    "duration": 38,
    "start_time": "2021-07-14T19:19:46.141Z"
   },
   {
    "duration": 3,
    "start_time": "2021-07-14T19:20:11.596Z"
   },
   {
    "duration": 4,
    "start_time": "2021-07-14T19:20:12.111Z"
   },
   {
    "duration": 3,
    "start_time": "2021-07-14T19:20:14.031Z"
   },
   {
    "duration": 4,
    "start_time": "2021-07-14T19:20:16.402Z"
   },
   {
    "duration": 30608,
    "start_time": "2021-07-14T19:20:16.856Z"
   },
   {
    "duration": 295,
    "start_time": "2021-07-14T19:20:47.468Z"
   },
   {
    "duration": 5,
    "start_time": "2021-07-14T19:21:44.791Z"
   },
   {
    "duration": 4,
    "start_time": "2021-07-14T19:22:09.113Z"
   },
   {
    "duration": 5,
    "start_time": "2021-07-14T19:22:11.065Z"
   },
   {
    "duration": 3,
    "start_time": "2021-07-14T19:22:13.350Z"
   },
   {
    "duration": 1211025,
    "start_time": "2021-07-14T19:22:15.076Z"
   },
   {
    "duration": 14,
    "start_time": "2021-07-14T19:42:26.104Z"
   },
   {
    "duration": 5,
    "start_time": "2021-07-14T19:46:37.366Z"
   },
   {
    "duration": 4,
    "start_time": "2021-07-14T19:47:02.892Z"
   },
   {
    "duration": 76289,
    "start_time": "2021-07-14T19:47:04.033Z"
   },
   {
    "duration": 62,
    "start_time": "2021-07-14T19:48:27.532Z"
   },
   {
    "duration": 6,
    "start_time": "2021-07-14T19:48:29.033Z"
   },
   {
    "duration": 3,
    "start_time": "2021-07-14T19:48:38.148Z"
   },
   {
    "duration": 6,
    "start_time": "2021-07-14T19:48:38.973Z"
   },
   {
    "duration": 4,
    "start_time": "2021-07-14T19:48:43.905Z"
   },
   {
    "duration": 4,
    "start_time": "2021-07-14T19:48:45.771Z"
   },
   {
    "duration": 1523,
    "start_time": "2021-07-14T19:50:55.895Z"
   },
   {
    "duration": 1320,
    "start_time": "2021-07-14T19:50:57.420Z"
   },
   {
    "duration": 4,
    "start_time": "2021-07-14T19:51:05.510Z"
   },
   {
    "duration": 811,
    "start_time": "2021-07-14T19:51:08.488Z"
   },
   {
    "duration": 1427,
    "start_time": "2021-07-14T19:51:09.302Z"
   },
   {
    "duration": 79,
    "start_time": "2021-07-14T19:51:11.065Z"
   },
   {
    "duration": 576,
    "start_time": "2021-07-14T19:51:16.198Z"
   },
   {
    "duration": 25,
    "start_time": "2021-07-14T19:51:20.122Z"
   },
   {
    "duration": 447,
    "start_time": "2021-07-14T19:51:22.443Z"
   },
   {
    "duration": 67,
    "start_time": "2021-07-14T19:51:25.526Z"
   },
   {
    "duration": 5,
    "start_time": "2021-07-14T19:51:26.053Z"
   },
   {
    "duration": 26,
    "start_time": "2021-07-14T19:51:26.551Z"
   },
   {
    "duration": 641,
    "start_time": "2021-07-14T19:51:28.900Z"
   },
   {
    "duration": 31,
    "start_time": "2021-07-14T19:51:29.544Z"
   },
   {
    "duration": 64,
    "start_time": "2021-07-14T19:51:34.890Z"
   },
   {
    "duration": 5,
    "start_time": "2021-07-14T19:51:35.501Z"
   },
   {
    "duration": 23,
    "start_time": "2021-07-14T19:51:35.987Z"
   },
   {
    "duration": 469,
    "start_time": "2021-07-14T19:51:38.773Z"
   },
   {
    "duration": 54,
    "start_time": "2021-07-14T19:51:45.716Z"
   },
   {
    "duration": 6,
    "start_time": "2021-07-14T19:51:46.348Z"
   },
   {
    "duration": 20,
    "start_time": "2021-07-14T19:52:01.225Z"
   },
   {
    "duration": 22,
    "start_time": "2021-07-14T19:53:27.340Z"
   },
   {
    "duration": 15,
    "start_time": "2021-07-14T19:53:37.151Z"
   },
   {
    "duration": 1079,
    "start_time": "2021-07-14T19:53:48.378Z"
   },
   {
    "duration": 979,
    "start_time": "2021-07-14T19:53:49.462Z"
   },
   {
    "duration": 5,
    "start_time": "2021-07-14T19:53:50.444Z"
   },
   {
    "duration": 946,
    "start_time": "2021-07-14T19:53:51.752Z"
   },
   {
    "duration": 5,
    "start_time": "2021-07-14T19:53:53.380Z"
   },
   {
    "duration": 52,
    "start_time": "2021-07-14T19:53:55.918Z"
   },
   {
    "duration": 4,
    "start_time": "2021-07-14T19:53:58.083Z"
   },
   {
    "duration": 4,
    "start_time": "2021-07-14T19:53:58.487Z"
   },
   {
    "duration": 4,
    "start_time": "2021-07-14T19:53:59.829Z"
   },
   {
    "duration": 4,
    "start_time": "2021-07-14T19:54:09.685Z"
   },
   {
    "duration": 4,
    "start_time": "2021-07-14T19:54:12.590Z"
   },
   {
    "duration": 20158,
    "start_time": "2021-07-14T19:54:13.007Z"
   },
   {
    "duration": 121,
    "start_time": "2021-07-14T19:54:35.546Z"
   },
   {
    "duration": 6,
    "start_time": "2021-07-14T19:54:36.426Z"
   },
   {
    "duration": 4,
    "start_time": "2021-07-14T19:54:39.886Z"
   },
   {
    "duration": 5,
    "start_time": "2021-07-14T19:54:41.772Z"
   },
   {
    "duration": 4,
    "start_time": "2021-07-14T19:54:45.527Z"
   },
   {
    "duration": 525334,
    "start_time": "2021-07-14T19:54:50.837Z"
   },
   {
    "duration": 4,
    "start_time": "2021-07-14T20:03:42.682Z"
   },
   {
    "duration": 4,
    "start_time": "2021-07-14T20:03:46.490Z"
   },
   {
    "duration": 63118,
    "start_time": "2021-07-14T20:03:47.792Z"
   },
   {
    "duration": 89,
    "start_time": "2021-07-14T20:05:51.987Z"
   },
   {
    "duration": 7,
    "start_time": "2021-07-14T20:05:53.286Z"
   },
   {
    "duration": 5,
    "start_time": "2021-07-14T20:05:58.251Z"
   },
   {
    "duration": 8,
    "start_time": "2021-07-14T20:05:58.853Z"
   },
   {
    "duration": 5,
    "start_time": "2021-07-14T20:06:01.490Z"
   },
   {
    "duration": 4,
    "start_time": "2021-07-14T20:06:02.479Z"
   },
   {
    "duration": 690550,
    "start_time": "2021-07-14T20:06:03.226Z"
   },
   {
    "duration": 4,
    "start_time": "2021-07-14T20:17:40.819Z"
   },
   {
    "duration": 4,
    "start_time": "2021-07-14T20:17:44.572Z"
   },
   {
    "duration": 59688,
    "start_time": "2021-07-14T20:17:45.291Z"
   },
   {
    "duration": 7037,
    "start_time": "2021-07-14T20:19:02.798Z"
   },
   {
    "duration": 7,
    "start_time": "2021-07-14T20:19:12.167Z"
   },
   {
    "duration": 16,
    "start_time": "2021-07-14T20:19:18.144Z"
   },
   {
    "duration": 5,
    "start_time": "2021-07-14T20:30:07.037Z"
   },
   {
    "duration": 1569,
    "start_time": "2021-07-14T20:31:26.789Z"
   },
   {
    "duration": 1326,
    "start_time": "2021-07-14T20:31:28.362Z"
   },
   {
    "duration": 4,
    "start_time": "2021-07-14T20:31:29.691Z"
   },
   {
    "duration": 5,
    "start_time": "2021-07-14T20:31:33.021Z"
   },
   {
    "duration": 819,
    "start_time": "2021-07-14T20:31:36.895Z"
   },
   {
    "duration": 1428,
    "start_time": "2021-07-14T20:31:37.717Z"
   },
   {
    "duration": 59,
    "start_time": "2021-07-14T20:32:03.119Z"
   },
   {
    "duration": 19,
    "start_time": "2021-07-14T20:32:06.205Z"
   },
   {
    "duration": 27,
    "start_time": "2021-07-14T20:32:15.087Z"
   },
   {
    "duration": 444,
    "start_time": "2021-07-14T20:32:18.331Z"
   },
   {
    "duration": 54,
    "start_time": "2021-07-14T20:32:22.337Z"
   },
   {
    "duration": 6,
    "start_time": "2021-07-14T20:32:22.853Z"
   },
   {
    "duration": 26,
    "start_time": "2021-07-14T20:32:23.381Z"
   },
   {
    "duration": 676,
    "start_time": "2021-07-14T20:32:25.854Z"
   },
   {
    "duration": 33,
    "start_time": "2021-07-14T20:32:26.533Z"
   },
   {
    "duration": 55,
    "start_time": "2021-07-14T20:32:30.672Z"
   },
   {
    "duration": 5,
    "start_time": "2021-07-14T20:32:31.259Z"
   },
   {
    "duration": 25,
    "start_time": "2021-07-14T20:32:32.048Z"
   },
   {
    "duration": 472,
    "start_time": "2021-07-14T20:32:35.003Z"
   },
   {
    "duration": 45,
    "start_time": "2021-07-14T20:32:38.843Z"
   },
   {
    "duration": 6,
    "start_time": "2021-07-14T20:32:39.459Z"
   },
   {
    "duration": 687,
    "start_time": "2021-07-14T20:32:44.407Z"
   },
   {
    "duration": 961,
    "start_time": "2021-07-14T20:33:04.631Z"
   },
   {
    "duration": 5,
    "start_time": "2021-07-14T20:33:06.390Z"
   },
   {
    "duration": 37,
    "start_time": "2021-07-14T20:33:09.567Z"
   },
   {
    "duration": 4,
    "start_time": "2021-07-14T20:33:11.967Z"
   },
   {
    "duration": 4,
    "start_time": "2021-07-14T20:33:12.543Z"
   },
   {
    "duration": 3,
    "start_time": "2021-07-14T20:33:14.257Z"
   },
   {
    "duration": 3,
    "start_time": "2021-07-14T20:33:18.399Z"
   },
   {
    "duration": 20187,
    "start_time": "2021-07-14T20:33:19.382Z"
   },
   {
    "duration": 118,
    "start_time": "2021-07-14T20:33:41.149Z"
   },
   {
    "duration": 7,
    "start_time": "2021-07-14T20:33:41.964Z"
   },
   {
    "duration": 5,
    "start_time": "2021-07-14T20:33:45.427Z"
   },
   {
    "duration": 5,
    "start_time": "2021-07-14T20:33:46.296Z"
   },
   {
    "duration": 5,
    "start_time": "2021-07-14T20:34:26.633Z"
   },
   {
    "duration": 342153,
    "start_time": "2021-07-14T20:34:27.797Z"
   },
   {
    "duration": 5,
    "start_time": "2021-07-14T20:40:24.801Z"
   },
   {
    "duration": 3,
    "start_time": "2021-07-14T20:40:48.755Z"
   },
   {
    "duration": 63544,
    "start_time": "2021-07-14T20:40:51.102Z"
   },
   {
    "duration": 121,
    "start_time": "2021-07-14T20:41:54.649Z"
   },
   {
    "duration": 6,
    "start_time": "2021-07-14T20:41:56.257Z"
   },
   {
    "duration": 5,
    "start_time": "2021-07-14T20:42:01.839Z"
   },
   {
    "duration": 8,
    "start_time": "2021-07-14T20:42:02.322Z"
   },
   {
    "duration": 5,
    "start_time": "2021-07-14T20:42:05.080Z"
   },
   {
    "duration": 3,
    "start_time": "2021-07-14T20:42:05.852Z"
   },
   {
    "duration": 511357,
    "start_time": "2021-07-14T20:42:07.314Z"
   },
   {
    "duration": 6,
    "start_time": "2021-07-14T20:51:39.483Z"
   },
   {
    "duration": 3,
    "start_time": "2021-07-14T20:51:42.579Z"
   },
   {
    "duration": 61678,
    "start_time": "2021-07-14T20:51:51.501Z"
   },
   {
    "duration": 7003,
    "start_time": "2021-07-14T20:53:44.872Z"
   },
   {
    "duration": 6,
    "start_time": "2021-07-14T20:53:51.877Z"
   },
   {
    "duration": 15,
    "start_time": "2021-07-14T21:04:35.895Z"
   },
   {
    "duration": 3,
    "start_time": "2021-07-14T21:16:57.909Z"
   },
   {
    "duration": 4,
    "start_time": "2021-07-14T21:16:58.523Z"
   },
   {
    "duration": 3,
    "start_time": "2021-07-14T21:17:06.883Z"
   },
   {
    "duration": 4,
    "start_time": "2021-07-14T21:17:07.377Z"
   },
   {
    "duration": 228047,
    "start_time": "2021-07-14T21:17:08.171Z"
   },
   {
    "duration": 5,
    "start_time": "2021-07-14T21:21:14.559Z"
   },
   {
    "duration": 4,
    "start_time": "2021-07-14T21:21:32.629Z"
   },
   {
    "duration": 40726,
    "start_time": "2021-07-14T21:21:34.906Z"
   },
   {
    "duration": 23,
    "start_time": "2021-07-14T21:22:18.423Z"
   },
   {
    "duration": 7,
    "start_time": "2021-07-14T21:22:20.743Z"
   },
   {
    "duration": 4,
    "start_time": "2021-07-14T21:23:00.834Z"
   },
   {
    "duration": 4,
    "start_time": "2021-07-14T21:23:01.426Z"
   },
   {
    "duration": 259152,
    "start_time": "2021-07-14T21:23:02.526Z"
   },
   {
    "duration": 3,
    "start_time": "2021-07-14T21:27:21.681Z"
   },
   {
    "duration": 4,
    "start_time": "2021-07-14T21:27:26.213Z"
   },
   {
    "duration": 4,
    "start_time": "2021-07-14T21:27:37.295Z"
   },
   {
    "duration": 34093,
    "start_time": "2021-07-14T21:27:40.779Z"
   },
   {
    "duration": 3585,
    "start_time": "2021-07-14T21:28:18.613Z"
   },
   {
    "duration": 6,
    "start_time": "2021-07-14T21:28:27.766Z"
   },
   {
    "duration": 1517,
    "start_time": "2021-07-15T17:14:16.561Z"
   },
   {
    "duration": 1278,
    "start_time": "2021-07-15T17:14:18.648Z"
   },
   {
    "duration": 4,
    "start_time": "2021-07-15T17:14:19.929Z"
   },
   {
    "duration": 739,
    "start_time": "2021-07-15T17:14:23.135Z"
   },
   {
    "duration": 1217,
    "start_time": "2021-07-15T17:14:24.132Z"
   },
   {
    "duration": 59,
    "start_time": "2021-07-15T17:15:02.053Z"
   },
   {
    "duration": 17,
    "start_time": "2021-07-15T17:15:09.531Z"
   },
   {
    "duration": 26,
    "start_time": "2021-07-15T17:15:13.249Z"
   },
   {
    "duration": 426,
    "start_time": "2021-07-15T17:15:15.276Z"
   },
   {
    "duration": 54,
    "start_time": "2021-07-15T17:15:20.921Z"
   },
   {
    "duration": 5,
    "start_time": "2021-07-15T17:15:21.637Z"
   },
   {
    "duration": 24,
    "start_time": "2021-07-15T17:15:22.260Z"
   },
   {
    "duration": 606,
    "start_time": "2021-07-15T17:15:25.076Z"
   },
   {
    "duration": 21,
    "start_time": "2021-07-15T17:15:29.077Z"
   },
   {
    "duration": 53,
    "start_time": "2021-07-15T17:15:31.821Z"
   },
   {
    "duration": 5,
    "start_time": "2021-07-15T17:15:32.576Z"
   },
   {
    "duration": 23,
    "start_time": "2021-07-15T17:15:35.141Z"
   },
   {
    "duration": 455,
    "start_time": "2021-07-15T17:15:37.352Z"
   },
   {
    "duration": 39,
    "start_time": "2021-07-15T17:15:45.732Z"
   },
   {
    "duration": 6,
    "start_time": "2021-07-15T17:15:48.459Z"
   },
   {
    "duration": 560,
    "start_time": "2021-07-15T17:15:55.176Z"
   },
   {
    "duration": 964,
    "start_time": "2021-07-15T17:15:56.084Z"
   },
   {
    "duration": 5,
    "start_time": "2021-07-15T17:16:00.101Z"
   },
   {
    "duration": 101,
    "start_time": "2021-07-15T17:16:04.694Z"
   },
   {
    "duration": 4,
    "start_time": "2021-07-15T17:16:19.083Z"
   },
   {
    "duration": 4,
    "start_time": "2021-07-15T17:16:21.352Z"
   },
   {
    "duration": 3,
    "start_time": "2021-07-15T17:16:25.292Z"
   },
   {
    "duration": 4,
    "start_time": "2021-07-15T17:17:04.034Z"
   },
   {
    "duration": 21674,
    "start_time": "2021-07-15T17:17:05.135Z"
   },
   {
    "duration": 151,
    "start_time": "2021-07-15T17:17:43.251Z"
   },
   {
    "duration": 6,
    "start_time": "2021-07-15T17:17:44.311Z"
   },
   {
    "duration": 3,
    "start_time": "2021-07-15T17:18:05.480Z"
   },
   {
    "duration": 4,
    "start_time": "2021-07-15T17:18:13.491Z"
   },
   {
    "duration": 4,
    "start_time": "2021-07-15T17:18:15.511Z"
   },
   {
    "duration": 533101,
    "start_time": "2021-07-15T17:18:17.429Z"
   },
   {
    "duration": 5,
    "start_time": "2021-07-15T17:27:47.124Z"
   },
   {
    "duration": 4,
    "start_time": "2021-07-15T17:30:52.230Z"
   },
   {
    "duration": 62166,
    "start_time": "2021-07-15T17:30:53.339Z"
   },
   {
    "duration": 61,
    "start_time": "2021-07-15T17:33:59.145Z"
   },
   {
    "duration": 6,
    "start_time": "2021-07-15T17:34:00.205Z"
   },
   {
    "duration": 4,
    "start_time": "2021-07-15T17:34:08.383Z"
   },
   {
    "duration": 5,
    "start_time": "2021-07-15T17:34:10.719Z"
   },
   {
    "duration": 4,
    "start_time": "2021-07-15T17:34:29.768Z"
   },
   {
    "duration": 4,
    "start_time": "2021-07-15T17:34:31.931Z"
   },
   {
    "duration": 725143,
    "start_time": "2021-07-15T17:34:33.170Z"
   },
   {
    "duration": 5,
    "start_time": "2021-07-15T17:46:46.249Z"
   },
   {
    "duration": 3,
    "start_time": "2021-07-15T17:46:59.444Z"
   },
   {
    "duration": 64884,
    "start_time": "2021-07-15T17:47:00.429Z"
   },
   {
    "duration": 7655,
    "start_time": "2021-07-15T17:48:14.647Z"
   },
   {
    "duration": 7,
    "start_time": "2021-07-15T17:48:31.556Z"
   },
   {
    "duration": 15,
    "start_time": "2021-07-15T17:48:41.207Z"
   },
   {
    "duration": 16,
    "start_time": "2021-07-15T18:06:29.369Z"
   },
   {
    "duration": 20536,
    "start_time": "2021-07-15T18:13:48.072Z"
   },
   {
    "duration": 465,
    "start_time": "2021-07-15T18:14:11.142Z"
   },
   {
    "duration": 390,
    "start_time": "2021-07-15T18:14:42.902Z"
   },
   {
    "duration": 274,
    "start_time": "2021-07-15T18:17:05.950Z"
   },
   {
    "duration": 392,
    "start_time": "2021-07-15T18:17:13.013Z"
   },
   {
    "duration": 21429,
    "start_time": "2021-07-15T18:19:01.278Z"
   },
   {
    "duration": 16,
    "start_time": "2021-07-15T18:20:24.971Z"
   },
   {
    "duration": 329,
    "start_time": "2021-07-16T14:49:23.262Z"
   },
   {
    "duration": 571,
    "start_time": "2021-10-30T17:58:17.420Z"
   },
   {
    "duration": 1354,
    "start_time": "2022-02-07T18:56:27.040Z"
   },
   {
    "duration": 3,
    "start_time": "2022-02-07T18:56:33.749Z"
   }
  ],
  "accelerator": "GPU",
  "colab": {
   "name": "проект_1.ipynb",
   "provenance": []
  },
  "kernelspec": {
   "display_name": "Python 3",
   "language": "python",
   "name": "python3"
  },
  "language_info": {
   "codemirror_mode": {
    "name": "ipython",
    "version": 3
   },
   "file_extension": ".py",
   "mimetype": "text/x-python",
   "name": "python",
   "nbconvert_exporter": "python",
   "pygments_lexer": "ipython3",
   "version": "3.8.8"
  },
  "toc": {
   "base_numbering": 1,
   "nav_menu": {},
   "number_sections": true,
   "sideBar": true,
   "skip_h1_title": true,
   "title_cell": "Table of Contents",
   "title_sidebar": "Contents",
   "toc_cell": false,
   "toc_position": {},
   "toc_section_display": true,
   "toc_window_display": false
  }
 },
 "nbformat": 4,
 "nbformat_minor": 1
}
