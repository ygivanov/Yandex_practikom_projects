{
 "cells": [
  {
   "cell_type": "markdown",
   "metadata": {
    "toc": true
   },
   "source": [
    "<h1>Содержание<span class=\"tocSkip\"></span></h1>\n",
    "<div class=\"toc\"><ul class=\"toc-item\"><li><ul class=\"toc-item\"><li><ul class=\"toc-item\"><li><span><a href=\"#Полезные-ссылки:\" data-toc-modified-id=\"Полезные-ссылки:-0.0.1\"><span class=\"toc-item-num\">0.0.1&nbsp;&nbsp;</span><font color=\"orange\">Полезные ссылки:</font></a></span></li></ul></li><li><span><a href=\"#Общее-впечатление\" data-toc-modified-id=\"Общее-впечатление-0.1\"><span class=\"toc-item-num\">0.1&nbsp;&nbsp;</span><font color=\"orange\">Общее впечатление</font></a></span></li><li><span><a href=\"#Общее-впечатление-(ревью-2)\" data-toc-modified-id=\"Общее-впечатление-(ревью-2)-0.2\"><span class=\"toc-item-num\">0.2&nbsp;&nbsp;</span><font color=\"orange\">Общее впечатление (ревью 2)</font></a></span></li></ul></li><li><span><a href=\"#Приветствие-для-ревьюера\" data-toc-modified-id=\"Приветствие-для-ревьюера-1\"><span class=\"toc-item-num\">1&nbsp;&nbsp;</span>Приветствие для ревьюера</a></span></li><li><span><a href=\"#Подготовка\" data-toc-modified-id=\"Подготовка-2\"><span class=\"toc-item-num\">2&nbsp;&nbsp;</span>Подготовка</a></span></li><li><span><a href=\"#Анализ\" data-toc-modified-id=\"Анализ-3\"><span class=\"toc-item-num\">3&nbsp;&nbsp;</span>Анализ</a></span></li><li><span><a href=\"#Обучение\" data-toc-modified-id=\"Обучение-4\"><span class=\"toc-item-num\">4&nbsp;&nbsp;</span>Обучение</a></span><ul class=\"toc-item\"><li><span><a href=\"#LinearRegression\" data-toc-modified-id=\"LinearRegression-4.1\"><span class=\"toc-item-num\">4.1&nbsp;&nbsp;</span>LinearRegression</a></span></li><li><span><a href=\"#Catboost\" data-toc-modified-id=\"Catboost-4.2\"><span class=\"toc-item-num\">4.2&nbsp;&nbsp;</span>Catboost</a></span></li><li><span><a href=\"#LGBM\" data-toc-modified-id=\"LGBM-4.3\"><span class=\"toc-item-num\">4.3&nbsp;&nbsp;</span>LGBM</a></span></li></ul></li><li><span><a href=\"#Тестирование\" data-toc-modified-id=\"Тестирование-5\"><span class=\"toc-item-num\">5&nbsp;&nbsp;</span>Тестирование</a></span><ul class=\"toc-item\"><li><span><a href=\"#LinearRegression\" data-toc-modified-id=\"LinearRegression-5.1\"><span class=\"toc-item-num\">5.1&nbsp;&nbsp;</span>LinearRegression</a></span></li><li><span><a href=\"#Catboost\" data-toc-modified-id=\"Catboost-5.2\"><span class=\"toc-item-num\">5.2&nbsp;&nbsp;</span>Catboost</a></span></li><li><span><a href=\"#LGBM\" data-toc-modified-id=\"LGBM-5.3\"><span class=\"toc-item-num\">5.3&nbsp;&nbsp;</span>LGBM</a></span></li></ul></li><li><span><a href=\"#Вывод\" data-toc-modified-id=\"Вывод-6\"><span class=\"toc-item-num\">6&nbsp;&nbsp;</span>Вывод</a></span></li><li><span><a href=\"#Чек-лист-проверки\" data-toc-modified-id=\"Чек-лист-проверки-7\"><span class=\"toc-item-num\">7&nbsp;&nbsp;</span>Чек-лист проверки</a></span></li></ul></div>"
   ]
  },
  {
   "cell_type": "markdown",
   "metadata": {},
   "source": [
    "#  Прогнозирование заказов такси"
   ]
  },
  {
   "cell_type": "markdown",
   "metadata": {},
   "source": [
    "Компания «Чётенькое такси» собрала исторические данные о заказах такси в аэропортах. Чтобы привлекать больше водителей в период пиковой нагрузки, нужно спрогнозировать количество заказов такси на следующий час. Постройте модель для такого предсказания.\n",
    "\n",
    "Значение метрики *RMSE* на тестовой выборке должно быть не больше 48.\n",
    "\n",
    "Вам нужно:\n",
    "\n",
    "1. Загрузить данные и выполнить их ресемплирование по одному часу.\n",
    "2. Проанализировать данные.\n",
    "3. Обучить разные модели с различными гиперпараметрами. Сделать тестовую выборку размером 10% от исходных данных.\n",
    "4. Проверить данные на тестовой выборке и сделать выводы.\n",
    "\n",
    "\n",
    "Данные лежат в файле `taxi.csv`. Количество заказов находится в столбце `num_orders` (от англ. *number of orders*, «число заказов»)."
   ]
  },
  {
   "cell_type": "markdown",
   "metadata": {},
   "source": [
    "## Подготовка"
   ]
  },
  {
   "cell_type": "code",
   "execution_count": 1,
   "metadata": {},
   "outputs": [],
   "source": [
    "import pandas as pd\n",
    "import numpy as np\n",
    "import matplotlib.pyplot as plt\n",
    "from statsmodels.tsa.seasonal import seasonal_decompose\n",
    "from sklearn.model_selection import train_test_split\n",
    "from sklearn.model_selection import GridSearchCV\n",
    "from sklearn.metrics import mean_squared_error\n",
    "from sklearn.metrics import make_scorer\n",
    "from sklearn.model_selection import TimeSeriesSplit\n",
    "from sklearn.linear_model import LinearRegression\n",
    "from catboost import CatBoostRegressor\n",
    "from lightgbm import LGBMRegressor\n",
    "from IPython.display import display\n",
    "import warnings\n",
    "warnings.filterwarnings('ignore')"
   ]
  },
  {
   "cell_type": "code",
   "execution_count": 2,
   "metadata": {},
   "outputs": [
    {
     "name": "stdout",
     "output_type": "stream",
     "text": [
      "<class 'pandas.core.frame.DataFrame'>\n",
      "DatetimeIndex: 26496 entries, 2018-03-01 00:00:00 to 2018-08-31 23:50:00\n",
      "Data columns (total 1 columns):\n",
      "num_orders    26496 non-null int64\n",
      "dtypes: int64(1)\n",
      "memory usage: 414.0 KB\n"
     ]
    },
    {
     "data": {
      "text/plain": [
       "None"
      ]
     },
     "metadata": {},
     "output_type": "display_data"
    },
    {
     "data": {
      "text/html": [
       "<div>\n",
       "<style scoped>\n",
       "    .dataframe tbody tr th:only-of-type {\n",
       "        vertical-align: middle;\n",
       "    }\n",
       "\n",
       "    .dataframe tbody tr th {\n",
       "        vertical-align: top;\n",
       "    }\n",
       "\n",
       "    .dataframe thead th {\n",
       "        text-align: right;\n",
       "    }\n",
       "</style>\n",
       "<table border=\"1\" class=\"dataframe\">\n",
       "  <thead>\n",
       "    <tr style=\"text-align: right;\">\n",
       "      <th></th>\n",
       "      <th>num_orders</th>\n",
       "    </tr>\n",
       "    <tr>\n",
       "      <th>datetime</th>\n",
       "      <th></th>\n",
       "    </tr>\n",
       "  </thead>\n",
       "  <tbody>\n",
       "    <tr>\n",
       "      <td>2018-03-01 00:00:00</td>\n",
       "      <td>9</td>\n",
       "    </tr>\n",
       "    <tr>\n",
       "      <td>2018-03-01 00:10:00</td>\n",
       "      <td>14</td>\n",
       "    </tr>\n",
       "    <tr>\n",
       "      <td>2018-03-01 00:20:00</td>\n",
       "      <td>28</td>\n",
       "    </tr>\n",
       "    <tr>\n",
       "      <td>2018-03-01 00:30:00</td>\n",
       "      <td>20</td>\n",
       "    </tr>\n",
       "    <tr>\n",
       "      <td>2018-03-01 00:40:00</td>\n",
       "      <td>32</td>\n",
       "    </tr>\n",
       "    <tr>\n",
       "      <td>2018-03-01 00:50:00</td>\n",
       "      <td>21</td>\n",
       "    </tr>\n",
       "    <tr>\n",
       "      <td>2018-03-01 01:00:00</td>\n",
       "      <td>7</td>\n",
       "    </tr>\n",
       "    <tr>\n",
       "      <td>2018-03-01 01:10:00</td>\n",
       "      <td>5</td>\n",
       "    </tr>\n",
       "    <tr>\n",
       "      <td>2018-03-01 01:20:00</td>\n",
       "      <td>17</td>\n",
       "    </tr>\n",
       "    <tr>\n",
       "      <td>2018-03-01 01:30:00</td>\n",
       "      <td>12</td>\n",
       "    </tr>\n",
       "  </tbody>\n",
       "</table>\n",
       "</div>"
      ],
      "text/plain": [
       "                     num_orders\n",
       "datetime                       \n",
       "2018-03-01 00:00:00           9\n",
       "2018-03-01 00:10:00          14\n",
       "2018-03-01 00:20:00          28\n",
       "2018-03-01 00:30:00          20\n",
       "2018-03-01 00:40:00          32\n",
       "2018-03-01 00:50:00          21\n",
       "2018-03-01 01:00:00           7\n",
       "2018-03-01 01:10:00           5\n",
       "2018-03-01 01:20:00          17\n",
       "2018-03-01 01:30:00          12"
      ]
     },
     "metadata": {},
     "output_type": "display_data"
    }
   ],
   "source": [
    "df = pd.read_csv('/datasets/taxi.csv', index_col=[0], parse_dates=[0])\n",
    "df.sort_index(inplace=True)\n",
    "display(df.info())\n",
    "display(df.head(10))"
   ]
  },
  {
   "cell_type": "markdown",
   "metadata": {},
   "source": [
    "Изначально данные у нас поделены на интервал по 10 минут, это не совсем удобно для предсказания на последующий час спроса такси, поэтому сделаем ресемплирование"
   ]
  },
  {
   "cell_type": "code",
   "execution_count": 3,
   "metadata": {},
   "outputs": [
    {
     "data": {
      "text/html": [
       "<div>\n",
       "<style scoped>\n",
       "    .dataframe tbody tr th:only-of-type {\n",
       "        vertical-align: middle;\n",
       "    }\n",
       "\n",
       "    .dataframe tbody tr th {\n",
       "        vertical-align: top;\n",
       "    }\n",
       "\n",
       "    .dataframe thead th {\n",
       "        text-align: right;\n",
       "    }\n",
       "</style>\n",
       "<table border=\"1\" class=\"dataframe\">\n",
       "  <thead>\n",
       "    <tr style=\"text-align: right;\">\n",
       "      <th></th>\n",
       "      <th>num_orders</th>\n",
       "    </tr>\n",
       "    <tr>\n",
       "      <th>datetime</th>\n",
       "      <th></th>\n",
       "    </tr>\n",
       "  </thead>\n",
       "  <tbody>\n",
       "    <tr>\n",
       "      <td>2018-03-01 00:00:00</td>\n",
       "      <td>124</td>\n",
       "    </tr>\n",
       "    <tr>\n",
       "      <td>2018-03-01 01:00:00</td>\n",
       "      <td>85</td>\n",
       "    </tr>\n",
       "    <tr>\n",
       "      <td>2018-03-01 02:00:00</td>\n",
       "      <td>71</td>\n",
       "    </tr>\n",
       "    <tr>\n",
       "      <td>2018-03-01 03:00:00</td>\n",
       "      <td>66</td>\n",
       "    </tr>\n",
       "    <tr>\n",
       "      <td>2018-03-01 04:00:00</td>\n",
       "      <td>43</td>\n",
       "    </tr>\n",
       "    <tr>\n",
       "      <td>2018-03-01 05:00:00</td>\n",
       "      <td>6</td>\n",
       "    </tr>\n",
       "    <tr>\n",
       "      <td>2018-03-01 06:00:00</td>\n",
       "      <td>12</td>\n",
       "    </tr>\n",
       "    <tr>\n",
       "      <td>2018-03-01 07:00:00</td>\n",
       "      <td>15</td>\n",
       "    </tr>\n",
       "    <tr>\n",
       "      <td>2018-03-01 08:00:00</td>\n",
       "      <td>34</td>\n",
       "    </tr>\n",
       "    <tr>\n",
       "      <td>2018-03-01 09:00:00</td>\n",
       "      <td>69</td>\n",
       "    </tr>\n",
       "  </tbody>\n",
       "</table>\n",
       "</div>"
      ],
      "text/plain": [
       "                     num_orders\n",
       "datetime                       \n",
       "2018-03-01 00:00:00         124\n",
       "2018-03-01 01:00:00          85\n",
       "2018-03-01 02:00:00          71\n",
       "2018-03-01 03:00:00          66\n",
       "2018-03-01 04:00:00          43\n",
       "2018-03-01 05:00:00           6\n",
       "2018-03-01 06:00:00          12\n",
       "2018-03-01 07:00:00          15\n",
       "2018-03-01 08:00:00          34\n",
       "2018-03-01 09:00:00          69"
      ]
     },
     "metadata": {},
     "output_type": "display_data"
    },
    {
     "data": {
      "text/plain": [
       "4416"
      ]
     },
     "metadata": {},
     "output_type": "display_data"
    }
   ],
   "source": [
    "df = df.resample('1H').sum()\n",
    "display(df.head(10))\n",
    "display(len(df))"
   ]
  },
  {
   "cell_type": "markdown",
   "metadata": {},
   "source": [
    "Данные на базе, теперь их нужно изучить. Что ж приступим к изучению"
   ]
  },
  {
   "cell_type": "markdown",
   "metadata": {},
   "source": [
    "## Анализ"
   ]
  },
  {
   "cell_type": "code",
   "execution_count": 4,
   "metadata": {},
   "outputs": [
    {
     "data": {
      "text/plain": [
       "<matplotlib.axes._subplots.AxesSubplot at 0x7f60fdcee310>"
      ]
     },
     "execution_count": 4,
     "metadata": {},
     "output_type": "execute_result"
    },
    {
     "data": {
      "image/png": "[encoded data removed]",
      "text/plain": [
       "<Figure size 864x432 with 1 Axes>"
      ]
     },
     "metadata": {
      "needs_background": "light"
     },
     "output_type": "display_data"
    }
   ],
   "source": [
    "df['rolling_mean'] = df.rolling(24).mean()\n",
    "df.plot(figsize=(12, 6))"
   ]
  },
  {
   "cell_type": "markdown",
   "metadata": {},
   "source": [
    "У нас есть исторические данные с марта 2018 по август 2018. В конце мая мы видим скачек заявок, лето это всегда сезон отпусков. Также начиная с первой половины июня кол-во заявок растем самые пиковые значения у нас под конец августа. Это похоже на трен. Посмотрим как выглядит наш тред и сезонность."
   ]
  },
  {
   "cell_type": "code",
   "execution_count": 5,
   "metadata": {},
   "outputs": [],
   "source": [
    "df = df.drop(['rolling_mean'], axis=1)"
   ]
  },
  {
   "cell_type": "code",
   "execution_count": 6,
   "metadata": {},
   "outputs": [
    {
     "data": {
      "image/png": "[encoded data removed]",
      "text/plain": [
       "<Figure size 864x1152 with 3 Axes>"
      ]
     },
     "metadata": {
      "needs_background": "light"
     },
     "output_type": "display_data"
    }
   ],
   "source": [
    "decomposed = seasonal_decompose(df)\n",
    "plt.figure(figsize=(12, 16))\n",
    "plt.subplot(311)\n",
    "decomposed.trend.plot(ax=plt.gca())\n",
    "plt.title('Trend')\n",
    "plt.subplot(312)\n",
    "decomposed.seasonal.plot(ax=plt.gca()) \n",
    "plt.title('Seasonality')\n",
    "plt.subplot(313)\n",
    "decomposed.resid.plot(ax=plt.gca())\n",
    "plt.title('Residuals')\n",
    "plt.tight_layout()"
   ]
  },
  {
   "cell_type": "markdown",
   "metadata": {},
   "source": [
    "Тренд можно объяснить тем, что лето это теплое время года и все стараются взять отпуск именно в это время. Как провести лучше всего отпуск? Конечно же отправиться в путешестие! Именно поэтому и появляется наш тренд. С сезонностью не так все просто, предположим, что она есть в течение дня, поэтому данные график не совсем читабильный. Изучим его отдельно. Остакти иторнпретировать сложно."
   ]
  },
  {
   "cell_type": "code",
   "execution_count": 7,
   "metadata": {},
   "outputs": [
    {
     "data": {
      "text/plain": [
       "<matplotlib.axes._subplots.AxesSubplot at 0x7f60fd01ba10>"
      ]
     },
     "execution_count": 7,
     "metadata": {},
     "output_type": "execute_result"
    },
    {
     "data": {
      "image/png": "[encoded data removed]",
      "text/plain": [
       "<Figure size 864x432 with 1 Axes>"
      ]
     },
     "metadata": {
      "needs_background": "light"
     },
     "output_type": "display_data"
    }
   ],
   "source": [
    "decomposed.sesonal = decomposed.seasonal['2018-06-01':'2018-06-02']\n",
    "decomposed.sesonal.plot(figsize=(12,6))"
   ]
  },
  {
   "cell_type": "markdown",
   "metadata": {},
   "source": [
    "Так уже лучше! Наша сезонность зависит от времени! Предположим, что она зависим и от дня недели."
   ]
  },
  {
   "cell_type": "markdown",
   "metadata": {},
   "source": [
    "## Обучение"
   ]
  },
  {
   "cell_type": "markdown",
   "metadata": {},
   "source": [
    "Создадим признаки для нашей модели"
   ]
  },
  {
   "cell_type": "markdown",
   "metadata": {},
   "source": [
    "Напишем функцию для создания новых признаков. Как мы уже выяснили на сезонность влияют день недели и время дня, поэтому добавим новый признак день недели, сделаем 2 смещения и добавим скользящее среднее с окном 24 и стандартное отклонение с окном 24."
   ]
  },
  {
   "cell_type": "code",
   "execution_count": 8,
   "metadata": {},
   "outputs": [],
   "source": [
    "def make_features(df, max_lag, rolling_mean_size):\n",
    "    df['dayofweek'] = df.index.dayofweek\n",
    "    \n",
    "    for lag in range(1, max_lag + 1):\n",
    "        df['lag_{}'.format(lag)] = df['num_orders'].shift(lag)\n",
    "    df['rolling_mean'] = df['num_orders'].shift().rolling(rolling_mean_size).mean()\n",
    "    df['rolling_std'] = df['num_orders'].shift().rolling(rolling_mean_size).std()"
   ]
  },
  {
   "cell_type": "code",
   "execution_count": 9,
   "metadata": {},
   "outputs": [],
   "source": [
    "make_features(df, 24, 24)"
   ]
  },
  {
   "cell_type": "markdown",
   "metadata": {},
   "source": [
    "Разделим данные на тренировочную и тестовыю выборки. Для тестовой выборки оставим 10%"
   ]
  },
  {
   "cell_type": "code",
   "execution_count": 10,
   "metadata": {},
   "outputs": [],
   "source": [
    "train, test = train_test_split(df, shuffle=False, test_size=0.1)\n",
    "train = train.dropna()\n",
    "features_train = train.drop('num_orders', axis = 1)\n",
    "target_train = train['num_orders']\n",
    "features_test = test.drop('num_orders', axis = 1)\n",
    "target_test = test['num_orders']"
   ]
  },
  {
   "cell_type": "code",
   "execution_count": 11,
   "metadata": {},
   "outputs": [
    {
     "name": "stdout",
     "output_type": "stream",
     "text": [
      "(3950, 27) (442, 27) (3950,) (442,)\n"
     ]
    }
   ],
   "source": [
    "print(features_train.shape, features_test.shape, target_train.shape, target_test.shape)"
   ]
  },
  {
   "cell_type": "markdown",
   "metadata": {},
   "source": [
    "Для оценки наших моделей будем использовать метрику RMSE(среднеквадратичное отклонение)"
   ]
  },
  {
   "cell_type": "code",
   "execution_count": 12,
   "metadata": {},
   "outputs": [],
   "source": [
    "def RMSE(target, predict):\n",
    "    return mean_squared_error(target,predict)**0.5"
   ]
  },
  {
   "cell_type": "code",
   "execution_count": 13,
   "metadata": {},
   "outputs": [],
   "source": [
    "score = make_scorer(RMSE, greater_is_better=False)"
   ]
  },
  {
   "cell_type": "markdown",
   "metadata": {},
   "source": [
    "### LinearRegression"
   ]
  },
  {
   "cell_type": "code",
   "execution_count": 16,
   "metadata": {},
   "outputs": [],
   "source": [
    "LinearReg_model = LinearRegression()"
   ]
  },
  {
   "cell_type": "code",
   "execution_count": 17,
   "metadata": {},
   "outputs": [
    {
     "name": "stdout",
     "output_type": "stream",
     "text": [
      "CPU times: user 16.4 ms, sys: 1.17 ms, total: 17.6 ms\n",
      "Wall time: 7.69 ms\n"
     ]
    },
    {
     "data": {
      "text/plain": [
       "LinearRegression(copy_X=True, fit_intercept=True, n_jobs=None, normalize=False)"
      ]
     },
     "execution_count": 17,
     "metadata": {},
     "output_type": "execute_result"
    }
   ],
   "source": [
    "%%time\n",
    "LinearReg_model.fit(features_train, target_train)"
   ]
  },
  {
   "cell_type": "code",
   "execution_count": 18,
   "metadata": {},
   "outputs": [
    {
     "name": "stdout",
     "output_type": "stream",
     "text": [
      "CPU times: user 1.04 ms, sys: 16 ms, total: 17 ms\n",
      "Wall time: 5.51 ms\n"
     ]
    }
   ],
   "source": [
    "%%time\n",
    "LinReg_pred = LinearReg_model.predict(features_train)"
   ]
  },
  {
   "cell_type": "code",
   "execution_count": 19,
   "metadata": {},
   "outputs": [
    {
     "name": "stdout",
     "output_type": "stream",
     "text": [
      "RMSE:  25.92\n"
     ]
    }
   ],
   "source": [
    "print('RMSE: ', RMSE(target_train, LinReg_pred).round(2))"
   ]
  },
  {
   "cell_type": "markdown",
   "metadata": {},
   "source": [
    "### Catboost"
   ]
  },
  {
   "cell_type": "code",
   "execution_count": 20,
   "metadata": {},
   "outputs": [],
   "source": [
    "Catboost_model = CatBoostRegressor(verbose = 10, random_seed = 29)"
   ]
  },
  {
   "cell_type": "code",
   "execution_count": 21,
   "metadata": {},
   "outputs": [],
   "source": [
    "tscv = TimeSeriesSplit(n_splits=5)"
   ]
  },
  {
   "cell_type": "code",
   "execution_count": 22,
   "metadata": {},
   "outputs": [],
   "source": [
    "param_grid = {'iterations': [10, 50], 'max_depth': [5, 15]}"
   ]
  },
  {
   "cell_type": "code",
   "execution_count": 23,
   "metadata": {},
   "outputs": [],
   "source": [
    "grid_cv = GridSearchCV(Catboost_model, param_grid, scoring=score, cv=tscv)"
   ]
  },
  {
   "cell_type": "code",
   "execution_count": null,
   "metadata": {},
   "outputs": [],
   "source": [
    "%%time\n",
    "grid_cv.fit(features_train, target_train, verbose=False)"
   ]
  },
  {
   "cell_type": "code",
   "execution_count": null,
   "metadata": {},
   "outputs": [],
   "source": [
    "print(grid_cv.best_score_)\n",
    "print(grid_cv.best_params_)"
   ]
  },
  {
   "cell_type": "code",
   "execution_count": null,
   "metadata": {},
   "outputs": [],
   "source": [
    "Catboost_model = CatBoostRegressor(verbose = 10, iterations = 50, max_depth = 5)"
   ]
  },
  {
   "cell_type": "code",
   "execution_count": null,
   "metadata": {},
   "outputs": [],
   "source": [
    "%%time\n",
    "Catboost_model.fit(features_train, target_train)"
   ]
  },
  {
   "cell_type": "code",
   "execution_count": null,
   "metadata": {},
   "outputs": [],
   "source": [
    "%%time\n",
    "Catboost_pred = Catboost_model.predict(features_train)"
   ]
  },
  {
   "cell_type": "code",
   "execution_count": null,
   "metadata": {},
   "outputs": [],
   "source": [
    "print('RMSE: ', RMSE(target_train, Catboost_pred).round(2))"
   ]
  },
  {
   "cell_type": "markdown",
   "metadata": {},
   "source": [
    "### LGBM"
   ]
  },
  {
   "cell_type": "code",
   "execution_count": null,
   "metadata": {},
   "outputs": [],
   "source": [
    "LGBM_model = LGBMRegressor(random_state = 29, n_job=-1)"
   ]
  },
  {
   "cell_type": "code",
   "execution_count": null,
   "metadata": {},
   "outputs": [],
   "source": [
    "LGBM_model"
   ]
  },
  {
   "cell_type": "code",
   "execution_count": null,
   "metadata": {},
   "outputs": [],
   "source": [
    "param_grid = {'n_estimators': [100, 1000], 'max_depth': [5, 15]}"
   ]
  },
  {
   "cell_type": "code",
   "execution_count": null,
   "metadata": {},
   "outputs": [],
   "source": [
    "grid_cv = GridSearchCV(LGBM_model, param_grid, scoring=score, cv=tscv)"
   ]
  },
  {
   "cell_type": "code",
   "execution_count": null,
   "metadata": {},
   "outputs": [],
   "source": [
    "%%time\n",
    "grid_cv.fit(features_train, target_train, verbose=True)"
   ]
  },
  {
   "cell_type": "code",
   "execution_count": null,
   "metadata": {},
   "outputs": [],
   "source": [
    "print(grid_cv.best_score_)\n",
    "print(grid_cv.best_params_)"
   ]
  },
  {
   "cell_type": "code",
   "execution_count": null,
   "metadata": {},
   "outputs": [],
   "source": [
    "LGBM_model = LGBMRegressor(random_state = 29, max_depth= 5, n_estimators= 100, n_job=-1)"
   ]
  },
  {
   "cell_type": "code",
   "execution_count": null,
   "metadata": {},
   "outputs": [],
   "source": [
    "%%time\n",
    "LGBM_model.fit(features_train, target_train)"
   ]
  },
  {
   "cell_type": "code",
   "execution_count": null,
   "metadata": {},
   "outputs": [],
   "source": [
    "%%time\n",
    "LGBM_pred = LGBM_model.predict(features_train)"
   ]
  },
  {
   "cell_type": "code",
   "execution_count": null,
   "metadata": {},
   "outputs": [],
   "source": [
    "print('RMSE: ', RMSE(target_train, LGBM_pred).round(2))"
   ]
  },
  {
   "cell_type": "markdown",
   "metadata": {},
   "source": [
    "## Тестирование"
   ]
  },
  {
   "cell_type": "markdown",
   "metadata": {},
   "source": [
    "### LinearRegression"
   ]
  },
  {
   "cell_type": "code",
   "execution_count": null,
   "metadata": {},
   "outputs": [],
   "source": [
    "%%time\n",
    "LinReg_pred = LinearReg_model.predict(features_test)"
   ]
  },
  {
   "cell_type": "code",
   "execution_count": null,
   "metadata": {},
   "outputs": [],
   "source": [
    "print('RMSE: ', RMSE(target_test, LinReg_pred).round(2))"
   ]
  },
  {
   "cell_type": "markdown",
   "metadata": {},
   "source": [
    "### Catboost"
   ]
  },
  {
   "cell_type": "code",
   "execution_count": null,
   "metadata": {},
   "outputs": [],
   "source": [
    "%%time\n",
    "Catboost_pred = Catboost_model.predict(features_test)"
   ]
  },
  {
   "cell_type": "code",
   "execution_count": null,
   "metadata": {},
   "outputs": [],
   "source": [
    "print('RMSE: ', RMSE(target_test, Catboost_pred).round(2))"
   ]
  },
  {
   "cell_type": "markdown",
   "metadata": {},
   "source": [
    "### LGBM"
   ]
  },
  {
   "cell_type": "code",
   "execution_count": null,
   "metadata": {},
   "outputs": [],
   "source": [
    "%%time\n",
    "LGBM_pred = LGBM_model.predict(features_test)"
   ]
  },
  {
   "cell_type": "code",
   "execution_count": null,
   "metadata": {},
   "outputs": [],
   "source": [
    "print('RMSE: ', RMSE(target_test, LGBM_pred).round(2))"
   ]
  },
  {
   "cell_type": "markdown",
   "metadata": {},
   "source": [
    "## Вывод"
   ]
  },
  {
   "cell_type": "code",
   "execution_count": 6,
   "metadata": {},
   "outputs": [
    {
     "data": {
      "text/html": [
       "<div>\n",
       "<style scoped>\n",
       "    .dataframe tbody tr th:only-of-type {\n",
       "        vertical-align: middle;\n",
       "    }\n",
       "\n",
       "    .dataframe tbody tr th {\n",
       "        vertical-align: top;\n",
       "    }\n",
       "\n",
       "    .dataframe thead th {\n",
       "        text-align: right;\n",
       "    }\n",
       "</style>\n",
       "<table border=\"1\" class=\"dataframe\">\n",
       "  <thead>\n",
       "    <tr style=\"text-align: right;\">\n",
       "      <th></th>\n",
       "      <th>Модель</th>\n",
       "      <th>Скорость подбора гиперпараметров</th>\n",
       "      <th>Скорость обучения</th>\n",
       "      <th>Скорость предсказания</th>\n",
       "      <th>Качество предсказания(RMSE)</th>\n",
       "    </tr>\n",
       "  </thead>\n",
       "  <tbody>\n",
       "    <tr>\n",
       "      <td>0</td>\n",
       "      <td>LinearRegression</td>\n",
       "      <td>Гиперпараметров нет</td>\n",
       "      <td>6.81 мсек</td>\n",
       "      <td>83,5 мсек</td>\n",
       "      <td>45</td>\n",
       "    </tr>\n",
       "    <tr>\n",
       "      <td>1</td>\n",
       "      <td>CatBoost</td>\n",
       "      <td>5 мин 10 сек</td>\n",
       "      <td>217 мсек</td>\n",
       "      <td>3,95 мсек</td>\n",
       "      <td>44</td>\n",
       "    </tr>\n",
       "    <tr>\n",
       "      <td>2</td>\n",
       "      <td>LGBM</td>\n",
       "      <td>6,65 сек</td>\n",
       "      <td>108 сек</td>\n",
       "      <td>21,9 сек</td>\n",
       "      <td>43</td>\n",
       "    </tr>\n",
       "  </tbody>\n",
       "</table>\n",
       "</div>"
      ],
      "text/plain": [
       "             Модель Скорость подбора гиперпараметров Скорость обучения  \\\n",
       "0  LinearRegression              Гиперпараметров нет         6.81 мсек   \n",
       "1          CatBoost                     5 мин 10 сек          217 мсек   \n",
       "2              LGBM                         6,65 сек           108 сек   \n",
       "\n",
       "  Скорость предсказания Качество предсказания(RMSE)  \n",
       "0             83,5 мсек                          45  \n",
       "1             3,95 мсек                          44  \n",
       "2              21,9 сек                          43  "
      ]
     },
     "execution_count": 6,
     "metadata": {},
     "output_type": "execute_result"
    }
   ],
   "source": [
    "result=pd.DataFrame({'Модель':['LinearRegression', 'CatBoost', 'LGBM'],\n",
    " 'Скорость подбора гиперпараметров':['Гиперпараметров нет', '5 мин 10 сек', '6,65 сек'],\n",
    " 'Скорость обучения':['6.81 мсек', '217 мсек', '108 сек'],\n",
    " 'Скорость предсказания': ['83,5 мсек', '3,95 мсек', '21,9 сек'],\n",
    " 'Качество предсказания(RMSE)': ['45', '44', '43']})\n",
    "result"
   ]
  },
  {
   "cell_type": "markdown",
   "metadata": {},
   "source": [
    "По результатам исследования мы подобрали модель для предсказания спроса такси на один час. Лучшей моделью мы получили градиентный бустинг LGBM. Но так как мы предлагаем модель для дествующего бизнеса, то наша рекомендация использовать простую модель линейной регресси, она показала хороший результат и в дальнейшем данную модель будет не сложно поддерживать и обновлять."
   ]
  }
 ],
 "metadata": {
  "ExecuteTimeLog": [
   {
    "duration": 1654,
    "start_time": "2021-07-19T16:23:57.352Z"
   },
   {
    "duration": 58,
    "start_time": "2021-07-19T16:24:21.327Z"
   },
   {
    "duration": 9,
    "start_time": "2021-07-19T16:24:46.154Z"
   },
   {
    "duration": 256,
    "start_time": "2021-07-22T18:02:48.545Z"
   },
   {
    "duration": 1080,
    "start_time": "2021-07-22T18:02:51.059Z"
   },
   {
    "duration": 51,
    "start_time": "2021-07-22T18:02:54.494Z"
   },
   {
    "duration": 40,
    "start_time": "2021-07-22T18:03:32.169Z"
   },
   {
    "duration": 643,
    "start_time": "2021-07-22T18:07:47.761Z"
   },
   {
    "duration": 913,
    "start_time": "2021-07-22T18:07:56.721Z"
   },
   {
    "duration": 15,
    "start_time": "2021-07-22T18:08:54.024Z"
   },
   {
    "duration": 824,
    "start_time": "2021-07-22T18:09:01.959Z"
   },
   {
    "duration": 437,
    "start_time": "2021-07-22T18:09:19.849Z"
   },
   {
    "duration": 441,
    "start_time": "2021-07-22T18:09:34.415Z"
   },
   {
    "duration": 514,
    "start_time": "2021-07-22T18:10:28.376Z"
   },
   {
    "duration": 6003,
    "start_time": "2021-07-22T18:11:31.083Z"
   },
   {
    "duration": 7377,
    "start_time": "2021-07-22T18:11:39.177Z"
   },
   {
    "duration": 523,
    "start_time": "2021-07-22T18:12:18.509Z"
   },
   {
    "duration": 22,
    "start_time": "2021-07-22T18:32:22.847Z"
   },
   {
    "duration": 1164,
    "start_time": "2021-07-22T18:33:54.946Z"
   },
   {
    "duration": 1202,
    "start_time": "2021-07-22T18:34:35.930Z"
   },
   {
    "duration": 1417,
    "start_time": "2021-07-22T18:34:45.039Z"
   },
   {
    "duration": 527,
    "start_time": "2021-07-22T18:35:53.971Z"
   },
   {
    "duration": 1375,
    "start_time": "2021-07-22T18:35:58.644Z"
   },
   {
    "duration": 530,
    "start_time": "2021-07-22T18:36:26.461Z"
   },
   {
    "duration": 38,
    "start_time": "2021-07-22T18:36:33.507Z"
   },
   {
    "duration": 451,
    "start_time": "2021-07-22T18:36:35.737Z"
   },
   {
    "duration": 1298,
    "start_time": "2021-07-22T18:36:40.719Z"
   },
   {
    "duration": 291,
    "start_time": "2021-07-22T18:45:43.379Z"
   },
   {
    "duration": 240,
    "start_time": "2021-07-22T18:46:32.954Z"
   },
   {
    "duration": 244,
    "start_time": "2021-07-22T18:47:03.484Z"
   },
   {
    "duration": 237,
    "start_time": "2021-07-22T18:47:10.802Z"
   },
   {
    "duration": 4,
    "start_time": "2021-07-22T18:47:19.739Z"
   },
   {
    "duration": 40,
    "start_time": "2021-07-22T18:47:20.345Z"
   },
   {
    "duration": 11,
    "start_time": "2021-07-22T18:47:23.534Z"
   },
   {
    "duration": 337,
    "start_time": "2021-07-22T18:50:44.319Z"
   },
   {
    "duration": 225,
    "start_time": "2021-07-22T18:55:33.850Z"
   },
   {
    "duration": 251,
    "start_time": "2021-07-22T18:55:38.580Z"
   },
   {
    "duration": 4,
    "start_time": "2021-07-22T18:55:52.845Z"
   },
   {
    "duration": 246,
    "start_time": "2021-07-22T18:55:55.839Z"
   },
   {
    "duration": 226,
    "start_time": "2021-07-22T18:56:19.030Z"
   },
   {
    "duration": 4,
    "start_time": "2021-07-22T18:57:50.544Z"
   },
   {
    "duration": 1166,
    "start_time": "2021-07-22T18:57:51.929Z"
   },
   {
    "duration": 238,
    "start_time": "2021-07-22T18:58:33.382Z"
   },
   {
    "duration": 305,
    "start_time": "2021-07-22T18:58:40.406Z"
   },
   {
    "duration": 257,
    "start_time": "2021-07-22T18:58:45.214Z"
   },
   {
    "duration": 328,
    "start_time": "2021-07-22T18:59:35.971Z"
   },
   {
    "duration": 205,
    "start_time": "2021-07-22T18:59:51.003Z"
   },
   {
    "duration": 205,
    "start_time": "2021-07-22T19:00:10.619Z"
   },
   {
    "duration": 363,
    "start_time": "2021-07-22T19:03:23.093Z"
   },
   {
    "duration": 1051,
    "start_time": "2021-07-22T19:36:43.430Z"
   },
   {
    "duration": 85,
    "start_time": "2021-07-22T19:36:44.484Z"
   },
   {
    "duration": 13,
    "start_time": "2021-07-22T19:36:48.187Z"
   },
   {
    "duration": 307,
    "start_time": "2021-07-22T19:37:09.111Z"
   },
   {
    "duration": 331,
    "start_time": "2021-07-22T19:37:25.338Z"
   },
   {
    "duration": 216,
    "start_time": "2021-07-22T19:37:31.313Z"
   },
   {
    "duration": 10,
    "start_time": "2021-07-22T19:39:12.280Z"
   },
   {
    "duration": 290,
    "start_time": "2021-07-22T19:39:15.920Z"
   },
   {
    "duration": 200,
    "start_time": "2021-07-22T19:39:19.140Z"
   },
   {
    "duration": 1102,
    "start_time": "2021-07-22T19:39:28.765Z"
   },
   {
    "duration": 43,
    "start_time": "2021-07-22T19:39:29.869Z"
   },
   {
    "duration": 12,
    "start_time": "2021-07-22T19:39:33.016Z"
   },
   {
    "duration": 320,
    "start_time": "2021-07-22T19:39:38.146Z"
   },
   {
    "duration": 211,
    "start_time": "2021-07-22T19:39:40.977Z"
   },
   {
    "duration": 88,
    "start_time": "2021-07-22T19:41:00.668Z"
   },
   {
    "duration": 75,
    "start_time": "2021-07-22T19:41:08.776Z"
   },
   {
    "duration": 78,
    "start_time": "2021-07-22T19:41:18.723Z"
   },
   {
    "duration": 314,
    "start_time": "2021-07-22T19:43:06.677Z"
   },
   {
    "duration": 159,
    "start_time": "2021-07-22T19:43:29.274Z"
   },
   {
    "duration": 546,
    "start_time": "2021-07-22T19:43:34.883Z"
   },
   {
    "duration": 4,
    "start_time": "2021-07-22T19:44:58.309Z"
   },
   {
    "duration": 244,
    "start_time": "2021-07-22T19:45:02.200Z"
   },
   {
    "duration": 349,
    "start_time": "2021-07-22T19:46:45.692Z"
   },
   {
    "duration": 4,
    "start_time": "2021-07-22T19:46:49.058Z"
   },
   {
    "duration": 1131,
    "start_time": "2021-07-22T19:46:51.060Z"
   },
   {
    "duration": 220,
    "start_time": "2021-07-22T19:46:57.059Z"
   },
   {
    "duration": 362,
    "start_time": "2021-07-22T19:46:59.239Z"
   },
   {
    "duration": 1228,
    "start_time": "2021-07-24T16:07:59.148Z"
   },
   {
    "duration": 49,
    "start_time": "2021-07-24T16:08:00.378Z"
   },
   {
    "duration": 14,
    "start_time": "2021-07-24T16:08:03.606Z"
   },
   {
    "duration": 454,
    "start_time": "2021-07-24T16:11:08.056Z"
   },
   {
    "duration": 5130,
    "start_time": "2021-07-24T16:15:53.463Z"
   },
   {
    "duration": 200,
    "start_time": "2021-07-24T16:16:25.854Z"
   },
   {
    "duration": 4,
    "start_time": "2021-07-24T16:16:30.295Z"
   },
   {
    "duration": 1266,
    "start_time": "2021-07-24T16:16:33.763Z"
   },
   {
    "duration": 229,
    "start_time": "2021-07-24T16:20:58.462Z"
   },
   {
    "duration": 237,
    "start_time": "2021-07-24T16:22:20.024Z"
   },
   {
    "duration": 2310,
    "start_time": "2021-07-24T16:27:23.421Z"
   },
   {
    "duration": 290,
    "start_time": "2021-07-24T16:27:28.924Z"
   },
   {
    "duration": 234,
    "start_time": "2021-07-24T16:27:50.933Z"
   },
   {
    "duration": 241,
    "start_time": "2021-07-24T16:28:00.897Z"
   },
   {
    "duration": 482,
    "start_time": "2021-07-24T16:30:03.369Z"
   },
   {
    "duration": 9,
    "start_time": "2021-07-24T16:31:21.670Z"
   },
   {
    "duration": 9,
    "start_time": "2021-07-24T16:31:27.989Z"
   },
   {
    "duration": 12,
    "start_time": "2021-07-24T16:31:38.995Z"
   },
   {
    "duration": 11,
    "start_time": "2021-07-24T16:32:19.290Z"
   },
   {
    "duration": 1041,
    "start_time": "2021-07-24T16:33:02.344Z"
   },
   {
    "duration": 47,
    "start_time": "2021-07-24T16:33:03.387Z"
   },
   {
    "duration": 13,
    "start_time": "2021-07-24T16:33:06.568Z"
   },
   {
    "duration": 374,
    "start_time": "2021-07-24T16:33:08.731Z"
   },
   {
    "duration": 4,
    "start_time": "2021-07-24T16:33:12.132Z"
   },
   {
    "duration": 1356,
    "start_time": "2021-07-24T16:33:14.229Z"
   },
   {
    "duration": 235,
    "start_time": "2021-07-24T16:33:19.407Z"
   },
   {
    "duration": 7,
    "start_time": "2021-07-24T16:33:28.407Z"
   },
   {
    "duration": 269,
    "start_time": "2021-07-24T16:34:37.770Z"
   },
   {
    "duration": 4,
    "start_time": "2021-07-24T16:34:45.853Z"
   },
   {
    "duration": 5,
    "start_time": "2021-07-24T16:35:26.913Z"
   },
   {
    "duration": 5,
    "start_time": "2021-07-24T16:35:36.970Z"
   },
   {
    "duration": 13,
    "start_time": "2021-07-24T16:35:59.840Z"
   },
   {
    "duration": 1126,
    "start_time": "2021-07-24T16:39:08.050Z"
   },
   {
    "duration": 50,
    "start_time": "2021-07-24T16:39:09.177Z"
   },
   {
    "duration": 13,
    "start_time": "2021-07-24T16:39:09.229Z"
   },
   {
    "duration": 393,
    "start_time": "2021-07-24T16:39:09.244Z"
   },
   {
    "duration": 3,
    "start_time": "2021-07-24T16:39:09.639Z"
   },
   {
    "duration": 1310,
    "start_time": "2021-07-24T16:39:09.644Z"
   },
   {
    "duration": 241,
    "start_time": "2021-07-24T16:39:10.956Z"
   },
   {
    "duration": 7,
    "start_time": "2021-07-24T16:44:17.392Z"
   },
   {
    "duration": 267,
    "start_time": "2021-07-24T16:49:02.325Z"
   },
   {
    "duration": 3,
    "start_time": "2021-07-24T16:49:06.065Z"
   },
   {
    "duration": 344,
    "start_time": "2021-07-24T16:49:07.192Z"
   },
   {
    "duration": 4,
    "start_time": "2021-07-24T16:50:15.648Z"
   },
   {
    "duration": 13,
    "start_time": "2021-07-24T16:50:16.566Z"
   },
   {
    "duration": 4,
    "start_time": "2021-07-24T16:55:34.562Z"
   },
   {
    "duration": 16,
    "start_time": "2021-07-24T16:55:35.267Z"
   },
   {
    "duration": 17,
    "start_time": "2021-07-24T16:55:45.805Z"
   },
   {
    "duration": 1420,
    "start_time": "2021-07-24T16:56:02.835Z"
   },
   {
    "duration": 50,
    "start_time": "2021-07-24T16:56:04.257Z"
   },
   {
    "duration": 14,
    "start_time": "2021-07-24T16:56:04.309Z"
   },
   {
    "duration": 394,
    "start_time": "2021-07-24T16:56:04.324Z"
   },
   {
    "duration": 5,
    "start_time": "2021-07-24T16:56:04.720Z"
   },
   {
    "duration": 1368,
    "start_time": "2021-07-24T16:56:04.727Z"
   },
   {
    "duration": 264,
    "start_time": "2021-07-24T16:56:06.096Z"
   },
   {
    "duration": 7,
    "start_time": "2021-07-24T16:56:06.362Z"
   },
   {
    "duration": 16,
    "start_time": "2021-07-24T16:56:06.370Z"
   },
   {
    "duration": 20,
    "start_time": "2021-07-24T16:56:06.387Z"
   },
   {
    "duration": 3,
    "start_time": "2021-07-24T16:57:01.827Z"
   },
   {
    "duration": 1057,
    "start_time": "2021-07-24T16:57:21.233Z"
   },
   {
    "duration": 50,
    "start_time": "2021-07-24T16:57:22.292Z"
   },
   {
    "duration": 13,
    "start_time": "2021-07-24T16:57:22.344Z"
   },
   {
    "duration": 398,
    "start_time": "2021-07-24T16:57:22.359Z"
   },
   {
    "duration": 4,
    "start_time": "2021-07-24T16:57:22.759Z"
   },
   {
    "duration": 1402,
    "start_time": "2021-07-24T16:57:22.765Z"
   },
   {
    "duration": 268,
    "start_time": "2021-07-24T16:57:24.168Z"
   },
   {
    "duration": 7,
    "start_time": "2021-07-24T16:57:24.438Z"
   },
   {
    "duration": 4,
    "start_time": "2021-07-24T16:57:24.447Z"
   },
   {
    "duration": 43,
    "start_time": "2021-07-24T16:57:24.453Z"
   },
   {
    "duration": 17,
    "start_time": "2021-07-24T16:57:50.663Z"
   },
   {
    "duration": 1075,
    "start_time": "2021-07-24T16:57:57.613Z"
   },
   {
    "duration": 48,
    "start_time": "2021-07-24T16:57:58.690Z"
   },
   {
    "duration": 13,
    "start_time": "2021-07-24T16:57:58.740Z"
   },
   {
    "duration": 396,
    "start_time": "2021-07-24T16:57:58.754Z"
   },
   {
    "duration": 4,
    "start_time": "2021-07-24T16:57:59.151Z"
   },
   {
    "duration": 1345,
    "start_time": "2021-07-24T16:57:59.157Z"
   },
   {
    "duration": 252,
    "start_time": "2021-07-24T16:58:00.504Z"
   },
   {
    "duration": 7,
    "start_time": "2021-07-24T16:58:00.758Z"
   },
   {
    "duration": 11,
    "start_time": "2021-07-24T16:58:00.767Z"
   },
   {
    "duration": 35,
    "start_time": "2021-07-24T16:58:00.779Z"
   },
   {
    "duration": 20,
    "start_time": "2021-07-24T16:58:56.665Z"
   },
   {
    "duration": 1123,
    "start_time": "2021-07-24T16:59:18.567Z"
   },
   {
    "duration": 49,
    "start_time": "2021-07-24T16:59:19.691Z"
   },
   {
    "duration": 13,
    "start_time": "2021-07-24T16:59:19.742Z"
   },
   {
    "duration": 390,
    "start_time": "2021-07-24T16:59:19.756Z"
   },
   {
    "duration": 4,
    "start_time": "2021-07-24T16:59:20.147Z"
   },
   {
    "duration": 1342,
    "start_time": "2021-07-24T16:59:20.153Z"
   },
   {
    "duration": 254,
    "start_time": "2021-07-24T16:59:21.497Z"
   },
   {
    "duration": 7,
    "start_time": "2021-07-24T16:59:21.753Z"
   },
   {
    "duration": 4353,
    "start_time": "2021-07-24T16:59:21.763Z"
   },
   {
    "duration": -915,
    "start_time": "2021-07-24T16:59:27.033Z"
   },
   {
    "duration": -915,
    "start_time": "2021-07-24T16:59:27.035Z"
   },
   {
    "duration": 6,
    "start_time": "2021-07-24T17:00:02.470Z"
   },
   {
    "duration": 8,
    "start_time": "2021-07-24T17:00:13.857Z"
   },
   {
    "duration": 1160,
    "start_time": "2021-07-24T17:00:37.363Z"
   },
   {
    "duration": 51,
    "start_time": "2021-07-24T17:00:38.525Z"
   },
   {
    "duration": 17,
    "start_time": "2021-07-24T17:00:38.578Z"
   },
   {
    "duration": 389,
    "start_time": "2021-07-24T17:00:38.596Z"
   },
   {
    "duration": 4,
    "start_time": "2021-07-24T17:00:38.987Z"
   },
   {
    "duration": 1391,
    "start_time": "2021-07-24T17:00:38.993Z"
   },
   {
    "duration": 252,
    "start_time": "2021-07-24T17:00:40.386Z"
   },
   {
    "duration": 7,
    "start_time": "2021-07-24T17:00:40.640Z"
   },
   {
    "duration": 7,
    "start_time": "2021-07-24T17:00:40.649Z"
   },
   {
    "duration": 8,
    "start_time": "2021-07-24T17:00:40.658Z"
   },
   {
    "duration": 3,
    "start_time": "2021-07-24T17:00:40.685Z"
   },
   {
    "duration": 17,
    "start_time": "2021-07-24T17:00:40.690Z"
   },
   {
    "duration": 6,
    "start_time": "2021-07-24T17:01:39.808Z"
   },
   {
    "duration": 10,
    "start_time": "2021-07-24T17:01:40.774Z"
   },
   {
    "duration": 13,
    "start_time": "2021-07-24T17:01:45.398Z"
   },
   {
    "duration": 1108,
    "start_time": "2021-07-24T17:02:11.181Z"
   },
   {
    "duration": 51,
    "start_time": "2021-07-24T17:02:12.291Z"
   },
   {
    "duration": 16,
    "start_time": "2021-07-24T17:02:14.483Z"
   },
   {
    "duration": 373,
    "start_time": "2021-07-24T17:02:26.631Z"
   },
   {
    "duration": 8,
    "start_time": "2021-07-24T17:03:19.383Z"
   },
   {
    "duration": 352,
    "start_time": "2021-07-24T17:03:28.578Z"
   },
   {
    "duration": 4,
    "start_time": "2021-07-24T17:03:30.960Z"
   },
   {
    "duration": 1303,
    "start_time": "2021-07-24T17:03:31.362Z"
   },
   {
    "duration": 262,
    "start_time": "2021-07-24T17:03:39.071Z"
   },
   {
    "duration": 9,
    "start_time": "2021-07-24T17:03:41.992Z"
   },
   {
    "duration": 17,
    "start_time": "2021-07-24T17:03:49.400Z"
   },
   {
    "duration": 17,
    "start_time": "2021-07-24T17:04:58.945Z"
   },
   {
    "duration": 4,
    "start_time": "2021-07-24T17:05:28.240Z"
   },
   {
    "duration": 19,
    "start_time": "2021-07-24T17:05:33.132Z"
   },
   {
    "duration": 4,
    "start_time": "2021-07-24T17:11:59.231Z"
   },
   {
    "duration": 281,
    "start_time": "2021-07-24T18:05:17.609Z"
   },
   {
    "duration": 9,
    "start_time": "2021-07-24T18:05:25.443Z"
   },
   {
    "duration": 4,
    "start_time": "2021-07-24T18:05:50.323Z"
   },
   {
    "duration": 3,
    "start_time": "2021-07-24T18:05:58.745Z"
   },
   {
    "duration": 130,
    "start_time": "2021-07-24T18:06:02.395Z"
   },
   {
    "duration": 192,
    "start_time": "2021-07-24T18:08:18.673Z"
   },
   {
    "duration": 195,
    "start_time": "2021-07-24T18:08:27.723Z"
   },
   {
    "duration": 1154,
    "start_time": "2021-07-24T18:08:39.566Z"
   },
   {
    "duration": 48,
    "start_time": "2021-07-24T18:08:40.722Z"
   },
   {
    "duration": 14,
    "start_time": "2021-07-24T18:08:40.772Z"
   },
   {
    "duration": 381,
    "start_time": "2021-07-24T18:08:40.788Z"
   },
   {
    "duration": 4,
    "start_time": "2021-07-24T18:08:41.170Z"
   },
   {
    "duration": 1393,
    "start_time": "2021-07-24T18:08:41.184Z"
   },
   {
    "duration": 259,
    "start_time": "2021-07-24T18:08:42.580Z"
   },
   {
    "duration": 8,
    "start_time": "2021-07-24T18:08:42.842Z"
   },
   {
    "duration": 8,
    "start_time": "2021-07-24T18:08:42.852Z"
   },
   {
    "duration": 24,
    "start_time": "2021-07-24T18:08:42.862Z"
   },
   {
    "duration": 6,
    "start_time": "2021-07-24T18:08:42.888Z"
   },
   {
    "duration": 23,
    "start_time": "2021-07-24T18:08:42.895Z"
   },
   {
    "duration": 276,
    "start_time": "2021-07-24T18:08:42.920Z"
   },
   {
    "duration": -829,
    "start_time": "2021-07-24T18:08:44.028Z"
   },
   {
    "duration": -830,
    "start_time": "2021-07-24T18:08:44.030Z"
   },
   {
    "duration": 186,
    "start_time": "2021-07-24T18:09:18.707Z"
   },
   {
    "duration": 1130,
    "start_time": "2021-07-24T18:09:34.655Z"
   },
   {
    "duration": 50,
    "start_time": "2021-07-24T18:09:35.786Z"
   },
   {
    "duration": 13,
    "start_time": "2021-07-24T18:09:35.838Z"
   },
   {
    "duration": 395,
    "start_time": "2021-07-24T18:09:35.852Z"
   },
   {
    "duration": 4,
    "start_time": "2021-07-24T18:09:36.249Z"
   },
   {
    "duration": 1364,
    "start_time": "2021-07-24T18:09:36.254Z"
   },
   {
    "duration": 249,
    "start_time": "2021-07-24T18:09:37.619Z"
   },
   {
    "duration": 16,
    "start_time": "2021-07-24T18:09:37.869Z"
   },
   {
    "duration": 8,
    "start_time": "2021-07-24T18:09:37.888Z"
   },
   {
    "duration": 8,
    "start_time": "2021-07-24T18:09:37.898Z"
   },
   {
    "duration": 6,
    "start_time": "2021-07-24T18:09:37.907Z"
   },
   {
    "duration": 21,
    "start_time": "2021-07-24T18:09:37.915Z"
   },
   {
    "duration": 273,
    "start_time": "2021-07-24T18:09:37.937Z"
   },
   {
    "duration": -825,
    "start_time": "2021-07-24T18:09:39.037Z"
   },
   {
    "duration": -825,
    "start_time": "2021-07-24T18:09:39.039Z"
   },
   {
    "duration": 1092,
    "start_time": "2021-07-24T18:09:39.985Z"
   },
   {
    "duration": 47,
    "start_time": "2021-07-24T18:09:41.079Z"
   },
   {
    "duration": 13,
    "start_time": "2021-07-24T18:09:41.127Z"
   },
   {
    "duration": 381,
    "start_time": "2021-07-24T18:09:41.141Z"
   },
   {
    "duration": 4,
    "start_time": "2021-07-24T18:09:41.523Z"
   },
   {
    "duration": 1353,
    "start_time": "2021-07-24T18:09:41.529Z"
   },
   {
    "duration": 249,
    "start_time": "2021-07-24T18:09:42.884Z"
   },
   {
    "duration": 7,
    "start_time": "2021-07-24T18:09:43.135Z"
   },
   {
    "duration": 7,
    "start_time": "2021-07-24T18:09:43.144Z"
   },
   {
    "duration": 8,
    "start_time": "2021-07-24T18:09:43.153Z"
   },
   {
    "duration": 23,
    "start_time": "2021-07-24T18:09:43.162Z"
   },
   {
    "duration": 23,
    "start_time": "2021-07-24T18:09:43.187Z"
   },
   {
    "duration": 296,
    "start_time": "2021-07-24T18:09:43.212Z"
   },
   {
    "duration": -850,
    "start_time": "2021-07-24T18:09:44.360Z"
   },
   {
    "duration": -850,
    "start_time": "2021-07-24T18:09:44.361Z"
   },
   {
    "duration": 1096,
    "start_time": "2021-07-24T18:12:12.286Z"
   },
   {
    "duration": 49,
    "start_time": "2021-07-24T18:12:13.383Z"
   },
   {
    "duration": 13,
    "start_time": "2021-07-24T18:12:13.434Z"
   },
   {
    "duration": 387,
    "start_time": "2021-07-24T18:12:13.449Z"
   },
   {
    "duration": 5,
    "start_time": "2021-07-24T18:12:13.838Z"
   },
   {
    "duration": 1366,
    "start_time": "2021-07-24T18:12:13.844Z"
   },
   {
    "duration": 260,
    "start_time": "2021-07-24T18:12:15.212Z"
   },
   {
    "duration": 13,
    "start_time": "2021-07-24T18:12:15.473Z"
   },
   {
    "duration": 7,
    "start_time": "2021-07-24T18:12:15.488Z"
   },
   {
    "duration": 3,
    "start_time": "2021-07-24T18:12:15.496Z"
   },
   {
    "duration": 9,
    "start_time": "2021-07-24T18:12:15.501Z"
   },
   {
    "duration": 293,
    "start_time": "2021-07-24T18:12:15.511Z"
   },
   {
    "duration": -828,
    "start_time": "2021-07-24T18:12:16.634Z"
   },
   {
    "duration": -830,
    "start_time": "2021-07-24T18:12:16.637Z"
   },
   {
    "duration": -831,
    "start_time": "2021-07-24T18:12:16.639Z"
   },
   {
    "duration": 1121,
    "start_time": "2021-07-24T18:12:36.491Z"
   },
   {
    "duration": 48,
    "start_time": "2021-07-24T18:12:37.614Z"
   },
   {
    "duration": 13,
    "start_time": "2021-07-24T18:12:37.664Z"
   },
   {
    "duration": 374,
    "start_time": "2021-07-24T18:12:37.684Z"
   },
   {
    "duration": 4,
    "start_time": "2021-07-24T18:12:38.060Z"
   },
   {
    "duration": 1325,
    "start_time": "2021-07-24T18:12:38.065Z"
   },
   {
    "duration": 249,
    "start_time": "2021-07-24T18:12:39.392Z"
   },
   {
    "duration": 8,
    "start_time": "2021-07-24T18:12:39.643Z"
   },
   {
    "duration": 7,
    "start_time": "2021-07-24T18:12:39.654Z"
   },
   {
    "duration": 25,
    "start_time": "2021-07-24T18:12:39.662Z"
   },
   {
    "duration": 11,
    "start_time": "2021-07-24T18:12:39.688Z"
   },
   {
    "duration": 280,
    "start_time": "2021-07-24T18:12:39.700Z"
   },
   {
    "duration": -847,
    "start_time": "2021-07-24T18:12:40.829Z"
   },
   {
    "duration": -847,
    "start_time": "2021-07-24T18:12:40.831Z"
   },
   {
    "duration": -847,
    "start_time": "2021-07-24T18:12:40.832Z"
   },
   {
    "duration": 177,
    "start_time": "2021-07-24T18:12:56.861Z"
   },
   {
    "duration": 215,
    "start_time": "2021-07-24T18:13:39.056Z"
   },
   {
    "duration": 4399,
    "start_time": "2021-07-24T18:15:39.536Z"
   },
   {
    "duration": 7,
    "start_time": "2021-07-24T18:16:00.088Z"
   },
   {
    "duration": 6,
    "start_time": "2021-07-24T18:16:22.961Z"
   },
   {
    "duration": 10,
    "start_time": "2021-07-24T18:16:23.786Z"
   },
   {
    "duration": 3,
    "start_time": "2021-07-24T18:16:24.816Z"
   },
   {
    "duration": 9,
    "start_time": "2021-07-24T18:16:25.326Z"
   },
   {
    "duration": 5,
    "start_time": "2021-07-24T18:16:46.422Z"
   },
   {
    "duration": 3,
    "start_time": "2021-07-24T18:17:27.569Z"
   },
   {
    "duration": 3,
    "start_time": "2021-07-24T18:17:28.004Z"
   },
   {
    "duration": 6,
    "start_time": "2021-07-24T18:17:33.911Z"
   },
   {
    "duration": 3,
    "start_time": "2021-07-24T18:19:25.194Z"
   },
   {
    "duration": 3,
    "start_time": "2021-07-24T18:19:25.828Z"
   },
   {
    "duration": 3,
    "start_time": "2021-07-24T18:19:26.363Z"
   },
   {
    "duration": 120628,
    "start_time": "2021-07-24T18:19:27.039Z"
   },
   {
    "duration": 4,
    "start_time": "2021-07-24T18:21:41.692Z"
   },
   {
    "duration": 3,
    "start_time": "2021-07-24T18:22:09.655Z"
   },
   {
    "duration": 1628,
    "start_time": "2021-07-24T18:22:23.710Z"
   },
   {
    "duration": 6,
    "start_time": "2021-07-24T18:22:40.496Z"
   },
   {
    "duration": 5,
    "start_time": "2021-07-24T18:22:48.984Z"
   },
   {
    "duration": 3,
    "start_time": "2021-07-24T18:31:09.219Z"
   },
   {
    "duration": 5,
    "start_time": "2021-07-24T18:31:09.677Z"
   },
   {
    "duration": 3,
    "start_time": "2021-07-24T18:31:10.676Z"
   },
   {
    "duration": 3,
    "start_time": "2021-07-24T18:31:14.216Z"
   },
   {
    "duration": 39406,
    "start_time": "2021-07-24T18:31:14.786Z"
   },
   {
    "duration": 3,
    "start_time": "2021-07-24T18:32:39.235Z"
   },
   {
    "duration": 3,
    "start_time": "2021-07-24T18:33:20.620Z"
   },
   {
    "duration": 463,
    "start_time": "2021-07-24T18:33:21.525Z"
   },
   {
    "duration": 11,
    "start_time": "2021-07-24T18:33:24.526Z"
   },
   {
    "duration": 5,
    "start_time": "2021-07-24T18:33:25.158Z"
   },
   {
    "duration": 16,
    "start_time": "2021-07-24T18:38:08.033Z"
   },
   {
    "duration": 10,
    "start_time": "2021-07-24T18:38:23.570Z"
   },
   {
    "duration": 6,
    "start_time": "2021-07-24T18:38:33.535Z"
   },
   {
    "duration": 4,
    "start_time": "2021-07-24T18:39:06.483Z"
   },
   {
    "duration": 362,
    "start_time": "2021-07-24T18:45:08.151Z"
   },
   {
    "duration": 8,
    "start_time": "2021-07-24T18:47:02.827Z"
   },
   {
    "duration": 5,
    "start_time": "2021-07-24T18:47:04.054Z"
   },
   {
    "duration": 128,
    "start_time": "2021-07-24T18:48:39.935Z"
   },
   {
    "duration": 3,
    "start_time": "2021-07-24T18:48:44.640Z"
   },
   {
    "duration": 3,
    "start_time": "2021-07-24T18:48:45.169Z"
   },
   {
    "duration": 3,
    "start_time": "2021-07-24T18:48:45.617Z"
   },
   {
    "duration": 120433,
    "start_time": "2021-07-24T18:48:46.194Z"
   },
   {
    "duration": 3,
    "start_time": "2021-07-24T18:51:08.071Z"
   },
   {
    "duration": 3,
    "start_time": "2021-07-24T18:51:09.823Z"
   },
   {
    "duration": 1017,
    "start_time": "2021-07-24T18:51:10.736Z"
   },
   {
    "duration": 8,
    "start_time": "2021-07-24T18:51:15.111Z"
   },
   {
    "duration": 4,
    "start_time": "2021-07-24T18:51:17.600Z"
   },
   {
    "duration": 5,
    "start_time": "2021-07-24T18:51:51.785Z"
   },
   {
    "duration": 3,
    "start_time": "2021-07-24T18:52:07.345Z"
   },
   {
    "duration": 4,
    "start_time": "2021-07-24T18:52:07.886Z"
   },
   {
    "duration": 3,
    "start_time": "2021-07-24T18:52:36.910Z"
   },
   {
    "duration": 333,
    "start_time": "2021-07-24T18:52:37.760Z"
   },
   {
    "duration": 11,
    "start_time": "2021-07-24T18:52:50.295Z"
   },
   {
    "duration": 5,
    "start_time": "2021-07-24T18:52:59.749Z"
   },
   {
    "duration": 5,
    "start_time": "2021-07-24T18:53:24.297Z"
   },
   {
    "duration": 358,
    "start_time": "2021-07-24T18:53:35.846Z"
   },
   {
    "duration": 4,
    "start_time": "2021-07-24T18:53:44.281Z"
   },
   {
    "duration": 5,
    "start_time": "2021-07-24T18:54:02.515Z"
   },
   {
    "duration": 4,
    "start_time": "2021-07-24T18:54:21.109Z"
   },
   {
    "duration": 9,
    "start_time": "2021-07-24T18:54:38.161Z"
   },
   {
    "duration": 5,
    "start_time": "2021-07-24T18:54:52.342Z"
   },
   {
    "duration": 1681,
    "start_time": "2021-07-25T14:04:35.474Z"
   },
   {
    "duration": 65,
    "start_time": "2021-07-25T14:04:38.822Z"
   },
   {
    "duration": 20,
    "start_time": "2021-07-25T14:04:40.872Z"
   },
   {
    "duration": 608,
    "start_time": "2021-07-25T14:04:43.026Z"
   },
   {
    "duration": 5,
    "start_time": "2021-07-25T14:04:46.640Z"
   },
   {
    "duration": 499,
    "start_time": "2021-07-25T14:04:51.561Z"
   },
   {
    "duration": 2080,
    "start_time": "2021-07-25T14:05:04.864Z"
   },
   {
    "duration": 373,
    "start_time": "2021-07-25T14:05:10.017Z"
   },
   {
    "duration": 6,
    "start_time": "2021-07-25T14:05:17.616Z"
   },
   {
    "duration": 15,
    "start_time": "2021-07-25T14:05:20.202Z"
   },
   {
    "duration": 16,
    "start_time": "2021-07-25T14:05:29.404Z"
   },
   {
    "duration": 351,
    "start_time": "2021-07-25T14:05:57.544Z"
   },
   {
    "duration": 400,
    "start_time": "2021-07-25T14:06:11.086Z"
   },
   {
    "duration": 1573,
    "start_time": "2021-07-25T14:06:56.302Z"
   },
   {
    "duration": 62,
    "start_time": "2021-07-25T14:06:58.309Z"
   },
   {
    "duration": 21,
    "start_time": "2021-07-25T14:07:00.232Z"
   },
   {
    "duration": 607,
    "start_time": "2021-07-25T14:07:02.416Z"
   },
   {
    "duration": 8,
    "start_time": "2021-07-25T14:07:08.024Z"
   },
   {
    "duration": 2137,
    "start_time": "2021-07-25T14:07:09.984Z"
   },
   {
    "duration": 402,
    "start_time": "2021-07-25T14:07:15.092Z"
   },
   {
    "duration": 11,
    "start_time": "2021-07-25T14:07:17.801Z"
   },
   {
    "duration": 1538,
    "start_time": "2021-07-25T14:08:17.218Z"
   },
   {
    "duration": 74,
    "start_time": "2021-07-25T14:08:18.934Z"
   },
   {
    "duration": 21,
    "start_time": "2021-07-25T14:08:21.008Z"
   },
   {
    "duration": 609,
    "start_time": "2021-07-25T14:08:22.774Z"
   },
   {
    "duration": 5,
    "start_time": "2021-07-25T14:08:26.784Z"
   },
   {
    "duration": 2120,
    "start_time": "2021-07-25T14:08:28.148Z"
   },
   {
    "duration": 392,
    "start_time": "2021-07-25T14:08:34.653Z"
   },
   {
    "duration": 5,
    "start_time": "2021-07-25T14:08:37.513Z"
   },
   {
    "duration": 9,
    "start_time": "2021-07-25T14:08:39.623Z"
   },
   {
    "duration": 11,
    "start_time": "2021-07-25T14:08:48.440Z"
   },
   {
    "duration": 22,
    "start_time": "2021-07-25T14:09:04.998Z"
   },
   {
    "duration": 26,
    "start_time": "2021-07-25T14:09:14.288Z"
   },
   {
    "duration": 23,
    "start_time": "2021-07-25T14:09:23.501Z"
   },
   {
    "duration": 1519,
    "start_time": "2021-07-25T14:10:23.607Z"
   },
   {
    "duration": 72,
    "start_time": "2021-07-25T14:10:26.663Z"
   },
   {
    "duration": 20,
    "start_time": "2021-07-25T14:10:26.737Z"
   },
   {
    "duration": 605,
    "start_time": "2021-07-25T14:10:29.034Z"
   },
   {
    "duration": 6,
    "start_time": "2021-07-25T14:10:32.739Z"
   },
   {
    "duration": 2134,
    "start_time": "2021-07-25T14:10:33.499Z"
   },
   {
    "duration": 398,
    "start_time": "2021-07-25T14:10:36.412Z"
   },
   {
    "duration": 5,
    "start_time": "2021-07-25T14:10:40.892Z"
   },
   {
    "duration": 38,
    "start_time": "2021-07-25T14:10:42.882Z"
   },
   {
    "duration": 16,
    "start_time": "2021-07-25T14:10:47.466Z"
   },
   {
    "duration": 5,
    "start_time": "2021-07-25T14:10:48.946Z"
   },
   {
    "duration": 4,
    "start_time": "2021-07-25T14:10:52.140Z"
   },
   {
    "duration": 4,
    "start_time": "2021-07-25T14:10:52.878Z"
   },
   {
    "duration": 4,
    "start_time": "2021-07-25T14:10:55.785Z"
   },
   {
    "duration": 19,
    "start_time": "2021-07-25T14:10:56.588Z"
   },
   {
    "duration": 21,
    "start_time": "2021-07-25T14:10:57.493Z"
   },
   {
    "duration": 5,
    "start_time": "2021-07-25T14:10:58.185Z"
   },
   {
    "duration": 12,
    "start_time": "2021-07-25T14:11:05.955Z"
   },
   {
    "duration": 5,
    "start_time": "2021-07-25T14:11:06.482Z"
   },
   {
    "duration": 6,
    "start_time": "2021-07-25T14:12:00.123Z"
   },
   {
    "duration": 4,
    "start_time": "2021-07-25T14:20:24.096Z"
   },
   {
    "duration": 16,
    "start_time": "2021-07-25T14:20:24.736Z"
   },
   {
    "duration": 4,
    "start_time": "2021-07-25T14:26:08.334Z"
   },
   {
    "duration": 4,
    "start_time": "2021-07-25T14:26:09.245Z"
   },
   {
    "duration": 3,
    "start_time": "2021-07-25T14:26:09.967Z"
   },
   {
    "duration": 4,
    "start_time": "2021-07-25T14:26:11.311Z"
   },
   {
    "duration": 526,
    "start_time": "2021-07-25T14:26:11.940Z"
   },
   {
    "duration": 359,
    "start_time": "2021-07-25T14:26:23.371Z"
   },
   {
    "duration": 4,
    "start_time": "2021-07-25T14:26:29.009Z"
   },
   {
    "duration": 5,
    "start_time": "2021-07-25T14:26:29.617Z"
   },
   {
    "duration": 4,
    "start_time": "2021-07-25T14:26:30.068Z"
   },
   {
    "duration": 4,
    "start_time": "2021-07-25T14:26:30.532Z"
   },
   {
    "duration": 376,
    "start_time": "2021-07-25T14:26:31.093Z"
   },
   {
    "duration": 4,
    "start_time": "2021-07-25T14:27:45.165Z"
   },
   {
    "duration": 4,
    "start_time": "2021-07-25T14:27:47.452Z"
   },
   {
    "duration": 118,
    "start_time": "2021-07-25T14:27:50.333Z"
   },
   {
    "duration": 482392,
    "start_time": "2021-07-25T14:28:13.589Z"
   },
   {
    "duration": 5,
    "start_time": "2021-07-25T14:36:47.530Z"
   },
   {
    "duration": 4,
    "start_time": "2021-07-25T14:36:58.107Z"
   },
   {
    "duration": 2865,
    "start_time": "2021-07-25T14:36:59.419Z"
   },
   {
    "duration": 9,
    "start_time": "2021-07-25T14:37:07.426Z"
   },
   {
    "duration": 5,
    "start_time": "2021-07-25T14:37:09.539Z"
   },
   {
    "duration": 9,
    "start_time": "2021-07-25T14:37:14.421Z"
   },
   {
    "duration": 6,
    "start_time": "2021-07-25T14:37:15.173Z"
   },
   {
    "duration": 4,
    "start_time": "2021-07-25T15:30:37.779Z"
   },
   {
    "duration": 3,
    "start_time": "2021-07-25T15:30:38.356Z"
   },
   {
    "duration": 4,
    "start_time": "2021-07-25T15:30:38.944Z"
   },
   {
    "duration": 4,
    "start_time": "2021-07-25T15:30:39.665Z"
   },
   {
    "duration": 1531,
    "start_time": "2021-07-25T15:33:13.030Z"
   },
   {
    "duration": 72,
    "start_time": "2021-07-25T15:33:14.564Z"
   },
   {
    "duration": 19,
    "start_time": "2021-07-25T15:33:14.640Z"
   },
   {
    "duration": 658,
    "start_time": "2021-07-25T15:33:14.662Z"
   },
   {
    "duration": 5,
    "start_time": "2021-07-25T15:33:15.322Z"
   },
   {
    "duration": 2192,
    "start_time": "2021-07-25T15:33:15.330Z"
   },
   {
    "duration": 408,
    "start_time": "2021-07-25T15:33:17.524Z"
   },
   {
    "duration": 6,
    "start_time": "2021-07-25T15:33:17.936Z"
   },
   {
    "duration": 36,
    "start_time": "2021-07-25T15:33:17.945Z"
   },
   {
    "duration": 33,
    "start_time": "2021-07-25T15:33:17.983Z"
   },
   {
    "duration": 6,
    "start_time": "2021-07-25T15:33:18.019Z"
   },
   {
    "duration": 6,
    "start_time": "2021-07-25T15:33:18.028Z"
   },
   {
    "duration": 6,
    "start_time": "2021-07-25T15:33:18.036Z"
   },
   {
    "duration": 6,
    "start_time": "2021-07-25T15:33:18.044Z"
   },
   {
    "duration": 65,
    "start_time": "2021-07-25T15:33:18.052Z"
   },
   {
    "duration": 108,
    "start_time": "2021-07-25T15:33:18.202Z"
   },
   {
    "duration": 93,
    "start_time": "2021-07-25T15:33:18.313Z"
   },
   {
    "duration": 6,
    "start_time": "2021-07-25T15:33:18.409Z"
   },
   {
    "duration": 6,
    "start_time": "2021-07-25T15:33:18.418Z"
   },
   {
    "duration": 10,
    "start_time": "2021-07-25T15:33:18.426Z"
   },
   {
    "duration": 543,
    "start_time": "2021-07-25T15:33:18.438Z"
   },
   {
    "duration": -780,
    "start_time": "2021-07-25T15:33:19.764Z"
   },
   {
    "duration": -782,
    "start_time": "2021-07-25T15:33:19.767Z"
   },
   {
    "duration": -783,
    "start_time": "2021-07-25T15:33:19.770Z"
   },
   {
    "duration": -791,
    "start_time": "2021-07-25T15:33:19.779Z"
   },
   {
    "duration": -792,
    "start_time": "2021-07-25T15:33:19.782Z"
   },
   {
    "duration": -793,
    "start_time": "2021-07-25T15:33:19.784Z"
   },
   {
    "duration": -794,
    "start_time": "2021-07-25T15:33:19.787Z"
   },
   {
    "duration": -796,
    "start_time": "2021-07-25T15:33:19.790Z"
   },
   {
    "duration": -799,
    "start_time": "2021-07-25T15:33:19.794Z"
   },
   {
    "duration": -800,
    "start_time": "2021-07-25T15:33:19.797Z"
   },
   {
    "duration": -801,
    "start_time": "2021-07-25T15:33:19.799Z"
   },
   {
    "duration": -810,
    "start_time": "2021-07-25T15:33:19.809Z"
   },
   {
    "duration": -812,
    "start_time": "2021-07-25T15:33:19.813Z"
   },
   {
    "duration": -814,
    "start_time": "2021-07-25T15:33:19.816Z"
   },
   {
    "duration": -815,
    "start_time": "2021-07-25T15:33:19.819Z"
   },
   {
    "duration": -815,
    "start_time": "2021-07-25T15:33:19.821Z"
   },
   {
    "duration": -815,
    "start_time": "2021-07-25T15:33:19.823Z"
   },
   {
    "duration": -815,
    "start_time": "2021-07-25T15:33:19.827Z"
   },
   {
    "duration": -815,
    "start_time": "2021-07-25T15:33:19.829Z"
   },
   {
    "duration": -816,
    "start_time": "2021-07-25T15:33:19.831Z"
   },
   {
    "duration": -816,
    "start_time": "2021-07-25T15:33:19.833Z"
   },
   {
    "duration": -817,
    "start_time": "2021-07-25T15:33:19.835Z"
   },
   {
    "duration": 6,
    "start_time": "2021-07-25T15:33:57.053Z"
   },
   {
    "duration": 1585,
    "start_time": "2021-07-25T15:34:03.571Z"
   },
   {
    "duration": 70,
    "start_time": "2021-07-25T15:34:05.159Z"
   },
   {
    "duration": 21,
    "start_time": "2021-07-25T15:34:05.232Z"
   },
   {
    "duration": 662,
    "start_time": "2021-07-25T15:34:05.256Z"
   },
   {
    "duration": 5,
    "start_time": "2021-07-25T15:34:05.920Z"
   },
   {
    "duration": 2087,
    "start_time": "2021-07-25T15:34:05.927Z"
   },
   {
    "duration": 409,
    "start_time": "2021-07-25T15:34:08.017Z"
   },
   {
    "duration": 6,
    "start_time": "2021-07-25T15:34:08.432Z"
   },
   {
    "duration": 58,
    "start_time": "2021-07-25T15:34:08.442Z"
   },
   {
    "duration": 17,
    "start_time": "2021-07-25T15:34:08.503Z"
   },
   {
    "duration": 4,
    "start_time": "2021-07-25T15:34:08.522Z"
   },
   {
    "duration": 17,
    "start_time": "2021-07-25T15:34:08.529Z"
   },
   {
    "duration": 22,
    "start_time": "2021-07-25T15:34:08.548Z"
   },
   {
    "duration": 8,
    "start_time": "2021-07-25T15:34:08.573Z"
   },
   {
    "duration": 41,
    "start_time": "2021-07-25T15:34:08.583Z"
   },
   {
    "duration": 109,
    "start_time": "2021-07-25T15:34:08.705Z"
   },
   {
    "duration": 8,
    "start_time": "2021-07-25T15:34:08.817Z"
   },
   {
    "duration": 16,
    "start_time": "2021-07-25T15:34:08.909Z"
   },
   {
    "duration": 16,
    "start_time": "2021-07-25T15:34:08.928Z"
   },
   {
    "duration": 11,
    "start_time": "2021-07-25T15:34:08.947Z"
   },
   {
    "duration": 41,
    "start_time": "2021-07-25T15:34:08.960Z"
   },
   {
    "duration": 299,
    "start_time": "2021-07-25T15:39:52.945Z"
   },
   {
    "duration": 360,
    "start_time": "2021-07-25T15:39:56.017Z"
   },
   {
    "duration": 1574,
    "start_time": "2021-07-25T15:40:13.448Z"
   },
   {
    "duration": 68,
    "start_time": "2021-07-25T15:40:15.025Z"
   },
   {
    "duration": 32,
    "start_time": "2021-07-25T15:40:15.097Z"
   },
   {
    "duration": 672,
    "start_time": "2021-07-25T15:40:15.132Z"
   },
   {
    "duration": 13,
    "start_time": "2021-07-25T15:40:15.808Z"
   },
   {
    "duration": 2183,
    "start_time": "2021-07-25T15:40:15.826Z"
   },
   {
    "duration": 433,
    "start_time": "2021-07-25T15:40:18.015Z"
   },
   {
    "duration": 5,
    "start_time": "2021-07-25T15:40:18.452Z"
   },
   {
    "duration": 61,
    "start_time": "2021-07-25T15:40:18.460Z"
   },
   {
    "duration": 17,
    "start_time": "2021-07-25T15:40:18.523Z"
   },
   {
    "duration": 9,
    "start_time": "2021-07-25T15:40:18.542Z"
   },
   {
    "duration": 21,
    "start_time": "2021-07-25T15:40:18.553Z"
   },
   {
    "duration": 13,
    "start_time": "2021-07-25T15:40:18.577Z"
   },
   {
    "duration": 29,
    "start_time": "2021-07-25T15:40:18.592Z"
   },
   {
    "duration": 79,
    "start_time": "2021-07-25T15:40:18.625Z"
   },
   {
    "duration": 8,
    "start_time": "2021-07-25T15:40:18.720Z"
   },
   {
    "duration": 10,
    "start_time": "2021-07-25T15:40:18.801Z"
   },
   {
    "duration": 108,
    "start_time": "2021-07-25T15:40:18.818Z"
   },
   {
    "duration": 13,
    "start_time": "2021-07-25T15:40:18.929Z"
   },
   {
    "duration": 13,
    "start_time": "2021-07-25T15:40:18.945Z"
   },
   {
    "duration": 18,
    "start_time": "2021-07-25T15:40:18.961Z"
   },
   {
    "duration": 1640,
    "start_time": "2021-07-25T15:41:41.595Z"
   },
   {
    "duration": 70,
    "start_time": "2021-07-25T15:41:43.237Z"
   },
   {
    "duration": 25,
    "start_time": "2021-07-25T15:41:46.304Z"
   },
   {
    "duration": 631,
    "start_time": "2021-07-25T15:41:48.714Z"
   },
   {
    "duration": 6,
    "start_time": "2021-07-25T15:41:51.531Z"
   },
   {
    "duration": 2427,
    "start_time": "2021-07-25T15:41:52.507Z"
   },
   {
    "duration": 423,
    "start_time": "2021-07-25T15:41:57.428Z"
   },
   {
    "duration": 6,
    "start_time": "2021-07-25T15:42:00.370Z"
   },
   {
    "duration": 37,
    "start_time": "2021-07-25T15:42:02.645Z"
   },
   {
    "duration": 16,
    "start_time": "2021-07-25T15:42:04.548Z"
   },
   {
    "duration": 5,
    "start_time": "2021-07-25T15:42:05.544Z"
   },
   {
    "duration": 4,
    "start_time": "2021-07-25T15:42:07.680Z"
   },
   {
    "duration": 5,
    "start_time": "2021-07-25T15:42:08.826Z"
   },
   {
    "duration": 4,
    "start_time": "2021-07-25T15:42:10.836Z"
   },
   {
    "duration": 68,
    "start_time": "2021-07-25T15:42:11.249Z"
   },
   {
    "duration": 28,
    "start_time": "2021-07-25T15:42:11.786Z"
   },
   {
    "duration": 6,
    "start_time": "2021-07-25T15:42:12.386Z"
   },
   {
    "duration": 4,
    "start_time": "2021-07-25T15:42:14.473Z"
   },
   {
    "duration": 5,
    "start_time": "2021-07-25T15:42:15.001Z"
   },
   {
    "duration": 5,
    "start_time": "2021-07-25T15:42:15.456Z"
   },
   {
    "duration": 4,
    "start_time": "2021-07-25T15:42:15.973Z"
   },
   {
    "duration": 1565,
    "start_time": "2021-07-25T15:43:29.344Z"
   },
   {
    "duration": 68,
    "start_time": "2021-07-25T15:43:30.913Z"
   },
   {
    "duration": 31,
    "start_time": "2021-07-25T15:43:30.984Z"
   },
   {
    "duration": 640,
    "start_time": "2021-07-25T15:43:31.018Z"
   },
   {
    "duration": 5,
    "start_time": "2021-07-25T15:43:31.661Z"
   },
   {
    "duration": 2203,
    "start_time": "2021-07-25T15:43:31.668Z"
   },
   {
    "duration": 425,
    "start_time": "2021-07-25T15:43:33.873Z"
   },
   {
    "duration": 6,
    "start_time": "2021-07-25T15:43:34.303Z"
   },
   {
    "duration": 41,
    "start_time": "2021-07-25T15:43:34.313Z"
   },
   {
    "duration": 46,
    "start_time": "2021-07-25T15:43:34.357Z"
   },
   {
    "duration": 7,
    "start_time": "2021-07-25T15:43:34.406Z"
   },
   {
    "duration": 13,
    "start_time": "2021-07-25T15:43:34.415Z"
   },
   {
    "duration": 3,
    "start_time": "2021-07-25T15:43:34.431Z"
   },
   {
    "duration": 5,
    "start_time": "2021-07-25T15:43:34.437Z"
   },
   {
    "duration": 162,
    "start_time": "2021-07-25T15:43:34.445Z"
   },
   {
    "duration": 106,
    "start_time": "2021-07-25T15:43:34.610Z"
   },
   {
    "duration": 81,
    "start_time": "2021-07-25T15:43:34.726Z"
   },
   {
    "duration": 14,
    "start_time": "2021-07-25T15:43:34.810Z"
   },
   {
    "duration": 12,
    "start_time": "2021-07-25T15:43:34.827Z"
   },
   {
    "duration": 13,
    "start_time": "2021-07-25T15:43:34.841Z"
   },
   {
    "duration": 22,
    "start_time": "2021-07-25T15:43:34.856Z"
   },
   {
    "duration": 1681,
    "start_time": "2021-07-25T15:45:10.109Z"
   },
   {
    "duration": 73,
    "start_time": "2021-07-25T15:45:11.792Z"
   },
   {
    "duration": 36,
    "start_time": "2021-07-25T15:45:11.868Z"
   },
   {
    "duration": 765,
    "start_time": "2021-07-25T15:45:11.907Z"
   },
   {
    "duration": 5,
    "start_time": "2021-07-25T15:45:12.675Z"
   },
   {
    "duration": 2223,
    "start_time": "2021-07-25T15:45:12.682Z"
   },
   {
    "duration": 422,
    "start_time": "2021-07-25T15:45:14.908Z"
   },
   {
    "duration": 5,
    "start_time": "2021-07-25T15:45:15.334Z"
   },
   {
    "duration": 60,
    "start_time": "2021-07-25T15:45:15.342Z"
   },
   {
    "duration": 22,
    "start_time": "2021-07-25T15:45:15.405Z"
   },
   {
    "duration": 6,
    "start_time": "2021-07-25T15:45:15.430Z"
   },
   {
    "duration": 8,
    "start_time": "2021-07-25T15:45:15.439Z"
   },
   {
    "duration": 6,
    "start_time": "2021-07-25T15:45:15.449Z"
   },
   {
    "duration": 6,
    "start_time": "2021-07-25T15:45:15.457Z"
   },
   {
    "duration": 61,
    "start_time": "2021-07-25T15:45:15.465Z"
   },
   {
    "duration": 273,
    "start_time": "2021-07-25T15:45:15.528Z"
   },
   {
    "duration": 12,
    "start_time": "2021-07-25T15:45:15.803Z"
   },
   {
    "duration": 9,
    "start_time": "2021-07-25T15:45:15.817Z"
   },
   {
    "duration": 4,
    "start_time": "2021-07-25T15:45:15.829Z"
   },
   {
    "duration": 6,
    "start_time": "2021-07-25T15:45:15.836Z"
   },
   {
    "duration": 8,
    "start_time": "2021-07-25T15:45:15.844Z"
   },
   {
    "duration": 27713,
    "start_time": "2021-07-25T15:45:15.854Z"
   },
   {
    "duration": 373,
    "start_time": "2021-07-25T15:45:43.574Z"
   },
   {
    "duration": -770,
    "start_time": "2021-07-25T15:45:44.721Z"
   },
   {
    "duration": -786,
    "start_time": "2021-07-25T15:45:44.738Z"
   },
   {
    "duration": -791,
    "start_time": "2021-07-25T15:45:44.746Z"
   },
   {
    "duration": -800,
    "start_time": "2021-07-25T15:45:44.757Z"
   },
   {
    "duration": -806,
    "start_time": "2021-07-25T15:45:44.765Z"
   },
   {
    "duration": -811,
    "start_time": "2021-07-25T15:45:44.772Z"
   },
   {
    "duration": -814,
    "start_time": "2021-07-25T15:45:44.778Z"
   },
   {
    "duration": -817,
    "start_time": "2021-07-25T15:45:44.783Z"
   },
   {
    "duration": -835,
    "start_time": "2021-07-25T15:45:44.803Z"
   },
   {
    "duration": -838,
    "start_time": "2021-07-25T15:45:44.808Z"
   },
   {
    "duration": -840,
    "start_time": "2021-07-25T15:45:44.813Z"
   },
   {
    "duration": -841,
    "start_time": "2021-07-25T15:45:44.816Z"
   },
   {
    "duration": -843,
    "start_time": "2021-07-25T15:45:44.820Z"
   },
   {
    "duration": -843,
    "start_time": "2021-07-25T15:45:44.823Z"
   },
   {
    "duration": -844,
    "start_time": "2021-07-25T15:45:44.826Z"
   },
   {
    "duration": -845,
    "start_time": "2021-07-25T15:45:44.829Z"
   },
   {
    "duration": -847,
    "start_time": "2021-07-25T15:45:44.833Z"
   },
   {
    "duration": -836,
    "start_time": "2021-07-25T15:45:44.836Z"
   },
   {
    "duration": -802,
    "start_time": "2021-07-25T15:45:44.840Z"
   },
   {
    "duration": -814,
    "start_time": "2021-07-25T15:45:44.855Z"
   },
   {
    "duration": 1497,
    "start_time": "2021-07-25T15:48:08.434Z"
   },
   {
    "duration": 68,
    "start_time": "2021-07-25T15:48:09.933Z"
   },
   {
    "duration": 23,
    "start_time": "2021-07-25T15:48:10.005Z"
   },
   {
    "duration": 641,
    "start_time": "2021-07-25T15:48:10.031Z"
   },
   {
    "duration": 5,
    "start_time": "2021-07-25T15:48:10.675Z"
   },
   {
    "duration": 2265,
    "start_time": "2021-07-25T15:48:10.683Z"
   },
   {
    "duration": 430,
    "start_time": "2021-07-25T15:48:12.950Z"
   },
   {
    "duration": 6,
    "start_time": "2021-07-25T15:48:13.384Z"
   },
   {
    "duration": 37,
    "start_time": "2021-07-25T15:48:13.403Z"
   },
   {
    "duration": 14,
    "start_time": "2021-07-25T15:48:13.443Z"
   },
   {
    "duration": 4,
    "start_time": "2021-07-25T15:48:13.459Z"
   },
   {
    "duration": 41,
    "start_time": "2021-07-25T15:48:13.466Z"
   },
   {
    "duration": 5,
    "start_time": "2021-07-25T15:48:13.510Z"
   },
   {
    "duration": 5,
    "start_time": "2021-07-25T15:48:13.518Z"
   },
   {
    "duration": 85,
    "start_time": "2021-07-25T15:48:13.526Z"
   },
   {
    "duration": 102,
    "start_time": "2021-07-25T15:48:13.614Z"
   },
   {
    "duration": 80,
    "start_time": "2021-07-25T15:48:13.723Z"
   },
   {
    "duration": 4,
    "start_time": "2021-07-25T15:48:13.806Z"
   },
   {
    "duration": 90,
    "start_time": "2021-07-25T15:48:13.814Z"
   },
   {
    "duration": 12,
    "start_time": "2021-07-25T15:48:13.907Z"
   },
   {
    "duration": 13,
    "start_time": "2021-07-25T15:48:13.921Z"
   },
   {
    "duration": 1577,
    "start_time": "2021-07-25T15:59:43.580Z"
   },
   {
    "duration": 69,
    "start_time": "2021-07-25T15:59:45.160Z"
   },
   {
    "duration": 21,
    "start_time": "2021-07-25T15:59:45.232Z"
   },
   {
    "duration": 637,
    "start_time": "2021-07-25T15:59:45.256Z"
   },
   {
    "duration": 16,
    "start_time": "2021-07-25T15:59:45.899Z"
   },
   {
    "duration": 2222,
    "start_time": "2021-07-25T15:59:45.918Z"
   },
   {
    "duration": 430,
    "start_time": "2021-07-25T15:59:48.142Z"
   },
   {
    "duration": 6,
    "start_time": "2021-07-25T15:59:48.576Z"
   },
   {
    "duration": 49,
    "start_time": "2021-07-25T15:59:48.600Z"
   },
   {
    "duration": 17,
    "start_time": "2021-07-25T15:59:48.652Z"
   },
   {
    "duration": 36,
    "start_time": "2021-07-25T15:59:48.671Z"
   },
   {
    "duration": 5,
    "start_time": "2021-07-25T15:59:48.714Z"
   },
   {
    "duration": 10,
    "start_time": "2021-07-25T15:59:48.721Z"
   },
   {
    "duration": 9,
    "start_time": "2021-07-25T15:59:48.733Z"
   },
   {
    "duration": 65,
    "start_time": "2021-07-25T15:59:48.744Z"
   },
   {
    "duration": 101,
    "start_time": "2021-07-25T15:59:48.811Z"
   },
   {
    "duration": 93,
    "start_time": "2021-07-25T15:59:48.915Z"
   },
   {
    "duration": 90,
    "start_time": "2021-07-25T15:59:49.011Z"
   },
   {
    "duration": 4,
    "start_time": "2021-07-25T15:59:49.114Z"
   },
   {
    "duration": 10,
    "start_time": "2021-07-25T15:59:49.120Z"
   },
   {
    "duration": 6,
    "start_time": "2021-07-25T15:59:49.133Z"
   },
   {
    "duration": 412,
    "start_time": "2021-07-25T16:04:41.938Z"
   },
   {
    "duration": 1586,
    "start_time": "2021-07-25T16:04:50.568Z"
   },
   {
    "duration": 25,
    "start_time": "2021-07-25T16:04:56.999Z"
   },
   {
    "duration": 17,
    "start_time": "2021-07-25T16:10:15.918Z"
   },
   {
    "duration": 15,
    "start_time": "2021-07-25T16:11:56.030Z"
   },
   {
    "duration": 1731,
    "start_time": "2021-08-25T20:32:53.690Z"
   },
   {
    "duration": 67,
    "start_time": "2021-08-25T20:32:56.903Z"
   },
   {
    "duration": 1529,
    "start_time": "2021-08-26T19:01:25.279Z"
   },
   {
    "duration": 110,
    "start_time": "2021-08-26T19:01:26.811Z"
   },
   {
    "duration": 24,
    "start_time": "2021-08-26T19:01:28.278Z"
   },
   {
    "duration": 625,
    "start_time": "2021-08-26T19:01:31.112Z"
   },
   {
    "duration": 5,
    "start_time": "2021-08-26T19:01:34.268Z"
   },
   {
    "duration": 2046,
    "start_time": "2021-08-26T19:01:34.791Z"
   },
   {
    "duration": 400,
    "start_time": "2021-08-26T19:01:40.060Z"
   },
   {
    "duration": 6,
    "start_time": "2021-08-26T19:01:43.832Z"
   },
   {
    "duration": 35,
    "start_time": "2021-08-26T19:01:46.327Z"
   },
   {
    "duration": 16,
    "start_time": "2021-08-26T19:01:48.569Z"
   },
   {
    "duration": 5,
    "start_time": "2021-08-26T19:01:49.096Z"
   },
   {
    "duration": 4,
    "start_time": "2021-08-26T19:01:50.982Z"
   },
   {
    "duration": 3,
    "start_time": "2021-08-26T19:01:51.313Z"
   },
   {
    "duration": 3,
    "start_time": "2021-08-26T19:01:54.945Z"
   },
   {
    "duration": 425,
    "start_time": "2021-08-26T19:02:07.237Z"
   },
   {
    "duration": 4,
    "start_time": "2021-08-26T19:02:14.853Z"
   },
   {
    "duration": 17,
    "start_time": "2021-08-26T19:02:15.498Z"
   },
   {
    "duration": 16,
    "start_time": "2021-08-26T19:02:16.079Z"
   },
   {
    "duration": 6,
    "start_time": "2021-08-26T19:02:17.010Z"
   },
   {
    "duration": 4,
    "start_time": "2021-08-26T19:02:20.183Z"
   },
   {
    "duration": 4,
    "start_time": "2021-08-26T19:02:21.006Z"
   },
   {
    "duration": 4,
    "start_time": "2021-08-26T19:02:23.657Z"
   },
   {
    "duration": 4,
    "start_time": "2021-08-26T19:02:24.534Z"
   }
  ],
  "kernelspec": {
   "display_name": "Python 3",
   "language": "python",
   "name": "python3"
  },
  "language_info": {
   "codemirror_mode": {
    "name": "ipython",
    "version": 3
   },
   "file_extension": ".py",
   "mimetype": "text/x-python",
   "name": "python",
   "nbconvert_exporter": "python",
   "pygments_lexer": "ipython3",
   "version": "3.8.8"
  },
  "toc": {
   "base_numbering": 1,
   "nav_menu": {},
   "number_sections": true,
   "sideBar": true,
   "skip_h1_title": true,
   "title_cell": "Содержание",
   "title_sidebar": "Contents",
   "toc_cell": true,
   "toc_position": {
    "height": "calc(100% - 180px)",
    "left": "10px",
    "top": "150px",
    "width": "366.391px"
   },
   "toc_section_display": true,
   "toc_window_display": false
  }
 },
 "nbformat": 4,
 "nbformat_minor": 2
}
