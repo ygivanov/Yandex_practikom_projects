{
 "cells": [
  {
   "cell_type": "markdown",
   "metadata": {
    "toc": true
   },
   "source": [
    "<h1>Содержание<span class=\"tocSkip\"></span></h1>\n",
    "<div class=\"toc\"><ul class=\"toc-item\"><li><span><a href=\"#Загрузка-данных\" data-toc-modified-id=\"Загрузка-данных-1\"><span class=\"toc-item-num\">1&nbsp;&nbsp;</span>Загрузка данных</a></span></li><li><span><a href=\"#Умножение-матриц\" data-toc-modified-id=\"Умножение-матриц-2\"><span class=\"toc-item-num\">2&nbsp;&nbsp;</span>Умножение матриц</a></span></li><li><span><a href=\"#Алгоритм-преобразования\" data-toc-modified-id=\"Алгоритм-преобразования-3\"><span class=\"toc-item-num\">3&nbsp;&nbsp;</span>Алгоритм преобразования</a></span></li><li><span><a href=\"#Проверка-алгоритма\" data-toc-modified-id=\"Проверка-алгоритма-4\"><span class=\"toc-item-num\">4&nbsp;&nbsp;</span>Проверка алгоритма</a></span></li><li><span><a href=\"#Чек-лист-проверки\" data-toc-modified-id=\"Чек-лист-проверки-5\"><span class=\"toc-item-num\">5&nbsp;&nbsp;</span>Чек-лист проверки</a></span></li></ul></div>"
   ]
  },
  {
   "cell_type": "markdown",
   "metadata": {},
   "source": [
    "# Защита персональных данных клиентов"
   ]
  },
  {
   "cell_type": "markdown",
   "metadata": {},
   "source": [
    "Вам нужно защитить данные клиентов страховой компании «Хоть потоп». Разработайте такой метод преобразования данных, чтобы по ним было сложно восстановить персональную информацию. Обоснуйте корректность его работы.\n",
    "\n",
    "Нужно защитить данные, чтобы при преобразовании качество моделей машинного обучения не ухудшилось. Подбирать наилучшую модель не требуется."
   ]
  },
  {
   "cell_type": "markdown",
   "metadata": {},
   "source": [
    "## Загрузка данных"
   ]
  },
  {
   "cell_type": "code",
   "execution_count": 1,
   "metadata": {},
   "outputs": [],
   "source": [
    "import pandas as pd\n",
    "import numpy as np\n",
    "from IPython.display import display\n",
    "from sklearn.model_selection import train_test_split\n",
    "from sklearn.linear_model import LinearRegression\n",
    "from sklearn.metrics import r2_score\n",
    "#заранее зададим значение для random_state\n",
    "random_state = 29"
   ]
  },
  {
   "cell_type": "code",
   "execution_count": 2,
   "metadata": {},
   "outputs": [
    {
     "data": {
      "text/html": [
       "<div>\n",
       "<style scoped>\n",
       "    .dataframe tbody tr th:only-of-type {\n",
       "        vertical-align: middle;\n",
       "    }\n",
       "\n",
       "    .dataframe tbody tr th {\n",
       "        vertical-align: top;\n",
       "    }\n",
       "\n",
       "    .dataframe thead th {\n",
       "        text-align: right;\n",
       "    }\n",
       "</style>\n",
       "<table border=\"1\" class=\"dataframe\">\n",
       "  <thead>\n",
       "    <tr style=\"text-align: right;\">\n",
       "      <th></th>\n",
       "      <th>Пол</th>\n",
       "      <th>Возраст</th>\n",
       "      <th>Зарплата</th>\n",
       "      <th>Члены семьи</th>\n",
       "      <th>Страховые выплаты</th>\n",
       "    </tr>\n",
       "  </thead>\n",
       "  <tbody>\n",
       "    <tr>\n",
       "      <td>2908</td>\n",
       "      <td>0</td>\n",
       "      <td>20.0</td>\n",
       "      <td>41400.0</td>\n",
       "      <td>1</td>\n",
       "      <td>0</td>\n",
       "    </tr>\n",
       "    <tr>\n",
       "      <td>2638</td>\n",
       "      <td>0</td>\n",
       "      <td>28.0</td>\n",
       "      <td>49200.0</td>\n",
       "      <td>3</td>\n",
       "      <td>0</td>\n",
       "    </tr>\n",
       "    <tr>\n",
       "      <td>4395</td>\n",
       "      <td>0</td>\n",
       "      <td>19.0</td>\n",
       "      <td>62300.0</td>\n",
       "      <td>3</td>\n",
       "      <td>0</td>\n",
       "    </tr>\n",
       "    <tr>\n",
       "      <td>3980</td>\n",
       "      <td>0</td>\n",
       "      <td>26.0</td>\n",
       "      <td>55600.0</td>\n",
       "      <td>0</td>\n",
       "      <td>0</td>\n",
       "    </tr>\n",
       "    <tr>\n",
       "      <td>4644</td>\n",
       "      <td>1</td>\n",
       "      <td>45.0</td>\n",
       "      <td>43800.0</td>\n",
       "      <td>1</td>\n",
       "      <td>1</td>\n",
       "    </tr>\n",
       "    <tr>\n",
       "      <td>4011</td>\n",
       "      <td>0</td>\n",
       "      <td>30.0</td>\n",
       "      <td>55900.0</td>\n",
       "      <td>2</td>\n",
       "      <td>0</td>\n",
       "    </tr>\n",
       "    <tr>\n",
       "      <td>2689</td>\n",
       "      <td>1</td>\n",
       "      <td>41.0</td>\n",
       "      <td>50100.0</td>\n",
       "      <td>1</td>\n",
       "      <td>0</td>\n",
       "    </tr>\n",
       "    <tr>\n",
       "      <td>1345</td>\n",
       "      <td>0</td>\n",
       "      <td>39.0</td>\n",
       "      <td>37400.0</td>\n",
       "      <td>0</td>\n",
       "      <td>0</td>\n",
       "    </tr>\n",
       "    <tr>\n",
       "      <td>2517</td>\n",
       "      <td>0</td>\n",
       "      <td>43.0</td>\n",
       "      <td>37500.0</td>\n",
       "      <td>0</td>\n",
       "      <td>1</td>\n",
       "    </tr>\n",
       "    <tr>\n",
       "      <td>1121</td>\n",
       "      <td>0</td>\n",
       "      <td>33.0</td>\n",
       "      <td>38500.0</td>\n",
       "      <td>2</td>\n",
       "      <td>0</td>\n",
       "    </tr>\n",
       "  </tbody>\n",
       "</table>\n",
       "</div>"
      ],
      "text/plain": [
       "      Пол  Возраст  Зарплата  Члены семьи  Страховые выплаты\n",
       "2908    0     20.0   41400.0            1                  0\n",
       "2638    0     28.0   49200.0            3                  0\n",
       "4395    0     19.0   62300.0            3                  0\n",
       "3980    0     26.0   55600.0            0                  0\n",
       "4644    1     45.0   43800.0            1                  1\n",
       "4011    0     30.0   55900.0            2                  0\n",
       "2689    1     41.0   50100.0            1                  0\n",
       "1345    0     39.0   37400.0            0                  0\n",
       "2517    0     43.0   37500.0            0                  1\n",
       "1121    0     33.0   38500.0            2                  0"
      ]
     },
     "metadata": {},
     "output_type": "display_data"
    },
    {
     "name": "stdout",
     "output_type": "stream",
     "text": [
      "<class 'pandas.core.frame.DataFrame'>\n",
      "RangeIndex: 5000 entries, 0 to 4999\n",
      "Data columns (total 5 columns):\n",
      "Пол                  5000 non-null int64\n",
      "Возраст              5000 non-null float64\n",
      "Зарплата             5000 non-null float64\n",
      "Члены семьи          5000 non-null int64\n",
      "Страховые выплаты    5000 non-null int64\n",
      "dtypes: float64(2), int64(3)\n",
      "memory usage: 195.4 KB\n"
     ]
    },
    {
     "data": {
      "text/plain": [
       "None"
      ]
     },
     "metadata": {},
     "output_type": "display_data"
    }
   ],
   "source": [
    "df = pd.read_csv('/datasets/insurance.csv')\n",
    "display(df.sample(10))\n",
    "display(df.info())"
   ]
  },
  {
   "cell_type": "markdown",
   "metadata": {},
   "source": [
    "Пропусков в нашем датасете нет. Данные не требую обратотки.\n",
    "* Признаки: пол, возраст и зарплата застрахованного, количество членов его семьи.\n",
    "* Целевой признак: количество страховых выплат клиенту за последние 5 лет."
   ]
  },
  {
   "cell_type": "markdown",
   "metadata": {},
   "source": [
    "## Умножение матриц"
   ]
  },
  {
   "cell_type": "markdown",
   "metadata": {},
   "source": [
    "В этом задании вы можете записывать формулы в *Jupyter Notebook.*\n",
    "\n",
    "Чтобы записать формулу внутри текста, окружите её символами доллара \\\\$; если снаружи —  двойными символами \\\\$\\\\$. Эти формулы записываются на языке вёрстки *LaTeX.* \n",
    "\n",
    "Для примера мы записали формулы линейной регрессии. Можете их скопировать и отредактировать, чтобы решить задачу.\n",
    "\n",
    "Работать в *LaTeX* необязательно."
   ]
  },
  {
   "cell_type": "markdown",
   "metadata": {},
   "source": [
    "Обозначения:\n",
    "\n",
    "- $X$ — матрица признаков (нулевой столбец состоит из единиц)\n",
    "\n",
    "- $y$ — вектор целевого признака\n",
    "\n",
    "- $P$ — матрица, на которую умножаются признаки\n",
    "\n",
    "- $w$ — вектор весов линейной регрессии (нулевой элемент равен сдвигу)"
   ]
  },
  {
   "cell_type": "markdown",
   "metadata": {},
   "source": [
    "Предсказания:\n",
    "\n",
    "$$\n",
    "a = Xw\n",
    "$$\n",
    "\n",
    "Задача обучения:\n",
    "\n",
    "$$\n",
    "w = \\arg\\min_w MSE(Xw, y)\n",
    "$$\n",
    "\n",
    "Формула обучения:\n",
    "\n",
    "$$\n",
    "w = (X^T X)^{-1} X^T y\n",
    "$$"
   ]
  },
  {
   "cell_type": "markdown",
   "metadata": {},
   "source": [
    "**Ответ:** предсказания не изменятся\n",
    "\n",
    "Пусть $P$ - обратимая квадратная матрица $n$ на $n$. Умножим матрицу признаков $X$ на $P$ справа. Тогда предсказания будут иметь вид \n",
    "$$\n",
    "a_1 = XPw_1\n",
    "$$\n",
    "\n",
    "Здесь $XP$ прямоугольная матрица $m$ на $n$, а формула обучения:\n",
    "$$\n",
    "w_1 = ((XP)^T\\cdot XP)^{-1}\\cdot (XP)^T y\n",
    "$$\n",
    "\n",
    "Докажем, что $a = a_1$.\n",
    "\n",
    "**Обоснование:** Предсказания для исходной матрицы с учетом алгоритма обучения будут иметь вид:\n",
    "$$\n",
    "a = Xw = X(X^T X)^{-1} X^T y \n",
    "$$\n",
    "\n",
    "Получим выражение предсказаний $a_1$:\n",
    "\n",
    "$$\n",
    "a_1 = XP \\cdot w_1 = XP \\cdot ((XP)^T\\cdot XP)^{-1}\\cdot (XP)^T y  \n",
    "$$\n",
    "\n",
    "Раскроем транспонирование:\n",
    "$$\n",
    "a_1 = XP \\cdot (P^TX^TXP)^{-1}\\cdot P^TX^Ty = XP \\cdot (P^T(X^TX)P)^{-1}\\cdot P^TX^Ty \n",
    "$$\n",
    "\n",
    "Три матрицы под (-1) квадратные и обратимые, поэтому:\n",
    "$$\n",
    "a_1 = XP \\cdot P^{-1}(X^TX)^{-1}(P^T)^{-1}P^TX^Ty = XE(X^TX)^{-1}EX^Ty = X(X^TX)^{-1}X^Ty = a\n",
    "$$\n",
    "\n",
    "Т.о. доказано, что предсказания не изменяются при умножении исходной матрицы признаков на произвольную обратимую матрицу."
   ]
  },
  {
   "cell_type": "markdown",
   "metadata": {},
   "source": [
    "## Алгоритм преобразования"
   ]
  },
  {
   "cell_type": "markdown",
   "metadata": {},
   "source": [
    "**Алгоритм**\n",
    "\n",
    "* Генерируем рандомную матрицу размером n на n\n",
    "* Проверяем ее на обратимость\n",
    "* Умножаем сгенеророванную рандомную матрицу на матрицу признаки\n",
    "* Определяем метрику R2 с помощью линейной регрессии для предобразованных данных и исходных, а затем находим разницу метрик R2"
   ]
  },
  {
   "cell_type": "markdown",
   "metadata": {},
   "source": [
    "**Обоснование**\n",
    "\n",
    "Обоснование нашего алгоритма расписано во втором пункте"
   ]
  },
  {
   "cell_type": "markdown",
   "metadata": {},
   "source": [
    "## Проверка алгоритма"
   ]
  },
  {
   "cell_type": "code",
   "execution_count": 3,
   "metadata": {},
   "outputs": [],
   "source": [
    "features = df.drop('Страховые выплаты', axis = 1)\n",
    "target = df['Страховые выплаты']"
   ]
  },
  {
   "cell_type": "code",
   "execution_count": 4,
   "metadata": {},
   "outputs": [],
   "source": [
    "def transform(features, eps):\n",
    "    n = features.shape[1]\n",
    "    det = 0\n",
    "    while abs(det) < eps:\n",
    "        P = np.random.randint(-50, 50, size=(n, n))\n",
    "        det = np.linalg.det(P)\n",
    "        print('det =', det)\n",
    "    return features.dot(P)"
   ]
  },
  {
   "cell_type": "code",
   "execution_count": 5,
   "metadata": {},
   "outputs": [
    {
     "name": "stdout",
     "output_type": "stream",
     "text": [
      "det = 813329.9999999993\n"
     ]
    }
   ],
   "source": [
    "eps = 10**(-4)\n",
    "\n",
    "features_transform = transform(features, eps=eps)"
   ]
  },
  {
   "cell_type": "code",
   "execution_count": 6,
   "metadata": {},
   "outputs": [],
   "source": [
    "features_train, features_valid, target_train, target_valid = train_test_split(features, target,  \n",
    "                                                                              test_size=0.25, random_state=random_state)\n",
    "features_transform_train, features_transform_valid = train_test_split(features_transform,\n",
    "                                                                      test_size=0.25, random_state=random_state)"
   ]
  },
  {
   "cell_type": "code",
   "execution_count": 7,
   "metadata": {},
   "outputs": [
    {
     "name": "stdout",
     "output_type": "stream",
     "text": [
      "R2 на исходной матрице: 0.34480266040260843\n",
      "R2 на преобразованной матрице: 0.34480266040287166\n",
      "Разница метрик: 2.632338791386246e-13\n"
     ]
    }
   ],
   "source": [
    "# обучаемся на исходной матрице\n",
    "model1 = LinearRegression()\n",
    "model1.fit(features_train, target_train)\n",
    "score1 = r2_score(target_valid, model1.predict(features_valid))\n",
    "print('R2 на исходной матрице:', score1)\n",
    "\n",
    "# обучаемся на преобразованной матрице\n",
    "model2 = LinearRegression()\n",
    "model2.fit(features_transform_train, target_train)\n",
    "score2 = r2_score(target_valid, model2.predict(features_transform_valid))\n",
    "print('R2 на преобразованной матрице:', score2)\n",
    "\n",
    "print('Разница метрик:', abs(score1 - score2))"
   ]
  },
  {
   "cell_type": "markdown",
   "metadata": {},
   "source": [
    "Значение R2 в обоих случаях получилась 0,34. Разница метрик мала. Ранее мы записали теоретическо обоснование, того что в результате линейного преобразования матрицы признаков качество модели не измениться. Теперь мы это проверили на практике."
   ]
  }
 ],
 "metadata": {
  "ExecuteTimeLog": [
   {
    "duration": 575,
    "start_time": "2021-06-22T20:10:09.864Z"
   },
   {
    "duration": 319,
    "start_time": "2021-06-27T19:51:42.976Z"
   },
   {
    "duration": 880,
    "start_time": "2021-06-27T19:51:45.964Z"
   },
   {
    "duration": 21,
    "start_time": "2021-06-27T19:51:46.847Z"
   },
   {
    "duration": 20,
    "start_time": "2021-06-27T19:51:49.862Z"
   },
   {
    "duration": 38,
    "start_time": "2021-06-27T19:51:55.697Z"
   },
   {
    "duration": 9,
    "start_time": "2021-06-27T20:25:14.099Z"
   },
   {
    "duration": 334,
    "start_time": "2021-06-28T09:50:00.150Z"
   },
   {
    "duration": 1379,
    "start_time": "2021-06-28T09:50:02.751Z"
   },
   {
    "duration": 39,
    "start_time": "2021-06-28T09:50:04.132Z"
   },
   {
    "duration": 6,
    "start_time": "2021-06-28T09:51:46.814Z"
   },
   {
    "duration": 39,
    "start_time": "2021-06-28T09:52:06.719Z"
   },
   {
    "duration": 7,
    "start_time": "2021-06-28T10:39:31.598Z"
   },
   {
    "duration": 371,
    "start_time": "2021-06-28T10:39:58.517Z"
   },
   {
    "duration": 323,
    "start_time": "2021-06-28T10:40:16.373Z"
   },
   {
    "duration": 4,
    "start_time": "2021-06-28T10:40:20.566Z"
   },
   {
    "duration": 35,
    "start_time": "2021-06-28T10:40:21.377Z"
   },
   {
    "duration": 340,
    "start_time": "2021-06-28T10:40:25.417Z"
   },
   {
    "duration": 5,
    "start_time": "2021-06-28T10:40:32.154Z"
   },
   {
    "duration": 5,
    "start_time": "2021-06-28T10:40:32.925Z"
   },
   {
    "duration": 1529,
    "start_time": "2021-06-28T10:40:35.236Z"
   },
   {
    "duration": 5,
    "start_time": "2021-06-28T10:40:44.630Z"
   },
   {
    "duration": 5,
    "start_time": "2021-06-28T10:40:46.081Z"
   },
   {
    "duration": 10,
    "start_time": "2021-06-28T10:41:44.940Z"
   },
   {
    "duration": 14,
    "start_time": "2021-06-28T10:41:56.223Z"
   },
   {
    "duration": 4,
    "start_time": "2021-06-28T10:49:58.127Z"
   },
   {
    "duration": 5,
    "start_time": "2021-06-28T10:50:33.128Z"
   },
   {
    "duration": 319,
    "start_time": "2021-06-28T10:51:12.919Z"
   },
   {
    "duration": 1327,
    "start_time": "2021-06-28T10:51:23.443Z"
   },
   {
    "duration": 45,
    "start_time": "2021-06-28T10:51:24.773Z"
   },
   {
    "duration": 5,
    "start_time": "2021-06-28T10:51:24.820Z"
   },
   {
    "duration": 6,
    "start_time": "2021-06-28T10:51:24.828Z"
   },
   {
    "duration": 30,
    "start_time": "2021-06-28T10:51:24.837Z"
   },
   {
    "duration": 10,
    "start_time": "2021-06-28T10:51:24.869Z"
   },
   {
    "duration": 16,
    "start_time": "2021-06-28T10:51:24.881Z"
   },
   {
    "duration": 1384,
    "start_time": "2021-06-28T10:57:28.903Z"
   },
   {
    "duration": 46,
    "start_time": "2021-06-28T10:57:30.289Z"
   },
   {
    "duration": 5,
    "start_time": "2021-06-28T10:57:30.338Z"
   },
   {
    "duration": 21,
    "start_time": "2021-06-28T10:57:30.346Z"
   },
   {
    "duration": 31,
    "start_time": "2021-06-28T10:57:30.369Z"
   },
   {
    "duration": 21,
    "start_time": "2021-06-28T10:57:30.402Z"
   },
   {
    "duration": 17,
    "start_time": "2021-06-28T10:57:30.425Z"
   },
   {
    "duration": 1313,
    "start_time": "2021-06-28T11:22:22.417Z"
   },
   {
    "duration": 44,
    "start_time": "2021-06-28T11:22:23.732Z"
   },
   {
    "duration": 5,
    "start_time": "2021-06-28T11:23:55.385Z"
   },
   {
    "duration": 5,
    "start_time": "2021-06-28T11:23:55.975Z"
   },
   {
    "duration": 5,
    "start_time": "2021-06-28T11:23:56.984Z"
   },
   {
    "duration": 12,
    "start_time": "2021-06-28T11:24:03.927Z"
   },
   {
    "duration": 18,
    "start_time": "2021-06-28T11:24:04.323Z"
   }
  ],
  "kernelspec": {
   "display_name": "Python 3",
   "language": "python",
   "name": "python3"
  },
  "language_info": {
   "codemirror_mode": {
    "name": "ipython",
    "version": 3
   },
   "file_extension": ".py",
   "mimetype": "text/x-python",
   "name": "python",
   "nbconvert_exporter": "python",
   "pygments_lexer": "ipython3",
   "version": "3.8.8"
  },
  "toc": {
   "base_numbering": 1,
   "nav_menu": {},
   "number_sections": true,
   "sideBar": true,
   "skip_h1_title": true,
   "title_cell": "Содержание",
   "title_sidebar": "Contents",
   "toc_cell": true,
   "toc_position": {
    "height": "609px",
    "left": "52px",
    "top": "111.125px",
    "width": "270.391px"
   },
   "toc_section_display": true,
   "toc_window_display": false
  }
 },
 "nbformat": 4,
 "nbformat_minor": 2
}
