{
 "cells": [
  {
   "cell_type": "markdown",
   "metadata": {},
   "source": [
    "# Исследование объявлений о продаже квартир\n",
    "\n",
    "В вашем распоряжении данные сервиса Яндекс.Недвижимость — архив объявлений о продаже квартир в Санкт-Петербурге и соседних населённых пунктов за несколько лет. Нужно научиться определять рыночную стоимость объектов недвижимости. Ваша задача — установить параметры. Это позволит построить автоматизированную систему: она отследит аномалии и мошенническую деятельность. \n",
    "\n",
    "По каждой квартире на продажу доступны два вида данных. Первые вписаны пользователем, вторые — получены автоматически на основе картографических данных. Например, расстояние до центра, аэропорта, ближайшего парка и водоёма. "
   ]
  },
  {
   "cell_type": "markdown",
   "metadata": {},
   "source": [
    "### Шаг 1. Откройте файл с данными и изучите общую информацию. "
   ]
  },
  {
   "cell_type": "code",
   "execution_count": 1,
   "metadata": {},
   "outputs": [],
   "source": [
    "import pandas as pd\n",
    "from collections import OrderedDict\n",
    "from IPython.display import display\n",
    "from pymystem3 import Mystem\n",
    "from collections import Counter\n",
    "import matplotlib.pyplot as plt\n",
    "m = Mystem()\n",
    "pd.set_option('display.max_columns', None)\n",
    "pd.set_option('display.max_rows', None)\n",
    "import warnings\n",
    "warnings.simplefilter('ignore')"
   ]
  },
  {
   "cell_type": "markdown",
   "metadata": {},
   "source": [
    "Импортируем нужные нам библиотеки для работы"
   ]
  },
  {
   "cell_type": "code",
   "execution_count": 2,
   "metadata": {
    "scrolled": false
   },
   "outputs": [
    {
     "name": "stdout",
     "output_type": "stream",
     "text": [
      "<class 'pandas.core.frame.DataFrame'>\n",
      "RangeIndex: 23699 entries, 0 to 23698\n",
      "Data columns (total 22 columns):\n",
      " #   Column                Non-Null Count  Dtype  \n",
      "---  ------                --------------  -----  \n",
      " 0   total_images          23699 non-null  int64  \n",
      " 1   last_price            23699 non-null  float64\n",
      " 2   total_area            23699 non-null  float64\n",
      " 3   first_day_exposition  23699 non-null  object \n",
      " 4   rooms                 23699 non-null  int64  \n",
      " 5   ceiling_height        14504 non-null  float64\n",
      " 6   floors_total          23613 non-null  float64\n",
      " 7   living_area           21796 non-null  float64\n",
      " 8   floor                 23699 non-null  int64  \n",
      " 9   is_apartment          2775 non-null   object \n",
      " 10  studio                23699 non-null  bool   \n",
      " 11  open_plan             23699 non-null  bool   \n",
      " 12  kitchen_area          21421 non-null  float64\n",
      " 13  balcony               12180 non-null  float64\n",
      " 14  locality_name         23650 non-null  object \n",
      " 15  airports_nearest      18157 non-null  float64\n",
      " 16  cityCenters_nearest   18180 non-null  float64\n",
      " 17  parks_around3000      18181 non-null  float64\n",
      " 18  parks_nearest         8079 non-null   float64\n",
      " 19  ponds_around3000      18181 non-null  float64\n",
      " 20  ponds_nearest         9110 non-null   float64\n",
      " 21  days_exposition       20518 non-null  float64\n",
      "dtypes: bool(2), float64(14), int64(3), object(3)\n",
      "memory usage: 3.7+ MB\n"
     ]
    },
    {
     "data": {
      "text/plain": [
       "total_images            0.000000\n",
       "last_price              0.000000\n",
       "total_area              0.000000\n",
       "first_day_exposition    0.000000\n",
       "rooms                   0.000000\n",
       "ceiling_height          0.387991\n",
       "floors_total            0.003629\n",
       "living_area             0.080299\n",
       "floor                   0.000000\n",
       "is_apartment            0.882906\n",
       "studio                  0.000000\n",
       "open_plan               0.000000\n",
       "kitchen_area            0.096122\n",
       "balcony                 0.486054\n",
       "locality_name           0.002068\n",
       "airports_nearest        0.233850\n",
       "cityCenters_nearest     0.232879\n",
       "parks_around3000        0.232837\n",
       "parks_nearest           0.659100\n",
       "ponds_around3000        0.232837\n",
       "ponds_nearest           0.615596\n",
       "days_exposition         0.134225\n",
       "dtype: float64"
      ]
     },
     "execution_count": 2,
     "metadata": {},
     "output_type": "execute_result"
    }
   ],
   "source": [
    "df = pd.read_csv('real_estate_data.csv', sep='\\t')\n",
    "df.info()\n",
    "df.isna().mean()"
   ]
  },
  {
   "cell_type": "code",
   "execution_count": 3,
   "metadata": {},
   "outputs": [
    {
     "data": {
      "text/html": [
       "<div>\n",
       "<style scoped>\n",
       "    .dataframe tbody tr th:only-of-type {\n",
       "        vertical-align: middle;\n",
       "    }\n",
       "\n",
       "    .dataframe tbody tr th {\n",
       "        vertical-align: top;\n",
       "    }\n",
       "\n",
       "    .dataframe thead th {\n",
       "        text-align: right;\n",
       "    }\n",
       "</style>\n",
       "<table border=\"1\" class=\"dataframe\">\n",
       "  <thead>\n",
       "    <tr style=\"text-align: right;\">\n",
       "      <th></th>\n",
       "      <th>total_images</th>\n",
       "      <th>last_price</th>\n",
       "      <th>total_area</th>\n",
       "      <th>first_day_exposition</th>\n",
       "      <th>rooms</th>\n",
       "      <th>ceiling_height</th>\n",
       "      <th>floors_total</th>\n",
       "      <th>living_area</th>\n",
       "      <th>floor</th>\n",
       "      <th>is_apartment</th>\n",
       "      <th>studio</th>\n",
       "      <th>open_plan</th>\n",
       "      <th>kitchen_area</th>\n",
       "      <th>balcony</th>\n",
       "      <th>locality_name</th>\n",
       "      <th>airports_nearest</th>\n",
       "      <th>cityCenters_nearest</th>\n",
       "      <th>parks_around3000</th>\n",
       "      <th>parks_nearest</th>\n",
       "      <th>ponds_around3000</th>\n",
       "      <th>ponds_nearest</th>\n",
       "      <th>days_exposition</th>\n",
       "    </tr>\n",
       "  </thead>\n",
       "  <tbody>\n",
       "    <tr>\n",
       "      <th>0</th>\n",
       "      <td>20</td>\n",
       "      <td>13000000.0</td>\n",
       "      <td>108.0</td>\n",
       "      <td>2019-03-07T00:00:00</td>\n",
       "      <td>3</td>\n",
       "      <td>2.70</td>\n",
       "      <td>16.0</td>\n",
       "      <td>51.0</td>\n",
       "      <td>8</td>\n",
       "      <td>NaN</td>\n",
       "      <td>False</td>\n",
       "      <td>False</td>\n",
       "      <td>25.0</td>\n",
       "      <td>NaN</td>\n",
       "      <td>Санкт-Петербург</td>\n",
       "      <td>18863.0</td>\n",
       "      <td>16028.0</td>\n",
       "      <td>1.0</td>\n",
       "      <td>482.0</td>\n",
       "      <td>2.0</td>\n",
       "      <td>755.0</td>\n",
       "      <td>NaN</td>\n",
       "    </tr>\n",
       "    <tr>\n",
       "      <th>1</th>\n",
       "      <td>7</td>\n",
       "      <td>3350000.0</td>\n",
       "      <td>40.4</td>\n",
       "      <td>2018-12-04T00:00:00</td>\n",
       "      <td>1</td>\n",
       "      <td>NaN</td>\n",
       "      <td>11.0</td>\n",
       "      <td>18.6</td>\n",
       "      <td>1</td>\n",
       "      <td>NaN</td>\n",
       "      <td>False</td>\n",
       "      <td>False</td>\n",
       "      <td>11.0</td>\n",
       "      <td>2.0</td>\n",
       "      <td>посёлок Шушары</td>\n",
       "      <td>12817.0</td>\n",
       "      <td>18603.0</td>\n",
       "      <td>0.0</td>\n",
       "      <td>NaN</td>\n",
       "      <td>0.0</td>\n",
       "      <td>NaN</td>\n",
       "      <td>81.0</td>\n",
       "    </tr>\n",
       "    <tr>\n",
       "      <th>2</th>\n",
       "      <td>10</td>\n",
       "      <td>5196000.0</td>\n",
       "      <td>56.0</td>\n",
       "      <td>2015-08-20T00:00:00</td>\n",
       "      <td>2</td>\n",
       "      <td>NaN</td>\n",
       "      <td>5.0</td>\n",
       "      <td>34.3</td>\n",
       "      <td>4</td>\n",
       "      <td>NaN</td>\n",
       "      <td>False</td>\n",
       "      <td>False</td>\n",
       "      <td>8.3</td>\n",
       "      <td>0.0</td>\n",
       "      <td>Санкт-Петербург</td>\n",
       "      <td>21741.0</td>\n",
       "      <td>13933.0</td>\n",
       "      <td>1.0</td>\n",
       "      <td>90.0</td>\n",
       "      <td>2.0</td>\n",
       "      <td>574.0</td>\n",
       "      <td>558.0</td>\n",
       "    </tr>\n",
       "    <tr>\n",
       "      <th>3</th>\n",
       "      <td>0</td>\n",
       "      <td>64900000.0</td>\n",
       "      <td>159.0</td>\n",
       "      <td>2015-07-24T00:00:00</td>\n",
       "      <td>3</td>\n",
       "      <td>NaN</td>\n",
       "      <td>14.0</td>\n",
       "      <td>NaN</td>\n",
       "      <td>9</td>\n",
       "      <td>NaN</td>\n",
       "      <td>False</td>\n",
       "      <td>False</td>\n",
       "      <td>NaN</td>\n",
       "      <td>0.0</td>\n",
       "      <td>Санкт-Петербург</td>\n",
       "      <td>28098.0</td>\n",
       "      <td>6800.0</td>\n",
       "      <td>2.0</td>\n",
       "      <td>84.0</td>\n",
       "      <td>3.0</td>\n",
       "      <td>234.0</td>\n",
       "      <td>424.0</td>\n",
       "    </tr>\n",
       "    <tr>\n",
       "      <th>4</th>\n",
       "      <td>2</td>\n",
       "      <td>10000000.0</td>\n",
       "      <td>100.0</td>\n",
       "      <td>2018-06-19T00:00:00</td>\n",
       "      <td>2</td>\n",
       "      <td>3.03</td>\n",
       "      <td>14.0</td>\n",
       "      <td>32.0</td>\n",
       "      <td>13</td>\n",
       "      <td>NaN</td>\n",
       "      <td>False</td>\n",
       "      <td>False</td>\n",
       "      <td>41.0</td>\n",
       "      <td>NaN</td>\n",
       "      <td>Санкт-Петербург</td>\n",
       "      <td>31856.0</td>\n",
       "      <td>8098.0</td>\n",
       "      <td>2.0</td>\n",
       "      <td>112.0</td>\n",
       "      <td>1.0</td>\n",
       "      <td>48.0</td>\n",
       "      <td>121.0</td>\n",
       "    </tr>\n",
       "  </tbody>\n",
       "</table>\n",
       "</div>"
      ],
      "text/plain": [
       "   total_images  last_price  total_area first_day_exposition  rooms  \\\n",
       "0            20  13000000.0       108.0  2019-03-07T00:00:00      3   \n",
       "1             7   3350000.0        40.4  2018-12-04T00:00:00      1   \n",
       "2            10   5196000.0        56.0  2015-08-20T00:00:00      2   \n",
       "3             0  64900000.0       159.0  2015-07-24T00:00:00      3   \n",
       "4             2  10000000.0       100.0  2018-06-19T00:00:00      2   \n",
       "\n",
       "   ceiling_height  floors_total  living_area  floor is_apartment  studio  \\\n",
       "0            2.70          16.0         51.0      8          NaN   False   \n",
       "1             NaN          11.0         18.6      1          NaN   False   \n",
       "2             NaN           5.0         34.3      4          NaN   False   \n",
       "3             NaN          14.0          NaN      9          NaN   False   \n",
       "4            3.03          14.0         32.0     13          NaN   False   \n",
       "\n",
       "   open_plan  kitchen_area  balcony    locality_name  airports_nearest  \\\n",
       "0      False          25.0      NaN  Санкт-Петербург           18863.0   \n",
       "1      False          11.0      2.0   посёлок Шушары           12817.0   \n",
       "2      False           8.3      0.0  Санкт-Петербург           21741.0   \n",
       "3      False           NaN      0.0  Санкт-Петербург           28098.0   \n",
       "4      False          41.0      NaN  Санкт-Петербург           31856.0   \n",
       "\n",
       "   cityCenters_nearest  parks_around3000  parks_nearest  ponds_around3000  \\\n",
       "0              16028.0               1.0          482.0               2.0   \n",
       "1              18603.0               0.0            NaN               0.0   \n",
       "2              13933.0               1.0           90.0               2.0   \n",
       "3               6800.0               2.0           84.0               3.0   \n",
       "4               8098.0               2.0          112.0               1.0   \n",
       "\n",
       "   ponds_nearest  days_exposition  \n",
       "0          755.0              NaN  \n",
       "1            NaN             81.0  \n",
       "2          574.0            558.0  \n",
       "3          234.0            424.0  \n",
       "4           48.0            121.0  "
      ]
     },
     "metadata": {},
     "output_type": "display_data"
    },
    {
     "data": {
      "text/html": [
       "<div>\n",
       "<style scoped>\n",
       "    .dataframe tbody tr th:only-of-type {\n",
       "        vertical-align: middle;\n",
       "    }\n",
       "\n",
       "    .dataframe tbody tr th {\n",
       "        vertical-align: top;\n",
       "    }\n",
       "\n",
       "    .dataframe thead th {\n",
       "        text-align: right;\n",
       "    }\n",
       "</style>\n",
       "<table border=\"1\" class=\"dataframe\">\n",
       "  <thead>\n",
       "    <tr style=\"text-align: right;\">\n",
       "      <th></th>\n",
       "      <th>total_images</th>\n",
       "      <th>last_price</th>\n",
       "      <th>total_area</th>\n",
       "      <th>first_day_exposition</th>\n",
       "      <th>rooms</th>\n",
       "      <th>ceiling_height</th>\n",
       "      <th>floors_total</th>\n",
       "      <th>living_area</th>\n",
       "      <th>floor</th>\n",
       "      <th>is_apartment</th>\n",
       "      <th>studio</th>\n",
       "      <th>open_plan</th>\n",
       "      <th>kitchen_area</th>\n",
       "      <th>balcony</th>\n",
       "      <th>locality_name</th>\n",
       "      <th>airports_nearest</th>\n",
       "      <th>cityCenters_nearest</th>\n",
       "      <th>parks_around3000</th>\n",
       "      <th>parks_nearest</th>\n",
       "      <th>ponds_around3000</th>\n",
       "      <th>ponds_nearest</th>\n",
       "      <th>days_exposition</th>\n",
       "    </tr>\n",
       "  </thead>\n",
       "  <tbody>\n",
       "    <tr>\n",
       "      <th>23694</th>\n",
       "      <td>9</td>\n",
       "      <td>9700000.0</td>\n",
       "      <td>133.81</td>\n",
       "      <td>2017-03-21T00:00:00</td>\n",
       "      <td>3</td>\n",
       "      <td>3.7</td>\n",
       "      <td>5.0</td>\n",
       "      <td>73.3</td>\n",
       "      <td>3</td>\n",
       "      <td>NaN</td>\n",
       "      <td>False</td>\n",
       "      <td>False</td>\n",
       "      <td>13.83</td>\n",
       "      <td>NaN</td>\n",
       "      <td>Санкт-Петербург</td>\n",
       "      <td>24665.0</td>\n",
       "      <td>4232.0</td>\n",
       "      <td>1.0</td>\n",
       "      <td>796.0</td>\n",
       "      <td>3.0</td>\n",
       "      <td>381.0</td>\n",
       "      <td>NaN</td>\n",
       "    </tr>\n",
       "    <tr>\n",
       "      <th>23695</th>\n",
       "      <td>14</td>\n",
       "      <td>3100000.0</td>\n",
       "      <td>59.00</td>\n",
       "      <td>2018-01-15T00:00:00</td>\n",
       "      <td>3</td>\n",
       "      <td>NaN</td>\n",
       "      <td>5.0</td>\n",
       "      <td>38.0</td>\n",
       "      <td>4</td>\n",
       "      <td>NaN</td>\n",
       "      <td>False</td>\n",
       "      <td>False</td>\n",
       "      <td>8.50</td>\n",
       "      <td>NaN</td>\n",
       "      <td>Тосно</td>\n",
       "      <td>NaN</td>\n",
       "      <td>NaN</td>\n",
       "      <td>NaN</td>\n",
       "      <td>NaN</td>\n",
       "      <td>NaN</td>\n",
       "      <td>NaN</td>\n",
       "      <td>45.0</td>\n",
       "    </tr>\n",
       "    <tr>\n",
       "      <th>23696</th>\n",
       "      <td>18</td>\n",
       "      <td>2500000.0</td>\n",
       "      <td>56.70</td>\n",
       "      <td>2018-02-11T00:00:00</td>\n",
       "      <td>2</td>\n",
       "      <td>NaN</td>\n",
       "      <td>3.0</td>\n",
       "      <td>29.7</td>\n",
       "      <td>1</td>\n",
       "      <td>NaN</td>\n",
       "      <td>False</td>\n",
       "      <td>False</td>\n",
       "      <td>NaN</td>\n",
       "      <td>NaN</td>\n",
       "      <td>село Рождествено</td>\n",
       "      <td>NaN</td>\n",
       "      <td>NaN</td>\n",
       "      <td>NaN</td>\n",
       "      <td>NaN</td>\n",
       "      <td>NaN</td>\n",
       "      <td>NaN</td>\n",
       "      <td>NaN</td>\n",
       "    </tr>\n",
       "    <tr>\n",
       "      <th>23697</th>\n",
       "      <td>13</td>\n",
       "      <td>11475000.0</td>\n",
       "      <td>76.75</td>\n",
       "      <td>2017-03-28T00:00:00</td>\n",
       "      <td>2</td>\n",
       "      <td>3.0</td>\n",
       "      <td>17.0</td>\n",
       "      <td>NaN</td>\n",
       "      <td>12</td>\n",
       "      <td>NaN</td>\n",
       "      <td>False</td>\n",
       "      <td>False</td>\n",
       "      <td>23.30</td>\n",
       "      <td>2.0</td>\n",
       "      <td>Санкт-Петербург</td>\n",
       "      <td>39140.0</td>\n",
       "      <td>10364.0</td>\n",
       "      <td>2.0</td>\n",
       "      <td>173.0</td>\n",
       "      <td>3.0</td>\n",
       "      <td>196.0</td>\n",
       "      <td>602.0</td>\n",
       "    </tr>\n",
       "    <tr>\n",
       "      <th>23698</th>\n",
       "      <td>4</td>\n",
       "      <td>1350000.0</td>\n",
       "      <td>32.30</td>\n",
       "      <td>2017-07-21T00:00:00</td>\n",
       "      <td>1</td>\n",
       "      <td>2.5</td>\n",
       "      <td>5.0</td>\n",
       "      <td>12.3</td>\n",
       "      <td>1</td>\n",
       "      <td>NaN</td>\n",
       "      <td>False</td>\n",
       "      <td>False</td>\n",
       "      <td>9.00</td>\n",
       "      <td>NaN</td>\n",
       "      <td>поселок Новый Учхоз</td>\n",
       "      <td>NaN</td>\n",
       "      <td>NaN</td>\n",
       "      <td>NaN</td>\n",
       "      <td>NaN</td>\n",
       "      <td>NaN</td>\n",
       "      <td>NaN</td>\n",
       "      <td>NaN</td>\n",
       "    </tr>\n",
       "  </tbody>\n",
       "</table>\n",
       "</div>"
      ],
      "text/plain": [
       "       total_images  last_price  total_area first_day_exposition  rooms  \\\n",
       "23694             9   9700000.0      133.81  2017-03-21T00:00:00      3   \n",
       "23695            14   3100000.0       59.00  2018-01-15T00:00:00      3   \n",
       "23696            18   2500000.0       56.70  2018-02-11T00:00:00      2   \n",
       "23697            13  11475000.0       76.75  2017-03-28T00:00:00      2   \n",
       "23698             4   1350000.0       32.30  2017-07-21T00:00:00      1   \n",
       "\n",
       "       ceiling_height  floors_total  living_area  floor is_apartment  studio  \\\n",
       "23694             3.7           5.0         73.3      3          NaN   False   \n",
       "23695             NaN           5.0         38.0      4          NaN   False   \n",
       "23696             NaN           3.0         29.7      1          NaN   False   \n",
       "23697             3.0          17.0          NaN     12          NaN   False   \n",
       "23698             2.5           5.0         12.3      1          NaN   False   \n",
       "\n",
       "       open_plan  kitchen_area  balcony        locality_name  \\\n",
       "23694      False         13.83      NaN      Санкт-Петербург   \n",
       "23695      False          8.50      NaN                Тосно   \n",
       "23696      False           NaN      NaN     село Рождествено   \n",
       "23697      False         23.30      2.0      Санкт-Петербург   \n",
       "23698      False          9.00      NaN  поселок Новый Учхоз   \n",
       "\n",
       "       airports_nearest  cityCenters_nearest  parks_around3000  parks_nearest  \\\n",
       "23694           24665.0               4232.0               1.0          796.0   \n",
       "23695               NaN                  NaN               NaN            NaN   \n",
       "23696               NaN                  NaN               NaN            NaN   \n",
       "23697           39140.0              10364.0               2.0          173.0   \n",
       "23698               NaN                  NaN               NaN            NaN   \n",
       "\n",
       "       ponds_around3000  ponds_nearest  days_exposition  \n",
       "23694               3.0          381.0              NaN  \n",
       "23695               NaN            NaN             45.0  \n",
       "23696               NaN            NaN              NaN  \n",
       "23697               3.0          196.0            602.0  \n",
       "23698               NaN            NaN              NaN  "
      ]
     },
     "metadata": {},
     "output_type": "display_data"
    }
   ],
   "source": [
    "display(df.head(5), df.tail(5))"
   ]
  },
  {
   "cell_type": "markdown",
   "metadata": {},
   "source": [
    "### Вывод"
   ]
  },
  {
   "cell_type": "markdown",
   "metadata": {},
   "source": [
    "Для понимания полученных нами данных, мы вывели общую информацию о датасете, среднее кол-во пропусков, первые 5 строчек датасета и последние 5 строчек датасета. Мы обнаружили пропуски в следующих столбцах: **ceiling_height**, **floors_total**, **living_area**, **is_apartment**, **kitchen_area**, *balcony*, *locality_name*, *airports_nearest*, *cityCenters_nearest*, *parks_around3000*, *parks_nearest*, *ponds_around3000*, *ponds_nearest*, *days_exposition*. Пропуски в *floors_total* составляю менее одного процента, поэтому если мы их заменим на среднее значение по столбцу они не повлияют на качество исследования. А пропуски в столбце *days_exposition* мы оставим, так как заменить их доставерно мы не можем, а пропущеных данных меньше одного процента\n"
   ]
  },
  {
   "cell_type": "markdown",
   "metadata": {},
   "source": [
    "### Шаг 2. Предобработка данных"
   ]
  },
  {
   "cell_type": "code",
   "execution_count": 4,
   "metadata": {},
   "outputs": [],
   "source": [
    "df['balcony'] = df['balcony'].fillna(0)"
   ]
  },
  {
   "cell_type": "markdown",
   "metadata": {},
   "source": [
    "Пропущенные значения в столбце балконы, логично будет заменить пропуски на 0, так как верояно, если в квартире нет балкона респонденты могли просто этого не указать"
   ]
  },
  {
   "cell_type": "code",
   "execution_count": 5,
   "metadata": {},
   "outputs": [],
   "source": [
    "df['ceiling_height'] = df['ceiling_height'].fillna(2.8)\n",
    "df['ceiling_height'] = df['ceiling_height'].round(1)"
   ]
  },
  {
   "cell_type": "markdown",
   "metadata": {},
   "source": [
    "Пропуски в *ceiling_height* мы заменим на значение **2,8**, это средняя величина потолков в домах по СПб и ЛО, согласно сайту spbguru.ru, предугадать точные значения нет возможности,"
   ]
  },
  {
   "cell_type": "code",
   "execution_count": 6,
   "metadata": {},
   "outputs": [],
   "source": [
    "df['is_apartment'] = df['is_apartment'].fillna('False')"
   ]
  },
  {
   "cell_type": "markdown",
   "metadata": {},
   "source": [
    "Со столбцом апартаменты поступим следующим образом, так как апартаменты являются не жилой недвижимостью люди при размещении объявления указывали бы обязательно этот пункт при продаже апартаментов. Исходя из этого мы заполнили все пропущенные значение на **False**"
   ]
  },
  {
   "cell_type": "code",
   "execution_count": 7,
   "metadata": {},
   "outputs": [],
   "source": [
    "df['floors_total'] = df['floors_total'].fillna(df['floors_total'].mean()).round(0)\n",
    "#df.query('rooms == \"0\"')"
   ]
  },
  {
   "cell_type": "markdown",
   "metadata": {},
   "source": [
    "Пропуски в *floors_total* составляю менее одного процента, поэтому мы их заменили на среднее значение по столбцу они не повлияют на качество исследования."
   ]
  },
  {
   "cell_type": "code",
   "execution_count": 8,
   "metadata": {},
   "outputs": [],
   "source": [
    "df['living_area'] = df.groupby('rooms')['living_area'].transform(lambda x: x.fillna(x.median()))\n",
    "df['kitchen_area'] = df.groupby('rooms')['kitchen_area'].transform(lambda x: x.fillna(x.median()))\n",
    "df['kitchen_area'] = df['kitchen_area'].fillna(0)"
   ]
  },
  {
   "cell_type": "markdown",
   "metadata": {},
   "source": [
    "Пропущенные значение в столбцах *kitchen_area* и *living_area* мы заменили по одному примеру. Замену мы произвели следующим образом. Мы сгрупировали эти площади по количеству комнам и посчитали для них медианое значение, дале произвели замени по каждой группе своим значением"
   ]
  },
  {
   "cell_type": "markdown",
   "metadata": {},
   "source": [
    "Пропущенные значение в столбцах *airports_nearest*, *cityCenters_nearest*, *parks_around3000*, *parks_nearest*, *ponds_around3000*, *ponds_nearest*, *days_exposition* мы оставим с пропусками, так как найти закономерность для достоверной замены мы не можем из-за нехватки данных. Вероятнее всего продавцы квартир не заполняли данные поля так как посчитали эту информацию не важной для будущих покупателей."
   ]
  },
  {
   "cell_type": "code",
   "execution_count": 9,
   "metadata": {},
   "outputs": [
    {
     "data": {
      "text/plain": [
       "total_images            0.000000\n",
       "last_price              0.000000\n",
       "total_area              0.000000\n",
       "first_day_exposition    0.000000\n",
       "rooms                   0.000000\n",
       "ceiling_height          0.000000\n",
       "floors_total            0.000000\n",
       "living_area             0.000000\n",
       "floor                   0.000000\n",
       "is_apartment            0.000000\n",
       "studio                  0.000000\n",
       "open_plan               0.000000\n",
       "kitchen_area            0.000000\n",
       "balcony                 0.000000\n",
       "locality_name           0.002068\n",
       "airports_nearest        0.233850\n",
       "cityCenters_nearest     0.232879\n",
       "parks_around3000        0.232837\n",
       "parks_nearest           0.659100\n",
       "ponds_around3000        0.232837\n",
       "ponds_nearest           0.615596\n",
       "days_exposition         0.134225\n",
       "dtype: float64"
      ]
     },
     "metadata": {},
     "output_type": "display_data"
    },
    {
     "name": "stdout",
     "output_type": "stream",
     "text": [
      "Количество дубликатов: 0\n"
     ]
    }
   ],
   "source": [
    "df['locality_name'] = df['locality_name'].str.lower()\n",
    "display(df.isna().mean())\n",
    "print('Количество дубликатов:', df.duplicated().sum())"
   ]
  },
  {
   "cell_type": "markdown",
   "metadata": {},
   "source": [
    "В конце мы проверили столбец *locality_name* к нижнему регистру и проверили итоговые значения на дубликаты. Дубликатов в нашем датасете не обнаружилось и это ХОРОШО =)"
   ]
  },
  {
   "cell_type": "code",
   "execution_count": 10,
   "metadata": {},
   "outputs": [
    {
     "data": {
      "text/plain": [
       "OrderedDict([('\\n', 23699),\n",
       "             ('санкт-петербург', 15721),\n",
       "             ('', 10540),\n",
       "             ('поселок', 2660),\n",
       "             ('деревня', 945),\n",
       "             ('муриный', 590),\n",
       "             ('городской', 550),\n",
       "             ('кудрово', 472),\n",
       "             ('шушары', 440),\n",
       "             ('всеволожск', 398),\n",
       "             ('пушкин', 369),\n",
       "             ('тип', 363),\n",
       "             ('колпино', 338),\n",
       "             ('парголовый', 327),\n",
       "             ('гатчина', 307),\n",
       "             ('выборг', 237),\n",
       "             ('село', 210),\n",
       "             ('петергоф', 201),\n",
       "             ('красный', 190),\n",
       "             ('новый', 187),\n",
       "             ('сестрорецк', 183),\n",
       "             ('девяткино', 144),\n",
       "             ('сертолово', 142),\n",
       "             ('ломоносов', 133),\n",
       "             ('кириши', 125),\n",
       "             ('бугор', 114),\n",
       "             ('сланцы', 112),\n",
       "             ('волхов', 111),\n",
       "             ('сосновый', 105),\n",
       "             ('кингисепп', 104),\n",
       "             ('тосно', 104),\n",
       "             ('бор', 101),\n",
       "             ('кронштадт', 96),\n",
       "             ('никольское', 94),\n",
       "             ('-', 91),\n",
       "             ('коммунар', 90),\n",
       "             ('кировск', 84),\n",
       "             ('отрадный', 80),\n",
       "             ('старый', 75),\n",
       "             ('янино', 68),\n",
       "             ('1', 68),\n",
       "             ('металлострой', 66),\n",
       "             ('приозерск', 66),\n",
       "             ('луг', 61),\n",
       "             ('шлиссельбург', 57),\n",
       "             ('имя', 53),\n",
       "             ('тихвин', 49),\n",
       "             ('не', 49),\n",
       "             ('известно', 49),\n",
       "             ('стрельна', 44),\n",
       "             ('тельман', 41),\n",
       "             ('большой', 40),\n",
       "             ('рощино', 39),\n",
       "             ('павловск', 38),\n",
       "             ('романовка', 37),\n",
       "             ('волосово', 36),\n",
       "             ('свердлов', 36),\n",
       "             ('кузьмоловский', 35),\n",
       "             ('мга', 33),\n",
       "             ('сиверский', 29),\n",
       "             ('ивангород', 28),\n",
       "             ('новоселье', 28),\n",
       "             ('малый', 28),\n",
       "             ('сясьстрой', 24),\n",
       "             ('зеленогорск', 24),\n",
       "             ('щегловый', 24),\n",
       "             ('колпана', 23),\n",
       "             ('свет', 22),\n",
       "             ('вырица', 22),\n",
       "             ('синявина', 21),\n",
       "             ('понтонный', 20),\n",
       "             ('лесколов', 20),\n",
       "             ('токсово', 20),\n",
       "             ('вартемяга', 20),\n",
       "             ('новогорелово', 20),\n",
       "             ('лодейный', 20),\n",
       "             ('поле', 20),\n",
       "             ('подпорожье', 19),\n",
       "             ('ижора', 19),\n",
       "             ('бегуница', 19),\n",
       "             ('павлово', 18),\n",
       "             ('пикалево', 18),\n",
       "             ('морозов', 17),\n",
       "             ('назия', 17),\n",
       "             ('гарболовый', 17),\n",
       "             ('аннино', 16),\n",
       "             ('бокситогорск', 16),\n",
       "             ('рахья', 16),\n",
       "             ('ладога', 16),\n",
       "             ('федоровский', 15),\n",
       "             ('лебяжий', 15),\n",
       "             ('горбунок', 15),\n",
       "             ('станция', 15),\n",
       "             ('дубровка', 15),\n",
       "             ('елизаветин', 13),\n",
       "             ('кузнечный', 13),\n",
       "             ('ульяновка', 13),\n",
       "             ('каменногорск', 13),\n",
       "             ('нурм', 11),\n",
       "             ('советский', 11),\n",
       "             ('белогорка', 11),\n",
       "             ('мистолово', 11),\n",
       "             ('колтуша', 11),\n",
       "             ('гостилица', 11),\n",
       "             ('мичуринский', 11),\n",
       "             ('верево', 11),\n",
       "             ('светогорск', 11),\n",
       "             ('любань', 11),\n",
       "             ('лаголовый', 10),\n",
       "             ('низиный', 10),\n",
       "             ('войсковица', 10),\n",
       "             ('приладожский', 10),\n",
       "             ('сяськелевый', 10),\n",
       "             ('молодцово', 9),\n",
       "             ('оржица', 9),\n",
       "             ('сельцо', 9),\n",
       "             ('батовый', 9),\n",
       "             ('карлино', 9),\n",
       "             ('пудость', 9),\n",
       "             ('русский', 9),\n",
       "             ('высоцкий', 9),\n",
       "             ('кобраловый', 9),\n",
       "             ('первомайский', 8),\n",
       "             ('приморск', 8),\n",
       "             ('запорожский', 8),\n",
       "             ('ильичев', 8),\n",
       "             ('саперный', 8),\n",
       "             ('стеклянный', 8),\n",
       "             ('суходолье', 8),\n",
       "             ('куттузить', 7),\n",
       "             ('кальтино', 7),\n",
       "             ('кипень', 7),\n",
       "             ('поляна', 7),\n",
       "             ('извар', 7),\n",
       "             ('калитин', 7),\n",
       "             ('никольский', 7),\n",
       "             ('кузьмоловый', 7),\n",
       "             ('угловый', 7),\n",
       "             ('усть', 7),\n",
       "             ('победа', 6),\n",
       "             ('лопухинка', 6),\n",
       "             ('терволов', 6),\n",
       "             ('заневка', 6),\n",
       "             ('пеник', 6),\n",
       "             ('пудомяга', 6),\n",
       "             ('тайцы', 6),\n",
       "             ('кобринский', 6),\n",
       "             ('важин', 6),\n",
       "             ('форносовый', 6),\n",
       "             ('ламповый', 6),\n",
       "             ('горка', 6),\n",
       "             ('яльгелевый', 6),\n",
       "             ('учхоз', 6),\n",
       "             ('ушак', 6),\n",
       "             ('громовый', 6),\n",
       "             ('товарищество', 5),\n",
       "             ('плодовый', 5),\n",
       "             ('копорье', 5),\n",
       "             ('молодежный', 5),\n",
       "             ('петровский', 5),\n",
       "             ('лесогорский', 5),\n",
       "             ('вещево', 5),\n",
       "             ('гаврилов', 5),\n",
       "             ('семрино', 5),\n",
       "             ('глажево', 5),\n",
       "             ('юкка', 5),\n",
       "             ('мельниково', 5),\n",
       "             ('селезневый', 5),\n",
       "             ('войскоровый', 5),\n",
       "             ('дружный', 5),\n",
       "             ('садовый', 4),\n",
       "             ('келозь', 4),\n",
       "             ('агалатово', 4),\n",
       "             ('цвелодубово', 4),\n",
       "             ('зимитиц', 4),\n",
       "             ('разметелево', 4),\n",
       "             ('рябово', 4),\n",
       "             ('песочный', 4),\n",
       "             ('репино', 4),\n",
       "             ('малукс', 4),\n",
       "             ('парица', 4),\n",
       "             ('кикерино', 4),\n",
       "             ('торфяной', 4),\n",
       "             ('будогощь', 4),\n",
       "             ('лесной', 4),\n",
       "             ('разбегаево', 4),\n",
       "             ('вруд', 4),\n",
       "             ('суйда', 4),\n",
       "             ('перово', 4),\n",
       "             ('высоцк', 4),\n",
       "             ('ефимовский', 3),\n",
       "             ('заклинья', 3),\n",
       "             ('торкович', 3),\n",
       "             ('оредеж', 3),\n",
       "             ('заводской', 3),\n",
       "             ('аро', 3),\n",
       "             ('рабитиц', 3),\n",
       "             ('приветнинский', 3),\n",
       "             ('глебычево', 3),\n",
       "             ('виллози', 3),\n",
       "             ('возрождение', 3),\n",
       "             ('старосиверский', 3),\n",
       "             ('пригородный', 3),\n",
       "             ('долина', 3),\n",
       "             ('лисий', 3),\n",
       "             ('нос', 3),\n",
       "             ('рождествено', 3),\n",
       "             ('старополье', 3),\n",
       "             ('жилгородка', 3),\n",
       "             ('торошкович', 3),\n",
       "             ('лукаша', 3),\n",
       "             ('торосовый', 3),\n",
       "             ('тесовый', 3),\n",
       "             ('коттеджный', 3),\n",
       "             ('котельский', 3),\n",
       "             ('ваганово', 3),\n",
       "             ('ропша', 2),\n",
       "             ('путиловый', 2),\n",
       "             ('александровский', 2),\n",
       "             ('барышево', 2),\n",
       "             ('паша', 2),\n",
       "             ('мина', 2),\n",
       "             ('коркино', 2),\n",
       "             ('житковый', 2),\n",
       "             ('сумино', 2),\n",
       "             ('камышовка', 2),\n",
       "             ('фалилеев', 2),\n",
       "             ('серебрянский', 2),\n",
       "             ('тарасовый', 2),\n",
       "             ('кингисеппский', 2),\n",
       "             ('при', 2),\n",
       "             ('железнодорожный', 2),\n",
       "             ('глинка', 2),\n",
       "             ('пустошь', 2),\n",
       "             ('починок', 2),\n",
       "             ('вознесение', 2),\n",
       "             ('коробицыно', 2),\n",
       "             ('суоранд', 2),\n",
       "             ('совхозный', 2),\n",
       "             ('ленинский', 2),\n",
       "             ('нижний', 2),\n",
       "             ('свирь', 2),\n",
       "             ('яма', 2),\n",
       "             ('пушной', 2),\n",
       "             ('выскатка', 2),\n",
       "             ('пансионат', 2),\n",
       "             ('зеленый', 2),\n",
       "             ('ненимяк', 2),\n",
       "             ('пикколов', 1),\n",
       "             ('севастьяново', 1),\n",
       "             ('иссад', 1),\n",
       "             ('корневый', 1),\n",
       "             ('чудской', 1),\n",
       "             ('петро', 1),\n",
       "             ('славянка', 1),\n",
       "             ('меньковый', 1),\n",
       "             ('мануйлово', 1),\n",
       "             ('пчев', 1),\n",
       "             ('цвылево', 1),\n",
       "             ('кривко', 1),\n",
       "             ('жилпоселок', 1),\n",
       "             ('мыза', 1),\n",
       "             ('ивановка', 1),\n",
       "             ('шпаньково', 1),\n",
       "             ('лаврик', 1),\n",
       "             ('хинколово', 1),\n",
       "             ('хапо', 1),\n",
       "             ('ое', 1),\n",
       "             ('левашово', 1),\n",
       "             ('садоводческий', 1),\n",
       "             ('некоммерческий', 1),\n",
       "             ('хязелька', 1),\n",
       "             ('ялгино', 1),\n",
       "             ('гончарово', 1),\n",
       "             ('почап', 1),\n",
       "             ('платформа', 1),\n",
       "             ('69', 1),\n",
       "             ('й', 1),\n",
       "             ('километр', 1),\n",
       "             ('каложица', 1),\n",
       "             ('пельгора', 1),\n",
       "             ('белоостров', 1),\n",
       "             ('алексеевка', 1),\n",
       "             ('котел', 1),\n",
       "             ('сижно', 1),\n",
       "             ('форт', 1),\n",
       "             ('новолисиный', 1),\n",
       "             ('гладкий', 1),\n",
       "             ('4', 1),\n",
       "             ('курковица', 1),\n",
       "             ('кондратьево', 1),\n",
       "             ('счастие', 1),\n",
       "             ('ребровый', 1),\n",
       "             ('тойворовый', 1),\n",
       "             ('семиозерье', 1),\n",
       "             ('оселек', 1),\n",
       "             ('шум', 1),\n",
       "             ('лужайка', 1),\n",
       "             ('пустомерж', 1),\n",
       "             ('красносельский', 1),\n",
       "             ('вахнов', 1),\n",
       "             ('кара', 1),\n",
       "             ('пижма', 1),\n",
       "             ('кивеннап', 1),\n",
       "             ('север', 1),\n",
       "             ('ромашка', 1),\n",
       "             ('каськово', 1),\n",
       "             ('куровица', 1),\n",
       "             ('плоский', 1),\n",
       "             ('кирпичный', 1),\n",
       "             ('раздолье', 1),\n",
       "             ('терпилица', 1),\n",
       "             ('шугозеро', 1),\n",
       "             ('садко', 1),\n",
       "             ('свирьстрой', 1),\n",
       "             ('кисельня', 1),\n",
       "             ('трубник', 1),\n",
       "             ('калитино', 1),\n",
       "             ('высокоключевой', 1),\n",
       "             ('снегиревка', 1),\n",
       "             ('рапполовый', 1),\n",
       "             ('пустынка', 1),\n",
       "             ('сабск', 1),\n",
       "             ('русско', 1),\n",
       "             ('лупполовый', 1),\n",
       "             ('рейзино', 1),\n",
       "             ('дружноселье', 1),\n",
       "             ('пчевжа', 1),\n",
       "             ('володарское', 1),\n",
       "             ('тихковица', 1),\n",
       "             ('борисова', 1),\n",
       "             ('грива', 1),\n",
       "             ('дзержинский', 1)])"
      ]
     },
     "metadata": {},
     "output_type": "display_data"
    }
   ],
   "source": [
    "df['locality_name'] = df['locality_name'].fillna('не известно')\n",
    "def lemm_locality_name(text):\n",
    "    lemmas = m.lemmatize(text)\n",
    "    text = ' '.join(lemmas)\n",
    "    return text\n",
    "df['locality_name'] = df['locality_name'].apply(lemm_locality_name)\n",
    "list_for_count = [string.split(' ') for string in df['locality_name'].values]\n",
    "def lemmas_counter(list_for_lemmas):\n",
    "    purpose_lemmas = []\n",
    "    for row in list_for_lemmas:\n",
    "        for col in row:\n",
    "            purpose_lemmas.append(col)\n",
    "    return purpose_lemmas\n",
    "lemmatised_list = lemmas_counter(list_for_count)\n",
    "summ_locality_name = Counter(lemmatised_list)\n",
    "summ_locality_name = OrderedDict(sorted(summ_locality_name.items(), key=lambda x: x[1], reverse = True))\n",
    "display(summ_locality_name)\n",
    "#санкт-петербург\n",
    "#муриный\n",
    "#кудрово\n",
    "#шушары\n",
    "#всеволожск\n",
    "#пушкин\n",
    "#колпино\n",
    "#парголовый\n",
    "#гатчина\n",
    "#выборг"
   ]
  },
  {
   "cell_type": "code",
   "execution_count": 11,
   "metadata": {},
   "outputs": [
    {
     "data": {
      "text/plain": [
       "array(['санкт-петербург', 'шушары', 'прочие населенные пункты',\n",
       "       'парголово', 'мурино', 'пушкин', 'кудрово', 'колпино', 'гатчина',\n",
       "       'выборг', 'всеволожск'], dtype=object)"
      ]
     },
     "execution_count": 11,
     "metadata": {},
     "output_type": "execute_result"
    }
   ],
   "source": [
    "def new_locality_name(names):\n",
    "    if \"санкт-петербург\" in names:\n",
    "        return 'санкт-петербург'\n",
    "    if \"муриный\" in names:\n",
    "        return 'мурино'\n",
    "    if \"кудрово\" in names:\n",
    "        return 'кудрово'\n",
    "    if \"шушары\" in names:\n",
    "        return 'шушары'\n",
    "    if \"всеволожск\" in names:\n",
    "        return 'всеволожск'\n",
    "    if \"пушкин\" in names:\n",
    "        return 'пушкин'\n",
    "    if \"колпино\" in names:\n",
    "        return 'колпино'\n",
    "    if \"парголовый\" in names:\n",
    "        return 'парголово'\n",
    "    if \"гатчина\" in names:\n",
    "        return 'гатчина'\n",
    "    if \"выборг\" in names:\n",
    "        return 'выборг'\n",
    "    else:\n",
    "        return 'прочие населенные пункты'\n",
    "df['locality_name'] = df['locality_name'].apply(new_locality_name)\n",
    "df['locality_name'].unique()"
   ]
  },
  {
   "cell_type": "markdown",
   "metadata": {},
   "source": [
    "### Шаг 3. Посчитайте и добавьте в таблицу"
   ]
  },
  {
   "cell_type": "markdown",
   "metadata": {},
   "source": [
    "На данном этапе нам предстоит доработать наш датасет, чтобы в дальнейшем было проще и удобнее с ним работать. Добавим следующие столбцы:\n",
    "* цена квадратного метра;\n",
    "* поменяем формат даты на: день недели, месяц и год публикации объявления;\n",
    "* категория этажей\n",
    "* соотношение жилой и общей площади, а также отношение площади кухни к общей."
   ]
  },
  {
   "cell_type": "code",
   "execution_count": 12,
   "metadata": {},
   "outputs": [],
   "source": [
    "df['price_m2'] = (df['last_price'] / df['total_area']).round(0)"
   ]
  },
  {
   "cell_type": "markdown",
   "metadata": {},
   "source": [
    "Добавим в наш датасет столбец с ценой за квадратный метр и округлим до целого числа"
   ]
  },
  {
   "cell_type": "code",
   "execution_count": 13,
   "metadata": {
    "scrolled": false
   },
   "outputs": [
    {
     "data": {
      "text/html": [
       "<div>\n",
       "<style scoped>\n",
       "    .dataframe tbody tr th:only-of-type {\n",
       "        vertical-align: middle;\n",
       "    }\n",
       "\n",
       "    .dataframe tbody tr th {\n",
       "        vertical-align: top;\n",
       "    }\n",
       "\n",
       "    .dataframe thead th {\n",
       "        text-align: right;\n",
       "    }\n",
       "</style>\n",
       "<table border=\"1\" class=\"dataframe\">\n",
       "  <thead>\n",
       "    <tr style=\"text-align: right;\">\n",
       "      <th></th>\n",
       "      <th>total_images</th>\n",
       "      <th>last_price</th>\n",
       "      <th>total_area</th>\n",
       "      <th>first_day_exposition</th>\n",
       "      <th>rooms</th>\n",
       "      <th>ceiling_height</th>\n",
       "      <th>floors_total</th>\n",
       "      <th>living_area</th>\n",
       "      <th>floor</th>\n",
       "      <th>is_apartment</th>\n",
       "      <th>studio</th>\n",
       "      <th>open_plan</th>\n",
       "      <th>kitchen_area</th>\n",
       "      <th>balcony</th>\n",
       "      <th>locality_name</th>\n",
       "      <th>airports_nearest</th>\n",
       "      <th>cityCenters_nearest</th>\n",
       "      <th>parks_around3000</th>\n",
       "      <th>parks_nearest</th>\n",
       "      <th>ponds_around3000</th>\n",
       "      <th>ponds_nearest</th>\n",
       "      <th>days_exposition</th>\n",
       "      <th>price_m2</th>\n",
       "      <th>day_of_week_exposition</th>\n",
       "      <th>month_exposition</th>\n",
       "      <th>year_exposition</th>\n",
       "    </tr>\n",
       "  </thead>\n",
       "  <tbody>\n",
       "    <tr>\n",
       "      <th>0</th>\n",
       "      <td>20</td>\n",
       "      <td>13000000.0</td>\n",
       "      <td>108.0</td>\n",
       "      <td>2019-03-07</td>\n",
       "      <td>3</td>\n",
       "      <td>2.7</td>\n",
       "      <td>16.0</td>\n",
       "      <td>51.0</td>\n",
       "      <td>8</td>\n",
       "      <td>False</td>\n",
       "      <td>False</td>\n",
       "      <td>False</td>\n",
       "      <td>25.0</td>\n",
       "      <td>0.0</td>\n",
       "      <td>санкт-петербург</td>\n",
       "      <td>18863.0</td>\n",
       "      <td>16028.0</td>\n",
       "      <td>1.0</td>\n",
       "      <td>482.0</td>\n",
       "      <td>2.0</td>\n",
       "      <td>755.0</td>\n",
       "      <td>NaN</td>\n",
       "      <td>120370.0</td>\n",
       "      <td>Thursday</td>\n",
       "      <td>March</td>\n",
       "      <td>2019</td>\n",
       "    </tr>\n",
       "    <tr>\n",
       "      <th>1</th>\n",
       "      <td>7</td>\n",
       "      <td>3350000.0</td>\n",
       "      <td>40.4</td>\n",
       "      <td>2018-12-04</td>\n",
       "      <td>1</td>\n",
       "      <td>2.8</td>\n",
       "      <td>11.0</td>\n",
       "      <td>18.6</td>\n",
       "      <td>1</td>\n",
       "      <td>False</td>\n",
       "      <td>False</td>\n",
       "      <td>False</td>\n",
       "      <td>11.0</td>\n",
       "      <td>2.0</td>\n",
       "      <td>шушары</td>\n",
       "      <td>12817.0</td>\n",
       "      <td>18603.0</td>\n",
       "      <td>0.0</td>\n",
       "      <td>NaN</td>\n",
       "      <td>0.0</td>\n",
       "      <td>NaN</td>\n",
       "      <td>81.0</td>\n",
       "      <td>82921.0</td>\n",
       "      <td>Tuesday</td>\n",
       "      <td>December</td>\n",
       "      <td>2018</td>\n",
       "    </tr>\n",
       "    <tr>\n",
       "      <th>2</th>\n",
       "      <td>10</td>\n",
       "      <td>5196000.0</td>\n",
       "      <td>56.0</td>\n",
       "      <td>2015-08-20</td>\n",
       "      <td>2</td>\n",
       "      <td>2.8</td>\n",
       "      <td>5.0</td>\n",
       "      <td>34.3</td>\n",
       "      <td>4</td>\n",
       "      <td>False</td>\n",
       "      <td>False</td>\n",
       "      <td>False</td>\n",
       "      <td>8.3</td>\n",
       "      <td>0.0</td>\n",
       "      <td>санкт-петербург</td>\n",
       "      <td>21741.0</td>\n",
       "      <td>13933.0</td>\n",
       "      <td>1.0</td>\n",
       "      <td>90.0</td>\n",
       "      <td>2.0</td>\n",
       "      <td>574.0</td>\n",
       "      <td>558.0</td>\n",
       "      <td>92786.0</td>\n",
       "      <td>Thursday</td>\n",
       "      <td>August</td>\n",
       "      <td>2015</td>\n",
       "    </tr>\n",
       "  </tbody>\n",
       "</table>\n",
       "</div>"
      ],
      "text/plain": [
       "   total_images  last_price  total_area first_day_exposition  rooms  \\\n",
       "0            20  13000000.0       108.0           2019-03-07      3   \n",
       "1             7   3350000.0        40.4           2018-12-04      1   \n",
       "2            10   5196000.0        56.0           2015-08-20      2   \n",
       "\n",
       "   ceiling_height  floors_total  living_area  floor is_apartment  studio  \\\n",
       "0             2.7          16.0         51.0      8        False   False   \n",
       "1             2.8          11.0         18.6      1        False   False   \n",
       "2             2.8           5.0         34.3      4        False   False   \n",
       "\n",
       "   open_plan  kitchen_area  balcony    locality_name  airports_nearest  \\\n",
       "0      False          25.0      0.0  санкт-петербург           18863.0   \n",
       "1      False          11.0      2.0           шушары           12817.0   \n",
       "2      False           8.3      0.0  санкт-петербург           21741.0   \n",
       "\n",
       "   cityCenters_nearest  parks_around3000  parks_nearest  ponds_around3000  \\\n",
       "0              16028.0               1.0          482.0               2.0   \n",
       "1              18603.0               0.0            NaN               0.0   \n",
       "2              13933.0               1.0           90.0               2.0   \n",
       "\n",
       "   ponds_nearest  days_exposition  price_m2 day_of_week_exposition  \\\n",
       "0          755.0              NaN  120370.0               Thursday   \n",
       "1            NaN             81.0   82921.0                Tuesday   \n",
       "2          574.0            558.0   92786.0               Thursday   \n",
       "\n",
       "  month_exposition  year_exposition  \n",
       "0            March             2019  \n",
       "1         December             2018  \n",
       "2           August             2015  "
      ]
     },
     "execution_count": 13,
     "metadata": {},
     "output_type": "execute_result"
    }
   ],
   "source": [
    "#df['first_day_exposition'].value_counts()\n",
    "df['first_day_exposition'] = pd.to_datetime(df['first_day_exposition'], format='%Y-%m-%dT')\n",
    "df['day_of_week_exposition'] = df['first_day_exposition'].dt.day_name()\n",
    "df['month_exposition'] = df['first_day_exposition'].dt.month_name()\n",
    "df['year_exposition'] = df['first_day_exposition'].dt.year\n",
    "df.head(3)"
   ]
  },
  {
   "cell_type": "markdown",
   "metadata": {},
   "source": [
    "Просмотрев все значения в столбце *first_day_exposition*, мы увидели, что время публикации везде одинаковое, значит эту информацию можно отбросить и оставить формат вот таким: 2019-03-07"
   ]
  },
  {
   "cell_type": "code",
   "execution_count": 14,
   "metadata": {
    "scrolled": false
   },
   "outputs": [
    {
     "data": {
      "text/html": [
       "<div>\n",
       "<style scoped>\n",
       "    .dataframe tbody tr th:only-of-type {\n",
       "        vertical-align: middle;\n",
       "    }\n",
       "\n",
       "    .dataframe tbody tr th {\n",
       "        vertical-align: top;\n",
       "    }\n",
       "\n",
       "    .dataframe thead th {\n",
       "        text-align: right;\n",
       "    }\n",
       "</style>\n",
       "<table border=\"1\" class=\"dataframe\">\n",
       "  <thead>\n",
       "    <tr style=\"text-align: right;\">\n",
       "      <th></th>\n",
       "      <th>total_images</th>\n",
       "      <th>last_price</th>\n",
       "      <th>total_area</th>\n",
       "      <th>first_day_exposition</th>\n",
       "      <th>rooms</th>\n",
       "      <th>ceiling_height</th>\n",
       "      <th>floors_total</th>\n",
       "      <th>living_area</th>\n",
       "      <th>floor</th>\n",
       "      <th>is_apartment</th>\n",
       "      <th>studio</th>\n",
       "      <th>open_plan</th>\n",
       "      <th>kitchen_area</th>\n",
       "      <th>balcony</th>\n",
       "      <th>locality_name</th>\n",
       "      <th>airports_nearest</th>\n",
       "      <th>cityCenters_nearest</th>\n",
       "      <th>parks_around3000</th>\n",
       "      <th>parks_nearest</th>\n",
       "      <th>ponds_around3000</th>\n",
       "      <th>ponds_nearest</th>\n",
       "      <th>days_exposition</th>\n",
       "      <th>price_m2</th>\n",
       "      <th>day_of_week_exposition</th>\n",
       "      <th>month_exposition</th>\n",
       "      <th>year_exposition</th>\n",
       "      <th>living_area/total_area</th>\n",
       "      <th>kitchen_area/total_area</th>\n",
       "    </tr>\n",
       "  </thead>\n",
       "  <tbody>\n",
       "    <tr>\n",
       "      <th>0</th>\n",
       "      <td>20</td>\n",
       "      <td>13000000.0</td>\n",
       "      <td>108.0</td>\n",
       "      <td>2019-03-07</td>\n",
       "      <td>3</td>\n",
       "      <td>2.7</td>\n",
       "      <td>16.0</td>\n",
       "      <td>51.0</td>\n",
       "      <td>8</td>\n",
       "      <td>False</td>\n",
       "      <td>False</td>\n",
       "      <td>False</td>\n",
       "      <td>25.0</td>\n",
       "      <td>0.0</td>\n",
       "      <td>санкт-петербург</td>\n",
       "      <td>18863.0</td>\n",
       "      <td>16028.0</td>\n",
       "      <td>1.0</td>\n",
       "      <td>482.0</td>\n",
       "      <td>2.0</td>\n",
       "      <td>755.0</td>\n",
       "      <td>NaN</td>\n",
       "      <td>120370.0</td>\n",
       "      <td>Thursday</td>\n",
       "      <td>March</td>\n",
       "      <td>2019</td>\n",
       "      <td>0.47</td>\n",
       "      <td>0.23</td>\n",
       "    </tr>\n",
       "    <tr>\n",
       "      <th>1</th>\n",
       "      <td>7</td>\n",
       "      <td>3350000.0</td>\n",
       "      <td>40.4</td>\n",
       "      <td>2018-12-04</td>\n",
       "      <td>1</td>\n",
       "      <td>2.8</td>\n",
       "      <td>11.0</td>\n",
       "      <td>18.6</td>\n",
       "      <td>1</td>\n",
       "      <td>False</td>\n",
       "      <td>False</td>\n",
       "      <td>False</td>\n",
       "      <td>11.0</td>\n",
       "      <td>2.0</td>\n",
       "      <td>шушары</td>\n",
       "      <td>12817.0</td>\n",
       "      <td>18603.0</td>\n",
       "      <td>0.0</td>\n",
       "      <td>NaN</td>\n",
       "      <td>0.0</td>\n",
       "      <td>NaN</td>\n",
       "      <td>81.0</td>\n",
       "      <td>82921.0</td>\n",
       "      <td>Tuesday</td>\n",
       "      <td>December</td>\n",
       "      <td>2018</td>\n",
       "      <td>0.46</td>\n",
       "      <td>0.27</td>\n",
       "    </tr>\n",
       "    <tr>\n",
       "      <th>2</th>\n",
       "      <td>10</td>\n",
       "      <td>5196000.0</td>\n",
       "      <td>56.0</td>\n",
       "      <td>2015-08-20</td>\n",
       "      <td>2</td>\n",
       "      <td>2.8</td>\n",
       "      <td>5.0</td>\n",
       "      <td>34.3</td>\n",
       "      <td>4</td>\n",
       "      <td>False</td>\n",
       "      <td>False</td>\n",
       "      <td>False</td>\n",
       "      <td>8.3</td>\n",
       "      <td>0.0</td>\n",
       "      <td>санкт-петербург</td>\n",
       "      <td>21741.0</td>\n",
       "      <td>13933.0</td>\n",
       "      <td>1.0</td>\n",
       "      <td>90.0</td>\n",
       "      <td>2.0</td>\n",
       "      <td>574.0</td>\n",
       "      <td>558.0</td>\n",
       "      <td>92786.0</td>\n",
       "      <td>Thursday</td>\n",
       "      <td>August</td>\n",
       "      <td>2015</td>\n",
       "      <td>0.61</td>\n",
       "      <td>0.15</td>\n",
       "    </tr>\n",
       "    <tr>\n",
       "      <th>3</th>\n",
       "      <td>0</td>\n",
       "      <td>64900000.0</td>\n",
       "      <td>159.0</td>\n",
       "      <td>2015-07-24</td>\n",
       "      <td>3</td>\n",
       "      <td>2.8</td>\n",
       "      <td>14.0</td>\n",
       "      <td>45.0</td>\n",
       "      <td>9</td>\n",
       "      <td>False</td>\n",
       "      <td>False</td>\n",
       "      <td>False</td>\n",
       "      <td>9.5</td>\n",
       "      <td>0.0</td>\n",
       "      <td>санкт-петербург</td>\n",
       "      <td>28098.0</td>\n",
       "      <td>6800.0</td>\n",
       "      <td>2.0</td>\n",
       "      <td>84.0</td>\n",
       "      <td>3.0</td>\n",
       "      <td>234.0</td>\n",
       "      <td>424.0</td>\n",
       "      <td>408176.0</td>\n",
       "      <td>Friday</td>\n",
       "      <td>July</td>\n",
       "      <td>2015</td>\n",
       "      <td>0.28</td>\n",
       "      <td>0.06</td>\n",
       "    </tr>\n",
       "    <tr>\n",
       "      <th>4</th>\n",
       "      <td>2</td>\n",
       "      <td>10000000.0</td>\n",
       "      <td>100.0</td>\n",
       "      <td>2018-06-19</td>\n",
       "      <td>2</td>\n",
       "      <td>3.0</td>\n",
       "      <td>14.0</td>\n",
       "      <td>32.0</td>\n",
       "      <td>13</td>\n",
       "      <td>False</td>\n",
       "      <td>False</td>\n",
       "      <td>False</td>\n",
       "      <td>41.0</td>\n",
       "      <td>0.0</td>\n",
       "      <td>санкт-петербург</td>\n",
       "      <td>31856.0</td>\n",
       "      <td>8098.0</td>\n",
       "      <td>2.0</td>\n",
       "      <td>112.0</td>\n",
       "      <td>1.0</td>\n",
       "      <td>48.0</td>\n",
       "      <td>121.0</td>\n",
       "      <td>100000.0</td>\n",
       "      <td>Tuesday</td>\n",
       "      <td>June</td>\n",
       "      <td>2018</td>\n",
       "      <td>0.32</td>\n",
       "      <td>0.41</td>\n",
       "    </tr>\n",
       "  </tbody>\n",
       "</table>\n",
       "</div>"
      ],
      "text/plain": [
       "   total_images  last_price  total_area first_day_exposition  rooms  \\\n",
       "0            20  13000000.0       108.0           2019-03-07      3   \n",
       "1             7   3350000.0        40.4           2018-12-04      1   \n",
       "2            10   5196000.0        56.0           2015-08-20      2   \n",
       "3             0  64900000.0       159.0           2015-07-24      3   \n",
       "4             2  10000000.0       100.0           2018-06-19      2   \n",
       "\n",
       "   ceiling_height  floors_total  living_area  floor is_apartment  studio  \\\n",
       "0             2.7          16.0         51.0      8        False   False   \n",
       "1             2.8          11.0         18.6      1        False   False   \n",
       "2             2.8           5.0         34.3      4        False   False   \n",
       "3             2.8          14.0         45.0      9        False   False   \n",
       "4             3.0          14.0         32.0     13        False   False   \n",
       "\n",
       "   open_plan  kitchen_area  balcony    locality_name  airports_nearest  \\\n",
       "0      False          25.0      0.0  санкт-петербург           18863.0   \n",
       "1      False          11.0      2.0           шушары           12817.0   \n",
       "2      False           8.3      0.0  санкт-петербург           21741.0   \n",
       "3      False           9.5      0.0  санкт-петербург           28098.0   \n",
       "4      False          41.0      0.0  санкт-петербург           31856.0   \n",
       "\n",
       "   cityCenters_nearest  parks_around3000  parks_nearest  ponds_around3000  \\\n",
       "0              16028.0               1.0          482.0               2.0   \n",
       "1              18603.0               0.0            NaN               0.0   \n",
       "2              13933.0               1.0           90.0               2.0   \n",
       "3               6800.0               2.0           84.0               3.0   \n",
       "4               8098.0               2.0          112.0               1.0   \n",
       "\n",
       "   ponds_nearest  days_exposition  price_m2 day_of_week_exposition  \\\n",
       "0          755.0              NaN  120370.0               Thursday   \n",
       "1            NaN             81.0   82921.0                Tuesday   \n",
       "2          574.0            558.0   92786.0               Thursday   \n",
       "3          234.0            424.0  408176.0                 Friday   \n",
       "4           48.0            121.0  100000.0                Tuesday   \n",
       "\n",
       "  month_exposition  year_exposition  living_area/total_area  \\\n",
       "0            March             2019                    0.47   \n",
       "1         December             2018                    0.46   \n",
       "2           August             2015                    0.61   \n",
       "3             July             2015                    0.28   \n",
       "4             June             2018                    0.32   \n",
       "\n",
       "   kitchen_area/total_area  \n",
       "0                     0.23  \n",
       "1                     0.27  \n",
       "2                     0.15  \n",
       "3                     0.06  \n",
       "4                     0.41  "
      ]
     },
     "execution_count": 14,
     "metadata": {},
     "output_type": "execute_result"
    }
   ],
   "source": [
    "df['living_area/total_area'] = (df['living_area'] / df['total_area']).round(2)\n",
    "df['kitchen_area/total_area'] = (df['kitchen_area'] / df['total_area']).round(2)\n",
    "df.head(5)"
   ]
  },
  {
   "cell_type": "markdown",
   "metadata": {},
   "source": [
    "Мы добавили в наш датасет два столба: отношение жилой площади к общей площади и отношение площади кухни к общей площади. Округлили значения до сотых для удобства дальнейшей обработки значений."
   ]
  },
  {
   "cell_type": "code",
   "execution_count": 15,
   "metadata": {},
   "outputs": [
    {
     "data": {
      "text/html": [
       "<div>\n",
       "<style scoped>\n",
       "    .dataframe tbody tr th:only-of-type {\n",
       "        vertical-align: middle;\n",
       "    }\n",
       "\n",
       "    .dataframe tbody tr th {\n",
       "        vertical-align: top;\n",
       "    }\n",
       "\n",
       "    .dataframe thead th {\n",
       "        text-align: right;\n",
       "    }\n",
       "</style>\n",
       "<table border=\"1\" class=\"dataframe\">\n",
       "  <thead>\n",
       "    <tr style=\"text-align: right;\">\n",
       "      <th></th>\n",
       "      <th>total_images</th>\n",
       "      <th>last_price</th>\n",
       "      <th>total_area</th>\n",
       "      <th>first_day_exposition</th>\n",
       "      <th>rooms</th>\n",
       "      <th>ceiling_height</th>\n",
       "      <th>floors_total</th>\n",
       "      <th>living_area</th>\n",
       "      <th>floor</th>\n",
       "      <th>is_apartment</th>\n",
       "      <th>studio</th>\n",
       "      <th>open_plan</th>\n",
       "      <th>kitchen_area</th>\n",
       "      <th>balcony</th>\n",
       "      <th>locality_name</th>\n",
       "      <th>airports_nearest</th>\n",
       "      <th>cityCenters_nearest</th>\n",
       "      <th>parks_around3000</th>\n",
       "      <th>parks_nearest</th>\n",
       "      <th>ponds_around3000</th>\n",
       "      <th>ponds_nearest</th>\n",
       "      <th>days_exposition</th>\n",
       "      <th>price_m2</th>\n",
       "      <th>day_of_week_exposition</th>\n",
       "      <th>month_exposition</th>\n",
       "      <th>year_exposition</th>\n",
       "      <th>living_area/total_area</th>\n",
       "      <th>kitchen_area/total_area</th>\n",
       "      <th>floor_class</th>\n",
       "    </tr>\n",
       "  </thead>\n",
       "  <tbody>\n",
       "    <tr>\n",
       "      <th>0</th>\n",
       "      <td>20</td>\n",
       "      <td>13000000.0</td>\n",
       "      <td>108.0</td>\n",
       "      <td>2019-03-07</td>\n",
       "      <td>3</td>\n",
       "      <td>2.7</td>\n",
       "      <td>16.0</td>\n",
       "      <td>51.0</td>\n",
       "      <td>8</td>\n",
       "      <td>False</td>\n",
       "      <td>False</td>\n",
       "      <td>False</td>\n",
       "      <td>25.0</td>\n",
       "      <td>0.0</td>\n",
       "      <td>санкт-петербург</td>\n",
       "      <td>18863.0</td>\n",
       "      <td>16028.0</td>\n",
       "      <td>1.0</td>\n",
       "      <td>482.0</td>\n",
       "      <td>2.0</td>\n",
       "      <td>755.0</td>\n",
       "      <td>NaN</td>\n",
       "      <td>120370.0</td>\n",
       "      <td>Thursday</td>\n",
       "      <td>March</td>\n",
       "      <td>2019</td>\n",
       "      <td>0.47</td>\n",
       "      <td>0.23</td>\n",
       "      <td>другой</td>\n",
       "    </tr>\n",
       "    <tr>\n",
       "      <th>1</th>\n",
       "      <td>7</td>\n",
       "      <td>3350000.0</td>\n",
       "      <td>40.4</td>\n",
       "      <td>2018-12-04</td>\n",
       "      <td>1</td>\n",
       "      <td>2.8</td>\n",
       "      <td>11.0</td>\n",
       "      <td>18.6</td>\n",
       "      <td>1</td>\n",
       "      <td>False</td>\n",
       "      <td>False</td>\n",
       "      <td>False</td>\n",
       "      <td>11.0</td>\n",
       "      <td>2.0</td>\n",
       "      <td>шушары</td>\n",
       "      <td>12817.0</td>\n",
       "      <td>18603.0</td>\n",
       "      <td>0.0</td>\n",
       "      <td>NaN</td>\n",
       "      <td>0.0</td>\n",
       "      <td>NaN</td>\n",
       "      <td>81.0</td>\n",
       "      <td>82921.0</td>\n",
       "      <td>Tuesday</td>\n",
       "      <td>December</td>\n",
       "      <td>2018</td>\n",
       "      <td>0.46</td>\n",
       "      <td>0.27</td>\n",
       "      <td>первый</td>\n",
       "    </tr>\n",
       "    <tr>\n",
       "      <th>2</th>\n",
       "      <td>10</td>\n",
       "      <td>5196000.0</td>\n",
       "      <td>56.0</td>\n",
       "      <td>2015-08-20</td>\n",
       "      <td>2</td>\n",
       "      <td>2.8</td>\n",
       "      <td>5.0</td>\n",
       "      <td>34.3</td>\n",
       "      <td>4</td>\n",
       "      <td>False</td>\n",
       "      <td>False</td>\n",
       "      <td>False</td>\n",
       "      <td>8.3</td>\n",
       "      <td>0.0</td>\n",
       "      <td>санкт-петербург</td>\n",
       "      <td>21741.0</td>\n",
       "      <td>13933.0</td>\n",
       "      <td>1.0</td>\n",
       "      <td>90.0</td>\n",
       "      <td>2.0</td>\n",
       "      <td>574.0</td>\n",
       "      <td>558.0</td>\n",
       "      <td>92786.0</td>\n",
       "      <td>Thursday</td>\n",
       "      <td>August</td>\n",
       "      <td>2015</td>\n",
       "      <td>0.61</td>\n",
       "      <td>0.15</td>\n",
       "      <td>другой</td>\n",
       "    </tr>\n",
       "    <tr>\n",
       "      <th>3</th>\n",
       "      <td>0</td>\n",
       "      <td>64900000.0</td>\n",
       "      <td>159.0</td>\n",
       "      <td>2015-07-24</td>\n",
       "      <td>3</td>\n",
       "      <td>2.8</td>\n",
       "      <td>14.0</td>\n",
       "      <td>45.0</td>\n",
       "      <td>9</td>\n",
       "      <td>False</td>\n",
       "      <td>False</td>\n",
       "      <td>False</td>\n",
       "      <td>9.5</td>\n",
       "      <td>0.0</td>\n",
       "      <td>санкт-петербург</td>\n",
       "      <td>28098.0</td>\n",
       "      <td>6800.0</td>\n",
       "      <td>2.0</td>\n",
       "      <td>84.0</td>\n",
       "      <td>3.0</td>\n",
       "      <td>234.0</td>\n",
       "      <td>424.0</td>\n",
       "      <td>408176.0</td>\n",
       "      <td>Friday</td>\n",
       "      <td>July</td>\n",
       "      <td>2015</td>\n",
       "      <td>0.28</td>\n",
       "      <td>0.06</td>\n",
       "      <td>другой</td>\n",
       "    </tr>\n",
       "    <tr>\n",
       "      <th>4</th>\n",
       "      <td>2</td>\n",
       "      <td>10000000.0</td>\n",
       "      <td>100.0</td>\n",
       "      <td>2018-06-19</td>\n",
       "      <td>2</td>\n",
       "      <td>3.0</td>\n",
       "      <td>14.0</td>\n",
       "      <td>32.0</td>\n",
       "      <td>13</td>\n",
       "      <td>False</td>\n",
       "      <td>False</td>\n",
       "      <td>False</td>\n",
       "      <td>41.0</td>\n",
       "      <td>0.0</td>\n",
       "      <td>санкт-петербург</td>\n",
       "      <td>31856.0</td>\n",
       "      <td>8098.0</td>\n",
       "      <td>2.0</td>\n",
       "      <td>112.0</td>\n",
       "      <td>1.0</td>\n",
       "      <td>48.0</td>\n",
       "      <td>121.0</td>\n",
       "      <td>100000.0</td>\n",
       "      <td>Tuesday</td>\n",
       "      <td>June</td>\n",
       "      <td>2018</td>\n",
       "      <td>0.32</td>\n",
       "      <td>0.41</td>\n",
       "      <td>другой</td>\n",
       "    </tr>\n",
       "  </tbody>\n",
       "</table>\n",
       "</div>"
      ],
      "text/plain": [
       "   total_images  last_price  total_area first_day_exposition  rooms  \\\n",
       "0            20  13000000.0       108.0           2019-03-07      3   \n",
       "1             7   3350000.0        40.4           2018-12-04      1   \n",
       "2            10   5196000.0        56.0           2015-08-20      2   \n",
       "3             0  64900000.0       159.0           2015-07-24      3   \n",
       "4             2  10000000.0       100.0           2018-06-19      2   \n",
       "\n",
       "   ceiling_height  floors_total  living_area  floor is_apartment  studio  \\\n",
       "0             2.7          16.0         51.0      8        False   False   \n",
       "1             2.8          11.0         18.6      1        False   False   \n",
       "2             2.8           5.0         34.3      4        False   False   \n",
       "3             2.8          14.0         45.0      9        False   False   \n",
       "4             3.0          14.0         32.0     13        False   False   \n",
       "\n",
       "   open_plan  kitchen_area  balcony    locality_name  airports_nearest  \\\n",
       "0      False          25.0      0.0  санкт-петербург           18863.0   \n",
       "1      False          11.0      2.0           шушары           12817.0   \n",
       "2      False           8.3      0.0  санкт-петербург           21741.0   \n",
       "3      False           9.5      0.0  санкт-петербург           28098.0   \n",
       "4      False          41.0      0.0  санкт-петербург           31856.0   \n",
       "\n",
       "   cityCenters_nearest  parks_around3000  parks_nearest  ponds_around3000  \\\n",
       "0              16028.0               1.0          482.0               2.0   \n",
       "1              18603.0               0.0            NaN               0.0   \n",
       "2              13933.0               1.0           90.0               2.0   \n",
       "3               6800.0               2.0           84.0               3.0   \n",
       "4               8098.0               2.0          112.0               1.0   \n",
       "\n",
       "   ponds_nearest  days_exposition  price_m2 day_of_week_exposition  \\\n",
       "0          755.0              NaN  120370.0               Thursday   \n",
       "1            NaN             81.0   82921.0                Tuesday   \n",
       "2          574.0            558.0   92786.0               Thursday   \n",
       "3          234.0            424.0  408176.0                 Friday   \n",
       "4           48.0            121.0  100000.0                Tuesday   \n",
       "\n",
       "  month_exposition  year_exposition  living_area/total_area  \\\n",
       "0            March             2019                    0.47   \n",
       "1         December             2018                    0.46   \n",
       "2           August             2015                    0.61   \n",
       "3             July             2015                    0.28   \n",
       "4             June             2018                    0.32   \n",
       "\n",
       "   kitchen_area/total_area floor_class  \n",
       "0                     0.23      другой  \n",
       "1                     0.27      первый  \n",
       "2                     0.15      другой  \n",
       "3                     0.06      другой  \n",
       "4                     0.41      другой  "
      ]
     },
     "execution_count": 15,
     "metadata": {},
     "output_type": "execute_result"
    }
   ],
   "source": [
    "for row in range(len(df)):\n",
    "    if df.loc[row, 'floor'] == 1:\n",
    "        df.loc[row, 'floor_class'] = 'первый'\n",
    "    if df.loc[row, 'floor'] == df.loc[row, 'floors_total']:\n",
    "        df.loc[row, 'floor_class'] = 'последний'\n",
    "    if (df.loc[row, 'floor'] != 1) & (df.loc[row, 'floor'] != df.loc[row, 'floors_total'] ):\n",
    "        df.loc[row, 'floor_class'] = 'другой'\n",
    "df.head(5)"
   ]
  },
  {
   "cell_type": "code",
   "execution_count": 16,
   "metadata": {},
   "outputs": [
    {
     "name": "stdout",
     "output_type": "stream",
     "text": [
      "<class 'pandas.core.frame.DataFrame'>\n",
      "RangeIndex: 23699 entries, 0 to 23698\n",
      "Data columns (total 29 columns):\n",
      " #   Column                   Non-Null Count  Dtype         \n",
      "---  ------                   --------------  -----         \n",
      " 0   total_images             23699 non-null  int64         \n",
      " 1   last_price               23699 non-null  int64         \n",
      " 2   total_area               23699 non-null  float64       \n",
      " 3   first_day_exposition     23699 non-null  datetime64[ns]\n",
      " 4   rooms                    23699 non-null  int64         \n",
      " 5   ceiling_height           23699 non-null  float64       \n",
      " 6   floors_total             23699 non-null  int64         \n",
      " 7   living_area              23699 non-null  float64       \n",
      " 8   floor                    23699 non-null  int64         \n",
      " 9   is_apartment             23699 non-null  bool          \n",
      " 10  studio                   23699 non-null  bool          \n",
      " 11  open_plan                23699 non-null  bool          \n",
      " 12  kitchen_area             23699 non-null  float64       \n",
      " 13  balcony                  23699 non-null  int64         \n",
      " 14  locality_name            23699 non-null  object        \n",
      " 15  airports_nearest         18157 non-null  float64       \n",
      " 16  cityCenters_nearest      18180 non-null  float64       \n",
      " 17  parks_around3000         18181 non-null  float64       \n",
      " 18  parks_nearest            8079 non-null   float64       \n",
      " 19  ponds_around3000         18181 non-null  float64       \n",
      " 20  ponds_nearest            9110 non-null   float64       \n",
      " 21  days_exposition          20518 non-null  float64       \n",
      " 22  price_m2                 23699 non-null  float64       \n",
      " 23  day_of_week_exposition   23699 non-null  object        \n",
      " 24  month_exposition         23699 non-null  object        \n",
      " 25  year_exposition          23699 non-null  int64         \n",
      " 26  living_area/total_area   23699 non-null  float64       \n",
      " 27  kitchen_area/total_area  23699 non-null  float64       \n",
      " 28  floor_class              23699 non-null  object        \n",
      "dtypes: bool(3), datetime64[ns](1), float64(14), int64(7), object(4)\n",
      "memory usage: 4.8+ MB\n"
     ]
    }
   ],
   "source": [
    "convert_dict = {'last_price':int, 'floors_total':int, 'is_apartment':bool, 'balcony':int}\n",
    "df = df.astype(convert_dict)\n",
    "df.info()"
   ]
  },
  {
   "cell_type": "markdown",
   "metadata": {},
   "source": [
    "Для категоризации наших объявлений по этажам мы разделили их на 3 категории:\n",
    "* первый \n",
    "* последний\n",
    "* другой\n",
    "\n",
    "Данная категоризация пригодятся нам для дальнейших исследований."
   ]
  },
  {
   "cell_type": "markdown",
   "metadata": {},
   "source": [
    "### Шаг 4. Проведите исследовательский анализ данных и выполните инструкции:"
   ]
  },
  {
   "cell_type": "markdown",
   "metadata": {
    "scrolled": false
   },
   "source": [
    " **4.1 Изучим следующие параметры: площадь, цену, число комнат и высоту потолков. Построим для этого графики и выявим закономерности исходя из графических данных**\n"
   ]
  },
  {
   "cell_type": "code",
   "execution_count": 17,
   "metadata": {},
   "outputs": [
    {
     "data": {
      "text/plain": [
       "count    23699.000000\n",
       "mean        60.348651\n",
       "std         35.654083\n",
       "min         12.000000\n",
       "25%         40.000000\n",
       "50%         52.000000\n",
       "75%         69.900000\n",
       "max        900.000000\n",
       "Name: total_area, dtype: float64"
      ]
     },
     "metadata": {},
     "output_type": "display_data"
    },
    {
     "data": {
      "image/png": "[encoded data removed]",
      "text/plain": [
       "<Figure size 864x432 with 1 Axes>"
      ]
     },
     "metadata": {
      "needs_background": "light"
     },
     "output_type": "display_data"
    }
   ],
   "source": [
    "display(df['total_area'].describe())\n",
    "df['total_area'].hist(bins=50, range=(0, 500), figsize=(12, 6) )\n",
    "plt.show()"
   ]
  },
  {
   "cell_type": "markdown",
   "metadata": {},
   "source": [
    "По данной гистограмме отчетливо видно, что большинство объявлений это квартиры с площадью до 200 метров квадратных. Остальные значению уже выбивающиеся и очень редкие. Самые популярные квартиры находятся в диапазоне 40 - 60 метров квадратных. Также мы видим небольшой всплеск возле нуля, скорее всего это маленькие квартиры студии общая площадь которых не превышает 15 метров квадратных"
   ]
  },
  {
   "cell_type": "code",
   "execution_count": 18,
   "metadata": {},
   "outputs": [
    {
     "data": {
      "text/plain": [
       "count    23699.000000\n",
       "mean        65.415488\n",
       "std        108.870133\n",
       "min          0.121900\n",
       "25%         34.000000\n",
       "50%         46.500000\n",
       "75%         68.000000\n",
       "max       7630.000000\n",
       "Name: last_price, dtype: float64"
      ]
     },
     "metadata": {},
     "output_type": "display_data"
    },
    {
     "data": {
      "image/png": "[encoded data removed]",
      "text/plain": [
       "<Figure size 864x432 with 1 Axes>"
      ]
     },
     "metadata": {
      "needs_background": "light"
     },
     "output_type": "display_data"
    },
    {
     "data": {
      "text/html": [
       "<div>\n",
       "<style scoped>\n",
       "    .dataframe tbody tr th:only-of-type {\n",
       "        vertical-align: middle;\n",
       "    }\n",
       "\n",
       "    .dataframe tbody tr th {\n",
       "        vertical-align: top;\n",
       "    }\n",
       "\n",
       "    .dataframe thead th {\n",
       "        text-align: right;\n",
       "    }\n",
       "</style>\n",
       "<table border=\"1\" class=\"dataframe\">\n",
       "  <thead>\n",
       "    <tr style=\"text-align: right;\">\n",
       "      <th></th>\n",
       "      <th>total_images</th>\n",
       "      <th>last_price</th>\n",
       "      <th>total_area</th>\n",
       "      <th>first_day_exposition</th>\n",
       "      <th>rooms</th>\n",
       "      <th>ceiling_height</th>\n",
       "      <th>floors_total</th>\n",
       "      <th>living_area</th>\n",
       "      <th>floor</th>\n",
       "      <th>is_apartment</th>\n",
       "      <th>studio</th>\n",
       "      <th>open_plan</th>\n",
       "      <th>kitchen_area</th>\n",
       "      <th>balcony</th>\n",
       "      <th>locality_name</th>\n",
       "      <th>airports_nearest</th>\n",
       "      <th>cityCenters_nearest</th>\n",
       "      <th>parks_around3000</th>\n",
       "      <th>parks_nearest</th>\n",
       "      <th>ponds_around3000</th>\n",
       "      <th>ponds_nearest</th>\n",
       "      <th>days_exposition</th>\n",
       "      <th>price_m2</th>\n",
       "      <th>day_of_week_exposition</th>\n",
       "      <th>month_exposition</th>\n",
       "      <th>year_exposition</th>\n",
       "      <th>living_area/total_area</th>\n",
       "      <th>kitchen_area/total_area</th>\n",
       "      <th>floor_class</th>\n",
       "    </tr>\n",
       "  </thead>\n",
       "  <tbody>\n",
       "    <tr>\n",
       "      <th>8793</th>\n",
       "      <td>7</td>\n",
       "      <td>12190</td>\n",
       "      <td>109.0</td>\n",
       "      <td>2019-03-20</td>\n",
       "      <td>2</td>\n",
       "      <td>2.8</td>\n",
       "      <td>25</td>\n",
       "      <td>32.0</td>\n",
       "      <td>25</td>\n",
       "      <td>True</td>\n",
       "      <td>False</td>\n",
       "      <td>False</td>\n",
       "      <td>40.5</td>\n",
       "      <td>0</td>\n",
       "      <td>санкт-петербург</td>\n",
       "      <td>36421.0</td>\n",
       "      <td>9176.0</td>\n",
       "      <td>1.0</td>\n",
       "      <td>805.0</td>\n",
       "      <td>0.0</td>\n",
       "      <td>NaN</td>\n",
       "      <td>8.0</td>\n",
       "      <td>112.0</td>\n",
       "      <td>Wednesday</td>\n",
       "      <td>March</td>\n",
       "      <td>2019</td>\n",
       "      <td>0.29</td>\n",
       "      <td>0.37</td>\n",
       "      <td>последний</td>\n",
       "    </tr>\n",
       "  </tbody>\n",
       "</table>\n",
       "</div>"
      ],
      "text/plain": [
       "      total_images  last_price  total_area first_day_exposition  rooms  \\\n",
       "8793             7       12190       109.0           2019-03-20      2   \n",
       "\n",
       "      ceiling_height  floors_total  living_area  floor  is_apartment  studio  \\\n",
       "8793             2.8            25         32.0     25          True   False   \n",
       "\n",
       "      open_plan  kitchen_area  balcony    locality_name  airports_nearest  \\\n",
       "8793      False          40.5        0  санкт-петербург           36421.0   \n",
       "\n",
       "      cityCenters_nearest  parks_around3000  parks_nearest  ponds_around3000  \\\n",
       "8793               9176.0               1.0          805.0               0.0   \n",
       "\n",
       "      ponds_nearest  days_exposition  price_m2 day_of_week_exposition  \\\n",
       "8793            NaN              8.0     112.0              Wednesday   \n",
       "\n",
       "     month_exposition  year_exposition  living_area/total_area  \\\n",
       "8793            March             2019                    0.29   \n",
       "\n",
       "      kitchen_area/total_area floor_class  \n",
       "8793                     0.37   последний  "
      ]
     },
     "metadata": {},
     "output_type": "display_data"
    }
   ],
   "source": [
    "df_price = df['last_price'] / 100000\n",
    "display(df_price.describe())\n",
    "df_price.hist(bins=100, range=(0, 1000), figsize=(12, 6) )\n",
    "plt.show()\n",
    "display(df.query('last_price < 200000'))"
   ]
  },
  {
   "cell_type": "markdown",
   "metadata": {},
   "source": [
    "Из данной гистограммы мы можем сделать вывод, что стоимость квартир располагается в диапазоне 1 000 000 до 400 000 000, остальные значения являются выбивающимися. Также возле нуля есть подозрительны всплеск, вероятно это квартиры до 1 000 000 рублей. Также есть одно аномальное значение в 120 000, мы вывели его на экран и это явно артефакт, так как стоимость квартиры аномально низкая при общей площади 109 метров квардратных."
   ]
  },
  {
   "cell_type": "code",
   "execution_count": 19,
   "metadata": {},
   "outputs": [
    {
     "data": {
      "text/plain": [
       "count    23699.000000\n",
       "mean         2.070636\n",
       "std          1.078405\n",
       "min          0.000000\n",
       "25%          1.000000\n",
       "50%          2.000000\n",
       "75%          3.000000\n",
       "max         19.000000\n",
       "Name: rooms, dtype: float64"
      ]
     },
     "metadata": {},
     "output_type": "display_data"
    },
    {
     "data": {
      "image/png": "[encoded data removed]",
      "text/plain": [
       "<Figure size 864x432 with 1 Axes>"
      ]
     },
     "metadata": {
      "needs_background": "light"
     },
     "output_type": "display_data"
    }
   ],
   "source": [
    "display(df['rooms'].describe())\n",
    "df['rooms'].hist(bins=100, range=(0, 22), figsize=(12, 6) )\n",
    "plt.show()"
   ]
  },
  {
   "cell_type": "markdown",
   "metadata": {},
   "source": [
    "Из данной гистограммы видно, что количество комнат в нашей дальнейшей выборке будет 0-8, после 8 комнат значения получаются выбивающиеся. Вероятнее всего такие значения это редкие элетные квартиры, которые редко появляются в продаже. Также из-за их малого количества в Санкт-Петербурге и области они выпадают из общей картиры. Для дальнейшего анализа истользовать их не будем"
   ]
  },
  {
   "cell_type": "code",
   "execution_count": 20,
   "metadata": {},
   "outputs": [
    {
     "data": {
      "text/plain": [
       "count    23699.000000\n",
       "mean         2.785139\n",
       "std          0.986512\n",
       "min          1.000000\n",
       "25%          2.600000\n",
       "50%          2.800000\n",
       "75%          2.800000\n",
       "max        100.000000\n",
       "Name: ceiling_height, dtype: float64"
      ]
     },
     "metadata": {},
     "output_type": "display_data"
    },
    {
     "data": {
      "image/png": "[encoded data removed]",
      "text/plain": [
       "<Figure size 864x432 with 1 Axes>"
      ]
     },
     "metadata": {
      "needs_background": "light"
     },
     "output_type": "display_data"
    }
   ],
   "source": [
    "display(df['ceiling_height'].describe()) #df['ceiling_height'].value_counts())\n",
    "df['ceiling_height'].hist(bins=100, range=(0, 20), figsize=(12, 6) )\n",
    "plt.show()"
   ]
  },
  {
   "cell_type": "markdown",
   "metadata": {},
   "source": [
    "По данной гистограмме мы можем сделать вывод, что самое распространенное значение высоты потолков находится в диапазоне 2,4 - 4 метра. Мы встречали и другие значения, но она все в минимальных количествах поэтому являются выбивающимися"
   ]
  },
  {
   "cell_type": "markdown",
   "metadata": {},
   "source": [
    "**4.2 Изучим время продажи квартиры. Построим гистограмму. Посчитаем среднее и медиану. Опишим, сколько обычно занимает продажа**"
   ]
  },
  {
   "cell_type": "code",
   "execution_count": 21,
   "metadata": {},
   "outputs": [
    {
     "data": {
      "text/plain": [
       "count    20518.000000\n",
       "mean       180.888634\n",
       "std        219.727988\n",
       "min          1.000000\n",
       "25%         45.000000\n",
       "50%         95.000000\n",
       "75%        232.000000\n",
       "max       1580.000000\n",
       "Name: days_exposition, dtype: float64"
      ]
     },
     "metadata": {},
     "output_type": "display_data"
    },
    {
     "data": {
      "text/plain": [
       "95.0"
      ]
     },
     "metadata": {},
     "output_type": "display_data"
    },
    {
     "data": {
      "image/png": "[encoded data removed]",
      "text/plain": [
       "<Figure size 864x432 with 1 Axes>"
      ]
     },
     "metadata": {
      "needs_background": "light"
     },
     "output_type": "display_data"
    }
   ],
   "source": [
    "display(df['days_exposition'].describe(), df['days_exposition'].median())\n",
    "df['days_exposition'].hist(bins=200, range=(0, 1600), figsize=(12, 6) )\n",
    "plt.show()"
   ]
  },
  {
   "cell_type": "markdown",
   "metadata": {},
   "source": [
    "На данной гистограмме мы видим, что наши данные имеюр распределение Пуассона. В нуле мы наблюдаем первык пик, также можно заметить большой выброс в интервали примерно 25-35 дней. Среднее значение у нас получилось - **180**, а медианое - **95**. Продажу квартиры можно считать быстрой, если она продалась за 1-8 дней и необычно долго если ее продажа составляет более 1000 дней"
   ]
  },
  {
   "cell_type": "markdown",
   "metadata": {},
   "source": [
    "**4.3 Уберем редкие и выбивающиеся значения**"
   ]
  },
  {
   "cell_type": "code",
   "execution_count": 22,
   "metadata": {
    "scrolled": false
   },
   "outputs": [
    {
     "data": {
      "image/png": "[encoded data removed]",
      "text/plain": [
       "<Figure size 432x288 with 1 Axes>"
      ]
     },
     "metadata": {
      "needs_background": "light"
     },
     "output_type": "display_data"
    },
    {
     "data": {
      "image/png": "[encoded data removed]",
      "text/plain": [
       "<Figure size 432x288 with 1 Axes>"
      ]
     },
     "metadata": {
      "needs_background": "light"
     },
     "output_type": "display_data"
    },
    {
     "data": {
      "image/png": "[encoded data removed]",
      "text/plain": [
       "<Figure size 432x288 with 1 Axes>"
      ]
     },
     "metadata": {
      "needs_background": "light"
     },
     "output_type": "display_data"
    },
    {
     "data": {
      "image/png": "[encoded data removed]",
      "text/plain": [
       "<Figure size 432x288 with 1 Axes>"
      ]
     },
     "metadata": {
      "needs_background": "light"
     },
     "output_type": "display_data"
    },
    {
     "data": {
      "image/png": "[encoded data removed]",
      "text/plain": [
       "<Figure size 432x288 with 1 Axes>"
      ]
     },
     "metadata": {
      "needs_background": "light"
     },
     "output_type": "display_data"
    }
   ],
   "source": [
    "df.boxplot(column=['total_area'])\n",
    "plt.show()\n",
    "df.boxplot(column=['last_price'])\n",
    "plt.show()\n",
    "df.boxplot(column=['rooms'])\n",
    "plt.show()\n",
    "df.boxplot(column=['ceiling_height'])\n",
    "plt.show()\n",
    "df.boxplot(column=['days_exposition'])\n",
    "plt.show()"
   ]
  },
  {
   "cell_type": "code",
   "execution_count": 23,
   "metadata": {},
   "outputs": [
    {
     "data": {
      "text/plain": [
       "23648"
      ]
     },
     "metadata": {},
     "output_type": "display_data"
    },
    {
     "data": {
      "text/plain": [
       "23699"
      ]
     },
     "metadata": {},
     "output_type": "display_data"
    }
   ],
   "source": [
    "df_selection = df.query('(total_area <= 600) and (200000 < last_price < 400000000) and (2.4 <= ceiling_height < 20) and (last_price > 200000)')\n",
    "display(len(df_selection), len(df))\n"
   ]
  },
  {
   "cell_type": "code",
   "execution_count": 24,
   "metadata": {
    "scrolled": false
   },
   "outputs": [
    {
     "data": {
      "image/png": "[encoded data removed]",
      "text/plain": [
       "<Figure size 576x576 with 1 Axes>"
      ]
     },
     "metadata": {
      "needs_background": "light"
     },
     "output_type": "display_data"
    },
    {
     "data": {
      "image/png": "[encoded data removed]",
      "text/plain": [
       "<Figure size 576x576 with 1 Axes>"
      ]
     },
     "metadata": {
      "needs_background": "light"
     },
     "output_type": "display_data"
    },
    {
     "data": {
      "image/png": "[encoded data removed]",
      "text/plain": [
       "<Figure size 576x576 with 1 Axes>"
      ]
     },
     "metadata": {
      "needs_background": "light"
     },
     "output_type": "display_data"
    },
    {
     "data": {
      "image/png": "[encoded data removed]",
      "text/plain": [
       "<Figure size 576x576 with 1 Axes>"
      ]
     },
     "metadata": {
      "needs_background": "light"
     },
     "output_type": "display_data"
    },
    {
     "data": {
      "text/plain": [
       "<AxesSubplot:>"
      ]
     },
     "execution_count": 24,
     "metadata": {},
     "output_type": "execute_result"
    },
    {
     "data": {
      "image/png": "[encoded data removed]",
      "text/plain": [
       "<Figure size 576x576 with 1 Axes>"
      ]
     },
     "metadata": {
      "needs_background": "light"
     },
     "output_type": "display_data"
    }
   ],
   "source": [
    "df_selection.boxplot(column=['total_area'], figsize=(8,8))\n",
    "plt.show()\n",
    "df_selection.boxplot(column=['last_price'], figsize=(8,8))\n",
    "plt.show()\n",
    "df_selection.boxplot(column=['rooms'], figsize=(8,8))\n",
    "plt.show()\n",
    "df_selection.boxplot(column=['ceiling_height'], figsize=(8,8))\n",
    "plt.show()\n",
    "df_selection.boxplot(column=['days_exposition'], figsize=(8,8))"
   ]
  },
  {
   "cell_type": "markdown",
   "metadata": {
    "scrolled": false
   },
   "source": [
    "С помощью графиков *boxplot* мы выявили выбиваютщиеся значения в столбах: **total_area**, **last_price**, **ceiling_height**. И после этого перепостроили новые графики, чтобы визуально оценить полученный результат. В столбце **total_area** мы отсеяли значения выше 600 метров квадратных, так как они сильно выделялись из выборки и могли повлиять на дальнейшее исследованию. В столбце **last_price** мы отсеяли одно значение, которое было выявленно ранее это подозрительно странная квартира более 100 метров квадратных, но со стоимостью 200 000 рублей и квартиры стоимость которых выше 400 000 000, так как они сильно выбивались из остальны. в столбце **ceiling_height** мы поставили фильтр, чтобы отмести странные значение менее 2.4 метров, так как такие потолки не возможны, и потолки выше 20 метров, так как они сильно выбивались из остальных данных. "
   ]
  },
  {
   "cell_type": "markdown",
   "metadata": {},
   "source": [
    "**4.4 Опишем какие факторы больше всего влияют на стоимость квартиры и изучем зависимости.\n",
    "Какие факторы больше всего влияют на стоимость квартиры? Изучите, зависит ли цена от площади, числа комнат, удалённости от центра. Изучите зависимость цены от того, на каком этаже расположена квартира: первом, последнем или другом. Также изучите зависимость от даты размещения: дня недели, месяца и года.**"
   ]
  },
  {
   "cell_type": "code",
   "execution_count": 25,
   "metadata": {},
   "outputs": [
    {
     "data": {
      "text/html": [
       "<div>\n",
       "<style scoped>\n",
       "    .dataframe tbody tr th:only-of-type {\n",
       "        vertical-align: middle;\n",
       "    }\n",
       "\n",
       "    .dataframe tbody tr th {\n",
       "        vertical-align: top;\n",
       "    }\n",
       "\n",
       "    .dataframe thead th {\n",
       "        text-align: right;\n",
       "    }\n",
       "</style>\n",
       "<table border=\"1\" class=\"dataframe\">\n",
       "  <thead>\n",
       "    <tr style=\"text-align: right;\">\n",
       "      <th></th>\n",
       "      <th>last_price</th>\n",
       "      <th>total_area</th>\n",
       "      <th>rooms</th>\n",
       "      <th>cityCenters_nearest</th>\n",
       "      <th>days_exposition</th>\n",
       "    </tr>\n",
       "  </thead>\n",
       "  <tbody>\n",
       "    <tr>\n",
       "      <th>last_price</th>\n",
       "      <td>1.000000</td>\n",
       "      <td>0.698120</td>\n",
       "      <td>0.404177</td>\n",
       "      <td>-0.249180</td>\n",
       "      <td>0.107457</td>\n",
       "    </tr>\n",
       "    <tr>\n",
       "      <th>total_area</th>\n",
       "      <td>0.698120</td>\n",
       "      <td>1.000000</td>\n",
       "      <td>0.764405</td>\n",
       "      <td>-0.235184</td>\n",
       "      <td>0.154290</td>\n",
       "    </tr>\n",
       "    <tr>\n",
       "      <th>rooms</th>\n",
       "      <td>0.404177</td>\n",
       "      <td>0.764405</td>\n",
       "      <td>1.000000</td>\n",
       "      <td>-0.184339</td>\n",
       "      <td>0.127590</td>\n",
       "    </tr>\n",
       "    <tr>\n",
       "      <th>cityCenters_nearest</th>\n",
       "      <td>-0.249180</td>\n",
       "      <td>-0.235184</td>\n",
       "      <td>-0.184339</td>\n",
       "      <td>1.000000</td>\n",
       "      <td>-0.060704</td>\n",
       "    </tr>\n",
       "    <tr>\n",
       "      <th>days_exposition</th>\n",
       "      <td>0.107457</td>\n",
       "      <td>0.154290</td>\n",
       "      <td>0.127590</td>\n",
       "      <td>-0.060704</td>\n",
       "      <td>1.000000</td>\n",
       "    </tr>\n",
       "  </tbody>\n",
       "</table>\n",
       "</div>"
      ],
      "text/plain": [
       "                     last_price  total_area     rooms  cityCenters_nearest  \\\n",
       "last_price             1.000000    0.698120  0.404177            -0.249180   \n",
       "total_area             0.698120    1.000000  0.764405            -0.235184   \n",
       "rooms                  0.404177    0.764405  1.000000            -0.184339   \n",
       "cityCenters_nearest   -0.249180   -0.235184 -0.184339             1.000000   \n",
       "days_exposition        0.107457    0.154290  0.127590            -0.060704   \n",
       "\n",
       "                     days_exposition  \n",
       "last_price                  0.107457  \n",
       "total_area                  0.154290  \n",
       "rooms                       0.127590  \n",
       "cityCenters_nearest        -0.060704  \n",
       "days_exposition             1.000000  "
      ]
     },
     "execution_count": 25,
     "metadata": {},
     "output_type": "execute_result"
    }
   ],
   "source": [
    "df_factors = df_selection[['last_price', 'total_area', 'rooms', 'cityCenters_nearest', 'floor_class', 'days_exposition']]\n",
    "#display(df_factors)\n",
    "df_factors.corr()"
   ]
  },
  {
   "cell_type": "markdown",
   "metadata": {},
   "source": [
    "По матрице корреляции мы можем сделать следующие выводы:\n",
    "* Зависимость цены от площали есть. Коэффициет корреляции Пирсона равер 0.70. Чем выше стоимость тем больше становится площать квартиры.\n",
    "* Зависимость цены от количество комнат есть. Коэффициет корреляции Пирсона 0.40. Чем выше стоимость тем больше будет комнат в квартире.\n",
    "* Зависимость цены от удаленности от цента есть, но небольшая. Коэффициет корреляции Порсона -0.25. Чем меньше удаленность от цента тем больше будет увеличиваться цена"
   ]
  },
  {
   "cell_type": "code",
   "execution_count": 26,
   "metadata": {},
   "outputs": [
    {
     "data": {
      "image/png": "[encoded data removed]",
      "text/plain": [
       "<Figure size 576x576 with 1 Axes>"
      ]
     },
     "metadata": {
      "needs_background": "light"
     },
     "output_type": "display_data"
    }
   ],
   "source": [
    "plot = df_selection.boxplot('last_price', by='floor_class', figsize=(8,8), showfliers=False)"
   ]
  },
  {
   "cell_type": "markdown",
   "metadata": {},
   "source": [
    "Из данного графика мы можем сделать следующие выводы:\n",
    "* квартиры на первых этажах дешевле\n",
    "* квартиры не на первом и последнем этаже дороже остальных\n",
    "* квартиры на последных этажах могут уменьшить стоимость "
   ]
  },
  {
   "cell_type": "code",
   "execution_count": 27,
   "metadata": {},
   "outputs": [
    {
     "data": {
      "text/plain": [
       "<AxesSubplot:title={'center':'last_price'}, xlabel='day_of_week_exposition'>"
      ]
     },
     "execution_count": 27,
     "metadata": {},
     "output_type": "execute_result"
    },
    {
     "data": {
      "image/png": "[encoded data removed]",
      "text/plain": [
       "<Figure size 576x576 with 1 Axes>"
      ]
     },
     "metadata": {
      "needs_background": "light"
     },
     "output_type": "display_data"
    }
   ],
   "source": [
    "df_selection.boxplot('last_price', by='day_of_week_exposition', figsize=(8,8), showfliers=False)"
   ]
  },
  {
   "cell_type": "markdown",
   "metadata": {},
   "source": [
    "Парадоксально, но факт. Объявления размещенные в четвер имеют цену выше чем остальные"
   ]
  },
  {
   "cell_type": "code",
   "execution_count": 28,
   "metadata": {},
   "outputs": [
    {
     "data": {
      "text/plain": [
       "<AxesSubplot:title={'center':'last_price'}, xlabel='month_exposition'>"
      ]
     },
     "execution_count": 28,
     "metadata": {},
     "output_type": "execute_result"
    },
    {
     "data": {
      "image/png": "[encoded data removed]",
      "text/plain": [
       "<Figure size 864x576 with 1 Axes>"
      ]
     },
     "metadata": {
      "needs_background": "light"
     },
     "output_type": "display_data"
    }
   ],
   "source": [
    "df_selection.boxplot('last_price', by='month_exposition', figsize=(12,8), showfliers=False)"
   ]
  },
  {
   "cell_type": "markdown",
   "metadata": {},
   "source": [
    "Прямой зависимости от месяца размещения и цены мы не нашли"
   ]
  },
  {
   "cell_type": "code",
   "execution_count": 29,
   "metadata": {},
   "outputs": [
    {
     "data": {
      "text/plain": [
       "<AxesSubplot:title={'center':'last_price'}, xlabel='year_exposition'>"
      ]
     },
     "execution_count": 29,
     "metadata": {},
     "output_type": "execute_result"
    },
    {
     "data": {
      "image/png": "[encoded data removed]",
      "text/plain": [
       "<Figure size 576x864 with 1 Axes>"
      ]
     },
     "metadata": {
      "needs_background": "light"
     },
     "output_type": "display_data"
    }
   ],
   "source": [
    "df_selection.boxplot('last_price', by='year_exposition', figsize=(8,12), showfliers=False)"
   ]
  },
  {
   "cell_type": "code",
   "execution_count": 30,
   "metadata": {},
   "outputs": [
    {
     "name": "stdout",
     "output_type": "stream",
     "text": [
      "<class 'pandas.core.frame.DataFrame'>\n",
      "RangeIndex: 23699 entries, 0 to 23698\n",
      "Data columns (total 29 columns):\n",
      " #   Column                   Non-Null Count  Dtype         \n",
      "---  ------                   --------------  -----         \n",
      " 0   total_images             23699 non-null  int64         \n",
      " 1   last_price               23699 non-null  int64         \n",
      " 2   total_area               23699 non-null  float64       \n",
      " 3   first_day_exposition     23699 non-null  datetime64[ns]\n",
      " 4   rooms                    23699 non-null  int64         \n",
      " 5   ceiling_height           23699 non-null  float64       \n",
      " 6   floors_total             23699 non-null  int64         \n",
      " 7   living_area              23699 non-null  float64       \n",
      " 8   floor                    23699 non-null  int64         \n",
      " 9   is_apartment             23699 non-null  bool          \n",
      " 10  studio                   23699 non-null  bool          \n",
      " 11  open_plan                23699 non-null  bool          \n",
      " 12  kitchen_area             23699 non-null  float64       \n",
      " 13  balcony                  23699 non-null  int64         \n",
      " 14  locality_name            23699 non-null  object        \n",
      " 15  airports_nearest         18157 non-null  float64       \n",
      " 16  cityCenters_nearest      18180 non-null  float64       \n",
      " 17  parks_around3000         18181 non-null  float64       \n",
      " 18  parks_nearest            8079 non-null   float64       \n",
      " 19  ponds_around3000         18181 non-null  float64       \n",
      " 20  ponds_nearest            9110 non-null   float64       \n",
      " 21  days_exposition          20518 non-null  float64       \n",
      " 22  price_m2                 23699 non-null  float64       \n",
      " 23  day_of_week_exposition   23699 non-null  object        \n",
      " 24  month_exposition         23699 non-null  object        \n",
      " 25  year_exposition          23699 non-null  int64         \n",
      " 26  living_area/total_area   23699 non-null  float64       \n",
      " 27  kitchen_area/total_area  23699 non-null  float64       \n",
      " 28  floor_class              23699 non-null  object        \n",
      "dtypes: bool(3), datetime64[ns](1), float64(14), int64(7), object(4)\n",
      "memory usage: 4.8+ MB\n"
     ]
    }
   ],
   "source": [
    "#Прямой зависимости от года размещения и цены мы не обнаружили.\n",
    "df.info()"
   ]
  },
  {
   "cell_type": "markdown",
   "metadata": {},
   "source": [
    "**4.5 Выберирем 10 населённых пунктов с наибольшим числом объявлений. Посчитаем среднюю цену квадратного метра в этих населённых пунктах. Выделите среди них населённые пункты с самой высокой и низкой стоимостью жилья.**"
   ]
  },
  {
   "cell_type": "markdown",
   "metadata": {},
   "source": [
    "Чтобы найти топ 10 налесенных пунктов в нашем датафрейме мы сделали лемматизацию и посчитали количиство упоминаний готодов. Вот так выглядит наш топ:\n",
    "* санкт-петербург\n",
    "* мурино\n",
    "* кудрово\n",
    "* шушары\n",
    "* всеволожск\n",
    "* пушкин\n",
    "* колпино\n",
    "* парголовый\n",
    "* гатчина\n",
    "* выборг\n",
    "\n",
    "Приведев в порядок названия и проведем дальнейший анализ нашего топа"
   ]
  },
  {
   "cell_type": "code",
   "execution_count": 31,
   "metadata": {},
   "outputs": [
    {
     "data": {
      "text/html": [
       "<div>\n",
       "<style scoped>\n",
       "    .dataframe tbody tr th:only-of-type {\n",
       "        vertical-align: middle;\n",
       "    }\n",
       "\n",
       "    .dataframe tbody tr th {\n",
       "        vertical-align: top;\n",
       "    }\n",
       "\n",
       "    .dataframe thead th {\n",
       "        text-align: right;\n",
       "    }\n",
       "</style>\n",
       "<table border=\"1\" class=\"dataframe\">\n",
       "  <thead>\n",
       "    <tr style=\"text-align: right;\">\n",
       "      <th></th>\n",
       "      <th>locality_name</th>\n",
       "      <th>count</th>\n",
       "      <th>price_m2_mean</th>\n",
       "    </tr>\n",
       "  </thead>\n",
       "  <tbody>\n",
       "    <tr>\n",
       "      <th>8</th>\n",
       "      <td>санкт-петербург</td>\n",
       "      <td>15696</td>\n",
       "      <td>114606.922464</td>\n",
       "    </tr>\n",
       "    <tr>\n",
       "      <th>5</th>\n",
       "      <td>мурино</td>\n",
       "      <td>588</td>\n",
       "      <td>86064.818027</td>\n",
       "    </tr>\n",
       "    <tr>\n",
       "      <th>4</th>\n",
       "      <td>кудрово</td>\n",
       "      <td>471</td>\n",
       "      <td>95326.205945</td>\n",
       "    </tr>\n",
       "    <tr>\n",
       "      <th>9</th>\n",
       "      <td>шушары</td>\n",
       "      <td>440</td>\n",
       "      <td>78677.379545</td>\n",
       "    </tr>\n",
       "    <tr>\n",
       "      <th>0</th>\n",
       "      <td>всеволожск</td>\n",
       "      <td>397</td>\n",
       "      <td>68719.322418</td>\n",
       "    </tr>\n",
       "    <tr>\n",
       "      <th>7</th>\n",
       "      <td>пушкин</td>\n",
       "      <td>369</td>\n",
       "      <td>103125.818428</td>\n",
       "    </tr>\n",
       "    <tr>\n",
       "      <th>3</th>\n",
       "      <td>колпино</td>\n",
       "      <td>338</td>\n",
       "      <td>75424.571006</td>\n",
       "    </tr>\n",
       "    <tr>\n",
       "      <th>6</th>\n",
       "      <td>парголово</td>\n",
       "      <td>327</td>\n",
       "      <td>90175.886850</td>\n",
       "    </tr>\n",
       "    <tr>\n",
       "      <th>2</th>\n",
       "      <td>гатчина</td>\n",
       "      <td>306</td>\n",
       "      <td>68757.643791</td>\n",
       "    </tr>\n",
       "    <tr>\n",
       "      <th>1</th>\n",
       "      <td>выборг</td>\n",
       "      <td>235</td>\n",
       "      <td>58238.153191</td>\n",
       "    </tr>\n",
       "  </tbody>\n",
       "</table>\n",
       "</div>"
      ],
      "text/plain": [
       "     locality_name  count  price_m2_mean\n",
       "8  санкт-петербург  15696  114606.922464\n",
       "5           мурино    588   86064.818027\n",
       "4          кудрово    471   95326.205945\n",
       "9           шушары    440   78677.379545\n",
       "0       всеволожск    397   68719.322418\n",
       "7           пушкин    369  103125.818428\n",
       "3          колпино    338   75424.571006\n",
       "6        парголово    327   90175.886850\n",
       "2          гатчина    306   68757.643791\n",
       "1           выборг    235   58238.153191"
      ]
     },
     "execution_count": 31,
     "metadata": {},
     "output_type": "execute_result"
    }
   ],
   "source": [
    "top_10 = df_selection.query('locality_name != \"прочие населенные пункты\"')\n",
    "pt = top_10.pivot_table(index = 'locality_name', values = 'price_m2', aggfunc = ['count', 'mean'])\n",
    "df_top_10 = pd.DataFrame(pt.to_records())\n",
    "df_top_10.columns = ['locality_name', 'count', 'price_m2_mean']\n",
    "df_top_10.sort_values(by='count', ascending=False)\n"
   ]
  },
  {
   "cell_type": "markdown",
   "metadata": {},
   "source": [
    "Мы выделили топ 10 населенных пунктов и посчитали для них среднюю цену квардратного метро, на перов месте у нас Санкт-Петербург с ценой за квадратный метр 114 606 рублей, а на последнем месте Выбор с ценой за квадратный метр 58 238 рублей"
   ]
  },
  {
   "cell_type": "code",
   "execution_count": 32,
   "metadata": {},
   "outputs": [
    {
     "data": {
      "text/plain": [
       "<AxesSubplot:title={'center':'price_m2'}, xlabel='locality_name'>"
      ]
     },
     "execution_count": 32,
     "metadata": {},
     "output_type": "execute_result"
    },
    {
     "data": {
      "image/png": "[encoded data removed]",
      "text/plain": [
       "<Figure size 1440x1440 with 1 Axes>"
      ]
     },
     "metadata": {
      "needs_background": "light"
     },
     "output_type": "display_data"
    }
   ],
   "source": [
    "top_10.boxplot('price_m2', by='locality_name', figsize=(20,20), showfliers=False)"
   ]
  },
  {
   "cell_type": "markdown",
   "metadata": {},
   "source": [
    "Самая высокая стоимость жилья у нас как и ожидалось в Санкт-Петербурге, а самая низкая в Выборге\n",
    "\n"
   ]
  },
  {
   "cell_type": "markdown",
   "metadata": {},
   "source": [
    "**4.6 Изучим предложения квартир: для каждой квартиры есть информация о расстоянии до центра. Выделим квартиры в Санкт-Петербурге и найдем пределы центра для Санкт-Петербурга**"
   ]
  },
  {
   "cell_type": "code",
   "execution_count": 33,
   "metadata": {},
   "outputs": [
    {
     "data": {
      "text/plain": [
       "<AxesSubplot:xlabel='cityCenters_nearest'>"
      ]
     },
     "execution_count": 33,
     "metadata": {},
     "output_type": "execute_result"
    },
    {
     "data": {
      "image/png": "[encoded data removed]",
      "text/plain": [
       "<Figure size 864x720 with 1 Axes>"
      ]
     },
     "metadata": {
      "needs_background": "light"
     },
     "output_type": "display_data"
    }
   ],
   "source": [
    "df_spb = df_selection.query('locality_name == \"санкт-петербург\"')\n",
    "\n",
    "df_spb = df_spb.dropna(subset = ['cityCenters_nearest'])\n",
    "df_spb.isna().mean()\n",
    "df_spb['cityCenters_nearest'] = (df_spb['cityCenters_nearest'] / 1000).round(0)\n",
    "search_centr = df_spb.pivot_table(index = 'cityCenters_nearest', values = 'last_price', aggfunc = 'mean').round(2)\n",
    "df_search_centr = pd.DataFrame(search_centr.to_records())\n",
    "df_search_centr.plot(x='cityCenters_nearest', y='last_price', figsize=(12,10), grid=True, style='o-')\n"
   ]
  },
  {
   "cell_type": "markdown",
   "metadata": {},
   "source": [
    "Для определения границ центра мы построили график средней цены за один километр. Границы центра можно обозначить как 8-10 километров, так как после этих значений средня цена только уменьшается."
   ]
  },
  {
   "cell_type": "code",
   "execution_count": 34,
   "metadata": {
    "scrolled": false
   },
   "outputs": [
    {
     "data": {
      "text/plain": [
       "5420"
      ]
     },
     "metadata": {},
     "output_type": "display_data"
    }
   ],
   "source": [
    "display(len(df_spb.query('cityCenters_nearest <= 10')))"
   ]
  },
  {
   "cell_type": "markdown",
   "metadata": {},
   "source": [
    "Границы центра Санкт-Петербурга обозначим как 8 киломметров. Подходящих для анализа квартир в центре у нас 4110"
   ]
  },
  {
   "cell_type": "markdown",
   "metadata": {},
   "source": [
    "**Выделим сегмент квартир в центре. Проанализируем эту территорию и изучим следующие параметры: площадь, цена, число комнат, высота потолков.**"
   ]
  },
  {
   "cell_type": "code",
   "execution_count": 35,
   "metadata": {},
   "outputs": [
    {
     "data": {
      "text/html": [
       "<div>\n",
       "<style scoped>\n",
       "    .dataframe tbody tr th:only-of-type {\n",
       "        vertical-align: middle;\n",
       "    }\n",
       "\n",
       "    .dataframe tbody tr th {\n",
       "        vertical-align: top;\n",
       "    }\n",
       "\n",
       "    .dataframe thead th {\n",
       "        text-align: right;\n",
       "    }\n",
       "</style>\n",
       "<table border=\"1\" class=\"dataframe\">\n",
       "  <thead>\n",
       "    <tr style=\"text-align: right;\">\n",
       "      <th></th>\n",
       "      <th>total_images</th>\n",
       "      <th>last_price</th>\n",
       "      <th>total_area</th>\n",
       "      <th>first_day_exposition</th>\n",
       "      <th>rooms</th>\n",
       "      <th>ceiling_height</th>\n",
       "      <th>floors_total</th>\n",
       "      <th>living_area</th>\n",
       "      <th>floor</th>\n",
       "      <th>is_apartment</th>\n",
       "      <th>studio</th>\n",
       "      <th>open_plan</th>\n",
       "      <th>kitchen_area</th>\n",
       "      <th>balcony</th>\n",
       "      <th>locality_name</th>\n",
       "      <th>airports_nearest</th>\n",
       "      <th>cityCenters_nearest</th>\n",
       "      <th>parks_around3000</th>\n",
       "      <th>parks_nearest</th>\n",
       "      <th>ponds_around3000</th>\n",
       "      <th>ponds_nearest</th>\n",
       "      <th>days_exposition</th>\n",
       "      <th>price_m2</th>\n",
       "      <th>day_of_week_exposition</th>\n",
       "      <th>month_exposition</th>\n",
       "      <th>year_exposition</th>\n",
       "      <th>living_area/total_area</th>\n",
       "      <th>kitchen_area/total_area</th>\n",
       "      <th>floor_class</th>\n",
       "    </tr>\n",
       "  </thead>\n",
       "  <tbody>\n",
       "    <tr>\n",
       "      <th>3</th>\n",
       "      <td>0</td>\n",
       "      <td>64.9</td>\n",
       "      <td>159.0</td>\n",
       "      <td>2015-07-24</td>\n",
       "      <td>3</td>\n",
       "      <td>2.8</td>\n",
       "      <td>14</td>\n",
       "      <td>45.0</td>\n",
       "      <td>9</td>\n",
       "      <td>True</td>\n",
       "      <td>False</td>\n",
       "      <td>False</td>\n",
       "      <td>9.5</td>\n",
       "      <td>0</td>\n",
       "      <td>санкт-петербург</td>\n",
       "      <td>28098.0</td>\n",
       "      <td>7.0</td>\n",
       "      <td>2.0</td>\n",
       "      <td>84.0</td>\n",
       "      <td>3.0</td>\n",
       "      <td>234.0</td>\n",
       "      <td>424.0</td>\n",
       "      <td>408176.0</td>\n",
       "      <td>Friday</td>\n",
       "      <td>July</td>\n",
       "      <td>2015</td>\n",
       "      <td>0.28</td>\n",
       "      <td>0.06</td>\n",
       "      <td>другой</td>\n",
       "    </tr>\n",
       "    <tr>\n",
       "      <th>4</th>\n",
       "      <td>2</td>\n",
       "      <td>10.0</td>\n",
       "      <td>100.0</td>\n",
       "      <td>2018-06-19</td>\n",
       "      <td>2</td>\n",
       "      <td>3.0</td>\n",
       "      <td>14</td>\n",
       "      <td>32.0</td>\n",
       "      <td>13</td>\n",
       "      <td>True</td>\n",
       "      <td>False</td>\n",
       "      <td>False</td>\n",
       "      <td>41.0</td>\n",
       "      <td>0</td>\n",
       "      <td>санкт-петербург</td>\n",
       "      <td>31856.0</td>\n",
       "      <td>8.0</td>\n",
       "      <td>2.0</td>\n",
       "      <td>112.0</td>\n",
       "      <td>1.0</td>\n",
       "      <td>48.0</td>\n",
       "      <td>121.0</td>\n",
       "      <td>100000.0</td>\n",
       "      <td>Tuesday</td>\n",
       "      <td>June</td>\n",
       "      <td>2018</td>\n",
       "      <td>0.32</td>\n",
       "      <td>0.41</td>\n",
       "      <td>другой</td>\n",
       "    </tr>\n",
       "    <tr>\n",
       "      <th>21</th>\n",
       "      <td>13</td>\n",
       "      <td>3.2</td>\n",
       "      <td>31.6</td>\n",
       "      <td>2018-03-14</td>\n",
       "      <td>1</td>\n",
       "      <td>2.8</td>\n",
       "      <td>5</td>\n",
       "      <td>16.9</td>\n",
       "      <td>2</td>\n",
       "      <td>True</td>\n",
       "      <td>False</td>\n",
       "      <td>False</td>\n",
       "      <td>5.7</td>\n",
       "      <td>1</td>\n",
       "      <td>санкт-петербург</td>\n",
       "      <td>36064.0</td>\n",
       "      <td>10.0</td>\n",
       "      <td>1.0</td>\n",
       "      <td>248.0</td>\n",
       "      <td>0.0</td>\n",
       "      <td>NaN</td>\n",
       "      <td>310.0</td>\n",
       "      <td>101266.0</td>\n",
       "      <td>Wednesday</td>\n",
       "      <td>March</td>\n",
       "      <td>2018</td>\n",
       "      <td>0.53</td>\n",
       "      <td>0.18</td>\n",
       "      <td>другой</td>\n",
       "    </tr>\n",
       "    <tr>\n",
       "      <th>24</th>\n",
       "      <td>8</td>\n",
       "      <td>6.5</td>\n",
       "      <td>97.2</td>\n",
       "      <td>2015-10-31</td>\n",
       "      <td>2</td>\n",
       "      <td>2.8</td>\n",
       "      <td>3</td>\n",
       "      <td>46.5</td>\n",
       "      <td>1</td>\n",
       "      <td>True</td>\n",
       "      <td>False</td>\n",
       "      <td>False</td>\n",
       "      <td>19.6</td>\n",
       "      <td>0</td>\n",
       "      <td>санкт-петербург</td>\n",
       "      <td>20052.0</td>\n",
       "      <td>2.0</td>\n",
       "      <td>3.0</td>\n",
       "      <td>411.0</td>\n",
       "      <td>3.0</td>\n",
       "      <td>124.0</td>\n",
       "      <td>265.0</td>\n",
       "      <td>66872.0</td>\n",
       "      <td>Saturday</td>\n",
       "      <td>October</td>\n",
       "      <td>2015</td>\n",
       "      <td>0.48</td>\n",
       "      <td>0.20</td>\n",
       "      <td>первый</td>\n",
       "    </tr>\n",
       "    <tr>\n",
       "      <th>35</th>\n",
       "      <td>6</td>\n",
       "      <td>15.5</td>\n",
       "      <td>149.0</td>\n",
       "      <td>2017-06-26</td>\n",
       "      <td>5</td>\n",
       "      <td>2.8</td>\n",
       "      <td>5</td>\n",
       "      <td>104.0</td>\n",
       "      <td>4</td>\n",
       "      <td>True</td>\n",
       "      <td>False</td>\n",
       "      <td>False</td>\n",
       "      <td>17.0</td>\n",
       "      <td>0</td>\n",
       "      <td>санкт-петербург</td>\n",
       "      <td>23670.0</td>\n",
       "      <td>4.0</td>\n",
       "      <td>0.0</td>\n",
       "      <td>NaN</td>\n",
       "      <td>1.0</td>\n",
       "      <td>779.0</td>\n",
       "      <td>644.0</td>\n",
       "      <td>104027.0</td>\n",
       "      <td>Monday</td>\n",
       "      <td>June</td>\n",
       "      <td>2017</td>\n",
       "      <td>0.70</td>\n",
       "      <td>0.11</td>\n",
       "      <td>другой</td>\n",
       "    </tr>\n",
       "  </tbody>\n",
       "</table>\n",
       "</div>"
      ],
      "text/plain": [
       "    total_images  last_price  total_area first_day_exposition  rooms  \\\n",
       "3              0        64.9       159.0           2015-07-24      3   \n",
       "4              2        10.0       100.0           2018-06-19      2   \n",
       "21            13         3.2        31.6           2018-03-14      1   \n",
       "24             8         6.5        97.2           2015-10-31      2   \n",
       "35             6        15.5       149.0           2017-06-26      5   \n",
       "\n",
       "    ceiling_height  floors_total  living_area  floor  is_apartment  studio  \\\n",
       "3              2.8            14         45.0      9          True   False   \n",
       "4              3.0            14         32.0     13          True   False   \n",
       "21             2.8             5         16.9      2          True   False   \n",
       "24             2.8             3         46.5      1          True   False   \n",
       "35             2.8             5        104.0      4          True   False   \n",
       "\n",
       "    open_plan  kitchen_area  balcony    locality_name  airports_nearest  \\\n",
       "3       False           9.5        0  санкт-петербург           28098.0   \n",
       "4       False          41.0        0  санкт-петербург           31856.0   \n",
       "21      False           5.7        1  санкт-петербург           36064.0   \n",
       "24      False          19.6        0  санкт-петербург           20052.0   \n",
       "35      False          17.0        0  санкт-петербург           23670.0   \n",
       "\n",
       "    cityCenters_nearest  parks_around3000  parks_nearest  ponds_around3000  \\\n",
       "3                   7.0               2.0           84.0               3.0   \n",
       "4                   8.0               2.0          112.0               1.0   \n",
       "21                 10.0               1.0          248.0               0.0   \n",
       "24                  2.0               3.0          411.0               3.0   \n",
       "35                  4.0               0.0            NaN               1.0   \n",
       "\n",
       "    ponds_nearest  days_exposition  price_m2 day_of_week_exposition  \\\n",
       "3           234.0            424.0  408176.0                 Friday   \n",
       "4            48.0            121.0  100000.0                Tuesday   \n",
       "21            NaN            310.0  101266.0              Wednesday   \n",
       "24          124.0            265.0   66872.0               Saturday   \n",
       "35          779.0            644.0  104027.0                 Monday   \n",
       "\n",
       "   month_exposition  year_exposition  living_area/total_area  \\\n",
       "3              July             2015                    0.28   \n",
       "4              June             2018                    0.32   \n",
       "21            March             2018                    0.53   \n",
       "24          October             2015                    0.48   \n",
       "35             June             2017                    0.70   \n",
       "\n",
       "    kitchen_area/total_area floor_class  \n",
       "3                      0.06      другой  \n",
       "4                      0.41      другой  \n",
       "21                     0.18      другой  \n",
       "24                     0.20      первый  \n",
       "35                     0.11      другой  "
      ]
     },
     "execution_count": 35,
     "metadata": {},
     "output_type": "execute_result"
    }
   ],
   "source": [
    "df_centr = df_spb.query('cityCenters_nearest <= 10')\n",
    "df_centr['last_price'] = df_centr['last_price'] / 1000000\n",
    "df_centr.head(5)"
   ]
  },
  {
   "cell_type": "code",
   "execution_count": 36,
   "metadata": {},
   "outputs": [
    {
     "data": {
      "text/plain": [
       "count    5420.000000\n",
       "mean       82.015378\n",
       "std        52.015399\n",
       "min        12.000000\n",
       "25%        47.975000\n",
       "50%        69.550000\n",
       "75%        97.800000\n",
       "max       590.000000\n",
       "Name: total_area, dtype: float64"
      ]
     },
     "metadata": {},
     "output_type": "display_data"
    },
    {
     "data": {
      "image/png": "[encoded data removed]",
      "text/plain": [
       "<Figure size 864x432 with 1 Axes>"
      ]
     },
     "metadata": {
      "needs_background": "light"
     },
     "output_type": "display_data"
    }
   ],
   "source": [
    "display(df_centr['total_area'].describe())\n",
    "df_centr['total_area'].hist(bins=100, range=(0, 600), figsize=(12, 6) )\n",
    "plt.show()"
   ]
  },
  {
   "cell_type": "markdown",
   "metadata": {},
   "source": [
    "Из гистограммы мы видим, что у нас есть не большой всплеск возле нуля. Вероятно, это маленькие квартиры студии в центральной части города. Также мы видим большой всплеск в районе 40 метров квадратных."
   ]
  },
  {
   "cell_type": "code",
   "execution_count": 37,
   "metadata": {},
   "outputs": [
    {
     "data": {
      "text/plain": [
       "count    5420.000000\n",
       "mean       11.997710\n",
       "std        15.938089\n",
       "min         1.600000\n",
       "25%         5.500000\n",
       "50%         7.990000\n",
       "75%        12.500000\n",
       "max       330.000000\n",
       "Name: last_price, dtype: float64"
      ]
     },
     "metadata": {},
     "output_type": "display_data"
    },
    {
     "data": {
      "image/png": "[encoded data removed]",
      "text/plain": [
       "<Figure size 864x432 with 1 Axes>"
      ]
     },
     "metadata": {
      "needs_background": "light"
     },
     "output_type": "display_data"
    }
   ],
   "source": [
    "display(df_centr['last_price'].describe())\n",
    "df_centr['last_price'].hist(bins=200, range=(0,340), figsize=(12, 6) )\n",
    "plt.show()"
   ]
  },
  {
   "cell_type": "markdown",
   "metadata": {},
   "source": [
    "На гисторамме стоимости мы видим встплеск возле нуля как и на предыдущей гистограмме. Это явно значения стоимости маленьких квартир студий, которые были переделаны из коммунальных квартир в центральной части города. Также мы видим много выбивающихся значений по стоимости."
   ]
  },
  {
   "cell_type": "code",
   "execution_count": 38,
   "metadata": {},
   "outputs": [
    {
     "data": {
      "text/plain": [
       "count    5420.000000\n",
       "mean        2.579889\n",
       "std         1.362130\n",
       "min         0.000000\n",
       "25%         2.000000\n",
       "50%         2.000000\n",
       "75%         3.000000\n",
       "max        19.000000\n",
       "Name: rooms, dtype: float64"
      ]
     },
     "metadata": {},
     "output_type": "display_data"
    },
    {
     "data": {
      "image/png": "[encoded data removed]",
      "text/plain": [
       "<Figure size 864x432 with 1 Axes>"
      ]
     },
     "metadata": {
      "needs_background": "light"
     },
     "output_type": "display_data"
    }
   ],
   "source": [
    "display(df_centr['rooms'].describe())\n",
    "df_centr['rooms'].hist(bins=200, range=(0,20), figsize=(12, 6) )\n",
    "plt.show()"
   ]
  },
  {
   "cell_type": "markdown",
   "metadata": {},
   "source": [
    "Из предыдущих гистограмм мы сделали предположение, что в центральной части города есть часть квартир студий, переделанных из коммунальных квартир. Гипотеза подтвердилась. В центаральной части преодладают двухкомнатные и трехкомнатные квартиры и есть часть редких значений когда число комнат превышает 6"
   ]
  },
  {
   "cell_type": "code",
   "execution_count": 39,
   "metadata": {},
   "outputs": [
    {
     "data": {
      "text/plain": [
       "count    5420.000000\n",
       "mean        2.918063\n",
       "std         0.315720\n",
       "min         2.400000\n",
       "25%         2.800000\n",
       "50%         2.800000\n",
       "75%         3.000000\n",
       "max         6.000000\n",
       "Name: ceiling_height, dtype: float64"
      ]
     },
     "metadata": {},
     "output_type": "display_data"
    },
    {
     "data": {
      "image/png": "[encoded data removed]",
      "text/plain": [
       "<Figure size 864x432 with 1 Axes>"
      ]
     },
     "metadata": {
      "needs_background": "light"
     },
     "output_type": "display_data"
    }
   ],
   "source": [
    "display(df_centr['ceiling_height'].describe())\n",
    "df_centr['ceiling_height'].hist(bins=200, range=(2,7), figsize=(12, 6) )\n",
    "plt.show()"
   ]
  },
  {
   "cell_type": "markdown",
   "metadata": {},
   "source": [
    "Как и в других районах высота потолков в центральной части города преобладает 2,8 метра"
   ]
  },
  {
   "cell_type": "code",
   "execution_count": 41,
   "metadata": {},
   "outputs": [
    {
     "name": "stdout",
     "output_type": "stream",
     "text": [
      "Матрица корреляции для цента\n"
     ]
    },
    {
     "data": {
      "text/html": [
       "<div>\n",
       "<style scoped>\n",
       "    .dataframe tbody tr th:only-of-type {\n",
       "        vertical-align: middle;\n",
       "    }\n",
       "\n",
       "    .dataframe tbody tr th {\n",
       "        vertical-align: top;\n",
       "    }\n",
       "\n",
       "    .dataframe thead th {\n",
       "        text-align: right;\n",
       "    }\n",
       "</style>\n",
       "<table border=\"1\" class=\"dataframe\">\n",
       "  <thead>\n",
       "    <tr style=\"text-align: right;\">\n",
       "      <th></th>\n",
       "      <th>last_price</th>\n",
       "      <th>total_area</th>\n",
       "      <th>rooms</th>\n",
       "      <th>cityCenters_nearest</th>\n",
       "      <th>days_exposition</th>\n",
       "    </tr>\n",
       "  </thead>\n",
       "  <tbody>\n",
       "    <tr>\n",
       "      <th>last_price</th>\n",
       "      <td>1.000000</td>\n",
       "      <td>0.678195</td>\n",
       "      <td>0.386433</td>\n",
       "      <td>-0.201623</td>\n",
       "      <td>0.114639</td>\n",
       "    </tr>\n",
       "    <tr>\n",
       "      <th>total_area</th>\n",
       "      <td>0.678195</td>\n",
       "      <td>1.000000</td>\n",
       "      <td>0.767378</td>\n",
       "      <td>-0.281532</td>\n",
       "      <td>0.169283</td>\n",
       "    </tr>\n",
       "    <tr>\n",
       "      <th>rooms</th>\n",
       "      <td>0.386433</td>\n",
       "      <td>0.767378</td>\n",
       "      <td>1.000000</td>\n",
       "      <td>-0.287217</td>\n",
       "      <td>0.149696</td>\n",
       "    </tr>\n",
       "    <tr>\n",
       "      <th>cityCenters_nearest</th>\n",
       "      <td>-0.201623</td>\n",
       "      <td>-0.281532</td>\n",
       "      <td>-0.287217</td>\n",
       "      <td>1.000000</td>\n",
       "      <td>-0.129970</td>\n",
       "    </tr>\n",
       "    <tr>\n",
       "      <th>days_exposition</th>\n",
       "      <td>0.114639</td>\n",
       "      <td>0.169283</td>\n",
       "      <td>0.149696</td>\n",
       "      <td>-0.129970</td>\n",
       "      <td>1.000000</td>\n",
       "    </tr>\n",
       "  </tbody>\n",
       "</table>\n",
       "</div>"
      ],
      "text/plain": [
       "                     last_price  total_area     rooms  cityCenters_nearest  \\\n",
       "last_price             1.000000    0.678195  0.386433            -0.201623   \n",
       "total_area             0.678195    1.000000  0.767378            -0.281532   \n",
       "rooms                  0.386433    0.767378  1.000000            -0.287217   \n",
       "cityCenters_nearest   -0.201623   -0.281532 -0.287217             1.000000   \n",
       "days_exposition        0.114639    0.169283  0.149696            -0.129970   \n",
       "\n",
       "                     days_exposition  \n",
       "last_price                  0.114639  \n",
       "total_area                  0.169283  \n",
       "rooms                       0.149696  \n",
       "cityCenters_nearest        -0.129970  \n",
       "days_exposition             1.000000  "
      ]
     },
     "metadata": {},
     "output_type": "display_data"
    },
    {
     "name": "stdout",
     "output_type": "stream",
     "text": [
      "Матрица корреляции не для центра\n"
     ]
    },
    {
     "data": {
      "text/html": [
       "<div>\n",
       "<style scoped>\n",
       "    .dataframe tbody tr th:only-of-type {\n",
       "        vertical-align: middle;\n",
       "    }\n",
       "\n",
       "    .dataframe tbody tr th {\n",
       "        vertical-align: top;\n",
       "    }\n",
       "\n",
       "    .dataframe thead th {\n",
       "        text-align: right;\n",
       "    }\n",
       "</style>\n",
       "<table border=\"1\" class=\"dataframe\">\n",
       "  <thead>\n",
       "    <tr style=\"text-align: right;\">\n",
       "      <th></th>\n",
       "      <th>last_price</th>\n",
       "      <th>total_area</th>\n",
       "      <th>rooms</th>\n",
       "      <th>cityCenters_nearest</th>\n",
       "      <th>days_exposition</th>\n",
       "    </tr>\n",
       "  </thead>\n",
       "  <tbody>\n",
       "    <tr>\n",
       "      <th>last_price</th>\n",
       "      <td>1.000000</td>\n",
       "      <td>0.830818</td>\n",
       "      <td>0.511975</td>\n",
       "      <td>-0.099001</td>\n",
       "      <td>0.089448</td>\n",
       "    </tr>\n",
       "    <tr>\n",
       "      <th>total_area</th>\n",
       "      <td>0.830818</td>\n",
       "      <td>1.000000</td>\n",
       "      <td>0.739736</td>\n",
       "      <td>-0.007256</td>\n",
       "      <td>0.120355</td>\n",
       "    </tr>\n",
       "    <tr>\n",
       "      <th>rooms</th>\n",
       "      <td>0.511975</td>\n",
       "      <td>0.739736</td>\n",
       "      <td>1.000000</td>\n",
       "      <td>-0.040116</td>\n",
       "      <td>0.083360</td>\n",
       "    </tr>\n",
       "    <tr>\n",
       "      <th>cityCenters_nearest</th>\n",
       "      <td>-0.099001</td>\n",
       "      <td>-0.007256</td>\n",
       "      <td>-0.040116</td>\n",
       "      <td>1.000000</td>\n",
       "      <td>-0.004036</td>\n",
       "    </tr>\n",
       "    <tr>\n",
       "      <th>days_exposition</th>\n",
       "      <td>0.089448</td>\n",
       "      <td>0.120355</td>\n",
       "      <td>0.083360</td>\n",
       "      <td>-0.004036</td>\n",
       "      <td>1.000000</td>\n",
       "    </tr>\n",
       "  </tbody>\n",
       "</table>\n",
       "</div>"
      ],
      "text/plain": [
       "                     last_price  total_area     rooms  cityCenters_nearest  \\\n",
       "last_price             1.000000    0.830818  0.511975            -0.099001   \n",
       "total_area             0.830818    1.000000  0.739736            -0.007256   \n",
       "rooms                  0.511975    0.739736  1.000000            -0.040116   \n",
       "cityCenters_nearest   -0.099001   -0.007256 -0.040116             1.000000   \n",
       "days_exposition        0.089448    0.120355  0.083360            -0.004036   \n",
       "\n",
       "                     days_exposition  \n",
       "last_price                  0.089448  \n",
       "total_area                  0.120355  \n",
       "rooms                       0.083360  \n",
       "cityCenters_nearest        -0.004036  \n",
       "days_exposition             1.000000  "
      ]
     },
     "metadata": {},
     "output_type": "display_data"
    }
   ],
   "source": [
    "df_centr_factors = df_centr[['last_price', 'total_area', 'rooms', 'cityCenters_nearest', \n",
    "                             'floor_class', 'days_exposition']]\n",
    "df_centr_factors.corr()\n",
    "df_not_cent = df_spb.query('cityCenters_nearest > 10')\n",
    "df_not_cent_factrs = df_not_cent[['last_price', 'total_area', 'rooms', 'cityCenters_nearest', \n",
    "                                  'floor_class', 'days_exposition']]\n",
    "print('Матрица корреляции для цента')\n",
    "display(df_centr_factors.corr())\n",
    "print('Матрица корреляции не для центра')\n",
    "display(df_not_cent_factrs.corr())"
   ]
  },
  {
   "cell_type": "markdown",
   "metadata": {},
   "source": [
    "По матрице корреляции мы можем сделать следующие выводы. Если сравнить корреляцию в центральной части и в остальной части города, различия весьма не большие. Единственно отличие корреляция растояния до центра города ниже в 2 раза.\n"
   ]
  },
  {
   "cell_type": "markdown",
   "metadata": {},
   "source": [
    "### Шаг 5. Общий вывод"
   ]
  },
  {
   "cell_type": "markdown",
   "metadata": {},
   "source": [
    "Проведя исследование объявлений с яндекс.недвижимости по Санкт-Петербургу и Ленобласти мы можем сказать следующее:\n",
    "* большинство пропущенных значений появились из-за того, что люди не могли понять зачем им указывать эту информацию и как она может повлиять на стоимость.\n",
    "* выбивающиеся значения могут появиться из-за опечатки заполняющиего.\n",
    "* выделели топ 10 населенных пунктов по количеству размещенных объявлений.\n",
    "* сделали анализ влияющих на стоимость факторов как в центальной части города, так и в остальной ее части. Результат они почти не отличаются.\n",
    "В дальнейшем, чтобы избежать пропущенных значенив в столбцах в растояниями до аэропора, водоемов и т.п. стоит провести анализ как эти критерии влияют на стоимоть и на основе этой информации доработать сервис яндекс.недвиживость, чтобы у пользователей было поимание для чего им стоит указывать точно данную информацию и какую выгоду от этого они смогут получить"
   ]
  }
 ],
 "metadata": {
  "ExecuteTimeLog": [
   {
    "duration": 884,
    "start_time": "2021-06-30T13:20:41.702Z"
   },
   {
    "duration": 109,
    "start_time": "2021-06-30T13:20:43.142Z"
   }
  ],
  "kernelspec": {
   "display_name": "Python 3",
   "language": "python",
   "name": "python3"
  },
  "language_info": {
   "codemirror_mode": {
    "name": "ipython",
    "version": 3
   },
   "file_extension": ".py",
   "mimetype": "text/x-python",
   "name": "python",
   "nbconvert_exporter": "python",
   "pygments_lexer": "ipython3",
   "version": "3.8.8"
  },
  "toc": {
   "base_numbering": 1,
   "nav_menu": {},
   "number_sections": true,
   "sideBar": true,
   "skip_h1_title": true,
   "title_cell": "Table of Contents",
   "title_sidebar": "Contents",
   "toc_cell": false,
   "toc_position": {},
   "toc_section_display": true,
   "toc_window_display": false
  }
 },
 "nbformat": 4,
 "nbformat_minor": 2
}
